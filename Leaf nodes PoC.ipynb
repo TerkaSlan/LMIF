{
 "cells": [
  {
   "cell_type": "code",
   "execution_count": 1,
   "id": "0b5011b4",
   "metadata": {},
   "outputs": [],
   "source": [
    "%reload_ext autoreload\n",
    "%autoreload 2"
   ]
  },
  {
   "cell_type": "code",
   "execution_count": 33,
   "id": "8373fb26-a4a7-426c-82d9-b3b8d10e2ba7",
   "metadata": {},
   "outputs": [
    {
     "name": "stderr",
     "output_type": "stream",
     "text": [
      "/storage/plzen1/home/tslaninakova/.conda/envs/lmi/lib/python3.6/site-packages/ipykernel_launcher.py:8: ParserWarning: Falling back to the 'python' engine because the 'c' engine does not support regex separators (separators > 1 char and different from '\\s+' are interpreted as regex); you can avoid this warning by specifying engine='python'.\n",
      "  \n"
     ]
    }
   ],
   "source": [
    "from os import listdir\n",
    "from pathlib import Path\n",
    "base_path = '/storage/brno2/home/tslaninakova/exp/learned-indexes-repro/outputs-final'\n",
    "dirs = listdir(base_path)\n",
    "times = []\n",
    "for d in dirs:\n",
    "    if Path.is_file(Path(f'{base_path}/{d}/times.csv')):\n",
    "        times.append(pd.read_csv(f'{base_path}/{d}/times.csv', sep=', ').iloc[0].sum())"
   ]
  },
  {
   "cell_type": "code",
   "execution_count": 34,
   "id": "6e6f025d-46ae-4940-bf32-b20fe284756b",
   "metadata": {},
   "outputs": [
    {
     "data": {
      "text/plain": [
       "(97662.32272367478, 228449.1431180483, 1738392.4330439568)"
      ]
     },
     "execution_count": 34,
     "metadata": {},
     "output_type": "execute_result"
    }
   ],
   "source": [
    "np.mean(times), np.std(times), np.max(times)"
   ]
  },
  {
   "cell_type": "code",
   "execution_count": 35,
   "id": "2c212367-ff99-4c3d-b4f5-8d2320e445fe",
   "metadata": {},
   "outputs": [
    {
     "data": {
      "text/plain": [
       "369.7253894805908"
      ]
     },
     "execution_count": 35,
     "metadata": {},
     "output_type": "execute_result"
    }
   ],
   "source": [
    "np.min(times)"
   ]
  },
  {
   "cell_type": "code",
   "execution_count": 32,
   "id": "2d4342c6-3dad-4745-a7df-2c477ee7c4f3",
   "metadata": {},
   "outputs": [
    {
     "name": "stderr",
     "output_type": "stream",
     "text": [
      "/storage/plzen1/home/tslaninakova/.conda/envs/lmi/lib/python3.6/site-packages/ipykernel_launcher.py:1: ParserWarning: Falling back to the 'python' engine because the 'c' engine does not support regex separators (separators > 1 char and different from '\\s+' are interpreted as regex); you can avoid this warning by specifying engine='python'.\n",
      "  \"\"\"Entry point for launching an IPython kernel.\n"
     ]
    },
    {
     "data": {
      "text/plain": [
       "3387.3140130043025"
      ]
     },
     "execution_count": 32,
     "metadata": {},
     "output_type": "execute_result"
    }
   ],
   "source": [
    "pd.read_csv('/storage/brno2/home/tslaninakova/exp/learned-indexes-repro/outputs-final/CoPhIR-1M-GMM--2022-04-25--07-48-47/times.csv', sep=', ').iloc[0].sum()"
   ]
  },
  {
   "cell_type": "code",
   "execution_count": 3,
   "id": "f2ca3b21-6abe-40ac-848f-6a4d14f6a65d",
   "metadata": {},
   "outputs": [
    {
     "name": "stdout",
     "output_type": "stream",
     "text": [
      "Collecting faiss-cpu\n",
      "  Downloading faiss_cpu-1.7.2-cp38-cp38-win_amd64.whl (9.9 MB)\n",
      "Installing collected packages: faiss-cpu\n",
      "Successfully installed faiss-cpu-1.7.2\n"
     ]
    }
   ],
   "source": [
    "!pip install faiss-cpu"
   ]
  },
  {
   "cell_type": "code",
   "execution_count": 5,
   "id": "aabc7a8e",
   "metadata": {},
   "outputs": [],
   "source": [
    "import os\n",
    "import numpy as np\n",
    "import pandas as pd\n",
    "import matplotlib.pyplot as plt\n",
    "from lmi.utils import load_yaml, load_model_config\n",
    "from lmi.data.DataLoader import ProfisetDataLoader, CoPhIRDataLoader, MocapDataLoader"
   ]
  },
  {
   "cell_type": "code",
   "execution_count": 11,
   "id": "9e5ed7f0-79ea-46ea-abc0-b5ac38275597",
   "metadata": {},
   "outputs": [],
   "source": [
    "config_file = './supplementary-experiment-setups/100k/CoPhIR-100k-Mtree-200-LR.yml'"
   ]
  },
  {
   "cell_type": "code",
   "execution_count": 12,
   "id": "707e5c5d",
   "metadata": {},
   "outputs": [
    {
     "data": {
      "text/plain": [
       "{'setup': 'exp-100k',\n",
       " 'data': {'data-dir': '../../datasets',\n",
       "  'dataset': 'COPHIR',\n",
       "  'dataset-size': '100k',\n",
       "  'original': {'index': 'MTREE', 'leaf-node-capacity': 200},\n",
       "  'normalize': True,\n",
       "  'shuffle': True,\n",
       "  'shuffle-seed': 1},\n",
       " 'LMI': {'model-config': 'supplementary-experiment-setups/100k/models/CoPhIR-100k-Mtree-200-LR-model.yml',\n",
       "  'training-dataset-percentage': 1},\n",
       " 'experiment': {'gt-subdir': 'ground-truths',\n",
       "  'output-dir': 'outputs',\n",
       "  'search-stop-conditions': [0.0005,\n",
       "   0.001,\n",
       "   0.003,\n",
       "   0.005,\n",
       "   0.01,\n",
       "   0.05,\n",
       "   0.1,\n",
       "   0.2,\n",
       "   0.3,\n",
       "   0.5],\n",
       "  'knns': 30,\n",
       "  'queries-out-of-dataset': False}}"
      ]
     },
     "execution_count": 12,
     "metadata": {},
     "output_type": "execute_result"
    }
   ],
   "source": [
    "config = load_yaml(config_file)\n",
    "config"
   ]
  },
  {
   "cell_type": "code",
   "execution_count": 13,
   "id": "8077f156-b557-42ce-81ff-780483b81cd5",
   "metadata": {},
   "outputs": [
    {
     "name": "stderr",
     "output_type": "stream",
     "text": [
      "[2022-07-11 14:15:13,068][INFO ][lmi.data.DataLoader] Loading CoPhIR dataset from ../../datasets\\datasets\\CoPhIR100k-descriptors.csv.\n"
     ]
    }
   ],
   "source": [
    "from lmi.data.DataLoader import CoPhIRDataLoader\n",
    "loader = CoPhIRDataLoader(config)\n",
    "descriptors = loader.load_descriptors()"
   ]
  },
  {
   "cell_type": "code",
   "execution_count": 17,
   "id": "85712da7-d450-45dd-816c-314ee31e3836",
   "metadata": {},
   "outputs": [],
   "source": [
    "descriptors[0].to_csv('C:\\\\phdspace\\\\code\\\\dynamic-learned-indexes\\\\cophir-100k.csv', index=None)"
   ]
  },
  {
   "cell_type": "code",
   "execution_count": 25,
   "id": "5d35c782-4344-482f-a6f7-4d4e260247a3",
   "metadata": {},
   "outputs": [
    {
     "name": "stderr",
     "output_type": "stream",
     "text": [
      "[2022-06-28 10:17:42,867][INFO ][lmi.data.DataLoader] Loading Profiset/MoCap dataset from /storage/brno12-cerit/home/tslaninakova/data/datasets/Profiset100k-descriptors.csv.\n"
     ]
    }
   ],
   "source": [
    "from lmi.data.DataLoader import ProfisetDataLoader\n",
    "loader = ProfisetDataLoader(config)\n",
    "descriptors = loader.load_descriptors()\n",
    "labels = loader.load_labels()\n",
    "knns = loader.get_knn_ground_truth()\n",
    "queries = loader.get_queries()"
   ]
  },
  {
   "cell_type": "code",
   "execution_count": 6,
   "id": "80b9abea-5803-4afa-b8b2-bc4cc6dc8a27",
   "metadata": {},
   "outputs": [],
   "source": [
    "from lmi.distances.euclidean import get_euclidean_distance\n",
    "from lmi.distances.cophir import get_cophir_distance"
   ]
  },
  {
   "cell_type": "markdown",
   "id": "f3e76968-f142-4233-ab7d-e6e12d324067",
   "metadata": {
    "tags": []
   },
   "source": [
    "## Leaf nodes, revisited:\n",
    "\n",
    "- classification approach where 1 object == 1 category (1 ML model on leaf node)\n",
    "\n",
    "### Experiment 1 -- Can we successfully recognize the nearest neighbor present in a leaf node?\n",
    "- 199 random objects in a leaf node, 1 of the objective 30 nearest neighbors of `query`\n",
    "- 'search' (= predict) with `query`"
   ]
  },
  {
   "cell_type": "code",
   "execution_count": 16,
   "id": "201d06b5-4aaf-40d6-9cc7-fa9bc510cc05",
   "metadata": {},
   "outputs": [],
   "source": [
    "import random\n",
    "from tensorflow import keras\n",
    "from tensorflow.keras import layers\n",
    "import tensorflow as tf\n"
   ]
  },
  {
   "cell_type": "code",
   "execution_count": 12,
   "id": "3aed095b-2e49-4343-bee4-a0b5f4980b12",
   "metadata": {},
   "outputs": [
    {
     "name": "stdout",
     "output_type": "stream",
     "text": [
      "Inserting the NN (170782) (21-th k-NN) for 671744 at the 66-th position\n",
      "Predicted closest object: 66, p=0.6002920866012573\n"
     ]
    },
    {
     "data": {
      "image/png": "[encoded data removed]",
      "text/plain": [
       "<Figure size 432x288 with 1 Axes>"
      ]
     },
     "metadata": {
      "needs_background": "light"
     },
     "output_type": "display_data"
    },
    {
     "name": "stdout",
     "output_type": "stream",
     "text": [
      "Inserting the NN (165891) (8-th k-NN) for 165889 at the 178-th position\n",
      "Predicted closest object: 178, p=0.9821887612342834\n"
     ]
    },
    {
     "data": {
      "image/png": "[encoded data removed]",
      "text/plain": [
       "<Figure size 432x288 with 1 Axes>"
      ]
     },
     "metadata": {
      "needs_background": "light"
     },
     "output_type": "display_data"
    },
    {
     "name": "stdout",
     "output_type": "stream",
     "text": [
      "Inserting the NN (140639) (2-th k-NN) for 45059 at the 79-th position\n",
      "Predicted closest object: 79, p=0.2929183840751648\n"
     ]
    },
    {
     "data": {
      "image/png": "[encoded data removed]",
      "text/plain": [
       "<Figure size 432x288 with 1 Axes>"
      ]
     },
     "metadata": {
      "needs_background": "light"
     },
     "output_type": "display_data"
    },
    {
     "name": "stdout",
     "output_type": "stream",
     "text": [
      "Inserting the NN (676820) (10-th k-NN) for 550605 at the 177-th position\n",
      "Predicted closest object: 177, p=0.4406798481941223\n"
     ]
    },
    {
     "data": {
      "image/png": "[encoded data removed]",
      "text/plain": [
       "<Figure size 432x288 with 1 Axes>"
      ]
     },
     "metadata": {
      "needs_background": "light"
     },
     "output_type": "display_data"
    },
    {
     "name": "stdout",
     "output_type": "stream",
     "text": [
      "Inserting the NN (268) (12-th k-NN) for 496278 at the 158-th position\n",
      "Predicted closest object: 158, p=0.4095332622528076\n"
     ]
    },
    {
     "data": {
      "image/png": "[encoded data removed]",
      "text/plain": [
       "<Figure size 432x288 with 1 Axes>"
      ]
     },
     "metadata": {
      "needs_background": "light"
     },
     "output_type": "display_data"
    },
    {
     "name": "stdout",
     "output_type": "stream",
     "text": [
      "Inserting the NN (21376) (13-th k-NN) for 83978 at the 1-th position\n",
      "Predicted closest object: 1, p=0.2532009780406952\n"
     ]
    },
    {
     "data": {
      "image/png": "[encoded data removed]",
      "text/plain": [
       "<Figure size 432x288 with 1 Axes>"
      ]
     },
     "metadata": {
      "needs_background": "light"
     },
     "output_type": "display_data"
    },
    {
     "name": "stdout",
     "output_type": "stream",
     "text": [
      "Inserting the NN (31784) (29-th k-NN) for 143373 at the 126-th position\n",
      "Predicted closest object: 168, p=0.18655504286289215\n"
     ]
    },
    {
     "data": {
      "image/png": "[encoded data removed]",
      "text/plain": [
       "<Figure size 432x288 with 1 Axes>"
      ]
     },
     "metadata": {
      "needs_background": "light"
     },
     "output_type": "display_data"
    },
    {
     "name": "stdout",
     "output_type": "stream",
     "text": [
      "Inserting the NN (114001) (8-th k-NN) for 55310 at the 64-th position\n",
      "Predicted closest object: 64, p=0.22516430914402008\n"
     ]
    },
    {
     "data": {
      "image/png": "[encoded data removed]",
      "text/plain": [
       "<Figure size 432x288 with 1 Axes>"
      ]
     },
     "metadata": {
      "needs_background": "light"
     },
     "output_type": "display_data"
    },
    {
     "name": "stdout",
     "output_type": "stream",
     "text": [
      "Inserting the NN (153822) (24-th k-NN) for 65552 at the 80-th position\n",
      "Predicted closest object: 80, p=0.32048025727272034\n"
     ]
    },
    {
     "data": {
      "image/png": "[encoded data removed]",
      "text/plain": [
       "<Figure size 432x288 with 1 Axes>"
      ]
     },
     "metadata": {
      "needs_background": "light"
     },
     "output_type": "display_data"
    },
    {
     "name": "stdout",
     "output_type": "stream",
     "text": [
      "Inserting the NN (81990) (27-th k-NN) for 112984 at the 157-th position\n",
      "Predicted closest object: 46, p=0.2302301824092865\n"
     ]
    },
    {
     "data": {
      "image/png": "[encoded data removed]",
      "text/plain": [
       "<Figure size 432x288 with 1 Axes>"
      ]
     },
     "metadata": {
      "needs_background": "light"
     },
     "output_type": "display_data"
    }
   ],
   "source": [
    "keys = list(knns.keys())[:10]\n",
    "def pick_random_nn(key):\n",
    "    rand_nn_index = random.randint(1, 29)\n",
    "    #print(f'For {key}, picked out {rand_nn_index}-th nearest neighbor to look for.')\n",
    "    return rand_nn_index, int(sorted(knns[key].items(), key=lambda kv: kv[1])[rand_nn_index][0])\n",
    "\n",
    "def train_collect_preds(data, query):\n",
    "    model = tf.keras.Sequential([\n",
    "        layers.Dense(input_shape=[4096,], units=200, activation='softmax')\n",
    "    ])\n",
    "\n",
    "    model.compile(\n",
    "        optimizer=tf.keras.optimizers.Adam(learning_rate=0.0001),\n",
    "        loss='sparse_categorical_crossentropy')\n",
    "\n",
    "    model.fit(data_in_leaf_node, np.arange(0, 200, 1), epochs=100, verbose=0)\n",
    "    return model.predict(query.reshape(1, -1))\n",
    "\n",
    "for key in keys:\n",
    "    rand_cutoff = random.randint(0, 200)\n",
    "    rand_nn_index, nn = pick_random_nn(key)\n",
    "    data1 = descriptors.sample(rand_cutoff).values\n",
    "    data2 = descriptors.sample(200 - rand_cutoff - 1).values\n",
    "    print(f'Inserting the NN ({nn}) ({rand_nn_index}-th k-NN) for {key} at the {rand_cutoff}-th position')\n",
    "    data_in_leaf_node = np.vstack((data1, descriptors.loc[nn].values, data2))\n",
    "    preds = train_collect_preds(data_in_leaf_node, descriptors.loc[int(key)].values)\n",
    "    print(f'Predicted closest object: {np.argmax(preds)}, p={np.max(preds)}')\n",
    "    plt.bar(np.arange(0, 200, 1), preds[0])\n",
    "    plt.show()"
   ]
  },
  {
   "cell_type": "markdown",
   "id": "8ff14588-ef53-4fb8-a30e-40c81c8519a4",
   "metadata": {
    "tags": []
   },
   "source": [
    "### Experiment 2 -- Can we recognize multiple nearest neighbors (5) for query?"
   ]
  },
  {
   "cell_type": "code",
   "execution_count": 38,
   "id": "fc7c5b98-d193-40f5-a806-0e3f60360978",
   "metadata": {},
   "outputs": [
    {
     "name": "stdout",
     "output_type": "stream",
     "text": [
      "Inserting the NN ([75461, 660805, 150811, 56179, 429982]) ([27, 9, 29, 15, 8]-th k-NNs) for 671744 at positions: [154, 195, 105, 132, 29]\n",
      "Predicted 5 closest objects: [141  29 105  99 154], p=[0.14629565 0.12523568 0.11960486 0.11188941 0.06585138]\n"
     ]
    },
    {
     "data": {
      "image/png": "[encoded data removed]",
      "text/plain": [
       "<Figure size 432x288 with 1 Axes>"
      ]
     },
     "metadata": {
      "needs_background": "light"
     },
     "output_type": "display_data"
    },
    {
     "name": "stdout",
     "output_type": "stream",
     "text": [
      "Inserting the NN ([302078, 136056, 310039, 135089, 161003]) ([2, 18, 22, 29, 5]-th k-NNs) for 165889 at positions: [16, 198, 147, 39, 158]\n",
      "Predicted 5 closest objects: [158 198  16 120 147], p=[0.3882849  0.2831596  0.28194362 0.01564562 0.00882453]\n"
     ]
    },
    {
     "data": {
      "image/png": "[encoded data removed]",
      "text/plain": [
       "<Figure size 432x288 with 1 Axes>"
      ]
     },
     "metadata": {
      "needs_background": "light"
     },
     "output_type": "display_data"
    },
    {
     "name": "stdout",
     "output_type": "stream",
     "text": [
      "Inserting the NN ([77092, 145256, 140639, 28132, 97490]) ([15, 27, 2, 13, 11]-th k-NNs) for 45059 at positions: [162, 57, 182, 0, 119]\n",
      "Predicted 5 closest objects: [  0  30  57 119 182], p=[0.4049259  0.10311041 0.07843827 0.05093183 0.03472726]\n"
     ]
    },
    {
     "data": {
      "image/png": "[encoded data removed]",
      "text/plain": [
       "<Figure size 432x288 with 1 Axes>"
      ]
     },
     "metadata": {
      "needs_background": "light"
     },
     "output_type": "display_data"
    },
    {
     "name": "stdout",
     "output_type": "stream",
     "text": [
      "Inserting the NN ([98062, 594530, 659428, 97750, 671972]) ([22, 14, 11, 8, 7]-th k-NNs) for 550605 at positions: [115, 159, 137, 177, 6]\n",
      "Predicted 5 closest objects: [  6 137 115  57 159], p=[0.5787763  0.09304153 0.06165197 0.05051724 0.0325575 ]\n"
     ]
    },
    {
     "data": {
      "image/png": "[encoded data removed]",
      "text/plain": [
       "<Figure size 432x288 with 1 Axes>"
      ]
     },
     "metadata": {
      "needs_background": "light"
     },
     "output_type": "display_data"
    },
    {
     "name": "stdout",
     "output_type": "stream",
     "text": [
      "Inserting the NN ([1379, 268, 7393, 27419, 496274]) ([4, 12, 20, 29, 5]-th k-NNs) for 496278 at positions: [62, 98, 21, 141, 144]\n",
      "Predicted 5 closest objects: [144  62  21  98 141], p=[0.4948235  0.25866336 0.06189331 0.05532613 0.03168455]\n"
     ]
    },
    {
     "data": {
      "image/png": "[encoded data removed]",
      "text/plain": [
       "<Figure size 432x288 with 1 Axes>"
      ]
     },
     "metadata": {
      "needs_background": "light"
     },
     "output_type": "display_data"
    },
    {
     "name": "stdout",
     "output_type": "stream",
     "text": [
      "Inserting the NN ([59627, 113264, 520352, 111639, 111493]) ([28, 19, 6, 22, 24]-th k-NNs) for 83978 at positions: [102, 141, 67, 162, 120]\n",
      "Predicted 5 closest objects: [ 67 141  87 162 120], p=[0.28227702 0.13702378 0.06419925 0.06146225 0.06088793]\n"
     ]
    },
    {
     "data": {
      "image/png": "[encoded data removed]",
      "text/plain": [
       "<Figure size 432x288 with 1 Axes>"
      ]
     },
     "metadata": {
      "needs_background": "light"
     },
     "output_type": "display_data"
    },
    {
     "name": "stdout",
     "output_type": "stream",
     "text": [
      "Inserting the NN ([231000, 101693, 593721, 315418, 135932]) ([5, 15, 24, 25, 19]-th k-NNs) for 143373 at positions: [13, 88, 197, 111, 20]\n",
      "Predicted 5 closest objects: [197 111  92  20 114], p=[0.49491012 0.11969817 0.10485629 0.05290861 0.03908534]\n"
     ]
    },
    {
     "data": {
      "image/png": "[encoded data removed]",
      "text/plain": [
       "<Figure size 432x288 with 1 Axes>"
      ]
     },
     "metadata": {
      "needs_background": "light"
     },
     "output_type": "display_data"
    },
    {
     "name": "stdout",
     "output_type": "stream",
     "text": [
      "Inserting the NN ([51324, 174104, 35773, 45106, 159553]) ([19, 23, 20, 29, 28]-th k-NNs) for 55310 at positions: [194, 100, 141, 71, 17]\n",
      "Predicted 5 closest objects: [ 71 141  76 100  17], p=[0.32725307 0.24769998 0.08594653 0.07063924 0.03988156]\n"
     ]
    },
    {
     "data": {
      "image/png": "[encoded data removed]",
      "text/plain": [
       "<Figure size 432x288 with 1 Axes>"
      ]
     },
     "metadata": {
      "needs_background": "light"
     },
     "output_type": "display_data"
    },
    {
     "name": "stdout",
     "output_type": "stream",
     "text": [
      "Inserting the NN ([15784, 111029, 272473, 25987, 140566]) ([18, 29, 3, 20, 19]-th k-NNs) for 65552 at positions: [29, 9, 60, 166, 134]\n",
      "Predicted 5 closest objects: [ 60   9  29 166 134], p=[0.51710814 0.10864469 0.09388597 0.0581518  0.02217031]\n"
     ]
    },
    {
     "data": {
      "image/png": "[encoded data removed]",
      "text/plain": [
       "<Figure size 432x288 with 1 Axes>"
      ]
     },
     "metadata": {
      "needs_background": "light"
     },
     "output_type": "display_data"
    },
    {
     "name": "stdout",
     "output_type": "stream",
     "text": [
      "Inserting the NN ([128697, 118600, 41916, 159469, 145188]) ([15, 16, 1, 2, 23]-th k-NNs) for 112984 at positions: [61, 82, 5, 164, 183]\n",
      "Predicted 5 closest objects: [  5 164  61  68 194], p=[0.724131   0.14729418 0.02468734 0.02221743 0.01452118]\n"
     ]
    },
    {
     "data": {
      "image/png": "[encoded data removed]",
      "text/plain": [
       "<Figure size 432x288 with 1 Axes>"
      ]
     },
     "metadata": {
      "needs_background": "light"
     },
     "output_type": "display_data"
    }
   ],
   "source": [
    "keys = list(knns.keys())[:10]\n",
    "def pick_random_nns(key):\n",
    "    picked_out_indexes = []\n",
    "    while len(picked_out_indexes) != 5:\n",
    "        rand_nn_index = random.randint(1, 29)\n",
    "        if rand_nn_index not in picked_out_indexes:\n",
    "            picked_out_indexes.append(rand_nn_index)\n",
    "    #print(f'For {key}, picked out {rand_nn_index}-th nearest neighbor to look for.')\n",
    "    return picked_out_indexes, [int(sorted(knns[key].items(), key=lambda kv: kv[1])[rand_nn_index][0]) for rand_nn_index in picked_out_indexes]\n",
    "\n",
    "def train_collect_preds(data, query):\n",
    "    model = tf.keras.Sequential([\n",
    "        layers.Dense(input_shape=[4096,], units=200, activation='softmax')\n",
    "    ])\n",
    "\n",
    "    model.compile(\n",
    "        optimizer=tf.keras.optimizers.Adam(learning_rate=0.0001),\n",
    "        loss='sparse_categorical_crossentropy')\n",
    "\n",
    "    model.fit(data_in_leaf_node, np.arange(0, 200, 1), epochs=100, verbose=0)\n",
    "    return model.predict(query.reshape(1, -1))\n",
    "\n",
    "for key in keys:\n",
    "    rand_nn_indexes, nns = pick_random_nns(key)\n",
    "    rand_cutoff = random.randint(0, 200)\n",
    "    data = pd.concat([descriptors.sample(195), descriptors.loc[nns]])\n",
    "    data = data.sample(frac=1)\n",
    "    positions = [data.index.get_loc(nn) for nn in nns]\n",
    "    \n",
    "    print(f'Inserting the NN ({nns}) ({rand_nn_indexes}-th k-NNs) for {key} at positions: {positions}')\n",
    "    data_in_leaf_node = data.values\n",
    "    preds = train_collect_preds(data_in_leaf_node, descriptors.loc[int(key)].values)\n",
    "    print(f'Predicted 5 closest objects: {np.argsort(preds)[0][::-1][:5]}, p={np.sort(preds)[0][::-1][:5]}')\n",
    "    plt.bar(np.arange(0, 200, 1), preds[0])\n",
    "    plt.show()"
   ]
  },
  {
   "cell_type": "markdown",
   "id": "ab6565cd-7e2b-47a2-86f8-7721e166a342",
   "metadata": {
    "tags": []
   },
   "source": [
    "## CoPhIR:"
   ]
  },
  {
   "cell_type": "code",
   "execution_count": 6,
   "id": "7991afff-0122-436f-a466-55bccdd37d4b",
   "metadata": {},
   "outputs": [
    {
     "name": "stderr",
     "output_type": "stream",
     "text": [
      "[2022-06-28 10:05:30,710][INFO ][lmi.data.DataLoader] Loading CoPhIR dataset from /storage/brno12-cerit/home/tslaninakova/data/datasets/CoPhIR100k-descriptors.csv.\n"
     ]
    }
   ],
   "source": [
    "from lmi.data.DataLoader import CoPhIRDataLoader\n",
    "config_file = './supplementary-experiment-setups/100k/CoPhIR-100k-Mtree-200-LR.yml'\n",
    "config = load_yaml(config_file)\n",
    "loader = CoPhIRDataLoader(config)\n",
    "descriptors = loader.load_descriptors()\n",
    "labels = loader.load_labels()\n",
    "knns = loader.get_knn_ground_truth()\n",
    "queries = loader.get_queries()"
   ]
  },
  {
   "cell_type": "code",
   "execution_count": 7,
   "id": "5891711a-3d95-4d62-9f21-815dcb90383b",
   "metadata": {},
   "outputs": [],
   "source": [
    "descriptors = descriptors[0]"
   ]
  },
  {
   "cell_type": "code",
   "execution_count": 48,
   "id": "07c9a92a-3fcb-41e8-8489-747d03a13905",
   "metadata": {},
   "outputs": [
    {
     "name": "stdout",
     "output_type": "stream",
     "text": [
      "Inserting the NN (58419262) (15-th k-NN) for 44371230 at the 31-th position\n",
      "Predicted 5 closest objects: [ 31  25 102 115 166], p=[0.20212975 0.05651534 0.04095664 0.03148195 0.03062481]\n"
     ]
    },
    {
     "data": {
      "image/png": "[encoded data removed]",
      "text/plain": [
       "<Figure size 432x288 with 1 Axes>"
      ]
     },
     "metadata": {
      "needs_background": "light"
     },
     "output_type": "display_data"
    },
    {
     "name": "stdout",
     "output_type": "stream",
     "text": [
      "Inserting the NN (74957089) (13-th k-NN) for 22422528 at the 36-th position\n",
      "Predicted 5 closest objects: [  7  40  29 191  54], p=[0.03304271 0.02329261 0.02192644 0.02133557 0.01924673]\n"
     ]
    },
    {
     "data": {
      "image/png": "[encoded data removed]",
      "text/plain": [
       "<Figure size 432x288 with 1 Axes>"
      ]
     },
     "metadata": {
      "needs_background": "light"
     },
     "output_type": "display_data"
    },
    {
     "name": "stdout",
     "output_type": "stream",
     "text": [
      "Inserting the NN (7068303) (28-th k-NN) for 99267317 at the 188-th position\n",
      "Predicted 5 closest objects: [ 76 162  40  39  94], p=[0.03347683 0.02696182 0.02387608 0.02351612 0.01894515]\n"
     ]
    },
    {
     "data": {
      "image/png": "[encoded data removed]",
      "text/plain": [
       "<Figure size 432x288 with 1 Axes>"
      ]
     },
     "metadata": {
      "needs_background": "light"
     },
     "output_type": "display_data"
    },
    {
     "name": "stdout",
     "output_type": "stream",
     "text": [
      "Inserting the NN (101384205) (1-th k-NN) for 14366673 at the 167-th position\n",
      "Predicted 5 closest objects: [ 86 167 169 156  79], p=[0.11560945 0.08611474 0.07832847 0.06596183 0.05475171]\n"
     ]
    },
    {
     "data": {
      "image/png": "[encoded data removed]",
      "text/plain": [
       "<Figure size 432x288 with 1 Axes>"
      ]
     },
     "metadata": {
      "needs_background": "light"
     },
     "output_type": "display_data"
    },
    {
     "name": "stdout",
     "output_type": "stream",
     "text": [
      "Inserting the NN (44706558) (25-th k-NN) for 54176025 at the 135-th position\n",
      "Predicted 5 closest objects: [ 24 150 172 176  70], p=[0.31992686 0.07400402 0.07214075 0.07102743 0.04555715]\n"
     ]
    },
    {
     "data": {
      "image/png": "[encoded data removed]",
      "text/plain": [
       "<Figure size 432x288 with 1 Axes>"
      ]
     },
     "metadata": {
      "needs_background": "light"
     },
     "output_type": "display_data"
    },
    {
     "name": "stdout",
     "output_type": "stream",
     "text": [
      "Inserting the NN (90203341) (1-th k-NN) for 64283979 at the 133-th position\n",
      "Predicted 5 closest objects: [197 109  66 195 136], p=[0.03607977 0.03295089 0.0260376  0.02321471 0.02168668]\n"
     ]
    },
    {
     "data": {
      "image/png": "[encoded data removed]",
      "text/plain": [
       "<Figure size 432x288 with 1 Axes>"
      ]
     },
     "metadata": {
      "needs_background": "light"
     },
     "output_type": "display_data"
    },
    {
     "name": "stdout",
     "output_type": "stream",
     "text": [
      "Inserting the NN (35783906) (4-th k-NN) for 9507999 at the 117-th position\n",
      "Predicted 5 closest objects: [128  15 190 101 117], p=[0.0723836  0.04994288 0.04915078 0.03858992 0.03449318]\n"
     ]
    },
    {
     "data": {
      "image/png": "[encoded data removed]",
      "text/plain": [
       "<Figure size 432x288 with 1 Axes>"
      ]
     },
     "metadata": {
      "needs_background": "light"
     },
     "output_type": "display_data"
    },
    {
     "name": "stdout",
     "output_type": "stream",
     "text": [
      "Inserting the NN (89955402) (2-th k-NN) for 46546542 at the 121-th position\n",
      "Predicted 5 closest objects: [ 40  24 166  28 106], p=[0.08682897 0.04177602 0.02881036 0.02663583 0.02367987]\n"
     ]
    },
    {
     "data": {
      "image/png": "[encoded data removed]",
      "text/plain": [
       "<Figure size 432x288 with 1 Axes>"
      ]
     },
     "metadata": {
      "needs_background": "light"
     },
     "output_type": "display_data"
    },
    {
     "name": "stdout",
     "output_type": "stream",
     "text": [
      "Inserting the NN (83347767) (24-th k-NN) for 40368006 at the 93-th position\n",
      "Predicted 5 closest objects: [ 51 111  27 142 179], p=[0.08443785 0.02223287 0.01989109 0.01631118 0.01467622]\n"
     ]
    },
    {
     "data": {
      "image/png": "[encoded data removed]",
      "text/plain": [
       "<Figure size 432x288 with 1 Axes>"
      ]
     },
     "metadata": {
      "needs_background": "light"
     },
     "output_type": "display_data"
    },
    {
     "name": "stdout",
     "output_type": "stream",
     "text": [
      "Inserting the NN (76958955) (4-th k-NN) for 90743808 at the 85-th position\n",
      "Predicted 5 closest objects: [ 85  51 179  36 147], p=[0.3372853  0.06139417 0.05661536 0.03578011 0.02912915]\n"
     ]
    },
    {
     "data": {
      "image/png": "[encoded data removed]",
      "text/plain": [
       "<Figure size 432x288 with 1 Axes>"
      ]
     },
     "metadata": {
      "needs_background": "light"
     },
     "output_type": "display_data"
    }
   ],
   "source": [
    "keys = list(knns.keys())[:10]\n",
    "def pick_random_nn(key):\n",
    "    rand_nn_index = random.randint(1, 29)\n",
    "    #print(f'For {key}, picked out {rand_nn_index}-th nearest neighbor to look for.')\n",
    "    return rand_nn_index, int(sorted(knns[key].items(), key=lambda kv: kv[1])[rand_nn_index][0])\n",
    "\n",
    "def train_collect_preds(data, query):\n",
    "    model = tf.keras.Sequential([\n",
    "        layers.Dense(input_shape=[282,], units=200, activation='softmax')\n",
    "    ])\n",
    "\n",
    "    model.compile(\n",
    "        optimizer=tf.keras.optimizers.Adam(learning_rate=0.0001),\n",
    "        loss='sparse_categorical_crossentropy')\n",
    "\n",
    "    model.fit(data, np.arange(0, 200, 1), epochs=100, verbose=0)\n",
    "    return model.predict(query.reshape(1, -1))\n",
    "\n",
    "for key in keys:\n",
    "    rand_cutoff = random.randint(0, 200)\n",
    "    rand_nn_index, nn = pick_random_nn(key)\n",
    "    data1 = descriptors.sample(rand_cutoff).values\n",
    "    data2 = descriptors.sample(200 - rand_cutoff - 1).values\n",
    "    print(f'Inserting the NN ({nn}) ({rand_nn_index}-th k-NN) for {key} at the {rand_cutoff}-th position')\n",
    "    data_in_leaf_node = np.vstack((data1, descriptors.loc[nn].values, data2))\n",
    "    preds = train_collect_preds(data_in_leaf_node, descriptors.loc[int(key)].values)\n",
    "    print(f'Predicted 5 closest objects: {np.argsort(preds)[0][::-1][:5]}, p={np.sort(preds)[0][::-1][:5]}')\n",
    "    plt.bar(np.arange(0, 200, 1), preds[0])\n",
    "    plt.show()"
   ]
  },
  {
   "cell_type": "markdown",
   "id": "2ec9b5c4-e015-4daa-8f28-c2ac86c481f2",
   "metadata": {},
   "source": [
    "## TODOs:\n",
    "- build the complete LMI + examine the 'real' leaf nodes:\n",
    "    - selecting `n` objects from every node (30 when doing ANN for 30-NN)\n",
    "        - absolute probabilities vs. probabilities of the whole branch\n",
    "        - evaluate recall (== precision on output of size 30)\n",
    "    - what is the computational overhead?\n",
    "\n",
    "\n",
    "- precision vs. number of objects to classify (200 vs. 2000?)\n",
    "- correlation between distance function and probability distribution returned by the leaf nodes\n",
    "- different datasets -- randomly generated?)"
   ]
  },
  {
   "cell_type": "markdown",
   "id": "d8841671-74b2-4b7f-ad51-4d2861b323c4",
   "metadata": {
    "tags": []
   },
   "source": [
    "## Experiment 3 -- Correlation betw. distance function and probability distribution -- CoPhIR"
   ]
  },
  {
   "cell_type": "code",
   "execution_count": 8,
   "id": "d7e000dc-8d93-4bb9-a04d-50696f858697",
   "metadata": {},
   "outputs": [
    {
     "data": {
      "text/plain": [
       "'44371230'"
      ]
     },
     "execution_count": 8,
     "metadata": {},
     "output_type": "execute_result"
    }
   ],
   "source": [
    "keys = list(knns.keys())[:10]\n",
    "query = keys[0]\n",
    "query"
   ]
  },
  {
   "cell_type": "code",
   "execution_count": 18,
   "id": "1296aaea-78e0-4423-b9d0-a99d5f81eecb",
   "metadata": {},
   "outputs": [],
   "source": [
    "def train_collect_preds(data, query):\n",
    "    model = tf.keras.Sequential([\n",
    "        layers.Dense(input_shape=[282,], units=30, activation='softmax')\n",
    "    ])\n",
    "\n",
    "    model.compile(\n",
    "        optimizer=tf.keras.optimizers.Adam(learning_rate=0.0001),\n",
    "        loss='sparse_categorical_crossentropy')\n",
    "\n",
    "    model.fit(data, np.arange(0, 30, 1), epochs=100, verbose=0)\n",
    "    return model.predict(query.reshape(1, -1))\n",
    "\n",
    "nns = [int(k) for k,v in list(knns[query].items())]"
   ]
  },
  {
   "cell_type": "code",
   "execution_count": 19,
   "id": "d0133079-b182-46c8-9aa6-24e36173e3ff",
   "metadata": {},
   "outputs": [],
   "source": [
    "preds = train_collect_preds(descriptors.loc[nns].values, descriptors.loc[int(query)].values)"
   ]
  },
  {
   "cell_type": "code",
   "execution_count": 20,
   "id": "20c78db8-4d66-44e1-ab66-ec917d8a8aeb",
   "metadata": {},
   "outputs": [
    {
     "name": "stdout",
     "output_type": "stream",
     "text": [
      "Predicted 5 closest objects: [20  0  1  4 15], p=[0.14970303 0.11850893 0.06883916 0.05589428 0.05491074]\n"
     ]
    },
    {
     "data": {
      "image/png": "[encoded data removed]",
      "text/plain": [
       "<Figure size 432x288 with 1 Axes>"
      ]
     },
     "metadata": {
      "needs_background": "light"
     },
     "output_type": "display_data"
    }
   ],
   "source": [
    "print(f'Predicted 5 closest objects: {np.argsort(preds)[0][::-1][:5]}, p={np.sort(preds)[0][::-1][:5]}')\n",
    "plt.bar(np.arange(0, 30, 1), preds[0])\n",
    "plt.show()"
   ]
  },
  {
   "cell_type": "markdown",
   "id": "dd279364-8941-430b-9fa7-fced2a4a3a38",
   "metadata": {},
   "source": [
    "## Experiment 3 -- Correlation betw. distance function and probability distribution -- Profi"
   ]
  },
  {
   "cell_type": "code",
   "execution_count": null,
   "id": "52fe0ccc-0120-4fef-b40d-a34db67bba1f",
   "metadata": {},
   "outputs": [],
   "source": [
    "keys = list(knns.keys())[:10]\n",
    "def pick_random_nn(key):\n",
    "    rand_nn_index = random.randint(1, 29)\n",
    "    #print(f'For {key}, picked out {rand_nn_index}-th nearest neighbor to look for.')\n",
    "    return rand_nn_index, int(sorted(knns[key].items(), key=lambda kv: kv[1])[rand_nn_index][0])\n",
    "\n",
    "def train_collect_preds(data, query):\n",
    "    model = tf.keras.Sequential([\n",
    "        layers.Dense(input_shape=[282,], units=200, activation='softmax')\n",
    "    ])\n",
    "\n",
    "    model.compile(\n",
    "        optimizer=tf.keras.optimizers.Adam(learning_rate=0.0001),\n",
    "        loss='sparse_categorical_crossentropy')\n",
    "\n",
    "    model.fit(data_in_leaf_node, np.arange(0, 200, 1), epochs=100, verbose=0)\n",
    "    return model.predict(query.reshape(1, -1))\n",
    "\"\"\"\n",
    "for key in keys:\n",
    "    rand_cutoff = random.randint(0, 200)\n",
    "    rand_nn_index, nn = pick_random_nn(key)\n",
    "    data1 = descriptors.sample(rand_cutoff).values\n",
    "    data2 = descriptors.sample(200 - rand_cutoff - 1).values\n",
    "    print(f'Inserting the NN ({nn}) ({rand_nn_index}-th k-NN) for {key} at the {rand_cutoff}-th position')\n",
    "    data_in_leaf_node = np.vstack((data1, descriptors.loc[nn].values, data2))\n",
    "    preds = train_collect_preds(data_in_leaf_node, descriptors.loc[int(key)].values)\n",
    "    print(f'Predicted 5 closest objects: {np.argsort(preds)[0][::-1][:5]}, p={np.sort(preds)[0][::-1][:5]}')\n",
    "    plt.bar(np.arange(0, 200, 1), preds[0])\n",
    "    plt.show()"
   ]
  },
  {
   "cell_type": "code",
   "execution_count": null,
   "id": "1030df73-10bb-41dc-8b8a-018a29eafd1f",
   "metadata": {},
   "outputs": [],
   "source": []
  },
  {
   "cell_type": "code",
   "execution_count": null,
   "id": "8bfdb5c4-e17f-4447-b107-06e2088950a4",
   "metadata": {},
   "outputs": [],
   "source": []
  },
  {
   "cell_type": "code",
   "execution_count": null,
   "id": "87a49c71-af40-4b9d-a1e0-6a31be0f18d5",
   "metadata": {},
   "outputs": [],
   "source": []
  },
  {
   "cell_type": "markdown",
   "id": "e21d047e-b217-4311-9e3b-5a3ada5b0a96",
   "metadata": {},
   "source": [
    "## Regression on the reduced and sorted data"
   ]
  },
  {
   "cell_type": "code",
   "execution_count": null,
   "id": "bcd8f986-13cd-4188-8b51-f39c78409530",
   "metadata": {},
   "outputs": [
    {
     "data": {
      "text/plain": [
       "array([[0.61221725]], dtype=float32)"
      ]
     },
     "execution_count": 44,
     "metadata": {},
     "output_type": "execute_result"
    }
   ],
   "source": [
    "model = tf.keras.Sequential([\n",
    "    layers.Dense(input_shape=[1,], units=1)\n",
    "])\n",
    "\n",
    "model.compile(\n",
    "    optimizer=tf.keras.optimizers.Adam(learning_rate=0.001),\n",
    "    loss='mean_absolute_error')\n",
    "\n",
    "model.fit(np.array(data_leaf_node_1d_sorted), np.arange(0, 1, 1/200), epochs=1000, verbose=0)\n",
    "model.predict(pca.transform([query]))"
   ]
  },
  {
   "cell_type": "markdown",
   "id": "65d2ed15-b189-42ec-ba22-f1b98120362d",
   "metadata": {},
   "source": [
    "### Classification"
   ]
  },
  {
   "cell_type": "code",
   "execution_count": 45,
   "id": "97ab2b9c-3611-4fe5-aec2-3ad557b1e36c",
   "metadata": {},
   "outputs": [
    {
     "data": {
      "text/plain": [
       "147"
      ]
     },
     "execution_count": 45,
     "metadata": {},
     "output_type": "execute_result"
    }
   ],
   "source": [
    "model = tf.keras.Sequential([\n",
    "    layers.Dense(input_shape=[1,], units=200, activation='softmax')\n",
    "])\n",
    "\n",
    "model.compile(\n",
    "    optimizer=tf.keras.optimizers.Adam(learning_rate=0.001),\n",
    "    loss='sparse_categorical_crossentropy')\n",
    "\n",
    "model.fit(np.array(data_leaf_node_1d_sorted), np.arange(0, 200, 1), epochs=500, verbose=0)\n",
    "\n",
    "np.argmax(model.predict(pca.transform([query]).reshape(1, -1)))"
   ]
  },
  {
   "cell_type": "markdown",
   "id": "72441b1c-fa6c-4e5a-a402-5409042a0b78",
   "metadata": {},
   "source": [
    "## distance, sort"
   ]
  },
  {
   "cell_type": "code",
   "execution_count": 8,
   "id": "605fef64-eec9-4ae8-be38-834d5c68b41e",
   "metadata": {},
   "outputs": [],
   "source": [
    "query = descriptors[0].iloc[201].values"
   ]
  },
  {
   "cell_type": "code",
   "execution_count": 53,
   "id": "653b1ef3-edc6-42a9-90fe-a9cf38c7c50d",
   "metadata": {},
   "outputs": [
    {
     "name": "stdout",
     "output_type": "stream",
     "text": [
      "CPU times: user 3.24 ms, sys: 0 ns, total: 3.24 ms\n",
      "Wall time: 3.32 ms\n"
     ]
    }
   ],
   "source": [
    "def baseline_distances():\n",
    "    distances = []\n",
    "    obj_ids = []\n",
    "    for i, obj in enumerate(descriptors[0].iloc[:200].values):\n",
    "        distances.append(get_euclidean_distance(obj, query))\n",
    "        obj_ids.append(i)\n",
    "    return distances, obj_ids\n",
    "%time dists, obj_ids = baseline_distances()"
   ]
  },
  {
   "cell_type": "code",
   "execution_count": null,
   "id": "b0c15100-7581-4ee1-bb8f-2e683189b6d8",
   "metadata": {},
   "outputs": [],
   "source": [
    "np.aran"
   ]
  },
  {
   "cell_type": "code",
   "execution_count": 56,
   "id": "9f939433-7e77-467a-a3fa-0388e31ee77f",
   "metadata": {},
   "outputs": [],
   "source": [
    "arr = np.array([dists, obj_ids, np.arange(0, 1, 1/200)]).T"
   ]
  },
  {
   "cell_type": "code",
   "execution_count": 58,
   "id": "be2967dc-48a1-43c5-beae-507d17699bce",
   "metadata": {},
   "outputs": [
    {
     "data": {
      "text/plain": [
       "array([[1.46374762e+01, 2.60000000e+01, 1.30000000e-01],\n",
       "       [1.51930756e+01, 3.30000000e+01, 1.65000000e-01],\n",
       "       [1.55172587e+01, 1.96000000e+02, 9.80000000e-01],\n",
       "       [1.59540642e+01, 1.95000000e+02, 9.75000000e-01],\n",
       "       [1.60311199e+01, 5.80000000e+01, 2.90000000e-01],\n",
       "       [1.61789720e+01, 1.00000000e+00, 5.00000000e-03],\n",
       "       [1.62447258e+01, 1.04000000e+02, 5.20000000e-01],\n",
       "       [1.62895579e+01, 3.50000000e+01, 1.75000000e-01],\n",
       "       [1.65867524e+01, 4.90000000e+01, 2.45000000e-01],\n",
       "       [1.67126673e+01, 6.20000000e+01, 3.10000000e-01]])"
      ]
     },
     "execution_count": 58,
     "metadata": {},
     "output_type": "execute_result"
    }
   ],
   "source": [
    "arr[arr[:, 0].argsort()][:10]"
   ]
  },
  {
   "cell_type": "code",
   "execution_count": 18,
   "id": "c9b6f96e-8af6-475f-96dc-b5cb39a93411",
   "metadata": {},
   "outputs": [],
   "source": [
    "from tensorflow import keras\n",
    "from tensorflow.keras import layers\n",
    "import tensorflow as tf"
   ]
  },
  {
   "cell_type": "code",
   "execution_count": 76,
   "id": "18260f8e-9773-42e7-8277-b61d8f5ef019",
   "metadata": {},
   "outputs": [],
   "source": [
    "query = descriptors[0].iloc[199].values"
   ]
  },
  {
   "cell_type": "code",
   "execution_count": 77,
   "id": "7387d6c4-f99e-42ee-85ca-0819b066290c",
   "metadata": {},
   "outputs": [
    {
     "data": {
      "text/plain": [
       "array([[0.46446785]], dtype=float32)"
      ]
     },
     "execution_count": 77,
     "metadata": {},
     "output_type": "execute_result"
    }
   ],
   "source": [
    "model = tf.keras.Sequential([\n",
    "    layers.Dense(input_shape=[282,], units=1)\n",
    "])\n",
    "\n",
    "model.compile(\n",
    "    optimizer=tf.keras.optimizers.Adam(learning_rate=0.0001),\n",
    "    loss='mean_absolute_error')\n",
    "\n",
    "model.fit(descriptors[0].iloc[:200].values, np.arange(0, 1, 1/200), epochs=500, verbose=0)\n",
    "\n",
    "model.predict(query.reshape(1, -1))"
   ]
  },
  {
   "cell_type": "code",
   "execution_count": 75,
   "id": "fbf80a1f-8113-4211-8628-21a06332b340",
   "metadata": {},
   "outputs": [
    {
     "ename": "KeyboardInterrupt",
     "evalue": "",
     "output_type": "error",
     "traceback": [
      "\u001b[0;31m---------------------------------------------------------------------------\u001b[0m",
      "\u001b[0;31mKeyboardInterrupt\u001b[0m                         Traceback (most recent call last)",
      "\u001b[0;32m<ipython-input-75-d044dc3f7b25>\u001b[0m in \u001b[0;36m<module>\u001b[0;34m\u001b[0m\n\u001b[1;32m      7\u001b[0m     loss='sparse_categorical_crossentropy')\n\u001b[1;32m      8\u001b[0m \u001b[0;34m\u001b[0m\u001b[0m\n\u001b[0;32m----> 9\u001b[0;31m \u001b[0mmodel\u001b[0m\u001b[0;34m.\u001b[0m\u001b[0mfit\u001b[0m\u001b[0;34m(\u001b[0m\u001b[0mdescriptors\u001b[0m\u001b[0;34m[\u001b[0m\u001b[0;36m0\u001b[0m\u001b[0;34m]\u001b[0m\u001b[0;34m.\u001b[0m\u001b[0miloc\u001b[0m\u001b[0;34m[\u001b[0m\u001b[0;34m:\u001b[0m\u001b[0;36m200\u001b[0m\u001b[0;34m]\u001b[0m\u001b[0;34m.\u001b[0m\u001b[0mvalues\u001b[0m\u001b[0;34m,\u001b[0m \u001b[0mnp\u001b[0m\u001b[0;34m.\u001b[0m\u001b[0marange\u001b[0m\u001b[0;34m(\u001b[0m\u001b[0;36m0\u001b[0m\u001b[0;34m,\u001b[0m \u001b[0;36m200\u001b[0m\u001b[0;34m,\u001b[0m \u001b[0;36m1\u001b[0m\u001b[0;34m)\u001b[0m\u001b[0;34m,\u001b[0m \u001b[0mepochs\u001b[0m\u001b[0;34m=\u001b[0m\u001b[0;36m1000\u001b[0m\u001b[0;34m,\u001b[0m \u001b[0mverbose\u001b[0m\u001b[0;34m=\u001b[0m\u001b[0;36m0\u001b[0m\u001b[0;34m)\u001b[0m\u001b[0;34m\u001b[0m\u001b[0;34m\u001b[0m\u001b[0m\n\u001b[0m\u001b[1;32m     10\u001b[0m \u001b[0;34m\u001b[0m\u001b[0m\n\u001b[1;32m     11\u001b[0m \u001b[0mnp\u001b[0m\u001b[0;34m.\u001b[0m\u001b[0margmax\u001b[0m\u001b[0;34m(\u001b[0m\u001b[0mmodel\u001b[0m\u001b[0;34m.\u001b[0m\u001b[0mpredict\u001b[0m\u001b[0;34m(\u001b[0m\u001b[0mquery\u001b[0m\u001b[0;34m.\u001b[0m\u001b[0mreshape\u001b[0m\u001b[0;34m(\u001b[0m\u001b[0;36m1\u001b[0m\u001b[0;34m,\u001b[0m \u001b[0;34m-\u001b[0m\u001b[0;36m1\u001b[0m\u001b[0;34m)\u001b[0m\u001b[0;34m)\u001b[0m\u001b[0;34m)\u001b[0m\u001b[0;34m\u001b[0m\u001b[0;34m\u001b[0m\u001b[0m\n",
      "\u001b[0;32m/storage/plzen1/home/tslaninakova/.conda/envs/lmi/lib/python3.6/site-packages/tensorflow_core/python/keras/engine/training.py\u001b[0m in \u001b[0;36mfit\u001b[0;34m(self, x, y, batch_size, epochs, verbose, callbacks, validation_split, validation_data, shuffle, class_weight, sample_weight, initial_epoch, steps_per_epoch, validation_steps, validation_freq, max_queue_size, workers, use_multiprocessing, **kwargs)\u001b[0m\n\u001b[1;32m    817\u001b[0m         \u001b[0mmax_queue_size\u001b[0m\u001b[0;34m=\u001b[0m\u001b[0mmax_queue_size\u001b[0m\u001b[0;34m,\u001b[0m\u001b[0;34m\u001b[0m\u001b[0;34m\u001b[0m\u001b[0m\n\u001b[1;32m    818\u001b[0m         \u001b[0mworkers\u001b[0m\u001b[0;34m=\u001b[0m\u001b[0mworkers\u001b[0m\u001b[0;34m,\u001b[0m\u001b[0;34m\u001b[0m\u001b[0;34m\u001b[0m\u001b[0m\n\u001b[0;32m--> 819\u001b[0;31m         use_multiprocessing=use_multiprocessing)\n\u001b[0m\u001b[1;32m    820\u001b[0m \u001b[0;34m\u001b[0m\u001b[0m\n\u001b[1;32m    821\u001b[0m   def evaluate(self,\n",
      "\u001b[0;32m/storage/plzen1/home/tslaninakova/.conda/envs/lmi/lib/python3.6/site-packages/tensorflow_core/python/keras/engine/training_v2.py\u001b[0m in \u001b[0;36mfit\u001b[0;34m(self, model, x, y, batch_size, epochs, verbose, callbacks, validation_split, validation_data, shuffle, class_weight, sample_weight, initial_epoch, steps_per_epoch, validation_steps, validation_freq, max_queue_size, workers, use_multiprocessing, **kwargs)\u001b[0m\n\u001b[1;32m    340\u001b[0m                 \u001b[0mmode\u001b[0m\u001b[0;34m=\u001b[0m\u001b[0mModeKeys\u001b[0m\u001b[0;34m.\u001b[0m\u001b[0mTRAIN\u001b[0m\u001b[0;34m,\u001b[0m\u001b[0;34m\u001b[0m\u001b[0;34m\u001b[0m\u001b[0m\n\u001b[1;32m    341\u001b[0m                 \u001b[0mtraining_context\u001b[0m\u001b[0;34m=\u001b[0m\u001b[0mtraining_context\u001b[0m\u001b[0;34m,\u001b[0m\u001b[0;34m\u001b[0m\u001b[0;34m\u001b[0m\u001b[0m\n\u001b[0;32m--> 342\u001b[0;31m                 total_epochs=epochs)\n\u001b[0m\u001b[1;32m    343\u001b[0m             \u001b[0mcbks\u001b[0m\u001b[0;34m.\u001b[0m\u001b[0mmake_logs\u001b[0m\u001b[0;34m(\u001b[0m\u001b[0mmodel\u001b[0m\u001b[0;34m,\u001b[0m \u001b[0mepoch_logs\u001b[0m\u001b[0;34m,\u001b[0m \u001b[0mtraining_result\u001b[0m\u001b[0;34m,\u001b[0m \u001b[0mModeKeys\u001b[0m\u001b[0;34m.\u001b[0m\u001b[0mTRAIN\u001b[0m\u001b[0;34m)\u001b[0m\u001b[0;34m\u001b[0m\u001b[0;34m\u001b[0m\u001b[0m\n\u001b[1;32m    344\u001b[0m \u001b[0;34m\u001b[0m\u001b[0m\n",
      "\u001b[0;32m/storage/plzen1/home/tslaninakova/.conda/envs/lmi/lib/python3.6/site-packages/tensorflow_core/python/keras/engine/training_v2.py\u001b[0m in \u001b[0;36mrun_one_epoch\u001b[0;34m(model, iterator, execution_function, dataset_size, batch_size, strategy, steps_per_epoch, num_samples, mode, training_context, total_epochs)\u001b[0m\n\u001b[1;32m    126\u001b[0m         step=step, mode=mode, size=current_batch_size) as batch_logs:\n\u001b[1;32m    127\u001b[0m       \u001b[0;32mtry\u001b[0m\u001b[0;34m:\u001b[0m\u001b[0;34m\u001b[0m\u001b[0;34m\u001b[0m\u001b[0m\n\u001b[0;32m--> 128\u001b[0;31m         \u001b[0mbatch_outs\u001b[0m \u001b[0;34m=\u001b[0m \u001b[0mexecution_function\u001b[0m\u001b[0;34m(\u001b[0m\u001b[0miterator\u001b[0m\u001b[0;34m)\u001b[0m\u001b[0;34m\u001b[0m\u001b[0;34m\u001b[0m\u001b[0m\n\u001b[0m\u001b[1;32m    129\u001b[0m       \u001b[0;32mexcept\u001b[0m \u001b[0;34m(\u001b[0m\u001b[0mStopIteration\u001b[0m\u001b[0;34m,\u001b[0m \u001b[0merrors\u001b[0m\u001b[0;34m.\u001b[0m\u001b[0mOutOfRangeError\u001b[0m\u001b[0;34m)\u001b[0m\u001b[0;34m:\u001b[0m\u001b[0;34m\u001b[0m\u001b[0;34m\u001b[0m\u001b[0m\n\u001b[1;32m    130\u001b[0m         \u001b[0;31m# TODO(kaftan): File bug about tf function and errors.OutOfRangeError?\u001b[0m\u001b[0;34m\u001b[0m\u001b[0;34m\u001b[0m\u001b[0;34m\u001b[0m\u001b[0m\n",
      "\u001b[0;32m/storage/plzen1/home/tslaninakova/.conda/envs/lmi/lib/python3.6/site-packages/tensorflow_core/python/keras/engine/training_v2_utils.py\u001b[0m in \u001b[0;36mexecution_function\u001b[0;34m(input_fn)\u001b[0m\n\u001b[1;32m     96\u001b[0m     \u001b[0;31m# `numpy` translates Tensors to values in Eager mode.\u001b[0m\u001b[0;34m\u001b[0m\u001b[0;34m\u001b[0m\u001b[0;34m\u001b[0m\u001b[0m\n\u001b[1;32m     97\u001b[0m     return nest.map_structure(_non_none_constant_value,\n\u001b[0;32m---> 98\u001b[0;31m                               distributed_function(input_fn))\n\u001b[0m\u001b[1;32m     99\u001b[0m \u001b[0;34m\u001b[0m\u001b[0m\n\u001b[1;32m    100\u001b[0m   \u001b[0;32mreturn\u001b[0m \u001b[0mexecution_function\u001b[0m\u001b[0;34m\u001b[0m\u001b[0;34m\u001b[0m\u001b[0m\n",
      "\u001b[0;32m/storage/plzen1/home/tslaninakova/.conda/envs/lmi/lib/python3.6/site-packages/tensorflow_core/python/eager/def_function.py\u001b[0m in \u001b[0;36m__call__\u001b[0;34m(self, *args, **kwds)\u001b[0m\n\u001b[1;32m    566\u001b[0m         \u001b[0mxla_context\u001b[0m\u001b[0;34m.\u001b[0m\u001b[0mExit\u001b[0m\u001b[0;34m(\u001b[0m\u001b[0;34m)\u001b[0m\u001b[0;34m\u001b[0m\u001b[0;34m\u001b[0m\u001b[0m\n\u001b[1;32m    567\u001b[0m     \u001b[0;32melse\u001b[0m\u001b[0;34m:\u001b[0m\u001b[0;34m\u001b[0m\u001b[0;34m\u001b[0m\u001b[0m\n\u001b[0;32m--> 568\u001b[0;31m       \u001b[0mresult\u001b[0m \u001b[0;34m=\u001b[0m \u001b[0mself\u001b[0m\u001b[0;34m.\u001b[0m\u001b[0m_call\u001b[0m\u001b[0;34m(\u001b[0m\u001b[0;34m*\u001b[0m\u001b[0margs\u001b[0m\u001b[0;34m,\u001b[0m \u001b[0;34m**\u001b[0m\u001b[0mkwds\u001b[0m\u001b[0;34m)\u001b[0m\u001b[0;34m\u001b[0m\u001b[0;34m\u001b[0m\u001b[0m\n\u001b[0m\u001b[1;32m    569\u001b[0m \u001b[0;34m\u001b[0m\u001b[0m\n\u001b[1;32m    570\u001b[0m     \u001b[0;32mif\u001b[0m \u001b[0mtracing_count\u001b[0m \u001b[0;34m==\u001b[0m \u001b[0mself\u001b[0m\u001b[0;34m.\u001b[0m\u001b[0m_get_tracing_count\u001b[0m\u001b[0;34m(\u001b[0m\u001b[0;34m)\u001b[0m\u001b[0;34m:\u001b[0m\u001b[0;34m\u001b[0m\u001b[0;34m\u001b[0m\u001b[0m\n",
      "\u001b[0;32m/storage/plzen1/home/tslaninakova/.conda/envs/lmi/lib/python3.6/site-packages/tensorflow_core/python/eager/def_function.py\u001b[0m in \u001b[0;36m_call\u001b[0;34m(self, *args, **kwds)\u001b[0m\n\u001b[1;32m    597\u001b[0m       \u001b[0;31m# In this case we have created variables on the first call, so we run the\u001b[0m\u001b[0;34m\u001b[0m\u001b[0;34m\u001b[0m\u001b[0;34m\u001b[0m\u001b[0m\n\u001b[1;32m    598\u001b[0m       \u001b[0;31m# defunned version which is guaranteed to never create variables.\u001b[0m\u001b[0;34m\u001b[0m\u001b[0;34m\u001b[0m\u001b[0;34m\u001b[0m\u001b[0m\n\u001b[0;32m--> 599\u001b[0;31m       \u001b[0;32mreturn\u001b[0m \u001b[0mself\u001b[0m\u001b[0;34m.\u001b[0m\u001b[0m_stateless_fn\u001b[0m\u001b[0;34m(\u001b[0m\u001b[0;34m*\u001b[0m\u001b[0margs\u001b[0m\u001b[0;34m,\u001b[0m \u001b[0;34m**\u001b[0m\u001b[0mkwds\u001b[0m\u001b[0;34m)\u001b[0m  \u001b[0;31m# pylint: disable=not-callable\u001b[0m\u001b[0;34m\u001b[0m\u001b[0;34m\u001b[0m\u001b[0m\n\u001b[0m\u001b[1;32m    600\u001b[0m     \u001b[0;32melif\u001b[0m \u001b[0mself\u001b[0m\u001b[0;34m.\u001b[0m\u001b[0m_stateful_fn\u001b[0m \u001b[0;32mis\u001b[0m \u001b[0;32mnot\u001b[0m \u001b[0;32mNone\u001b[0m\u001b[0;34m:\u001b[0m\u001b[0;34m\u001b[0m\u001b[0;34m\u001b[0m\u001b[0m\n\u001b[1;32m    601\u001b[0m       \u001b[0;31m# Release the lock early so that multiple threads can perform the call\u001b[0m\u001b[0;34m\u001b[0m\u001b[0;34m\u001b[0m\u001b[0;34m\u001b[0m\u001b[0m\n",
      "\u001b[0;32m/storage/plzen1/home/tslaninakova/.conda/envs/lmi/lib/python3.6/site-packages/tensorflow_core/python/eager/function.py\u001b[0m in \u001b[0;36m__call__\u001b[0;34m(self, *args, **kwargs)\u001b[0m\n\u001b[1;32m   2361\u001b[0m     \u001b[0;32mwith\u001b[0m \u001b[0mself\u001b[0m\u001b[0;34m.\u001b[0m\u001b[0m_lock\u001b[0m\u001b[0;34m:\u001b[0m\u001b[0;34m\u001b[0m\u001b[0;34m\u001b[0m\u001b[0m\n\u001b[1;32m   2362\u001b[0m       \u001b[0mgraph_function\u001b[0m\u001b[0;34m,\u001b[0m \u001b[0margs\u001b[0m\u001b[0;34m,\u001b[0m \u001b[0mkwargs\u001b[0m \u001b[0;34m=\u001b[0m \u001b[0mself\u001b[0m\u001b[0;34m.\u001b[0m\u001b[0m_maybe_define_function\u001b[0m\u001b[0;34m(\u001b[0m\u001b[0margs\u001b[0m\u001b[0;34m,\u001b[0m \u001b[0mkwargs\u001b[0m\u001b[0;34m)\u001b[0m\u001b[0;34m\u001b[0m\u001b[0;34m\u001b[0m\u001b[0m\n\u001b[0;32m-> 2363\u001b[0;31m     \u001b[0;32mreturn\u001b[0m \u001b[0mgraph_function\u001b[0m\u001b[0;34m.\u001b[0m\u001b[0m_filtered_call\u001b[0m\u001b[0;34m(\u001b[0m\u001b[0margs\u001b[0m\u001b[0;34m,\u001b[0m \u001b[0mkwargs\u001b[0m\u001b[0;34m)\u001b[0m  \u001b[0;31m# pylint: disable=protected-access\u001b[0m\u001b[0;34m\u001b[0m\u001b[0;34m\u001b[0m\u001b[0m\n\u001b[0m\u001b[1;32m   2364\u001b[0m \u001b[0;34m\u001b[0m\u001b[0m\n\u001b[1;32m   2365\u001b[0m   \u001b[0;34m@\u001b[0m\u001b[0mproperty\u001b[0m\u001b[0;34m\u001b[0m\u001b[0;34m\u001b[0m\u001b[0m\n",
      "\u001b[0;32m/storage/plzen1/home/tslaninakova/.conda/envs/lmi/lib/python3.6/site-packages/tensorflow_core/python/eager/function.py\u001b[0m in \u001b[0;36m_filtered_call\u001b[0;34m(self, args, kwargs)\u001b[0m\n\u001b[1;32m   1609\u001b[0m          if isinstance(t, (ops.Tensor,\n\u001b[1;32m   1610\u001b[0m                            resource_variable_ops.BaseResourceVariable))),\n\u001b[0;32m-> 1611\u001b[0;31m         self.captured_inputs)\n\u001b[0m\u001b[1;32m   1612\u001b[0m \u001b[0;34m\u001b[0m\u001b[0m\n\u001b[1;32m   1613\u001b[0m   \u001b[0;32mdef\u001b[0m \u001b[0m_call_flat\u001b[0m\u001b[0;34m(\u001b[0m\u001b[0mself\u001b[0m\u001b[0;34m,\u001b[0m \u001b[0margs\u001b[0m\u001b[0;34m,\u001b[0m \u001b[0mcaptured_inputs\u001b[0m\u001b[0;34m,\u001b[0m \u001b[0mcancellation_manager\u001b[0m\u001b[0;34m=\u001b[0m\u001b[0;32mNone\u001b[0m\u001b[0;34m)\u001b[0m\u001b[0;34m:\u001b[0m\u001b[0;34m\u001b[0m\u001b[0;34m\u001b[0m\u001b[0m\n",
      "\u001b[0;32m/storage/plzen1/home/tslaninakova/.conda/envs/lmi/lib/python3.6/site-packages/tensorflow_core/python/eager/function.py\u001b[0m in \u001b[0;36m_call_flat\u001b[0;34m(self, args, captured_inputs, cancellation_manager)\u001b[0m\n\u001b[1;32m   1690\u001b[0m       \u001b[0;31m# No tape is watching; skip to running the function.\u001b[0m\u001b[0;34m\u001b[0m\u001b[0;34m\u001b[0m\u001b[0;34m\u001b[0m\u001b[0m\n\u001b[1;32m   1691\u001b[0m       return self._build_call_outputs(self._inference_function.call(\n\u001b[0;32m-> 1692\u001b[0;31m           ctx, args, cancellation_manager=cancellation_manager))\n\u001b[0m\u001b[1;32m   1693\u001b[0m     forward_backward = self._select_forward_and_backward_functions(\n\u001b[1;32m   1694\u001b[0m         \u001b[0margs\u001b[0m\u001b[0;34m,\u001b[0m\u001b[0;34m\u001b[0m\u001b[0;34m\u001b[0m\u001b[0m\n",
      "\u001b[0;32m/storage/plzen1/home/tslaninakova/.conda/envs/lmi/lib/python3.6/site-packages/tensorflow_core/python/eager/function.py\u001b[0m in \u001b[0;36mcall\u001b[0;34m(self, ctx, args, cancellation_manager)\u001b[0m\n\u001b[1;32m    543\u001b[0m               \u001b[0minputs\u001b[0m\u001b[0;34m=\u001b[0m\u001b[0margs\u001b[0m\u001b[0;34m,\u001b[0m\u001b[0;34m\u001b[0m\u001b[0;34m\u001b[0m\u001b[0m\n\u001b[1;32m    544\u001b[0m               \u001b[0mattrs\u001b[0m\u001b[0;34m=\u001b[0m\u001b[0;34m(\u001b[0m\u001b[0;34m\"executor_type\"\u001b[0m\u001b[0;34m,\u001b[0m \u001b[0mexecutor_type\u001b[0m\u001b[0;34m,\u001b[0m \u001b[0;34m\"config_proto\"\u001b[0m\u001b[0;34m,\u001b[0m \u001b[0mconfig\u001b[0m\u001b[0;34m)\u001b[0m\u001b[0;34m,\u001b[0m\u001b[0;34m\u001b[0m\u001b[0;34m\u001b[0m\u001b[0m\n\u001b[0;32m--> 545\u001b[0;31m               ctx=ctx)\n\u001b[0m\u001b[1;32m    546\u001b[0m         \u001b[0;32melse\u001b[0m\u001b[0;34m:\u001b[0m\u001b[0;34m\u001b[0m\u001b[0;34m\u001b[0m\u001b[0m\n\u001b[1;32m    547\u001b[0m           outputs = execute.execute_with_cancellation(\n",
      "\u001b[0;32m/storage/plzen1/home/tslaninakova/.conda/envs/lmi/lib/python3.6/site-packages/tensorflow_core/python/eager/execute.py\u001b[0m in \u001b[0;36mquick_execute\u001b[0;34m(op_name, num_outputs, inputs, attrs, ctx, name)\u001b[0m\n\u001b[1;32m     59\u001b[0m     tensors = pywrap_tensorflow.TFE_Py_Execute(ctx._handle, device_name,\n\u001b[1;32m     60\u001b[0m                                                \u001b[0mop_name\u001b[0m\u001b[0;34m,\u001b[0m \u001b[0minputs\u001b[0m\u001b[0;34m,\u001b[0m \u001b[0mattrs\u001b[0m\u001b[0;34m,\u001b[0m\u001b[0;34m\u001b[0m\u001b[0;34m\u001b[0m\u001b[0m\n\u001b[0;32m---> 61\u001b[0;31m                                                num_outputs)\n\u001b[0m\u001b[1;32m     62\u001b[0m   \u001b[0;32mexcept\u001b[0m \u001b[0mcore\u001b[0m\u001b[0;34m.\u001b[0m\u001b[0m_NotOkStatusException\u001b[0m \u001b[0;32mas\u001b[0m \u001b[0me\u001b[0m\u001b[0;34m:\u001b[0m\u001b[0;34m\u001b[0m\u001b[0;34m\u001b[0m\u001b[0m\n\u001b[1;32m     63\u001b[0m     \u001b[0;32mif\u001b[0m \u001b[0mname\u001b[0m \u001b[0;32mis\u001b[0m \u001b[0;32mnot\u001b[0m \u001b[0;32mNone\u001b[0m\u001b[0;34m:\u001b[0m\u001b[0;34m\u001b[0m\u001b[0;34m\u001b[0m\u001b[0m\n",
      "\u001b[0;31mKeyboardInterrupt\u001b[0m: "
     ]
    }
   ],
   "source": [
    "model = tf.keras.Sequential([\n",
    "    layers.Dense(input_shape=[282,], units=200, activation='softmax')\n",
    "])\n",
    "\n",
    "model.compile(\n",
    "    optimizer=tf.keras.optimizers.Adam(learning_rate=0.0001),\n",
    "    loss='sparse_categorical_crossentropy')\n",
    "\n",
    "model.fit(descriptors[0].iloc[:200].values, np.arange(0, 200, 1), epochs=1000, verbose=0)\n",
    "\n",
    "np.argmax(model.predict(query.reshape(1, -1)))"
   ]
  },
  {
   "cell_type": "code",
   "execution_count": 7,
   "id": "61c13721-5430-419d-87db-1504aa26d294",
   "metadata": {},
   "outputs": [],
   "source": [
    "model_config = load_model_config(\n",
    "    config['LMI']['model-config']\n",
    ")"
   ]
  },
  {
   "cell_type": "code",
   "execution_count": 8,
   "id": "8752c978-f293-4c1e-8e3c-e53f00e2a15a",
   "metadata": {},
   "outputs": [
    {
     "ename": "NameError",
     "evalue": "name 'descriptors' is not defined",
     "output_type": "error",
     "traceback": [
      "\u001b[0;31m---------------------------------------------------------------------------\u001b[0m",
      "\u001b[0;31mNameError\u001b[0m                                 Traceback (most recent call last)",
      "\u001b[0;32m<ipython-input-8-20f6042433ba>\u001b[0m in \u001b[0;36m<module>\u001b[0;34m\u001b[0m\n\u001b[1;32m      1\u001b[0m \u001b[0;32mfrom\u001b[0m \u001b[0mlmi\u001b[0m\u001b[0;34m.\u001b[0m\u001b[0mindexes\u001b[0m\u001b[0;34m.\u001b[0m\u001b[0mLearnedMetricIndex\u001b[0m \u001b[0;32mimport\u001b[0m \u001b[0mLMI\u001b[0m\u001b[0;34m\u001b[0m\u001b[0;34m\u001b[0m\u001b[0m\n\u001b[0;32m----> 2\u001b[0;31m \u001b[0mlmi\u001b[0m \u001b[0;34m=\u001b[0m \u001b[0mLMI\u001b[0m\u001b[0;34m(\u001b[0m\u001b[0mconfig\u001b[0m\u001b[0;34m[\u001b[0m\u001b[0;34m'LMI'\u001b[0m\u001b[0;34m]\u001b[0m\u001b[0;34m,\u001b[0m \u001b[0mdescriptors\u001b[0m\u001b[0;34m,\u001b[0m \u001b[0mlabels\u001b[0m\u001b[0;34m)\u001b[0m\u001b[0;34m\u001b[0m\u001b[0;34m\u001b[0m\u001b[0m\n\u001b[0m\u001b[1;32m      3\u001b[0m \u001b[0mlmi\u001b[0m\u001b[0;34m.\u001b[0m\u001b[0mtrain\u001b[0m\u001b[0;34m(\u001b[0m\u001b[0mmodel_config\u001b[0m\u001b[0;34m)\u001b[0m\u001b[0;34m\u001b[0m\u001b[0;34m\u001b[0m\u001b[0m\n",
      "\u001b[0;31mNameError\u001b[0m: name 'descriptors' is not defined"
     ]
    }
   ],
   "source": [
    "from lmi.indexes.LearnedMetricIndex import LMI\n",
    "lmi = LMI(config['LMI'], descriptors, labels)\n",
    "lmi.train(model_config)"
   ]
  },
  {
   "cell_type": "code",
   "execution_count": 9,
   "id": "005f7a23-4d01-47fb-91b6-ece1c104fca3",
   "metadata": {},
   "outputs": [
    {
     "ename": "NameError",
     "evalue": "name 'descriptors' is not defined",
     "output_type": "error",
     "traceback": [
      "\u001b[0;31m---------------------------------------------------------------------------\u001b[0m",
      "\u001b[0;31mNameError\u001b[0m                                 Traceback (most recent call last)",
      "\u001b[0;32m<ipython-input-9-2955420e1422>\u001b[0m in \u001b[0;36m<module>\u001b[0;34m\u001b[0m\n\u001b[1;32m      2\u001b[0m \u001b[0;32mfrom\u001b[0m \u001b[0mlmi\u001b[0m\u001b[0;34m.\u001b[0m\u001b[0mindexes\u001b[0m\u001b[0;34m.\u001b[0m\u001b[0mMtree\u001b[0m \u001b[0;32mimport\u001b[0m \u001b[0mMtree\u001b[0m\u001b[0;34m\u001b[0m\u001b[0;34m\u001b[0m\u001b[0m\n\u001b[1;32m      3\u001b[0m \u001b[0mpivots\u001b[0m \u001b[0;34m=\u001b[0m \u001b[0mloader\u001b[0m\u001b[0;34m.\u001b[0m\u001b[0mload_mtree_pivots\u001b[0m\u001b[0;34m(\u001b[0m\u001b[0;34m)\u001b[0m\u001b[0;34m\u001b[0m\u001b[0;34m\u001b[0m\u001b[0m\n\u001b[0;32m----> 4\u001b[0;31m \u001b[0mindex\u001b[0m \u001b[0;34m=\u001b[0m \u001b[0mMtree\u001b[0m\u001b[0;34m(\u001b[0m\u001b[0mdescriptors\u001b[0m\u001b[0;34m,\u001b[0m \u001b[0mlabels\u001b[0m\u001b[0;34m,\u001b[0m \u001b[0mpivots\u001b[0m\u001b[0;34m,\u001b[0m \u001b[0mconfig\u001b[0m\u001b[0;34m[\u001b[0m\u001b[0;34m'data'\u001b[0m\u001b[0;34m]\u001b[0m\u001b[0;34m[\u001b[0m\u001b[0;34m'dataset'\u001b[0m\u001b[0;34m]\u001b[0m\u001b[0;34m)\u001b[0m\u001b[0;34m\u001b[0m\u001b[0;34m\u001b[0m\u001b[0m\n\u001b[0m\u001b[1;32m      5\u001b[0m \u001b[0;31m# or, in case of m-index:\u001b[0m\u001b[0;34m\u001b[0m\u001b[0;34m\u001b[0m\u001b[0;34m\u001b[0m\u001b[0m\n\u001b[1;32m      6\u001b[0m \u001b[0mpivots\u001b[0m \u001b[0;34m=\u001b[0m \u001b[0mloader\u001b[0m\u001b[0;34m.\u001b[0m\u001b[0mload_mindex_pivots\u001b[0m\u001b[0;34m(\u001b[0m\u001b[0;34m)\u001b[0m\u001b[0;34m\u001b[0m\u001b[0;34m\u001b[0m\u001b[0m\n",
      "\u001b[0;31mNameError\u001b[0m: name 'descriptors' is not defined"
     ]
    }
   ],
   "source": [
    "from lmi.indexes.Mindex import Mindex\n",
    "from lmi.indexes.Mtree import Mtree\n",
    "pivots = loader.load_mtree_pivots()\n",
    "index = Mtree(descriptors, labels, pivots, config['data']['dataset'])\n",
    "# or, in case of m-index:\n",
    "pivots = loader.load_mindex_pivots()\n",
    "index = Mindex(descriptors, labels, pivots, config['data']['dataset'])"
   ]
  },
  {
   "cell_type": "code",
   "execution_count": 5,
   "id": "8aee9ae1",
   "metadata": {},
   "outputs": [],
   "source": [
    "loader = ProfisetDataLoader(config)\n",
    "#%time df = loader.load_descriptors()\n",
    "#%time label = loader.load_tiny_labels()\n",
    "#labels.head(2)"
   ]
  },
  {
   "cell_type": "code",
   "execution_count": 6,
   "id": "95181994-6eda-4088-84b7-da19c8d002f7",
   "metadata": {},
   "outputs": [],
   "source": [
    "qs = loader.get_queries()"
   ]
  },
  {
   "cell_type": "code",
   "execution_count": 6,
   "id": "dd82afe9-3b66-46ed-a3b7-2bb140c4e853",
   "metadata": {},
   "outputs": [],
   "source": [
    "exp_dirs = [f for f in os.listdir('outputs/')]"
   ]
  },
  {
   "cell_type": "code",
   "execution_count": 10,
   "id": "975e9cbf-3061-4ace-bb5a-f1e1cc4087f6",
   "metadata": {},
   "outputs": [],
   "source": [
    "to_load  = [f'outputs/{exp_dir}/times.csv' for exp_dir in exp_dirs]"
   ]
  },
  {
   "cell_type": "code",
   "execution_count": 8,
   "id": "0f9cd7a4-db6e-4219-862a-190ea979056b",
   "metadata": {},
   "outputs": [],
   "source": [
    "from pathlib import Path"
   ]
  },
  {
   "cell_type": "code",
   "execution_count": 9,
   "id": "727ad599-ea88-45cb-bdea-2cac59a0a302",
   "metadata": {},
   "outputs": [
    {
     "name": "stdout",
     "output_type": "stream",
     "text": [
      "outputs/10perc-Mtree10percboxplots.png/search.csv\n",
      "outputs/table-1.html/search.csv\n",
      "outputs/Mocaptime-recall-stopcond-recall.png/search.csv\n",
      "outputs/Profiset-1M-GMMtime-recall-stopcond-recall.png/search.csv\n",
      "outputs/CoPhIR-1M-Mindex-200time-recall-stopcond-recall.png/search.csv\n",
      "outputs/.ipynb_checkpoints/search.csv\n",
      "outputs/CoPhIR-1M-GMMtime-recall-stopcond-recall.png/search.csv\n",
      "outputs/10perc-Mindex10percboxplots.png/search.csv\n",
      "outputs/Profiset-1M-Mindex-2000time-recall-stopcond-recall.png/search.csv\n",
      "outputs/table-3.html/search.csv\n",
      "outputs/Profiset-1M-Mtree-200time-recall-stopcond-recall.png/search.csv\n",
      "outputs/CoPhIR-1M-Mindex-2000time-recall-stopcond-recall.png/search.csv\n",
      "outputs/ood-MtreeOODboxplots.png/search.csv\n",
      "outputs/ood-MindexOODboxplots.png/search.csv\n",
      "outputs/Profiset-1M-Mtree-2000time-recall-stopcond-recall.png/search.csv\n",
      "outputs/Profiset-1M-Mindex-200time-recall-stopcond-recall.png/search.csv\n",
      "outputs/CoPhIR-1M-Mtree-2000time-recall-stopcond-recall.png/search.csv\n",
      "outputs/report-template.html/search.csv\n",
      "outputs/CoPhIR-1M-Mtree-200time-recall-stopcond-recall.png/search.csv\n"
     ]
    }
   ],
   "source": [
    "import numpy as np\n",
    "import pandas as pd\n",
    "index = []\n",
    "for l in to_load:\n",
    "    #print(np.unique(pd.read_csv(l)['query']))\n",
    "    if Path.is_file(Path(l)):\n",
    "        index.extend(np.unique(pd.read_csv(l)['query']))\n",
    "        \n",
    "    #else:\n",
    "    #    print(l)"
   ]
  },
  {
   "cell_type": "code",
   "execution_count": 11,
   "id": "4eecdbdf-6049-48dd-9735-3fc923262564",
   "metadata": {},
   "outputs": [],
   "source": [
    "import numpy as np"
   ]
  },
  {
   "cell_type": "code",
   "execution_count": 12,
   "id": "6dd9dd1f-3ea1-4724-b95a-5e14809d0feb",
   "metadata": {},
   "outputs": [
    {
     "data": {
      "text/plain": [
       "1000"
      ]
     },
     "execution_count": 12,
     "metadata": {},
     "output_type": "execute_result"
    }
   ],
   "source": [
    "np.unique(index).shape[0]"
   ]
  },
  {
   "cell_type": "code",
   "execution_count": 17,
   "id": "826398e5-aa8e-4bb9-b8f7-d3f89a41d0fb",
   "metadata": {},
   "outputs": [
    {
     "data": {
      "text/plain": [
       "[101252, 101740, 102030, 102045]"
      ]
     },
     "execution_count": 17,
     "metadata": {},
     "output_type": "execute_result"
    }
   ],
   "source": [
    "index[:4]"
   ]
  },
  {
   "cell_type": "code",
   "execution_count": null,
   "id": "22e1768f-2f8d-4f83-a632-26d6a877a3ec",
   "metadata": {},
   "outputs": [],
   "source": []
  },
  {
   "cell_type": "code",
   "execution_count": 11,
   "id": "26f2cc90-0c7a-4570-a942-a8f0b69f80bd",
   "metadata": {},
   "outputs": [
    {
     "name": "stdout",
     "output_type": "stream",
     "text": [
      "outputs/10perc-Mtree10percboxplots.png/times.csv\n",
      "outputs/table-1.html/times.csv\n",
      "outputs/Mocaptime-recall-stopcond-recall.png/times.csv\n",
      "outputs/Profiset-1M-GMMtime-recall-stopcond-recall.png/times.csv\n",
      "outputs/CoPhIR-1M-Mindex-200time-recall-stopcond-recall.png/times.csv\n",
      "outputs/.ipynb_checkpoints/times.csv\n",
      "outputs/CoPhIR-1M-GMMtime-recall-stopcond-recall.png/times.csv\n",
      "outputs/10perc-Mindex10percboxplots.png/times.csv\n",
      "outputs/Profiset-1M-Mindex-2000time-recall-stopcond-recall.png/times.csv\n",
      "outputs/table-3.html/times.csv\n",
      "outputs/Profiset-1M-Mtree-200time-recall-stopcond-recall.png/times.csv\n",
      "outputs/CoPhIR-1M-Mindex-2000time-recall-stopcond-recall.png/times.csv\n",
      "outputs/ood-MtreeOODboxplots.png/times.csv\n",
      "outputs/ood-MindexOODboxplots.png/times.csv\n",
      "outputs/Profiset-1M-Mtree-2000time-recall-stopcond-recall.png/times.csv\n",
      "outputs/Profiset-1M-Mindex-200time-recall-stopcond-recall.png/times.csv\n",
      "outputs/CoPhIR-1M-Mtree-2000time-recall-stopcond-recall.png/times.csv\n",
      "outputs/report-template.html/times.csv\n",
      "outputs/CoPhIR-1M-Mtree-200time-recall-stopcond-recall.png/times.csv\n"
     ]
    }
   ],
   "source": [
    "complete_search = []\n",
    "for l in to_load:\n",
    "    #print(np.unique(pd.read_csv(l)['query']))\n",
    "    if Path.is_file(Path(l)):\n",
    "        complete_search.append(pd.read_csv(l))\n",
    "    else:\n",
    "        print(l)"
   ]
  },
  {
   "cell_type": "code",
   "execution_count": 12,
   "id": "741ff29a-75c0-4917-b467-9c38b6ad25e9",
   "metadata": {},
   "outputs": [],
   "source": [
    "complete_search_pd = pd.concat(complete_search)"
   ]
  },
  {
   "cell_type": "code",
   "execution_count": 13,
   "id": "e820cecc-1319-4929-a3f5-6f52c7b2705b",
   "metadata": {},
   "outputs": [
    {
     "data": {
      "text/html": [
       "<div>\n",
       "<style scoped>\n",
       "    .dataframe tbody tr th:only-of-type {\n",
       "        vertical-align: middle;\n",
       "    }\n",
       "\n",
       "    .dataframe tbody tr th {\n",
       "        vertical-align: top;\n",
       "    }\n",
       "\n",
       "    .dataframe thead th {\n",
       "        text-align: right;\n",
       "    }\n",
       "</style>\n",
       "<table border=\"1\" class=\"dataframe\">\n",
       "  <thead>\n",
       "    <tr style=\"text-align: right;\">\n",
       "      <th></th>\n",
       "      <th>loading</th>\n",
       "      <th>training</th>\n",
       "      <th>execution</th>\n",
       "    </tr>\n",
       "  </thead>\n",
       "  <tbody>\n",
       "    <tr>\n",
       "      <th>0</th>\n",
       "      <td>0.006934</td>\n",
       "      <td>2773.303422</td>\n",
       "      <td>17986.760413</td>\n",
       "    </tr>\n",
       "    <tr>\n",
       "      <th>0</th>\n",
       "      <td>7.412539</td>\n",
       "      <td>9707.200397</td>\n",
       "      <td>10838.198285</td>\n",
       "    </tr>\n",
       "    <tr>\n",
       "      <th>0</th>\n",
       "      <td>0.000297</td>\n",
       "      <td>333.548865</td>\n",
       "      <td>3248.198048</td>\n",
       "    </tr>\n",
       "    <tr>\n",
       "      <th>0</th>\n",
       "      <td>2.585061</td>\n",
       "      <td>30198.850113</td>\n",
       "      <td>33394.468981</td>\n",
       "    </tr>\n",
       "    <tr>\n",
       "      <th>0</th>\n",
       "      <td>0.000191</td>\n",
       "      <td>NaN</td>\n",
       "      <td>21730.247629</td>\n",
       "    </tr>\n",
       "  </tbody>\n",
       "</table>\n",
       "</div>"
      ],
      "text/plain": [
       "    loading      training     execution\n",
       "0  0.006934   2773.303422  17986.760413\n",
       "0  7.412539   9707.200397  10838.198285\n",
       "0  0.000297    333.548865   3248.198048\n",
       "0  2.585061  30198.850113  33394.468981\n",
       "0  0.000191           NaN  21730.247629"
      ]
     },
     "execution_count": 13,
     "metadata": {},
     "output_type": "execute_result"
    }
   ],
   "source": [
    "complete_search_pd.head()"
   ]
  },
  {
   "cell_type": "code",
   "execution_count": 14,
   "id": "995bb1c8-0fc7-4974-aa35-053940f42920",
   "metadata": {},
   "outputs": [],
   "source": [
    "complete_search_pd = complete_search_pd.fillna(0)"
   ]
  },
  {
   "cell_type": "code",
   "execution_count": 20,
   "id": "44b22992-f5a0-49ca-a462-096f7d73dcfc",
   "metadata": {},
   "outputs": [],
   "source": [
    "final_time = sum(complete_search_pd['loading']) + sum(complete_search_pd[' training']) + sum(complete_search_pd[' execution'])"
   ]
  },
  {
   "cell_type": "code",
   "execution_count": 21,
   "id": "5e5c7f20-8386-4d86-8cc4-a6444eacd8fb",
   "metadata": {},
   "outputs": [
    {
     "data": {
      "text/plain": [
       "1763.3474936219056"
      ]
     },
     "execution_count": 21,
     "metadata": {},
     "output_type": "execute_result"
    }
   ],
   "source": [
    "final_time / 60 / 60"
   ]
  },
  {
   "cell_type": "code",
   "execution_count": 17,
   "id": "f1e59a2e-d66c-498f-8aeb-676753a308d3",
   "metadata": {},
   "outputs": [
    {
     "data": {
      "text/plain": [
       "Index(['loading', ' training', ' execution'], dtype='object')"
      ]
     },
     "execution_count": 17,
     "metadata": {},
     "output_type": "execute_result"
    }
   ],
   "source": [
    "complete_search_pd.columns"
   ]
  },
  {
   "cell_type": "code",
   "execution_count": 18,
   "id": "2f3211f7-c70c-41ee-9447-a857449eeec8",
   "metadata": {},
   "outputs": [
    {
     "data": {
      "text/plain": [
       "1309747.3789598942"
      ]
     },
     "execution_count": 18,
     "metadata": {},
     "output_type": "execute_result"
    }
   ],
   "source": [
    "sum(complete_search_pd[' training'])"
   ]
  },
  {
   "cell_type": "code",
   "execution_count": 19,
   "id": "15d7e61e-5427-4938-8743-2b0fa1c4bbc6",
   "metadata": {},
   "outputs": [
    {
     "data": {
      "text/plain": [
       "5000322.3265480995"
      ]
     },
     "execution_count": 19,
     "metadata": {},
     "output_type": "execute_result"
    }
   ],
   "source": [
    "sum(complete_search_pd[' execution'])"
   ]
  },
  {
   "cell_type": "code",
   "execution_count": 17,
   "id": "c485c415-7122-4aa1-a998-318c348d2a9a",
   "metadata": {},
   "outputs": [
    {
     "data": {
      "text/plain": [
       "(10000, 5)"
      ]
     },
     "execution_count": 17,
     "metadata": {},
     "output_type": "execute_result"
    }
   ],
   "source": [
    "complete_search_pd.drop_duplicates(['query', 'condition']).shape"
   ]
  },
  {
   "cell_type": "code",
   "execution_count": 16,
   "id": "f2661ad8-47b5-4eba-96af-e9fac2bb14bc",
   "metadata": {},
   "outputs": [
    {
     "data": {
      "text/plain": [
       "(21860, 5)"
      ]
     },
     "execution_count": 16,
     "metadata": {},
     "output_type": "execute_result"
    }
   ],
   "source": [
    "complete_search_pd.shape"
   ]
  },
  {
   "cell_type": "code",
   "execution_count": 18,
   "id": "de390bc6-3280-49dd-bc56-ba2296331689",
   "metadata": {},
   "outputs": [],
   "source": [
    "complete_search_pd.drop_duplicates(['query', 'condition']).to_csv('/storage/brno2/home/tslaninakova/exp/learned-indexes-repro/outputs/Profiset-1M-Mtree-200-LR---2022-05-18--09-26-37/search.csv', index=None)"
   ]
  },
  {
   "cell_type": "code",
   "execution_count": 19,
   "id": "e13436a0-6949-41ad-80ca-b35e16e9fcb4",
   "metadata": {},
   "outputs": [],
   "source": [
    "from lmi.Experiment import generate_summary"
   ]
  },
  {
   "cell_type": "code",
   "execution_count": 20,
   "id": "5b965738-7da0-4201-8707-f5c30b383076",
   "metadata": {},
   "outputs": [],
   "source": [
    "generate_summary('outputs/Profiset-1M-Mtree-200-LR---2022-05-18--09-26-37')"
   ]
  },
  {
   "cell_type": "code",
   "execution_count": 45,
   "id": "b6939e0e-6436-4c9f-ba54-f6ed32c763d0",
   "metadata": {},
   "outputs": [],
   "source": [
    "import pickle\n",
    "with open('lr-found.pkl', 'wb') as f:\n",
    "    pickle.dump(index, f)"
   ]
  },
  {
   "cell_type": "code",
   "execution_count": 37,
   "id": "e496cb13-dd58-43cd-93d4-a88eca640452",
   "metadata": {},
   "outputs": [],
   "source": [
    "rest = [q for q in qs.index.tolist() if q not in index]"
   ]
  },
  {
   "cell_type": "code",
   "execution_count": 39,
   "id": "3fe91177-6fa1-49e7-b419-273f6c86d29f",
   "metadata": {},
   "outputs": [
    {
     "data": {
      "text/plain": [
       "236"
      ]
     },
     "execution_count": 39,
     "metadata": {},
     "output_type": "execute_result"
    }
   ],
   "source": [
    "len(rest)"
   ]
  },
  {
   "cell_type": "code",
   "execution_count": 42,
   "id": "094b6e62-5e9e-4c64-b6b8-4b3871ef847e",
   "metadata": {},
   "outputs": [
    {
     "data": {
      "text/html": [
       "<div>\n",
       "<style scoped>\n",
       "    .dataframe tbody tr th:only-of-type {\n",
       "        vertical-align: middle;\n",
       "    }\n",
       "\n",
       "    .dataframe tbody tr th {\n",
       "        vertical-align: top;\n",
       "    }\n",
       "\n",
       "    .dataframe thead th {\n",
       "        text-align: right;\n",
       "    }\n",
       "</style>\n",
       "<table border=\"1\" class=\"dataframe\">\n",
       "  <thead>\n",
       "    <tr style=\"text-align: right;\">\n",
       "      <th></th>\n",
       "    </tr>\n",
       "  </thead>\n",
       "  <tbody>\n",
       "    <tr>\n",
       "      <th>21657</th>\n",
       "    </tr>\n",
       "    <tr>\n",
       "      <th>22066</th>\n",
       "    </tr>\n",
       "    <tr>\n",
       "      <th>22342</th>\n",
       "    </tr>\n",
       "    <tr>\n",
       "      <th>22546</th>\n",
       "    </tr>\n",
       "    <tr>\n",
       "      <th>22979</th>\n",
       "    </tr>\n",
       "    <tr>\n",
       "      <th>...</th>\n",
       "    </tr>\n",
       "    <tr>\n",
       "      <th>97278</th>\n",
       "    </tr>\n",
       "    <tr>\n",
       "      <th>97424</th>\n",
       "    </tr>\n",
       "    <tr>\n",
       "      <th>97537</th>\n",
       "    </tr>\n",
       "    <tr>\n",
       "      <th>98420</th>\n",
       "    </tr>\n",
       "    <tr>\n",
       "      <th>98709</th>\n",
       "    </tr>\n",
       "  </tbody>\n",
       "</table>\n",
       "<p>236 rows × 0 columns</p>\n",
       "</div>"
      ],
      "text/plain": [
       "Empty DataFrame\n",
       "Columns: []\n",
       "Index: [21657, 22066, 22342, 22546, 22979, 23244, 23406, 24073, 24344, 24388, 24858, 25154, 25738, 25978, 26383, 26604, 26841, 27132, 27370, 27773, 28045, 28384, 28840, 29297, 29439, 29737, 29968, 30460, 30471, 30947, 31112, 31244, 31579, 31924, 32124, 32267, 32581, 32732, 32858, 33142, 33438, 33487, 33688, 34092, 34555, 34784, 34908, 35155, 35650, 35783, 36043, 36251, 36675, 36734, 37170, 37333, 37625, 38016, 38365, 38429, 38639, 38992, 39351, 39454, 39832, 40335, 40579, 41081, 41518, 41714, 41969, 42292, 42563, 42832, 43042, 43294, 43664, 43851, 44307, 44435, 44718, 45059, 45343, 45491, 45724, 46076, 46491, 46859, 47165, 47407, 47933, 48220, 48497, 48774, 49050, 49710, 50609, 50879, 51248, 51498, ...]\n",
       "\n",
       "[236 rows x 0 columns]"
      ]
     },
     "execution_count": 42,
     "metadata": {},
     "output_type": "execute_result"
    }
   ],
   "source": [
    "pd.DataFrame(index=pd.Index(rest))"
   ]
  },
  {
   "cell_type": "code",
   "execution_count": 32,
   "id": "13c61fde-5642-4bed-9a03-823bf317c1cd",
   "metadata": {},
   "outputs": [
    {
     "data": {
      "text/html": [
       "<div>\n",
       "<style scoped>\n",
       "    .dataframe tbody tr th:only-of-type {\n",
       "        vertical-align: middle;\n",
       "    }\n",
       "\n",
       "    .dataframe tbody tr th {\n",
       "        vertical-align: top;\n",
       "    }\n",
       "\n",
       "    .dataframe thead th {\n",
       "        text-align: right;\n",
       "    }\n",
       "</style>\n",
       "<table border=\"1\" class=\"dataframe\">\n",
       "  <thead>\n",
       "    <tr style=\"text-align: right;\">\n",
       "      <th></th>\n",
       "    </tr>\n",
       "  </thead>\n",
       "  <tbody>\n",
       "    <tr>\n",
       "      <th>112</th>\n",
       "    </tr>\n",
       "    <tr>\n",
       "      <th>168</th>\n",
       "    </tr>\n",
       "    <tr>\n",
       "      <th>260</th>\n",
       "    </tr>\n",
       "    <tr>\n",
       "      <th>388</th>\n",
       "    </tr>\n",
       "    <tr>\n",
       "      <th>578</th>\n",
       "    </tr>\n",
       "    <tr>\n",
       "      <th>...</th>\n",
       "    </tr>\n",
       "    <tr>\n",
       "      <th>700460</th>\n",
       "    </tr>\n",
       "    <tr>\n",
       "      <th>700556</th>\n",
       "    </tr>\n",
       "    <tr>\n",
       "      <th>700677</th>\n",
       "    </tr>\n",
       "    <tr>\n",
       "      <th>700776</th>\n",
       "    </tr>\n",
       "    <tr>\n",
       "      <th>700868</th>\n",
       "    </tr>\n",
       "  </tbody>\n",
       "</table>\n",
       "<p>1000 rows × 0 columns</p>\n",
       "</div>"
      ],
      "text/plain": [
       "Empty DataFrame\n",
       "Columns: []\n",
       "Index: [112, 168, 260, 388, 578, 632, 733, 875, 980, 1357, 1489, 1926, 1990, 2392, 2787, 3075, 3281, 3511, 4059, 4784, 5678, 6034, 6310, 7023, 7059, 8163, 8730, 8954, 9623, 10621, 10673, 11178, 11615, 11972, 12132, 12498, 12794, 13312, 13325, 13722, 14263, 14516, 14785, 15245, 15748, 16150, 16457, 16595, 16955, 17187, 17259, 17783, 18100, 18383, 18544, 18977, 19229, 19305, 19929, 20182, 20355, 21022, 21209, 21290, 21657, 22066, 22342, 22546, 22979, 23244, 23406, 24073, 24344, 24388, 24858, 25154, 25738, 25978, 26383, 26604, 26841, 27132, 27370, 27773, 28045, 28384, 28840, 29297, 29439, 29737, 29968, 30460, 30471, 30947, 31112, 31244, 31579, 31924, 32124, 32267, ...]\n",
       "\n",
       "[1000 rows x 0 columns]"
      ]
     },
     "execution_count": 32,
     "metadata": {},
     "output_type": "execute_result"
    }
   ],
   "source": [
    "qs"
   ]
  },
  {
   "cell_type": "code",
   "execution_count": 14,
   "id": "acb7f006-a50a-450b-9822-6f497a54de0f",
   "metadata": {},
   "outputs": [
    {
     "data": {
      "text/html": [
       "<div>\n",
       "<style scoped>\n",
       "    .dataframe tbody tr th:only-of-type {\n",
       "        vertical-align: middle;\n",
       "    }\n",
       "\n",
       "    .dataframe tbody tr th {\n",
       "        vertical-align: top;\n",
       "    }\n",
       "\n",
       "    .dataframe thead th {\n",
       "        text-align: right;\n",
       "    }\n",
       "</style>\n",
       "<table border=\"1\" class=\"dataframe\">\n",
       "  <thead>\n",
       "    <tr style=\"text-align: right;\">\n",
       "      <th></th>\n",
       "    </tr>\n",
       "  </thead>\n",
       "  <tbody>\n",
       "    <tr>\n",
       "      <th>296166</th>\n",
       "    </tr>\n",
       "    <tr>\n",
       "      <th>551155</th>\n",
       "    </tr>\n",
       "    <tr>\n",
       "      <th>557192</th>\n",
       "    </tr>\n",
       "    <tr>\n",
       "      <th>565691</th>\n",
       "    </tr>\n",
       "    <tr>\n",
       "      <th>597668</th>\n",
       "    </tr>\n",
       "    <tr>\n",
       "      <th>...</th>\n",
       "    </tr>\n",
       "    <tr>\n",
       "      <th>101605044</th>\n",
       "    </tr>\n",
       "    <tr>\n",
       "      <th>101658970</th>\n",
       "    </tr>\n",
       "    <tr>\n",
       "      <th>101683448</th>\n",
       "    </tr>\n",
       "    <tr>\n",
       "      <th>101746868</th>\n",
       "    </tr>\n",
       "    <tr>\n",
       "      <th>101750312</th>\n",
       "    </tr>\n",
       "  </tbody>\n",
       "</table>\n",
       "<p>1000 rows × 0 columns</p>\n",
       "</div>"
      ],
      "text/plain": [
       "Empty DataFrame\n",
       "Columns: []\n",
       "Index: [296166, 551155, 557192, 565691, 597668, 887357, 930954, 1158847, 1172868, 1265894, 1323044, 1379373, 1517787, 1535290, 1581510, 1595410, 1840753, 2004218, 2143640, 2179762, 2213470, 2392492, 2456619, 2627682, 2674404, 2690302, 2717174, 2792725, 2815824, 2817218, 2944461, 2976471, 3053766, 3067822, 3087254, 3146151, 3250951, 3348174, 3690717, 3762954, 3765557, 3765963, 3767343, 3932387, 3939514, 4031181, 4075700, 4094273, 4094445, 4118896, 4185154, 4266689, 4461940, 4532646, 4557582, 4617146, 4727231, 4780310, 4848531, 4870504, 4981443, 5159303, 5311845, 5351359, 5485559, 5490978, 5503869, 5506989, 5541816, 5600065, 5777705, 5807091, 5816610, 5839151, 5878531, 5970950, 6030044, 6282374, 6413648, 6672449, 6867646, 6973107, 7068473, 7268910, 7494369, 7680300, 7699704, 7819993, 7938137, 8002815, 8060889, 8149760, 8398739, 8399374, 8400096, 8474193, 8474194, 8521546, 8725335, 8774955, ...]\n",
       "\n",
       "[1000 rows x 0 columns]"
      ]
     },
     "execution_count": 14,
     "metadata": {},
     "output_type": "execute_result"
    }
   ],
   "source": [
    "qs[qs == 358818334]"
   ]
  },
  {
   "cell_type": "code",
   "execution_count": 28,
   "id": "813dcf49-f22d-45bb-8402-e93e6db724dc",
   "metadata": {},
   "outputs": [
    {
     "data": {
      "text/plain": [
       "599"
      ]
     },
     "execution_count": 28,
     "metadata": {},
     "output_type": "execute_result"
    }
   ],
   "source": [
    "qs.index.tolist().index(358818334)"
   ]
  },
  {
   "cell_type": "code",
   "execution_count": 27,
   "id": "0b079a53-dd4b-4d9f-96d4-3355d7bc5ff6",
   "metadata": {},
   "outputs": [
    {
     "data": {
      "text/plain": [
       "0     -1.291154\n",
       "1     -0.259240\n",
       "2      0.100218\n",
       "3     -1.451330\n",
       "4     -0.005996\n",
       "         ...   \n",
       "277    0.163802\n",
       "278    0.204455\n",
       "279    0.203442\n",
       "280   -1.516042\n",
       "281   -1.211632\n",
       "Name: 358818334, Length: 282, dtype: float64"
      ]
     },
     "execution_count": 27,
     "metadata": {},
     "output_type": "execute_result"
    }
   ],
   "source": [
    "qs.loc[358818334, :]"
   ]
  },
  {
   "cell_type": "code",
   "execution_count": 5,
   "id": "46dde334-acd4-4948-b693-a70f373c0abe",
   "metadata": {},
   "outputs": [],
   "source": [
    "labels = loader.load_labels()"
   ]
  },
  {
   "cell_type": "code",
   "execution_count": 6,
   "id": "29c6abf9-74cd-46f6-b500-902e03810400",
   "metadata": {},
   "outputs": [
    {
     "name": "stderr",
     "output_type": "stream",
     "text": [
      "[2022-05-22 08:32:29,303][INFO ][lmi.data.DataLoader] Loading CoPhIR dataset from /storage/brno12-cerit/home/tslaninakova/data/datasets/CoPhIR1M-descriptors.csv.\n"
     ]
    }
   ],
   "source": [
    "df = loader.load_descriptors()"
   ]
  },
  {
   "cell_type": "code",
   "execution_count": 7,
   "id": "48d6d67f-8b6b-4e54-9be6-b8873c720d59",
   "metadata": {},
   "outputs": [
    {
     "data": {
      "text/html": [
       "<div>\n",
       "<style scoped>\n",
       "    .dataframe tbody tr th:only-of-type {\n",
       "        vertical-align: middle;\n",
       "    }\n",
       "\n",
       "    .dataframe tbody tr th {\n",
       "        vertical-align: top;\n",
       "    }\n",
       "\n",
       "    .dataframe thead th {\n",
       "        text-align: right;\n",
       "    }\n",
       "</style>\n",
       "<table border=\"1\" class=\"dataframe\">\n",
       "  <thead>\n",
       "    <tr style=\"text-align: right;\">\n",
       "      <th></th>\n",
       "      <th>L1_labels</th>\n",
       "      <th>L2_labels</th>\n",
       "      <th>L3_labels</th>\n",
       "      <th>L4_labels</th>\n",
       "      <th>L5_labels</th>\n",
       "      <th>L6_labels</th>\n",
       "    </tr>\n",
       "    <tr>\n",
       "      <th>object_id</th>\n",
       "      <th></th>\n",
       "      <th></th>\n",
       "      <th></th>\n",
       "      <th></th>\n",
       "      <th></th>\n",
       "      <th></th>\n",
       "    </tr>\n",
       "  </thead>\n",
       "  <tbody>\n",
       "    <tr>\n",
       "      <th>337981</th>\n",
       "      <td>[56, 56, 56, 61, 20, 56, 68, 104, 56, 20, 61, ...</td>\n",
       "      <td>[24, 8, 8, 17, 31, 56, 53, 17, 56, 60, 17, 8, ...</td>\n",
       "      <td>[150, 16, 16, 6, 150, 150, 150, 150, 150, 150,...</td>\n",
       "      <td>[150, 150, 150, 150, 150, 150, 150, 150, 150, ...</td>\n",
       "      <td>[150, 150, 150, 150, 150, 150, 150, 150, 150, ...</td>\n",
       "      <td>[150, 150, 150, 150, 150, 150, 150, 150, 150, ...</td>\n",
       "    </tr>\n",
       "    <tr>\n",
       "      <th>549406</th>\n",
       "      <td>[17, 111, 111, 90, 17, 111, 26, 17, 90, 17, 26...</td>\n",
       "      <td>[17, 5, 17, 16, 57, 43, 36, 33, 16, 57, 51, 43...</td>\n",
       "      <td>[150, 7, 150, 150, 150, 150, 40, 150, 150, 150...</td>\n",
       "      <td>[150, 150, 150, 150, 150, 150, 150, 150, 150, ...</td>\n",
       "      <td>[150, 150, 150, 150, 150, 150, 150, 150, 150, ...</td>\n",
       "      <td>[150, 150, 150, 150, 150, 150, 150, 150, 150, ...</td>\n",
       "    </tr>\n",
       "    <tr>\n",
       "      <th>509874</th>\n",
       "      <td>[26, 72, 26, 63, 63, 63, 63, 26, 63, 90, 26, 2...</td>\n",
       "      <td>[42, 36, 64, 8, 16, 16, 75, 51, 45, 48, 36, 64...</td>\n",
       "      <td>[150, 150, 2, 150, 3, 55, 150, 150, 150, 150, ...</td>\n",
       "      <td>[150, 150, 150, 150, 150, 150, 150, 150, 150, ...</td>\n",
       "      <td>[150, 150, 150, 150, 150, 150, 150, 150, 150, ...</td>\n",
       "      <td>[150, 150, 150, 150, 150, 150, 150, 150, 150, ...</td>\n",
       "    </tr>\n",
       "    <tr>\n",
       "      <th>589159</th>\n",
       "      <td>[77, 77, 77, 77, 77, 77, 77, 77, 77, 77, 77, 7...</td>\n",
       "      <td>[8, 8, 8, 8, 8, 8, 8, 8, 8, 8, 8, 8, 8, 40, 8,...</td>\n",
       "      <td>[10, 10, 27, 44, 10, 34, 10, 44, 44, 10, 44, 1...</td>\n",
       "      <td>[150, 150, 150, 18, 150, 150, 150, 18, 22, 150...</td>\n",
       "      <td>[150, 150, 150, 150, 150, 150, 150, 150, 150, ...</td>\n",
       "      <td>[150, 150, 150, 150, 150, 150, 150, 150, 150, ...</td>\n",
       "    </tr>\n",
       "    <tr>\n",
       "      <th>421785</th>\n",
       "      <td>[77, 61, 108, 108, 17, 77, 90, 77, 108, 108, 1...</td>\n",
       "      <td>[58, 51, 71, 71, 45, 43, 87, 8, 71, 71, 71, 71...</td>\n",
       "      <td>[150, 150, 150, 150, 150, 150, 150, 36, 150, 1...</td>\n",
       "      <td>[150, 150, 150, 150, 150, 150, 150, 150, 150, ...</td>\n",
       "      <td>[150, 150, 150, 150, 150, 150, 150, 150, 150, ...</td>\n",
       "      <td>[150, 150, 150, 150, 150, 150, 150, 150, 150, ...</td>\n",
       "    </tr>\n",
       "  </tbody>\n",
       "</table>\n",
       "</div>"
      ],
      "text/plain": [
       "                                                   L1_labels  \\\n",
       "object_id                                                      \n",
       "337981     [56, 56, 56, 61, 20, 56, 68, 104, 56, 20, 61, ...   \n",
       "549406     [17, 111, 111, 90, 17, 111, 26, 17, 90, 17, 26...   \n",
       "509874     [26, 72, 26, 63, 63, 63, 63, 26, 63, 90, 26, 2...   \n",
       "589159     [77, 77, 77, 77, 77, 77, 77, 77, 77, 77, 77, 7...   \n",
       "421785     [77, 61, 108, 108, 17, 77, 90, 77, 108, 108, 1...   \n",
       "\n",
       "                                                   L2_labels  \\\n",
       "object_id                                                      \n",
       "337981     [24, 8, 8, 17, 31, 56, 53, 17, 56, 60, 17, 8, ...   \n",
       "549406     [17, 5, 17, 16, 57, 43, 36, 33, 16, 57, 51, 43...   \n",
       "509874     [42, 36, 64, 8, 16, 16, 75, 51, 45, 48, 36, 64...   \n",
       "589159     [8, 8, 8, 8, 8, 8, 8, 8, 8, 8, 8, 8, 8, 40, 8,...   \n",
       "421785     [58, 51, 71, 71, 45, 43, 87, 8, 71, 71, 71, 71...   \n",
       "\n",
       "                                                   L3_labels  \\\n",
       "object_id                                                      \n",
       "337981     [150, 16, 16, 6, 150, 150, 150, 150, 150, 150,...   \n",
       "549406     [150, 7, 150, 150, 150, 150, 40, 150, 150, 150...   \n",
       "509874     [150, 150, 2, 150, 3, 55, 150, 150, 150, 150, ...   \n",
       "589159     [10, 10, 27, 44, 10, 34, 10, 44, 44, 10, 44, 1...   \n",
       "421785     [150, 150, 150, 150, 150, 150, 150, 36, 150, 1...   \n",
       "\n",
       "                                                   L4_labels  \\\n",
       "object_id                                                      \n",
       "337981     [150, 150, 150, 150, 150, 150, 150, 150, 150, ...   \n",
       "549406     [150, 150, 150, 150, 150, 150, 150, 150, 150, ...   \n",
       "509874     [150, 150, 150, 150, 150, 150, 150, 150, 150, ...   \n",
       "589159     [150, 150, 150, 18, 150, 150, 150, 18, 22, 150...   \n",
       "421785     [150, 150, 150, 150, 150, 150, 150, 150, 150, ...   \n",
       "\n",
       "                                                   L5_labels  \\\n",
       "object_id                                                      \n",
       "337981     [150, 150, 150, 150, 150, 150, 150, 150, 150, ...   \n",
       "549406     [150, 150, 150, 150, 150, 150, 150, 150, 150, ...   \n",
       "509874     [150, 150, 150, 150, 150, 150, 150, 150, 150, ...   \n",
       "589159     [150, 150, 150, 150, 150, 150, 150, 150, 150, ...   \n",
       "421785     [150, 150, 150, 150, 150, 150, 150, 150, 150, ...   \n",
       "\n",
       "                                                   L6_labels  \n",
       "object_id                                                     \n",
       "337981     [150, 150, 150, 150, 150, 150, 150, 150, 150, ...  \n",
       "549406     [150, 150, 150, 150, 150, 150, 150, 150, 150, ...  \n",
       "509874     [150, 150, 150, 150, 150, 150, 150, 150, 150, ...  \n",
       "589159     [150, 150, 150, 150, 150, 150, 150, 150, 150, ...  \n",
       "421785     [150, 150, 150, 150, 150, 150, 150, 150, 150, ...  "
      ]
     },
     "execution_count": 7,
     "metadata": {},
     "output_type": "execute_result"
    }
   ],
   "source": [
    "labels.head()"
   ]
  },
  {
   "cell_type": "code",
   "execution_count": 18,
   "id": "e1deb10f-43e6-4c7f-8a1d-d26033595804",
   "metadata": {},
   "outputs": [],
   "source": [
    "index = LMI(config['LMI'], df[1][:10_000], labels[:10_000])\n",
    "model_config = load_model_config(config['LMI']['model-config'], index.n_levels)"
   ]
  },
  {
   "cell_type": "code",
   "execution_count": 9,
   "id": "59ae3d08-689e-4db2-b5e3-6b51aafc595a",
   "metadata": {},
   "outputs": [
    {
     "data": {
      "text/plain": [
       "['L1_labels', 'L2_labels', 'L3_labels', 'L4_labels', 'L5_labels', 'L6_labels']"
      ]
     },
     "execution_count": 9,
     "metadata": {},
     "output_type": "execute_result"
    }
   ],
   "source": [
    "index.labels"
   ]
  },
  {
   "cell_type": "code",
   "execution_count": 14,
   "id": "2f543ce6-72d5-440e-a292-b7016266662a",
   "metadata": {},
   "outputs": [
    {
     "data": {
      "text/html": [
       "<div>\n",
       "<style scoped>\n",
       "    .dataframe tbody tr th:only-of-type {\n",
       "        vertical-align: middle;\n",
       "    }\n",
       "\n",
       "    .dataframe tbody tr th {\n",
       "        vertical-align: top;\n",
       "    }\n",
       "\n",
       "    .dataframe thead th {\n",
       "        text-align: right;\n",
       "    }\n",
       "</style>\n",
       "<table border=\"1\" class=\"dataframe\">\n",
       "  <thead>\n",
       "    <tr style=\"text-align: right;\">\n",
       "      <th></th>\n",
       "      <th>L1_labels</th>\n",
       "      <th>L2_labels</th>\n",
       "      <th>L3_labels</th>\n",
       "      <th>L4_labels</th>\n",
       "      <th>L5_labels</th>\n",
       "      <th>L6_labels</th>\n",
       "    </tr>\n",
       "    <tr>\n",
       "      <th>object_id</th>\n",
       "      <th></th>\n",
       "      <th></th>\n",
       "      <th></th>\n",
       "      <th></th>\n",
       "      <th></th>\n",
       "      <th></th>\n",
       "    </tr>\n",
       "  </thead>\n",
       "  <tbody>\n",
       "    <tr>\n",
       "      <th>337981</th>\n",
       "      <td>[56, 56, 56, 61, 20, 56, 68, 104, 56, 20, 61, ...</td>\n",
       "      <td>[24, 8, 8, 17, 31, 56, 53, 17, 56, 60, 17, 8, ...</td>\n",
       "      <td>[150, 16, 16, 6, 150, 150, 150, 150, 150, 150,...</td>\n",
       "      <td>[150, 150, 150, 150, 150, 150, 150, 150, 150, ...</td>\n",
       "      <td>[150, 150, 150, 150, 150, 150, 150, 150, 150, ...</td>\n",
       "      <td>[150, 150, 150, 150, 150, 150, 150, 150, 150, ...</td>\n",
       "    </tr>\n",
       "    <tr>\n",
       "      <th>549406</th>\n",
       "      <td>[17, 111, 111, 90, 17, 111, 26, 17, 90, 17, 26...</td>\n",
       "      <td>[17, 5, 17, 16, 57, 43, 36, 33, 16, 57, 51, 43...</td>\n",
       "      <td>[150, 7, 150, 150, 150, 150, 40, 150, 150, 150...</td>\n",
       "      <td>[150, 150, 150, 150, 150, 150, 150, 150, 150, ...</td>\n",
       "      <td>[150, 150, 150, 150, 150, 150, 150, 150, 150, ...</td>\n",
       "      <td>[150, 150, 150, 150, 150, 150, 150, 150, 150, ...</td>\n",
       "    </tr>\n",
       "    <tr>\n",
       "      <th>509874</th>\n",
       "      <td>[26, 72, 26, 63, 63, 63, 63, 26, 63, 90, 26, 2...</td>\n",
       "      <td>[42, 36, 64, 8, 16, 16, 75, 51, 45, 48, 36, 64...</td>\n",
       "      <td>[150, 150, 2, 150, 3, 55, 150, 150, 150, 150, ...</td>\n",
       "      <td>[150, 150, 150, 150, 150, 150, 150, 150, 150, ...</td>\n",
       "      <td>[150, 150, 150, 150, 150, 150, 150, 150, 150, ...</td>\n",
       "      <td>[150, 150, 150, 150, 150, 150, 150, 150, 150, ...</td>\n",
       "    </tr>\n",
       "    <tr>\n",
       "      <th>589159</th>\n",
       "      <td>[77, 77, 77, 77, 77, 77, 77, 77, 77, 77, 77, 7...</td>\n",
       "      <td>[8, 8, 8, 8, 8, 8, 8, 8, 8, 8, 8, 8, 8, 40, 8,...</td>\n",
       "      <td>[10, 10, 27, 44, 10, 34, 10, 44, 44, 10, 44, 1...</td>\n",
       "      <td>[150, 150, 150, 18, 150, 150, 150, 18, 22, 150...</td>\n",
       "      <td>[150, 150, 150, 150, 150, 150, 150, 150, 150, ...</td>\n",
       "      <td>[150, 150, 150, 150, 150, 150, 150, 150, 150, ...</td>\n",
       "    </tr>\n",
       "    <tr>\n",
       "      <th>421785</th>\n",
       "      <td>[77, 61, 108, 108, 17, 77, 90, 77, 108, 108, 1...</td>\n",
       "      <td>[58, 51, 71, 71, 45, 43, 87, 8, 71, 71, 71, 71...</td>\n",
       "      <td>[150, 150, 150, 150, 150, 150, 150, 36, 150, 1...</td>\n",
       "      <td>[150, 150, 150, 150, 150, 150, 150, 150, 150, ...</td>\n",
       "      <td>[150, 150, 150, 150, 150, 150, 150, 150, 150, ...</td>\n",
       "      <td>[150, 150, 150, 150, 150, 150, 150, 150, 150, ...</td>\n",
       "    </tr>\n",
       "  </tbody>\n",
       "</table>\n",
       "</div>"
      ],
      "text/plain": [
       "                                                   L1_labels  \\\n",
       "object_id                                                      \n",
       "337981     [56, 56, 56, 61, 20, 56, 68, 104, 56, 20, 61, ...   \n",
       "549406     [17, 111, 111, 90, 17, 111, 26, 17, 90, 17, 26...   \n",
       "509874     [26, 72, 26, 63, 63, 63, 63, 26, 63, 90, 26, 2...   \n",
       "589159     [77, 77, 77, 77, 77, 77, 77, 77, 77, 77, 77, 7...   \n",
       "421785     [77, 61, 108, 108, 17, 77, 90, 77, 108, 108, 1...   \n",
       "\n",
       "                                                   L2_labels  \\\n",
       "object_id                                                      \n",
       "337981     [24, 8, 8, 17, 31, 56, 53, 17, 56, 60, 17, 8, ...   \n",
       "549406     [17, 5, 17, 16, 57, 43, 36, 33, 16, 57, 51, 43...   \n",
       "509874     [42, 36, 64, 8, 16, 16, 75, 51, 45, 48, 36, 64...   \n",
       "589159     [8, 8, 8, 8, 8, 8, 8, 8, 8, 8, 8, 8, 8, 40, 8,...   \n",
       "421785     [58, 51, 71, 71, 45, 43, 87, 8, 71, 71, 71, 71...   \n",
       "\n",
       "                                                   L3_labels  \\\n",
       "object_id                                                      \n",
       "337981     [150, 16, 16, 6, 150, 150, 150, 150, 150, 150,...   \n",
       "549406     [150, 7, 150, 150, 150, 150, 40, 150, 150, 150...   \n",
       "509874     [150, 150, 2, 150, 3, 55, 150, 150, 150, 150, ...   \n",
       "589159     [10, 10, 27, 44, 10, 34, 10, 44, 44, 10, 44, 1...   \n",
       "421785     [150, 150, 150, 150, 150, 150, 150, 36, 150, 1...   \n",
       "\n",
       "                                                   L4_labels  \\\n",
       "object_id                                                      \n",
       "337981     [150, 150, 150, 150, 150, 150, 150, 150, 150, ...   \n",
       "549406     [150, 150, 150, 150, 150, 150, 150, 150, 150, ...   \n",
       "509874     [150, 150, 150, 150, 150, 150, 150, 150, 150, ...   \n",
       "589159     [150, 150, 150, 18, 150, 150, 150, 18, 22, 150...   \n",
       "421785     [150, 150, 150, 150, 150, 150, 150, 150, 150, ...   \n",
       "\n",
       "                                                   L5_labels  \\\n",
       "object_id                                                      \n",
       "337981     [150, 150, 150, 150, 150, 150, 150, 150, 150, ...   \n",
       "549406     [150, 150, 150, 150, 150, 150, 150, 150, 150, ...   \n",
       "509874     [150, 150, 150, 150, 150, 150, 150, 150, 150, ...   \n",
       "589159     [150, 150, 150, 150, 150, 150, 150, 150, 150, ...   \n",
       "421785     [150, 150, 150, 150, 150, 150, 150, 150, 150, ...   \n",
       "\n",
       "                                                   L6_labels  \n",
       "object_id                                                     \n",
       "337981     [150, 150, 150, 150, 150, 150, 150, 150, 150, ...  \n",
       "549406     [150, 150, 150, 150, 150, 150, 150, 150, 150, ...  \n",
       "509874     [150, 150, 150, 150, 150, 150, 150, 150, 150, ...  \n",
       "589159     [150, 150, 150, 150, 150, 150, 150, 150, 150, ...  \n",
       "421785     [150, 150, 150, 150, 150, 150, 150, 150, 150, ...  "
      ]
     },
     "execution_count": 14,
     "metadata": {},
     "output_type": "execute_result"
    }
   ],
   "source": [
    "labels[:10].head()"
   ]
  },
  {
   "cell_type": "code",
   "execution_count": null,
   "id": "1c9fae14-1ac2-4827-8ba8-04cf877d6b66",
   "metadata": {},
   "outputs": [
    {
     "name": "stderr",
     "output_type": "stream",
     "text": [
      "[2022-05-22 08:41:57,582][INFO ][lmi.indexes.BaseInde] Training model M.0 (root) on dataset(10000, 282) with {'model': 'MultilabelNN', 'epochs': 20, 'learning_rate': 0.0001, 'optimizer': 'adam', 'loss': 'categorical_crossentropy', 'hidden_layers': {'dense': [{'units': 282, 'activation': 'relu', 'dropout': None}, {'units': 1024, 'activation': 'relu', 'dropout': None}, {'units': 256, 'activation': 'relu', 'dropout': None}]}}.\n",
      "[2022-05-22 08:43:19,061][INFO ][lmi.indexes.BaseInde] Training level 1 with {'model': 'MultilabelNN', 'epochs': 5, 'learning_rate': 0.0001, 'optimizer': 'adam', 'loss': 'categorical_crossentropy', 'hidden_layers': {'dense': [{'units': 282, 'activation': 'relu', 'dropout': None}, {'units': 1024, 'activation': 'relu', 'dropout': None}, {'units': 256, 'activation': 'relu', 'dropout': None}]}}.\n",
      "[2022-05-22 08:44:46,078][INFO ][lmi.indexes.BaseInde] Training level 2 with {'model': 'MultilabelNN', 'epochs': 5, 'learning_rate': 0.0001, 'optimizer': 'adam', 'loss': 'categorical_crossentropy', 'hidden_layers': {'dense': [{'units': 282, 'activation': 'relu', 'dropout': None}, {'units': 1024, 'activation': 'relu', 'dropout': None}, {'units': 256, 'activation': 'relu', 'dropout': None}]}}.\n",
      "[2022-05-22 08:47:03,791][INFO ][lmi.indexes.BaseInde] Training level 3 with {'model': 'MultilabelNN', 'epochs': 5, 'learning_rate': 0.0001, 'optimizer': 'adam', 'loss': 'categorical_crossentropy', 'hidden_layers': {'dense': [{'units': 282, 'activation': 'relu', 'dropout': None}, {'units': 1024, 'activation': 'relu', 'dropout': None}, {'units': 256, 'activation': 'relu', 'dropout': None}]}}.\n",
      "[2022-05-22 08:50:33,029][INFO ][lmi.indexes.BaseInde] Training level 4 with {'model': 'MultilabelNN', 'epochs': 5, 'learning_rate': 0.0001, 'optimizer': 'adam', 'loss': 'categorical_crossentropy', 'hidden_layers': {'dense': [{'units': 282, 'activation': 'relu', 'dropout': None}, {'units': 1024, 'activation': 'relu', 'dropout': None}, {'units': 256, 'activation': 'relu', 'dropout': None}]}}.\n"
     ]
    }
   ],
   "source": [
    "index.train(model_config)"
   ]
  },
  {
   "cell_type": "code",
   "execution_count": null,
   "id": "3c6a8fed-a87b-4ba9-90e5-85535fd726d3",
   "metadata": {},
   "outputs": [],
   "source": [
    "df_tiny.index.name='object-id'"
   ]
  },
  {
   "cell_type": "code",
   "execution_count": null,
   "id": "6bd17096-5a6e-4dca-9876-6076f826f5c6",
   "metadata": {},
   "outputs": [],
   "source": [
    "df_tiny.head(10).to_csv('test-data/CoPhIR-top.csv')"
   ]
  },
  {
   "cell_type": "code",
   "execution_count": 138,
   "id": "a885ae25-6655-4bf6-86f7-eb1fa3112074",
   "metadata": {},
   "outputs": [],
   "source": [
    "import pandas as pd\n",
    "df = pd.read_csv(f\"test-data/{config_file.split('/')[-1].split('.')[0]}.csv\", index_col='object-id')"
   ]
  },
  {
   "cell_type": "code",
   "execution_count": 136,
   "id": "b55a4572-5bc5-4620-a0c4-5265853fa9b5",
   "metadata": {},
   "outputs": [],
   "source": [
    "df[~df.duplicated()].to_csv(f\"test-data/{config_file.split('/')[-1].split('.')[0]}.csv\")"
   ]
  },
  {
   "cell_type": "code",
   "execution_count": 123,
   "id": "896b94f1-8522-4e5e-8e78-776599dfc722",
   "metadata": {},
   "outputs": [
    {
     "data": {
      "text/plain": [
       "'test-data/CoPhIR-1M-Mtree-200-Mtree.csv'"
      ]
     },
     "execution_count": 123,
     "metadata": {},
     "output_type": "execute_result"
    }
   ],
   "source": [
    "f\"test-data/{config_file.split('/')[-1].split('.')[0]}.csv\""
   ]
  },
  {
   "cell_type": "code",
   "execution_count": 139,
   "id": "3cf0f8c1-756a-4644-afaa-e5e3c0223a92",
   "metadata": {},
   "outputs": [
    {
     "data": {
      "text/html": [
       "<div>\n",
       "<style scoped>\n",
       "    .dataframe tbody tr th:only-of-type {\n",
       "        vertical-align: middle;\n",
       "    }\n",
       "\n",
       "    .dataframe tbody tr th {\n",
       "        vertical-align: top;\n",
       "    }\n",
       "\n",
       "    .dataframe thead th {\n",
       "        text-align: right;\n",
       "    }\n",
       "</style>\n",
       "<table border=\"1\" class=\"dataframe\">\n",
       "  <thead>\n",
       "    <tr style=\"text-align: right;\">\n",
       "      <th></th>\n",
       "      <th>0</th>\n",
       "      <th>1</th>\n",
       "      <th>2</th>\n",
       "      <th>3</th>\n",
       "      <th>4</th>\n",
       "      <th>5</th>\n",
       "      <th>6</th>\n",
       "      <th>7</th>\n",
       "      <th>8</th>\n",
       "      <th>9</th>\n",
       "      <th>...</th>\n",
       "      <th>4086</th>\n",
       "      <th>4087</th>\n",
       "      <th>4088</th>\n",
       "      <th>4089</th>\n",
       "      <th>4090</th>\n",
       "      <th>4091</th>\n",
       "      <th>4092</th>\n",
       "      <th>4093</th>\n",
       "      <th>4094</th>\n",
       "      <th>4095</th>\n",
       "    </tr>\n",
       "    <tr>\n",
       "      <th>object-id</th>\n",
       "      <th></th>\n",
       "      <th></th>\n",
       "      <th></th>\n",
       "      <th></th>\n",
       "      <th></th>\n",
       "      <th></th>\n",
       "      <th></th>\n",
       "      <th></th>\n",
       "      <th></th>\n",
       "      <th></th>\n",
       "      <th></th>\n",
       "      <th></th>\n",
       "      <th></th>\n",
       "      <th></th>\n",
       "      <th></th>\n",
       "      <th></th>\n",
       "      <th></th>\n",
       "      <th></th>\n",
       "      <th></th>\n",
       "      <th></th>\n",
       "      <th></th>\n",
       "    </tr>\n",
       "  </thead>\n",
       "  <tbody>\n",
       "  </tbody>\n",
       "</table>\n",
       "<p>0 rows × 4096 columns</p>\n",
       "</div>"
      ],
      "text/plain": [
       "Empty DataFrame\n",
       "Columns: [0, 1, 2, 3, 4, 5, 6, 7, 8, 9, 10, 11, 12, 13, 14, 15, 16, 17, 18, 19, 20, 21, 22, 23, 24, 25, 26, 27, 28, 29, 30, 31, 32, 33, 34, 35, 36, 37, 38, 39, 40, 41, 42, 43, 44, 45, 46, 47, 48, 49, 50, 51, 52, 53, 54, 55, 56, 57, 58, 59, 60, 61, 62, 63, 64, 65, 66, 67, 68, 69, 70, 71, 72, 73, 74, 75, 76, 77, 78, 79, 80, 81, 82, 83, 84, 85, 86, 87, 88, 89, 90, 91, 92, 93, 94, 95, 96, 97, 98, 99, ...]\n",
       "Index: []\n",
       "\n",
       "[0 rows x 4096 columns]"
      ]
     },
     "execution_count": 139,
     "metadata": {},
     "output_type": "execute_result"
    }
   ],
   "source": [
    "df[df.duplicated()]"
   ]
  },
  {
   "cell_type": "code",
   "execution_count": 62,
   "id": "1550c867-cb04-48d7-88f1-4256d21490aa",
   "metadata": {},
   "outputs": [],
   "source": [
    "labels = loader.load_labels()"
   ]
  },
  {
   "cell_type": "code",
   "execution_count": 41,
   "id": "3a04a796-8911-4875-9ce2-6086194e9028",
   "metadata": {},
   "outputs": [],
   "source": [
    "labels = label#.head()"
   ]
  },
  {
   "cell_type": "code",
   "execution_count": 63,
   "id": "fa13b6de-ad49-4afd-be3b-1bf861dc071e",
   "metadata": {},
   "outputs": [
    {
     "name": "stdout",
     "output_type": "stream",
     "text": [
      "Training level 1.\n",
      "Training level 2.\n",
      "Training level 3.\n",
      "Training level 4.\n",
      "Training level 5.\n"
     ]
    }
   ],
   "source": [
    "for level, level_label in enumerate(labels[1:], start=1):\n",
    "    print(f\"Training level {level}.\")"
   ]
  },
  {
   "cell_type": "code",
   "execution_count": null,
   "id": "eb2eb0cf-5808-473d-b36e-df03ebb46a76",
   "metadata": {},
   "outputs": [],
   "source": [
    "self.labels = self.labels[:len(list(model_config.keys()))]"
   ]
  },
  {
   "cell_type": "code",
   "execution_count": 64,
   "id": "018080b1-6a19-4537-aeac-9f1d432f9170",
   "metadata": {},
   "outputs": [],
   "source": [
    "index = LMI(config['LMI'], df[0], labels)"
   ]
  },
  {
   "cell_type": "code",
   "execution_count": 65,
   "id": "611e153c-1d2f-4ed8-8df5-a0c645f3eeb9",
   "metadata": {},
   "outputs": [
    {
     "data": {
      "text/plain": [
       "5"
      ]
     },
     "execution_count": 65,
     "metadata": {},
     "output_type": "execute_result"
    }
   ],
   "source": [
    "index.n_levels"
   ]
  },
  {
   "cell_type": "code",
   "execution_count": 66,
   "id": "6720b82e-eb0d-445b-b3db-4059d7295f9d",
   "metadata": {},
   "outputs": [
    {
     "data": {
      "text/plain": [
       "['L1', 'L2', 'L3', 'L4', 'L5']"
      ]
     },
     "execution_count": 66,
     "metadata": {},
     "output_type": "execute_result"
    }
   ],
   "source": [
    "index.labels"
   ]
  },
  {
   "cell_type": "code",
   "execution_count": 71,
   "id": "80f72856-14a7-4721-9392-fa746946f095",
   "metadata": {},
   "outputs": [],
   "source": [
    "import yaml"
   ]
  },
  {
   "cell_type": "code",
   "execution_count": 72,
   "id": "82996804-ec04-4060-9b32-f8c2b0cbbb93",
   "metadata": {},
   "outputs": [],
   "source": [
    "def load_yaml(path):\n",
    "    with open(path, 'r') as stream:\n",
    "        loaded = yaml.safe_load(stream)\n",
    "    return loaded\n"
   ]
  },
  {
   "cell_type": "code",
   "execution_count": null,
   "id": "c6f274a5-f1c7-4c15-9b08-a111c5469211",
   "metadata": {},
   "outputs": [],
   "source": [
    "def cut_correct_n_levels(model_config):\n",
    "    for k in list(model_config.keys()):\n",
    "        if k != 'model' and int(k.split('level-')[1]) >= n_levels:\n",
    "            del model_config[k]\n",
    "    return model_config\n",
    "\n",
    "model_config = load_yaml(model_config_path)\n",
    "model_config = cut_correct_n_levels(model_config)\n",
    "return model_config"
   ]
  },
  {
   "cell_type": "code",
   "execution_count": null,
   "id": "bb347421-f6cb-4bff-b889-85dfd816adf0",
   "metadata": {},
   "outputs": [],
   "source": [
    "int(k.split('level-')[1])"
   ]
  },
  {
   "cell_type": "code",
   "execution_count": 74,
   "id": "e6792286-cec6-449a-b04b-c68c94d1abbd",
   "metadata": {},
   "outputs": [
    {
     "data": {
      "text/plain": [
       "['level-0', 'level-1', 'level-2', 'level-3', 'level-4', 'level-5']"
      ]
     },
     "execution_count": 74,
     "metadata": {},
     "output_type": "execute_result"
    }
   ],
   "source": [
    "list(model_config.keys())"
   ]
  },
  {
   "cell_type": "code",
   "execution_count": 73,
   "id": "9fd39658-3f72-4e9d-9842-e27a21508160",
   "metadata": {},
   "outputs": [
    {
     "data": {
      "text/plain": [
       "{'level-0': {'epochs': 15,\n",
       "  'hidden_layers': {'dense': [{'activation': 'relu',\n",
       "     'dropout': None,\n",
       "     'units': 282},\n",
       "    {'activation': 'relu', 'dropout': None, 'units': 128}]},\n",
       "  'learning_rate': 0.0001,\n",
       "  'loss': 'sparse_categorical_crossentropy',\n",
       "  'model': 'NN',\n",
       "  'optimizer': 'adam'},\n",
       " 'level-1': {'epochs': 5,\n",
       "  'hidden_layers': {'dense': [{'activation': 'relu',\n",
       "     'dropout': None,\n",
       "     'units': 100,\n",
       "     'regularizer': True}]},\n",
       "  'learning_rate': 0.0001,\n",
       "  'loss': 'sparse_categorical_crossentropy',\n",
       "  'model': 'NN',\n",
       "  'optimizer': 'adam'},\n",
       " 'level-2': {'epochs': 1,\n",
       "  'hidden_layers': {'dense': [{'activation': 'relu',\n",
       "     'dropout': None,\n",
       "     'units': 100,\n",
       "     'regularizer': True}]},\n",
       "  'learning_rate': 0.0001,\n",
       "  'loss': 'sparse_categorical_crossentropy',\n",
       "  'model': 'NN',\n",
       "  'optimizer': 'adam'},\n",
       " 'level-3': {'epochs': 1,\n",
       "  'hidden_layers': {'dense': [{'activation': 'relu',\n",
       "     'dropout': None,\n",
       "     'units': 100,\n",
       "     'regularizer': True}]},\n",
       "  'learning_rate': 0.0001,\n",
       "  'loss': 'sparse_categorical_crossentropy',\n",
       "  'model': 'NN',\n",
       "  'optimizer': 'adam'},\n",
       " 'level-4': {'epochs': 1,\n",
       "  'hidden_layers': {'dense': [{'activation': 'relu',\n",
       "     'dropout': None,\n",
       "     'units': 100,\n",
       "     'regularizer': True}]},\n",
       "  'learning_rate': 0.0001,\n",
       "  'loss': 'sparse_categorical_crossentropy',\n",
       "  'model': 'NN',\n",
       "  'optimizer': 'adam'},\n",
       " 'level-5': {'epochs': 1,\n",
       "  'hidden_layers': {'dense': [{'activation': 'relu',\n",
       "     'dropout': None,\n",
       "     'units': 100,\n",
       "     'regularizer': True}]},\n",
       "  'learning_rate': 0.0001,\n",
       "  'loss': 'sparse_categorical_crossentropy',\n",
       "  'model': 'NN',\n",
       "  'optimizer': 'adam'}}"
      ]
     },
     "execution_count": 73,
     "metadata": {},
     "output_type": "execute_result"
    }
   ],
   "source": [
    "model_config = load_yaml(config['LMI']['model-config'])\n",
    "model_config"
   ]
  },
  {
   "cell_type": "code",
   "execution_count": 67,
   "id": "916af260-4f2f-44d4-8914-63ecfbab9980",
   "metadata": {},
   "outputs": [],
   "source": [
    "model_config = load_model_config(config['LMI']['model-config'], index.n_levels)"
   ]
  },
  {
   "cell_type": "code",
   "execution_count": 68,
   "id": "1f763b7a-0ff4-4933-8a8a-510ee4bfbc75",
   "metadata": {},
   "outputs": [
    {
     "data": {
      "text/plain": [
       "{'level-0': {'epochs': 15,\n",
       "  'hidden_layers': {'dense': [{'activation': 'relu',\n",
       "     'dropout': None,\n",
       "     'units': 282},\n",
       "    {'activation': 'relu', 'dropout': None, 'units': 128}]},\n",
       "  'learning_rate': 0.0001,\n",
       "  'loss': 'sparse_categorical_crossentropy',\n",
       "  'model': 'NN',\n",
       "  'optimizer': 'adam'},\n",
       " 'level-1': {'epochs': 5,\n",
       "  'hidden_layers': {'dense': [{'activation': 'relu',\n",
       "     'dropout': None,\n",
       "     'units': 100,\n",
       "     'regularizer': True}]},\n",
       "  'learning_rate': 0.0001,\n",
       "  'loss': 'sparse_categorical_crossentropy',\n",
       "  'model': 'NN',\n",
       "  'optimizer': 'adam'},\n",
       " 'level-2': {'epochs': 1,\n",
       "  'hidden_layers': {'dense': [{'activation': 'relu',\n",
       "     'dropout': None,\n",
       "     'units': 100,\n",
       "     'regularizer': True}]},\n",
       "  'learning_rate': 0.0001,\n",
       "  'loss': 'sparse_categorical_crossentropy',\n",
       "  'model': 'NN',\n",
       "  'optimizer': 'adam'},\n",
       " 'level-3': {'epochs': 1,\n",
       "  'hidden_layers': {'dense': [{'activation': 'relu',\n",
       "     'dropout': None,\n",
       "     'units': 100,\n",
       "     'regularizer': True}]},\n",
       "  'learning_rate': 0.0001,\n",
       "  'loss': 'sparse_categorical_crossentropy',\n",
       "  'model': 'NN',\n",
       "  'optimizer': 'adam'},\n",
       " 'level-4': {'epochs': 1,\n",
       "  'hidden_layers': {'dense': [{'activation': 'relu',\n",
       "     'dropout': None,\n",
       "     'units': 100,\n",
       "     'regularizer': True}]},\n",
       "  'learning_rate': 0.0001,\n",
       "  'loss': 'sparse_categorical_crossentropy',\n",
       "  'model': 'NN',\n",
       "  'optimizer': 'adam'}}"
      ]
     },
     "execution_count": 68,
     "metadata": {},
     "output_type": "execute_result"
    }
   ],
   "source": [
    "model_config"
   ]
  },
  {
   "cell_type": "code",
   "execution_count": 48,
   "id": "899b2627-fcf2-4644-acce-8559c801e8e0",
   "metadata": {},
   "outputs": [
    {
     "name": "stdout",
     "output_type": "stream",
     "text": [
      "Training level 1.\n",
      "Training level 2.\n",
      "Training level 3.\n",
      "Training level 4.\n",
      "Training level 5.\n"
     ]
    }
   ],
   "source": [
    "for level, level_label in enumerate(index.labels[1:], start=1):\n",
    "    print(f\"Training level {level}.\")"
   ]
  },
  {
   "cell_type": "code",
   "execution_count": 49,
   "id": "93a2f7b6-090a-46f5-b467-27e8e737265f",
   "metadata": {},
   "outputs": [
    {
     "data": {
      "text/plain": [
       "{'level-0': {'max_iter': 10, 'C': 10000, 'model': 'LogReg'},\n",
       " 'level-1': {'max_iter': 10, 'C': 10000, 'model': 'LogReg'},\n",
       " 'level-2': {'max_iter': 5, 'C': 10000, 'model': 'LogReg'},\n",
       " 'level-3': {'max_iter': 5, 'C': 10000, 'model': 'LogReg'},\n",
       " 'level-4': {'max_iter': 5, 'C': 10000, 'model': 'LogReg'},\n",
       " 'level-5': {'max_iter': 5, 'C': 10000, 'model': 'LogReg'}}"
      ]
     },
     "execution_count": 49,
     "metadata": {},
     "output_type": "execute_result"
    }
   ],
   "source": [
    "model_config"
   ]
  },
  {
   "cell_type": "code",
   "execution_count": 141,
   "id": "2912a185-9c80-44f1-b4ae-294c41292e92",
   "metadata": {},
   "outputs": [],
   "source": [
    "pivot_df = loader.load_mtree_pivots()\n",
    "#test_df = df.loc[pivot_df.index]"
   ]
  },
  {
   "cell_type": "code",
   "execution_count": 55,
   "id": "9d4ef16f-e96f-439c-ae2f-b5f67d90bd04",
   "metadata": {},
   "outputs": [],
   "source": [
    "from lmi.indexes.Mtree import Mtree"
   ]
  },
  {
   "cell_type": "code",
   "execution_count": 24,
   "id": "c659119b-9106-4d02-ade7-929b6115e4c9",
   "metadata": {},
   "outputs": [
    {
     "data": {
      "text/plain": [
       "UInt64Index([ 13622840,  27736222,  33248999,  53697048,  56724598,  69278982,\n",
       "              86429386,  99726156, 102389473, 105401170,\n",
       "             ...\n",
       "             217338447, 220810653, 225140625, 231319789, 234882080, 240178964,\n",
       "             246974267, 251479043, 255059157, 261321009],\n",
       "            dtype='uint64', length=128)"
      ]
     },
     "execution_count": 24,
     "metadata": {},
     "output_type": "execute_result"
    },
    {
     "name": "stdout",
     "output_type": "stream",
     "text": [
      "ERROR! Session/line number was not unique in database. History logging moved to new session 1592\n"
     ]
    }
   ],
   "source": [
    "pivot_df.index"
   ]
  },
  {
   "cell_type": "code",
   "execution_count": 91,
   "id": "f67e5d9e-6d24-4155-8f06-03850a052280",
   "metadata": {},
   "outputs": [
    {
     "data": {
      "text/html": [
       "<div>\n",
       "<style scoped>\n",
       "    .dataframe tbody tr th:only-of-type {\n",
       "        vertical-align: middle;\n",
       "    }\n",
       "\n",
       "    .dataframe tbody tr th {\n",
       "        vertical-align: top;\n",
       "    }\n",
       "\n",
       "    .dataframe thead th {\n",
       "        text-align: right;\n",
       "    }\n",
       "</style>\n",
       "<table border=\"1\" class=\"dataframe\">\n",
       "  <thead>\n",
       "    <tr style=\"text-align: right;\">\n",
       "      <th></th>\n",
       "      <th>0</th>\n",
       "      <th>1</th>\n",
       "      <th>2</th>\n",
       "      <th>3</th>\n",
       "      <th>4</th>\n",
       "      <th>5</th>\n",
       "      <th>6</th>\n",
       "      <th>7</th>\n",
       "      <th>8</th>\n",
       "      <th>9</th>\n",
       "      <th>...</th>\n",
       "      <th>274</th>\n",
       "      <th>275</th>\n",
       "      <th>276</th>\n",
       "      <th>277</th>\n",
       "      <th>278</th>\n",
       "      <th>279</th>\n",
       "      <th>280</th>\n",
       "      <th>281</th>\n",
       "      <th>282</th>\n",
       "      <th>283</th>\n",
       "    </tr>\n",
       "    <tr>\n",
       "      <th>object-id</th>\n",
       "      <th></th>\n",
       "      <th></th>\n",
       "      <th></th>\n",
       "      <th></th>\n",
       "      <th></th>\n",
       "      <th></th>\n",
       "      <th></th>\n",
       "      <th></th>\n",
       "      <th></th>\n",
       "      <th></th>\n",
       "      <th></th>\n",
       "      <th></th>\n",
       "      <th></th>\n",
       "      <th></th>\n",
       "      <th></th>\n",
       "      <th></th>\n",
       "      <th></th>\n",
       "      <th></th>\n",
       "      <th></th>\n",
       "      <th></th>\n",
       "      <th></th>\n",
       "    </tr>\n",
       "  </thead>\n",
       "  <tbody>\n",
       "    <tr>\n",
       "      <th>3014089</th>\n",
       "      <td>13</td>\n",
       "      <td>2</td>\n",
       "      <td>18</td>\n",
       "      <td>7</td>\n",
       "      <td>14</td>\n",
       "      <td>11</td>\n",
       "      <td>32</td>\n",
       "      <td>16</td>\n",
       "      <td>16</td>\n",
       "      <td>30</td>\n",
       "      <td>...</td>\n",
       "      <td>3</td>\n",
       "      <td>0</td>\n",
       "      <td>0</td>\n",
       "      <td>0</td>\n",
       "      <td>0</td>\n",
       "      <td>-2</td>\n",
       "      <td>1</td>\n",
       "      <td>0</td>\n",
       "      <td>-3</td>\n",
       "      <td>-3</td>\n",
       "    </tr>\n",
       "    <tr>\n",
       "      <th>1351751</th>\n",
       "      <td>8</td>\n",
       "      <td>20</td>\n",
       "      <td>14</td>\n",
       "      <td>8</td>\n",
       "      <td>15</td>\n",
       "      <td>7</td>\n",
       "      <td>30</td>\n",
       "      <td>16</td>\n",
       "      <td>14</td>\n",
       "      <td>30</td>\n",
       "      <td>...</td>\n",
       "      <td>4</td>\n",
       "      <td>1</td>\n",
       "      <td>0</td>\n",
       "      <td>0</td>\n",
       "      <td>0</td>\n",
       "      <td>-2</td>\n",
       "      <td>1</td>\n",
       "      <td>0</td>\n",
       "      <td>-3</td>\n",
       "      <td>-3</td>\n",
       "    </tr>\n",
       "    <tr>\n",
       "      <th>2146226</th>\n",
       "      <td>26</td>\n",
       "      <td>13</td>\n",
       "      <td>28</td>\n",
       "      <td>19</td>\n",
       "      <td>16</td>\n",
       "      <td>14</td>\n",
       "      <td>30</td>\n",
       "      <td>18</td>\n",
       "      <td>18</td>\n",
       "      <td>28</td>\n",
       "      <td>...</td>\n",
       "      <td>3</td>\n",
       "      <td>-2</td>\n",
       "      <td>-1</td>\n",
       "      <td>0</td>\n",
       "      <td>0</td>\n",
       "      <td>-2</td>\n",
       "      <td>-1</td>\n",
       "      <td>0</td>\n",
       "      <td>-3</td>\n",
       "      <td>-3</td>\n",
       "    </tr>\n",
       "    <tr>\n",
       "      <th>1204650</th>\n",
       "      <td>27</td>\n",
       "      <td>19</td>\n",
       "      <td>8</td>\n",
       "      <td>11</td>\n",
       "      <td>18</td>\n",
       "      <td>3</td>\n",
       "      <td>29</td>\n",
       "      <td>16</td>\n",
       "      <td>18</td>\n",
       "      <td>31</td>\n",
       "      <td>...</td>\n",
       "      <td>6</td>\n",
       "      <td>5</td>\n",
       "      <td>-4</td>\n",
       "      <td>0</td>\n",
       "      <td>0</td>\n",
       "      <td>-2</td>\n",
       "      <td>1</td>\n",
       "      <td>0</td>\n",
       "      <td>-3</td>\n",
       "      <td>-3</td>\n",
       "    </tr>\n",
       "    <tr>\n",
       "      <th>3014089</th>\n",
       "      <td>13</td>\n",
       "      <td>2</td>\n",
       "      <td>18</td>\n",
       "      <td>7</td>\n",
       "      <td>14</td>\n",
       "      <td>11</td>\n",
       "      <td>32</td>\n",
       "      <td>16</td>\n",
       "      <td>16</td>\n",
       "      <td>30</td>\n",
       "      <td>...</td>\n",
       "      <td>3</td>\n",
       "      <td>0</td>\n",
       "      <td>0</td>\n",
       "      <td>0</td>\n",
       "      <td>0</td>\n",
       "      <td>-2</td>\n",
       "      <td>1</td>\n",
       "      <td>0</td>\n",
       "      <td>-3</td>\n",
       "      <td>-3</td>\n",
       "    </tr>\n",
       "  </tbody>\n",
       "</table>\n",
       "<p>5 rows × 282 columns</p>\n",
       "</div>"
      ],
      "text/plain": [
       "            0   1   2   3   4   5   6   7   8   9  ...  274  275  276  277  \\\n",
       "object-id                                          ...                       \n",
       "3014089    13   2  18   7  14  11  32  16  16  30  ...    3    0    0    0   \n",
       "1351751     8  20  14   8  15   7  30  16  14  30  ...    4    1    0    0   \n",
       "2146226    26  13  28  19  16  14  30  18  18  28  ...    3   -2   -1    0   \n",
       "1204650    27  19   8  11  18   3  29  16  18  31  ...    6    5   -4    0   \n",
       "3014089    13   2  18   7  14  11  32  16  16  30  ...    3    0    0    0   \n",
       "\n",
       "           278  279  280  281  282  283  \n",
       "object-id                                \n",
       "3014089      0   -2    1    0   -3   -3  \n",
       "1351751      0   -2    1    0   -3   -3  \n",
       "2146226      0   -2   -1    0   -3   -3  \n",
       "1204650      0   -2    1    0   -3   -3  \n",
       "3014089      0   -2    1    0   -3   -3  \n",
       "\n",
       "[5 rows x 282 columns]"
      ]
     },
     "execution_count": 91,
     "metadata": {},
     "output_type": "execute_result"
    }
   ],
   "source": [
    "df.head()"
   ]
  },
  {
   "cell_type": "code",
   "execution_count": 93,
   "id": "32c84906-4bdd-47a6-8827-17065a8f2056",
   "metadata": {},
   "outputs": [
    {
     "data": {
      "text/html": [
       "<div>\n",
       "<style scoped>\n",
       "    .dataframe tbody tr th:only-of-type {\n",
       "        vertical-align: middle;\n",
       "    }\n",
       "\n",
       "    .dataframe tbody tr th {\n",
       "        vertical-align: top;\n",
       "    }\n",
       "\n",
       "    .dataframe thead th {\n",
       "        text-align: right;\n",
       "    }\n",
       "</style>\n",
       "<table border=\"1\" class=\"dataframe\">\n",
       "  <thead>\n",
       "    <tr style=\"text-align: right;\">\n",
       "      <th></th>\n",
       "      <th>node</th>\n",
       "      <th>radius</th>\n",
       "      <th>level</th>\n",
       "    </tr>\n",
       "  </thead>\n",
       "  <tbody>\n",
       "    <tr>\n",
       "      <th>3014089</th>\n",
       "      <td>(1,)</td>\n",
       "      <td>5.708939</td>\n",
       "      <td>1</td>\n",
       "    </tr>\n",
       "    <tr>\n",
       "      <th>1351751</th>\n",
       "      <td>(1, 1)</td>\n",
       "      <td>2.974208</td>\n",
       "      <td>2</td>\n",
       "    </tr>\n",
       "    <tr>\n",
       "      <th>2146226</th>\n",
       "      <td>(1, 2)</td>\n",
       "      <td>3.037122</td>\n",
       "      <td>2</td>\n",
       "    </tr>\n",
       "    <tr>\n",
       "      <th>1204650</th>\n",
       "      <td>(1, 3)</td>\n",
       "      <td>2.702235</td>\n",
       "      <td>2</td>\n",
       "    </tr>\n",
       "    <tr>\n",
       "      <th>3014089</th>\n",
       "      <td>(1, 4)</td>\n",
       "      <td>2.903821</td>\n",
       "      <td>2</td>\n",
       "    </tr>\n",
       "  </tbody>\n",
       "</table>\n",
       "</div>"
      ],
      "text/plain": [
       "           node    radius  level\n",
       "3014089    (1,)  5.708939      1\n",
       "1351751  (1, 1)  2.974208      2\n",
       "2146226  (1, 2)  3.037122      2\n",
       "1204650  (1, 3)  2.702235      2\n",
       "3014089  (1, 4)  2.903821      2"
      ]
     },
     "execution_count": 93,
     "metadata": {},
     "output_type": "execute_result"
    }
   ],
   "source": [
    "pivot_df.head()"
   ]
  },
  {
   "cell_type": "code",
   "execution_count": 142,
   "id": "f9e90d43-6d17-4fbe-9195-e6121290e5aa",
   "metadata": {},
   "outputs": [],
   "source": [
    "index = Mtree(df[:10], label.loc[df.index[:10]], pivot_df[:10], config['data']['dataset'])"
   ]
  },
  {
   "cell_type": "code",
   "execution_count": 18,
   "id": "3624e0e9-1587-4123-a9d2-06ef96d5d221",
   "metadata": {},
   "outputs": [
    {
     "data": {
      "text/html": [
       "<div>\n",
       "<style scoped>\n",
       "    .dataframe tbody tr th:only-of-type {\n",
       "        vertical-align: middle;\n",
       "    }\n",
       "\n",
       "    .dataframe tbody tr th {\n",
       "        vertical-align: top;\n",
       "    }\n",
       "\n",
       "    .dataframe thead th {\n",
       "        text-align: right;\n",
       "    }\n",
       "</style>\n",
       "<table border=\"1\" class=\"dataframe\">\n",
       "  <thead>\n",
       "    <tr style=\"text-align: right;\">\n",
       "      <th></th>\n",
       "      <th>L1</th>\n",
       "      <th>L2</th>\n",
       "      <th>L3</th>\n",
       "      <th>L4</th>\n",
       "      <th>L5</th>\n",
       "      <th>L6</th>\n",
       "      <th>L7</th>\n",
       "      <th>L8</th>\n",
       "    </tr>\n",
       "    <tr>\n",
       "      <th>object_id</th>\n",
       "      <th></th>\n",
       "      <th></th>\n",
       "      <th></th>\n",
       "      <th></th>\n",
       "      <th></th>\n",
       "      <th></th>\n",
       "      <th></th>\n",
       "      <th></th>\n",
       "    </tr>\n",
       "  </thead>\n",
       "  <tbody>\n",
       "    <tr>\n",
       "      <th>296166</th>\n",
       "      <td>71</td>\n",
       "      <td>57</td>\n",
       "      <td>&lt;NA&gt;</td>\n",
       "      <td>&lt;NA&gt;</td>\n",
       "      <td>&lt;NA&gt;</td>\n",
       "      <td>&lt;NA&gt;</td>\n",
       "      <td>&lt;NA&gt;</td>\n",
       "      <td>&lt;NA&gt;</td>\n",
       "    </tr>\n",
       "    <tr>\n",
       "      <th>312568</th>\n",
       "      <td>48</td>\n",
       "      <td>76</td>\n",
       "      <td>67</td>\n",
       "      <td>&lt;NA&gt;</td>\n",
       "      <td>&lt;NA&gt;</td>\n",
       "      <td>&lt;NA&gt;</td>\n",
       "      <td>&lt;NA&gt;</td>\n",
       "      <td>&lt;NA&gt;</td>\n",
       "    </tr>\n",
       "    <tr>\n",
       "      <th>320479</th>\n",
       "      <td>19</td>\n",
       "      <td>52</td>\n",
       "      <td>124</td>\n",
       "      <td>118</td>\n",
       "      <td>&lt;NA&gt;</td>\n",
       "      <td>&lt;NA&gt;</td>\n",
       "      <td>&lt;NA&gt;</td>\n",
       "      <td>&lt;NA&gt;</td>\n",
       "    </tr>\n",
       "    <tr>\n",
       "      <th>325836</th>\n",
       "      <td>15</td>\n",
       "      <td>1</td>\n",
       "      <td>6</td>\n",
       "      <td>8</td>\n",
       "      <td>60</td>\n",
       "      <td>48</td>\n",
       "      <td>&lt;NA&gt;</td>\n",
       "      <td>&lt;NA&gt;</td>\n",
       "    </tr>\n",
       "    <tr>\n",
       "      <th>325837</th>\n",
       "      <td>8</td>\n",
       "      <td>6</td>\n",
       "      <td>15</td>\n",
       "      <td>1</td>\n",
       "      <td>54</td>\n",
       "      <td>&lt;NA&gt;</td>\n",
       "      <td>&lt;NA&gt;</td>\n",
       "      <td>&lt;NA&gt;</td>\n",
       "    </tr>\n",
       "    <tr>\n",
       "      <th>325863</th>\n",
       "      <td>6</td>\n",
       "      <td>1</td>\n",
       "      <td>8</td>\n",
       "      <td>15</td>\n",
       "      <td>85</td>\n",
       "      <td>54</td>\n",
       "      <td>&lt;NA&gt;</td>\n",
       "      <td>&lt;NA&gt;</td>\n",
       "    </tr>\n",
       "    <tr>\n",
       "      <th>325865</th>\n",
       "      <td>8</td>\n",
       "      <td>6</td>\n",
       "      <td>15</td>\n",
       "      <td>1</td>\n",
       "      <td>85</td>\n",
       "      <td>75</td>\n",
       "      <td>54</td>\n",
       "      <td>&lt;NA&gt;</td>\n",
       "    </tr>\n",
       "    <tr>\n",
       "      <th>325868</th>\n",
       "      <td>6</td>\n",
       "      <td>15</td>\n",
       "      <td>1</td>\n",
       "      <td>8</td>\n",
       "      <td>54</td>\n",
       "      <td>&lt;NA&gt;</td>\n",
       "      <td>&lt;NA&gt;</td>\n",
       "      <td>&lt;NA&gt;</td>\n",
       "    </tr>\n",
       "    <tr>\n",
       "      <th>325887</th>\n",
       "      <td>8</td>\n",
       "      <td>6</td>\n",
       "      <td>1</td>\n",
       "      <td>15</td>\n",
       "      <td>85</td>\n",
       "      <td>75</td>\n",
       "      <td>86</td>\n",
       "      <td>&lt;NA&gt;</td>\n",
       "    </tr>\n",
       "    <tr>\n",
       "      <th>325889</th>\n",
       "      <td>8</td>\n",
       "      <td>6</td>\n",
       "      <td>1</td>\n",
       "      <td>15</td>\n",
       "      <td>85</td>\n",
       "      <td>86</td>\n",
       "      <td>72</td>\n",
       "      <td>&lt;NA&gt;</td>\n",
       "    </tr>\n",
       "  </tbody>\n",
       "</table>\n",
       "</div>"
      ],
      "text/plain": [
       "           L1  L2    L3    L4    L5    L6    L7    L8\n",
       "object_id                                            \n",
       "296166     71  57  <NA>  <NA>  <NA>  <NA>  <NA>  <NA>\n",
       "312568     48  76    67  <NA>  <NA>  <NA>  <NA>  <NA>\n",
       "320479     19  52   124   118  <NA>  <NA>  <NA>  <NA>\n",
       "325836     15   1     6     8    60    48  <NA>  <NA>\n",
       "325837      8   6    15     1    54  <NA>  <NA>  <NA>\n",
       "325863      6   1     8    15    85    54  <NA>  <NA>\n",
       "325865      8   6    15     1    85    75    54  <NA>\n",
       "325868      6  15     1     8    54  <NA>  <NA>  <NA>\n",
       "325887      8   6     1    15    85    75    86  <NA>\n",
       "325889      8   6     1    15    85    86    72  <NA>"
      ]
     },
     "execution_count": 18,
     "metadata": {},
     "output_type": "execute_result"
    }
   ],
   "source": [
    "label.head(10)"
   ]
  },
  {
   "cell_type": "code",
   "execution_count": 62,
   "id": "9210aadf-86c7-4f32-bdb8-a808b097d5a4",
   "metadata": {},
   "outputs": [
    {
     "data": {
      "text/html": [
       "<div>\n",
       "<style scoped>\n",
       "    .dataframe tbody tr th:only-of-type {\n",
       "        vertical-align: middle;\n",
       "    }\n",
       "\n",
       "    .dataframe tbody tr th {\n",
       "        vertical-align: top;\n",
       "    }\n",
       "\n",
       "    .dataframe thead th {\n",
       "        text-align: right;\n",
       "    }\n",
       "</style>\n",
       "<table border=\"1\" class=\"dataframe\">\n",
       "  <thead>\n",
       "    <tr style=\"text-align: right;\">\n",
       "      <th></th>\n",
       "      <th>node</th>\n",
       "      <th>radius</th>\n",
       "      <th>level</th>\n",
       "      <th>L1</th>\n",
       "      <th>L2</th>\n",
       "      <th>L3</th>\n",
       "      <th>L4</th>\n",
       "      <th>L5</th>\n",
       "      <th>L6</th>\n",
       "      <th>L7</th>\n",
       "      <th>L8</th>\n",
       "    </tr>\n",
       "  </thead>\n",
       "  <tbody>\n",
       "    <tr>\n",
       "      <th>3598306</th>\n",
       "      <td>(1,)</td>\n",
       "      <td>7.326086</td>\n",
       "      <td>1</td>\n",
       "      <td>1</td>\n",
       "      <td>-1</td>\n",
       "      <td>-1</td>\n",
       "      <td>-1</td>\n",
       "      <td>-1</td>\n",
       "      <td>-1</td>\n",
       "      <td>-1</td>\n",
       "      <td>-1</td>\n",
       "    </tr>\n",
       "    <tr>\n",
       "      <th>17905614</th>\n",
       "      <td>(1, 1)</td>\n",
       "      <td>4.645504</td>\n",
       "      <td>2</td>\n",
       "      <td>1</td>\n",
       "      <td>1</td>\n",
       "      <td>-1</td>\n",
       "      <td>-1</td>\n",
       "      <td>-1</td>\n",
       "      <td>-1</td>\n",
       "      <td>-1</td>\n",
       "      <td>-1</td>\n",
       "    </tr>\n",
       "    <tr>\n",
       "      <th>36053014</th>\n",
       "      <td>(1, 1, 1)</td>\n",
       "      <td>2.314067</td>\n",
       "      <td>3</td>\n",
       "      <td>1</td>\n",
       "      <td>1</td>\n",
       "      <td>1</td>\n",
       "      <td>-1</td>\n",
       "      <td>-1</td>\n",
       "      <td>-1</td>\n",
       "      <td>-1</td>\n",
       "      <td>-1</td>\n",
       "    </tr>\n",
       "    <tr>\n",
       "      <th>36470959</th>\n",
       "      <td>(1, 1, 2)</td>\n",
       "      <td>2.228175</td>\n",
       "      <td>3</td>\n",
       "      <td>1</td>\n",
       "      <td>1</td>\n",
       "      <td>2</td>\n",
       "      <td>-1</td>\n",
       "      <td>-1</td>\n",
       "      <td>-1</td>\n",
       "      <td>-1</td>\n",
       "      <td>-1</td>\n",
       "    </tr>\n",
       "    <tr>\n",
       "      <th>17361540</th>\n",
       "      <td>(1, 1, 3)</td>\n",
       "      <td>2.670025</td>\n",
       "      <td>3</td>\n",
       "      <td>1</td>\n",
       "      <td>1</td>\n",
       "      <td>3</td>\n",
       "      <td>-1</td>\n",
       "      <td>-1</td>\n",
       "      <td>-1</td>\n",
       "      <td>-1</td>\n",
       "      <td>-1</td>\n",
       "    </tr>\n",
       "    <tr>\n",
       "      <th>...</th>\n",
       "      <td>...</td>\n",
       "      <td>...</td>\n",
       "      <td>...</td>\n",
       "      <td>...</td>\n",
       "      <td>...</td>\n",
       "      <td>...</td>\n",
       "      <td>...</td>\n",
       "      <td>...</td>\n",
       "      <td>...</td>\n",
       "      <td>...</td>\n",
       "      <td>...</td>\n",
       "    </tr>\n",
       "    <tr>\n",
       "      <th>182181629</th>\n",
       "      <td>(10, 25, 28)</td>\n",
       "      <td>1.910718</td>\n",
       "      <td>3</td>\n",
       "      <td>10</td>\n",
       "      <td>25</td>\n",
       "      <td>28</td>\n",
       "      <td>-1</td>\n",
       "      <td>-1</td>\n",
       "      <td>-1</td>\n",
       "      <td>-1</td>\n",
       "      <td>-1</td>\n",
       "    </tr>\n",
       "    <tr>\n",
       "      <th>11573747</th>\n",
       "      <td>(10, 25, 29)</td>\n",
       "      <td>2.369734</td>\n",
       "      <td>3</td>\n",
       "      <td>10</td>\n",
       "      <td>25</td>\n",
       "      <td>29</td>\n",
       "      <td>-1</td>\n",
       "      <td>-1</td>\n",
       "      <td>-1</td>\n",
       "      <td>-1</td>\n",
       "      <td>-1</td>\n",
       "    </tr>\n",
       "    <tr>\n",
       "      <th>156698653</th>\n",
       "      <td>(10, 25, 30)</td>\n",
       "      <td>1.640172</td>\n",
       "      <td>3</td>\n",
       "      <td>10</td>\n",
       "      <td>25</td>\n",
       "      <td>30</td>\n",
       "      <td>-1</td>\n",
       "      <td>-1</td>\n",
       "      <td>-1</td>\n",
       "      <td>-1</td>\n",
       "      <td>-1</td>\n",
       "    </tr>\n",
       "    <tr>\n",
       "      <th>116302410</th>\n",
       "      <td>(10, 25, 31)</td>\n",
       "      <td>2.511228</td>\n",
       "      <td>3</td>\n",
       "      <td>10</td>\n",
       "      <td>25</td>\n",
       "      <td>31</td>\n",
       "      <td>-1</td>\n",
       "      <td>-1</td>\n",
       "      <td>-1</td>\n",
       "      <td>-1</td>\n",
       "      <td>-1</td>\n",
       "    </tr>\n",
       "    <tr>\n",
       "      <th>112715487</th>\n",
       "      <td>(10, 25, 32)</td>\n",
       "      <td>2.294846</td>\n",
       "      <td>3</td>\n",
       "      <td>10</td>\n",
       "      <td>25</td>\n",
       "      <td>32</td>\n",
       "      <td>-1</td>\n",
       "      <td>-1</td>\n",
       "      <td>-1</td>\n",
       "      <td>-1</td>\n",
       "      <td>-1</td>\n",
       "    </tr>\n",
       "  </tbody>\n",
       "</table>\n",
       "<p>11933 rows × 11 columns</p>\n",
       "</div>"
      ],
      "text/plain": [
       "                   node    radius  level  L1  L2  L3  L4  L5  L6  L7  L8\n",
       "3598306            (1,)  7.326086      1   1  -1  -1  -1  -1  -1  -1  -1\n",
       "17905614         (1, 1)  4.645504      2   1   1  -1  -1  -1  -1  -1  -1\n",
       "36053014      (1, 1, 1)  2.314067      3   1   1   1  -1  -1  -1  -1  -1\n",
       "36470959      (1, 1, 2)  2.228175      3   1   1   2  -1  -1  -1  -1  -1\n",
       "17361540      (1, 1, 3)  2.670025      3   1   1   3  -1  -1  -1  -1  -1\n",
       "...                 ...       ...    ...  ..  ..  ..  ..  ..  ..  ..  ..\n",
       "182181629  (10, 25, 28)  1.910718      3  10  25  28  -1  -1  -1  -1  -1\n",
       "11573747   (10, 25, 29)  2.369734      3  10  25  29  -1  -1  -1  -1  -1\n",
       "156698653  (10, 25, 30)  1.640172      3  10  25  30  -1  -1  -1  -1  -1\n",
       "116302410  (10, 25, 31)  2.511228      3  10  25  31  -1  -1  -1  -1  -1\n",
       "112715487  (10, 25, 32)  2.294846      3  10  25  32  -1  -1  -1  -1  -1\n",
       "\n",
       "[11933 rows x 11 columns]"
      ]
     },
     "execution_count": 62,
     "metadata": {},
     "output_type": "execute_result"
    }
   ],
   "source": [
    "pivot_df"
   ]
  },
  {
   "cell_type": "code",
   "execution_count": 143,
   "id": "5296c96c-f2b6-45ea-b2d8-cc0efee1a56e",
   "metadata": {},
   "outputs": [
    {
     "data": {
      "text/plain": [
       "([[(1, 5)],\n",
       "  [(1, 5)],\n",
       "  [(1, 5), (1, 1)],\n",
       "  [(1, 5), (1, 1), (1, 8)],\n",
       "  [(1, 5), (1, 1), (1, 8), (1, 3), (1, 9)]],\n",
       " [0.01453089714050293,\n",
       "  0.014575958251953125,\n",
       "  0.01754140853881836,\n",
       "  0.020561933517456055,\n",
       "  0.0262606143951416],\n",
       " [1, 1, 2, 3, 5])"
      ]
     },
     "execution_count": 143,
     "metadata": {},
     "output_type": "execute_result"
    }
   ],
   "source": [
    "index.search(df.iloc[0], [0, 1, 2, 3, 5])"
   ]
  },
  {
   "cell_type": "code",
   "execution_count": 76,
   "id": "79adddfb-3208-42a5-aea7-2226c183189b",
   "metadata": {},
   "outputs": [
    {
     "data": {
      "text/plain": [
       "(1142, 282)"
      ]
     },
     "execution_count": 76,
     "metadata": {},
     "output_type": "execute_result"
    }
   ],
   "source": [
    "test_df = df[0].loc[pivot_df.index]\n",
    "test_df.shape"
   ]
  },
  {
   "cell_type": "code",
   "execution_count": 77,
   "id": "46826deb-22b9-47d5-81ef-8875049fc39d",
   "metadata": {},
   "outputs": [],
   "source": [
    "test_df.index.name='object-id'"
   ]
  },
  {
   "cell_type": "code",
   "execution_count": 69,
   "id": "0bb4f4a7-7d6f-4201-b17f-0a7ce7edb871",
   "metadata": {},
   "outputs": [
    {
     "data": {
      "text/plain": [
       "'CoPhIR-1M-Mtree-200-Mtree'"
      ]
     },
     "execution_count": 69,
     "metadata": {},
     "output_type": "execute_result"
    }
   ],
   "source": [
    "config_file.split('/')[-1].split('.')[0]"
   ]
  },
  {
   "cell_type": "code",
   "execution_count": 78,
   "id": "91700bc2-d8a9-4088-8d56-c1658960939c",
   "metadata": {},
   "outputs": [],
   "source": [
    "test_df.to_csv(f\"test-data/{config_file.split('/')[-1].split('.')[0]}.csv\")"
   ]
  },
  {
   "cell_type": "code",
   "execution_count": 63,
   "id": "157103b4-1cc2-46b5-ada4-8d646dea6489",
   "metadata": {},
   "outputs": [
    {
     "data": {
      "text/html": [
       "<div>\n",
       "<style scoped>\n",
       "    .dataframe tbody tr th:only-of-type {\n",
       "        vertical-align: middle;\n",
       "    }\n",
       "\n",
       "    .dataframe tbody tr th {\n",
       "        vertical-align: top;\n",
       "    }\n",
       "\n",
       "    .dataframe thead th {\n",
       "        text-align: right;\n",
       "    }\n",
       "</style>\n",
       "<table border=\"1\" class=\"dataframe\">\n",
       "  <thead>\n",
       "    <tr style=\"text-align: right;\">\n",
       "      <th></th>\n",
       "      <th>node</th>\n",
       "      <th>radius</th>\n",
       "      <th>level</th>\n",
       "      <th>L1</th>\n",
       "      <th>L2</th>\n",
       "      <th>L3</th>\n",
       "      <th>L4</th>\n",
       "      <th>L5</th>\n",
       "      <th>L6</th>\n",
       "    </tr>\n",
       "  </thead>\n",
       "  <tbody>\n",
       "    <tr>\n",
       "      <th>3014089</th>\n",
       "      <td>(1,)</td>\n",
       "      <td>5.708939</td>\n",
       "      <td>1</td>\n",
       "      <td>1</td>\n",
       "      <td>-1</td>\n",
       "      <td>-1</td>\n",
       "      <td>-1</td>\n",
       "      <td>-1</td>\n",
       "      <td>-1</td>\n",
       "    </tr>\n",
       "    <tr>\n",
       "      <th>3478864</th>\n",
       "      <td>(2,)</td>\n",
       "      <td>5.730899</td>\n",
       "      <td>1</td>\n",
       "      <td>2</td>\n",
       "      <td>-1</td>\n",
       "      <td>-1</td>\n",
       "      <td>-1</td>\n",
       "      <td>-1</td>\n",
       "      <td>-1</td>\n",
       "    </tr>\n",
       "    <tr>\n",
       "      <th>1688229</th>\n",
       "      <td>(3,)</td>\n",
       "      <td>5.530395</td>\n",
       "      <td>1</td>\n",
       "      <td>3</td>\n",
       "      <td>-1</td>\n",
       "      <td>-1</td>\n",
       "      <td>-1</td>\n",
       "      <td>-1</td>\n",
       "      <td>-1</td>\n",
       "    </tr>\n",
       "    <tr>\n",
       "      <th>5078273</th>\n",
       "      <td>(4,)</td>\n",
       "      <td>5.772471</td>\n",
       "      <td>1</td>\n",
       "      <td>4</td>\n",
       "      <td>-1</td>\n",
       "      <td>-1</td>\n",
       "      <td>-1</td>\n",
       "      <td>-1</td>\n",
       "      <td>-1</td>\n",
       "    </tr>\n",
       "    <tr>\n",
       "      <th>3623950</th>\n",
       "      <td>(5,)</td>\n",
       "      <td>5.864301</td>\n",
       "      <td>1</td>\n",
       "      <td>5</td>\n",
       "      <td>-1</td>\n",
       "      <td>-1</td>\n",
       "      <td>-1</td>\n",
       "      <td>-1</td>\n",
       "      <td>-1</td>\n",
       "    </tr>\n",
       "    <tr>\n",
       "      <th>30357199</th>\n",
       "      <td>(6,)</td>\n",
       "      <td>5.350940</td>\n",
       "      <td>1</td>\n",
       "      <td>6</td>\n",
       "      <td>-1</td>\n",
       "      <td>-1</td>\n",
       "      <td>-1</td>\n",
       "      <td>-1</td>\n",
       "      <td>-1</td>\n",
       "    </tr>\n",
       "    <tr>\n",
       "      <th>20611571</th>\n",
       "      <td>(7,)</td>\n",
       "      <td>5.161635</td>\n",
       "      <td>1</td>\n",
       "      <td>7</td>\n",
       "      <td>-1</td>\n",
       "      <td>-1</td>\n",
       "      <td>-1</td>\n",
       "      <td>-1</td>\n",
       "      <td>-1</td>\n",
       "    </tr>\n",
       "    <tr>\n",
       "      <th>60626724</th>\n",
       "      <td>(8,)</td>\n",
       "      <td>5.196339</td>\n",
       "      <td>1</td>\n",
       "      <td>8</td>\n",
       "      <td>-1</td>\n",
       "      <td>-1</td>\n",
       "      <td>-1</td>\n",
       "      <td>-1</td>\n",
       "      <td>-1</td>\n",
       "    </tr>\n",
       "    <tr>\n",
       "      <th>577663</th>\n",
       "      <td>(9,)</td>\n",
       "      <td>5.373545</td>\n",
       "      <td>1</td>\n",
       "      <td>9</td>\n",
       "      <td>-1</td>\n",
       "      <td>-1</td>\n",
       "      <td>-1</td>\n",
       "      <td>-1</td>\n",
       "      <td>-1</td>\n",
       "    </tr>\n",
       "    <tr>\n",
       "      <th>55766401</th>\n",
       "      <td>(10,)</td>\n",
       "      <td>5.431057</td>\n",
       "      <td>1</td>\n",
       "      <td>10</td>\n",
       "      <td>-1</td>\n",
       "      <td>-1</td>\n",
       "      <td>-1</td>\n",
       "      <td>-1</td>\n",
       "      <td>-1</td>\n",
       "    </tr>\n",
       "    <tr>\n",
       "      <th>1794063</th>\n",
       "      <td>(11,)</td>\n",
       "      <td>5.116557</td>\n",
       "      <td>1</td>\n",
       "      <td>11</td>\n",
       "      <td>-1</td>\n",
       "      <td>-1</td>\n",
       "      <td>-1</td>\n",
       "      <td>-1</td>\n",
       "      <td>-1</td>\n",
       "    </tr>\n",
       "    <tr>\n",
       "      <th>3128543</th>\n",
       "      <td>(12,)</td>\n",
       "      <td>5.433889</td>\n",
       "      <td>1</td>\n",
       "      <td>12</td>\n",
       "      <td>-1</td>\n",
       "      <td>-1</td>\n",
       "      <td>-1</td>\n",
       "      <td>-1</td>\n",
       "      <td>-1</td>\n",
       "    </tr>\n",
       "    <tr>\n",
       "      <th>61865786</th>\n",
       "      <td>(13,)</td>\n",
       "      <td>5.080687</td>\n",
       "      <td>1</td>\n",
       "      <td>13</td>\n",
       "      <td>-1</td>\n",
       "      <td>-1</td>\n",
       "      <td>-1</td>\n",
       "      <td>-1</td>\n",
       "      <td>-1</td>\n",
       "    </tr>\n",
       "    <tr>\n",
       "      <th>2360262</th>\n",
       "      <td>(14,)</td>\n",
       "      <td>4.835181</td>\n",
       "      <td>1</td>\n",
       "      <td>14</td>\n",
       "      <td>-1</td>\n",
       "      <td>-1</td>\n",
       "      <td>-1</td>\n",
       "      <td>-1</td>\n",
       "      <td>-1</td>\n",
       "    </tr>\n",
       "    <tr>\n",
       "      <th>1851684</th>\n",
       "      <td>(15,)</td>\n",
       "      <td>5.862750</td>\n",
       "      <td>1</td>\n",
       "      <td>15</td>\n",
       "      <td>-1</td>\n",
       "      <td>-1</td>\n",
       "      <td>-1</td>\n",
       "      <td>-1</td>\n",
       "      <td>-1</td>\n",
       "    </tr>\n",
       "    <tr>\n",
       "      <th>13238797</th>\n",
       "      <td>(16,)</td>\n",
       "      <td>5.581682</td>\n",
       "      <td>1</td>\n",
       "      <td>16</td>\n",
       "      <td>-1</td>\n",
       "      <td>-1</td>\n",
       "      <td>-1</td>\n",
       "      <td>-1</td>\n",
       "      <td>-1</td>\n",
       "    </tr>\n",
       "    <tr>\n",
       "      <th>2360297</th>\n",
       "      <td>(17,)</td>\n",
       "      <td>5.145143</td>\n",
       "      <td>1</td>\n",
       "      <td>17</td>\n",
       "      <td>-1</td>\n",
       "      <td>-1</td>\n",
       "      <td>-1</td>\n",
       "      <td>-1</td>\n",
       "      <td>-1</td>\n",
       "    </tr>\n",
       "    <tr>\n",
       "      <th>16193358</th>\n",
       "      <td>(18,)</td>\n",
       "      <td>4.791590</td>\n",
       "      <td>1</td>\n",
       "      <td>18</td>\n",
       "      <td>-1</td>\n",
       "      <td>-1</td>\n",
       "      <td>-1</td>\n",
       "      <td>-1</td>\n",
       "      <td>-1</td>\n",
       "    </tr>\n",
       "  </tbody>\n",
       "</table>\n",
       "</div>"
      ],
      "text/plain": [
       "           node    radius  level  L1  L2  L3  L4  L5  L6\n",
       "3014089    (1,)  5.708939      1   1  -1  -1  -1  -1  -1\n",
       "3478864    (2,)  5.730899      1   2  -1  -1  -1  -1  -1\n",
       "1688229    (3,)  5.530395      1   3  -1  -1  -1  -1  -1\n",
       "5078273    (4,)  5.772471      1   4  -1  -1  -1  -1  -1\n",
       "3623950    (5,)  5.864301      1   5  -1  -1  -1  -1  -1\n",
       "30357199   (6,)  5.350940      1   6  -1  -1  -1  -1  -1\n",
       "20611571   (7,)  5.161635      1   7  -1  -1  -1  -1  -1\n",
       "60626724   (8,)  5.196339      1   8  -1  -1  -1  -1  -1\n",
       "577663     (9,)  5.373545      1   9  -1  -1  -1  -1  -1\n",
       "55766401  (10,)  5.431057      1  10  -1  -1  -1  -1  -1\n",
       "1794063   (11,)  5.116557      1  11  -1  -1  -1  -1  -1\n",
       "3128543   (12,)  5.433889      1  12  -1  -1  -1  -1  -1\n",
       "61865786  (13,)  5.080687      1  13  -1  -1  -1  -1  -1\n",
       "2360262   (14,)  4.835181      1  14  -1  -1  -1  -1  -1\n",
       "1851684   (15,)  5.862750      1  15  -1  -1  -1  -1  -1\n",
       "13238797  (16,)  5.581682      1  16  -1  -1  -1  -1  -1\n",
       "2360297   (17,)  5.145143      1  17  -1  -1  -1  -1  -1\n",
       "16193358  (18,)  4.791590      1  18  -1  -1  -1  -1  -1"
      ]
     },
     "execution_count": 63,
     "metadata": {},
     "output_type": "execute_result"
    }
   ],
   "source": [
    "pivot_df[pivot_df['node'].map(len) == 1]"
   ]
  },
  {
   "cell_type": "code",
   "execution_count": 73,
   "id": "4265054b-fd9c-4b78-8d85-3462c35c2f9d",
   "metadata": {},
   "outputs": [
    {
     "data": {
      "text/html": [
       "<div>\n",
       "<style scoped>\n",
       "    .dataframe tbody tr th:only-of-type {\n",
       "        vertical-align: middle;\n",
       "    }\n",
       "\n",
       "    .dataframe tbody tr th {\n",
       "        vertical-align: top;\n",
       "    }\n",
       "\n",
       "    .dataframe thead th {\n",
       "        text-align: right;\n",
       "    }\n",
       "</style>\n",
       "<table border=\"1\" class=\"dataframe\">\n",
       "  <thead>\n",
       "    <tr style=\"text-align: right;\">\n",
       "      <th></th>\n",
       "      <th>node</th>\n",
       "      <th>radius</th>\n",
       "      <th>level</th>\n",
       "      <th>L1</th>\n",
       "      <th>L2</th>\n",
       "      <th>L3</th>\n",
       "      <th>L4</th>\n",
       "      <th>L5</th>\n",
       "      <th>L6</th>\n",
       "    </tr>\n",
       "  </thead>\n",
       "  <tbody>\n",
       "    <tr>\n",
       "      <th>3014089</th>\n",
       "      <td>(1,)</td>\n",
       "      <td>5.708939</td>\n",
       "      <td>1</td>\n",
       "      <td>1</td>\n",
       "      <td>-1</td>\n",
       "      <td>-1</td>\n",
       "      <td>-1</td>\n",
       "      <td>-1</td>\n",
       "      <td>-1</td>\n",
       "    </tr>\n",
       "    <tr>\n",
       "      <th>1351751</th>\n",
       "      <td>(1, 1)</td>\n",
       "      <td>2.974208</td>\n",
       "      <td>2</td>\n",
       "      <td>1</td>\n",
       "      <td>1</td>\n",
       "      <td>-1</td>\n",
       "      <td>-1</td>\n",
       "      <td>-1</td>\n",
       "      <td>-1</td>\n",
       "    </tr>\n",
       "    <tr>\n",
       "      <th>2146226</th>\n",
       "      <td>(1, 2)</td>\n",
       "      <td>3.037122</td>\n",
       "      <td>2</td>\n",
       "      <td>1</td>\n",
       "      <td>2</td>\n",
       "      <td>-1</td>\n",
       "      <td>-1</td>\n",
       "      <td>-1</td>\n",
       "      <td>-1</td>\n",
       "    </tr>\n",
       "    <tr>\n",
       "      <th>1204650</th>\n",
       "      <td>(1, 3)</td>\n",
       "      <td>2.702235</td>\n",
       "      <td>2</td>\n",
       "      <td>1</td>\n",
       "      <td>3</td>\n",
       "      <td>-1</td>\n",
       "      <td>-1</td>\n",
       "      <td>-1</td>\n",
       "      <td>-1</td>\n",
       "    </tr>\n",
       "    <tr>\n",
       "      <th>3014089</th>\n",
       "      <td>(1, 4)</td>\n",
       "      <td>2.903821</td>\n",
       "      <td>2</td>\n",
       "      <td>1</td>\n",
       "      <td>4</td>\n",
       "      <td>-1</td>\n",
       "      <td>-1</td>\n",
       "      <td>-1</td>\n",
       "      <td>-1</td>\n",
       "    </tr>\n",
       "  </tbody>\n",
       "</table>\n",
       "</div>"
      ],
      "text/plain": [
       "           node    radius  level  L1  L2  L3  L4  L5  L6\n",
       "3014089    (1,)  5.708939      1   1  -1  -1  -1  -1  -1\n",
       "1351751  (1, 1)  2.974208      2   1   1  -1  -1  -1  -1\n",
       "2146226  (1, 2)  3.037122      2   1   2  -1  -1  -1  -1\n",
       "1204650  (1, 3)  2.702235      2   1   3  -1  -1  -1  -1\n",
       "3014089  (1, 4)  2.903821      2   1   4  -1  -1  -1  -1"
      ]
     },
     "execution_count": 73,
     "metadata": {},
     "output_type": "execute_result"
    }
   ],
   "source": [
    "pivot_df.head()"
   ]
  },
  {
   "cell_type": "code",
   "execution_count": 70,
   "id": "a1796bdb-5299-4bbb-85e6-dc686bdfc40a",
   "metadata": {},
   "outputs": [
    {
     "data": {
      "text/plain": [
       "(20, 282)"
      ]
     },
     "execution_count": 70,
     "metadata": {},
     "output_type": "execute_result"
    }
   ],
   "source": [
    "df_20 = pd.concat([df[0], df[0]])\n",
    "df_20.shape"
   ]
  },
  {
   "cell_type": "code",
   "execution_count": 67,
   "id": "0e213303-2279-4e16-a09e-7d832e686b82",
   "metadata": {},
   "outputs": [],
   "source": [
    "lvl_1_index = pivot_df[pivot_df['node'].map(len) == 1]"
   ]
  },
  {
   "cell_type": "code",
   "execution_count": 76,
   "id": "f3652955-b9e7-4db5-a0f0-995af667379a",
   "metadata": {},
   "outputs": [
    {
     "data": {
      "text/plain": [
       "Int64Index([ 3014089,  3478864,  1688229,  5078273,  3623950, 30357199,\n",
       "            20611571, 60626724,   577663, 55766401,  1794063,  3128543,\n",
       "            61865786,  2360262,  1851684, 13238797,  2360297, 16193358],\n",
       "           dtype='int64')"
      ]
     },
     "execution_count": 76,
     "metadata": {},
     "output_type": "execute_result"
    }
   ],
   "source": [
    "lvl_1_index.index"
   ]
  },
  {
   "cell_type": "code",
   "execution_count": 77,
   "id": "7bc4f580-5d83-4408-89ad-d2ed53f860fe",
   "metadata": {},
   "outputs": [
    {
     "data": {
      "text/plain": [
       "18"
      ]
     },
     "execution_count": 77,
     "metadata": {},
     "output_type": "execute_result"
    }
   ],
   "source": [
    "len(lvl_1_index.index)"
   ]
  },
  {
   "cell_type": "code",
   "execution_count": 79,
   "id": "6d36d2e7-5c04-482e-a667-8e04693f5ed7",
   "metadata": {},
   "outputs": [],
   "source": [
    "df_20.index = lvl_1_index.index.tolist() + [1351751, 2146226]"
   ]
  },
  {
   "cell_type": "code",
   "execution_count": 81,
   "id": "12d85138-f791-43ab-996f-bc279607bd85",
   "metadata": {},
   "outputs": [
    {
     "data": {
      "text/html": [
       "<div>\n",
       "<style scoped>\n",
       "    .dataframe tbody tr th:only-of-type {\n",
       "        vertical-align: middle;\n",
       "    }\n",
       "\n",
       "    .dataframe tbody tr th {\n",
       "        vertical-align: top;\n",
       "    }\n",
       "\n",
       "    .dataframe thead th {\n",
       "        text-align: right;\n",
       "    }\n",
       "</style>\n",
       "<table border=\"1\" class=\"dataframe\">\n",
       "  <thead>\n",
       "    <tr style=\"text-align: right;\">\n",
       "      <th></th>\n",
       "      <th>0</th>\n",
       "      <th>1</th>\n",
       "      <th>2</th>\n",
       "      <th>3</th>\n",
       "      <th>4</th>\n",
       "      <th>5</th>\n",
       "      <th>6</th>\n",
       "      <th>7</th>\n",
       "      <th>8</th>\n",
       "      <th>9</th>\n",
       "      <th>...</th>\n",
       "      <th>274</th>\n",
       "      <th>275</th>\n",
       "      <th>276</th>\n",
       "      <th>277</th>\n",
       "      <th>278</th>\n",
       "      <th>279</th>\n",
       "      <th>280</th>\n",
       "      <th>281</th>\n",
       "      <th>282</th>\n",
       "      <th>283</th>\n",
       "    </tr>\n",
       "  </thead>\n",
       "  <tbody>\n",
       "    <tr>\n",
       "      <th>13238797</th>\n",
       "      <td>57</td>\n",
       "      <td>17</td>\n",
       "      <td>25</td>\n",
       "      <td>12</td>\n",
       "      <td>15</td>\n",
       "      <td>16</td>\n",
       "      <td>29</td>\n",
       "      <td>17</td>\n",
       "      <td>18</td>\n",
       "      <td>34</td>\n",
       "      <td>...</td>\n",
       "      <td>10</td>\n",
       "      <td>5</td>\n",
       "      <td>0</td>\n",
       "      <td>0</td>\n",
       "      <td>0</td>\n",
       "      <td>-2</td>\n",
       "      <td>1</td>\n",
       "      <td>0</td>\n",
       "      <td>-3</td>\n",
       "      <td>-6</td>\n",
       "    </tr>\n",
       "    <tr>\n",
       "      <th>2360297</th>\n",
       "      <td>56</td>\n",
       "      <td>24</td>\n",
       "      <td>17</td>\n",
       "      <td>27</td>\n",
       "      <td>13</td>\n",
       "      <td>25</td>\n",
       "      <td>27</td>\n",
       "      <td>18</td>\n",
       "      <td>16</td>\n",
       "      <td>44</td>\n",
       "      <td>...</td>\n",
       "      <td>7</td>\n",
       "      <td>7</td>\n",
       "      <td>-1</td>\n",
       "      <td>0</td>\n",
       "      <td>0</td>\n",
       "      <td>-2</td>\n",
       "      <td>1</td>\n",
       "      <td>0</td>\n",
       "      <td>-3</td>\n",
       "      <td>3</td>\n",
       "    </tr>\n",
       "    <tr>\n",
       "      <th>16193358</th>\n",
       "      <td>56</td>\n",
       "      <td>13</td>\n",
       "      <td>22</td>\n",
       "      <td>17</td>\n",
       "      <td>17</td>\n",
       "      <td>28</td>\n",
       "      <td>31</td>\n",
       "      <td>16</td>\n",
       "      <td>17</td>\n",
       "      <td>43</td>\n",
       "      <td>...</td>\n",
       "      <td>13</td>\n",
       "      <td>13</td>\n",
       "      <td>0</td>\n",
       "      <td>0</td>\n",
       "      <td>0</td>\n",
       "      <td>-2</td>\n",
       "      <td>1</td>\n",
       "      <td>0</td>\n",
       "      <td>-3</td>\n",
       "      <td>-9</td>\n",
       "    </tr>\n",
       "    <tr>\n",
       "      <th>1351751</th>\n",
       "      <td>56</td>\n",
       "      <td>14</td>\n",
       "      <td>14</td>\n",
       "      <td>28</td>\n",
       "      <td>16</td>\n",
       "      <td>15</td>\n",
       "      <td>30</td>\n",
       "      <td>16</td>\n",
       "      <td>16</td>\n",
       "      <td>24</td>\n",
       "      <td>...</td>\n",
       "      <td>9</td>\n",
       "      <td>4</td>\n",
       "      <td>0</td>\n",
       "      <td>0</td>\n",
       "      <td>0</td>\n",
       "      <td>-4</td>\n",
       "      <td>1</td>\n",
       "      <td>0</td>\n",
       "      <td>-3</td>\n",
       "      <td>-3</td>\n",
       "    </tr>\n",
       "    <tr>\n",
       "      <th>2146226</th>\n",
       "      <td>59</td>\n",
       "      <td>16</td>\n",
       "      <td>16</td>\n",
       "      <td>16</td>\n",
       "      <td>16</td>\n",
       "      <td>16</td>\n",
       "      <td>30</td>\n",
       "      <td>16</td>\n",
       "      <td>16</td>\n",
       "      <td>35</td>\n",
       "      <td>...</td>\n",
       "      <td>8</td>\n",
       "      <td>6</td>\n",
       "      <td>0</td>\n",
       "      <td>0</td>\n",
       "      <td>0</td>\n",
       "      <td>-2</td>\n",
       "      <td>1</td>\n",
       "      <td>0</td>\n",
       "      <td>-3</td>\n",
       "      <td>2</td>\n",
       "    </tr>\n",
       "  </tbody>\n",
       "</table>\n",
       "<p>5 rows × 282 columns</p>\n",
       "</div>"
      ],
      "text/plain": [
       "          0    1    2    3    4    5    6    7    8    9    ...  274  275  \\\n",
       "13238797   57   17   25   12   15   16   29   17   18   34  ...   10    5   \n",
       "2360297    56   24   17   27   13   25   27   18   16   44  ...    7    7   \n",
       "16193358   56   13   22   17   17   28   31   16   17   43  ...   13   13   \n",
       "1351751    56   14   14   28   16   15   30   16   16   24  ...    9    4   \n",
       "2146226    59   16   16   16   16   16   30   16   16   35  ...    8    6   \n",
       "\n",
       "          276  277  278  279  280  281  282  283  \n",
       "13238797    0    0    0   -2    1    0   -3   -6  \n",
       "2360297    -1    0    0   -2    1    0   -3    3  \n",
       "16193358    0    0    0   -2    1    0   -3   -9  \n",
       "1351751     0    0    0   -4    1    0   -3   -3  \n",
       "2146226     0    0    0   -2    1    0   -3    2  \n",
       "\n",
       "[5 rows x 282 columns]"
      ]
     },
     "execution_count": 81,
     "metadata": {},
     "output_type": "execute_result"
    }
   ],
   "source": [
    "df_20.tail()"
   ]
  },
  {
   "cell_type": "code",
   "execution_count": 64,
   "id": "22ff573f-7527-443f-8847-80f527265382",
   "metadata": {},
   "outputs": [
    {
     "ename": "AttributeError",
     "evalue": "'tuple' object has no attribute 'reindex'",
     "output_type": "error",
     "traceback": [
      "\u001b[0;31m---------------------------------------------------------------------------\u001b[0m",
      "\u001b[0;31mAttributeError\u001b[0m                            Traceback (most recent call last)",
      "\u001b[0;32m<ipython-input-64-51c3103db131>\u001b[0m in \u001b[0;36m<module>\u001b[0;34m\u001b[0m\n\u001b[0;32m----> 1\u001b[0;31m \u001b[0mdf\u001b[0m\u001b[0;34m.\u001b[0m\u001b[0mreindex\u001b[0m\u001b[0;34m(\u001b[0m\u001b[0mpivot_df\u001b[0m\u001b[0;34m[\u001b[0m\u001b[0mpivot_df\u001b[0m\u001b[0;34m[\u001b[0m\u001b[0;34m'node'\u001b[0m\u001b[0;34m]\u001b[0m\u001b[0;34m.\u001b[0m\u001b[0mmap\u001b[0m\u001b[0;34m(\u001b[0m\u001b[0mlen\u001b[0m\u001b[0;34m)\u001b[0m \u001b[0;34m==\u001b[0m \u001b[0;36m1\u001b[0m\u001b[0;34m]\u001b[0m\u001b[0;34m.\u001b[0m\u001b[0mindex\u001b[0m\u001b[0;34m)\u001b[0m\u001b[0;34m\u001b[0m\u001b[0;34m\u001b[0m\u001b[0m\n\u001b[0m",
      "\u001b[0;31mAttributeError\u001b[0m: 'tuple' object has no attribute 'reindex'"
     ]
    }
   ],
   "source": [
    "df[:len(pivot_df[pivot_df['node'].map(len) == 1])].reindex(pivot_df[pivot_df['node'].map(len) == 1].index)"
   ]
  },
  {
   "cell_type": "code",
   "execution_count": 54,
   "id": "3705dc85-78e5-4a07-bb9a-ac925b816b3e",
   "metadata": {},
   "outputs": [],
   "source": [
    "df_20.to_csv('test-data/CoPhIR-1M-MTREE-2000.csv', index=None)"
   ]
  },
  {
   "cell_type": "code",
   "execution_count": 14,
   "id": "dd4e44b9-46e4-41c2-8129-39add8186d1a",
   "metadata": {},
   "outputs": [
    {
     "data": {
      "text/html": [
       "<div>\n",
       "<style scoped>\n",
       "    .dataframe tbody tr th:only-of-type {\n",
       "        vertical-align: middle;\n",
       "    }\n",
       "\n",
       "    .dataframe tbody tr th {\n",
       "        vertical-align: top;\n",
       "    }\n",
       "\n",
       "    .dataframe thead th {\n",
       "        text-align: right;\n",
       "    }\n",
       "</style>\n",
       "<table border=\"1\" class=\"dataframe\">\n",
       "  <thead>\n",
       "    <tr style=\"text-align: right;\">\n",
       "      <th></th>\n",
       "      <th>0</th>\n",
       "      <th>1</th>\n",
       "      <th>2</th>\n",
       "      <th>3</th>\n",
       "      <th>4</th>\n",
       "      <th>5</th>\n",
       "      <th>6</th>\n",
       "      <th>7</th>\n",
       "      <th>8</th>\n",
       "      <th>9</th>\n",
       "      <th>...</th>\n",
       "      <th>274</th>\n",
       "      <th>275</th>\n",
       "      <th>276</th>\n",
       "      <th>277</th>\n",
       "      <th>278</th>\n",
       "      <th>279</th>\n",
       "      <th>280</th>\n",
       "      <th>281</th>\n",
       "      <th>282</th>\n",
       "      <th>283</th>\n",
       "    </tr>\n",
       "  </thead>\n",
       "  <tbody>\n",
       "    <tr>\n",
       "      <th>240178964</th>\n",
       "      <td>43</td>\n",
       "      <td>16</td>\n",
       "      <td>22</td>\n",
       "      <td>23</td>\n",
       "      <td>10</td>\n",
       "      <td>23</td>\n",
       "      <td>30</td>\n",
       "      <td>16</td>\n",
       "      <td>20</td>\n",
       "      <td>31</td>\n",
       "      <td>...</td>\n",
       "      <td>2</td>\n",
       "      <td>-5</td>\n",
       "      <td>0</td>\n",
       "      <td>0</td>\n",
       "      <td>0</td>\n",
       "      <td>-2</td>\n",
       "      <td>1</td>\n",
       "      <td>0</td>\n",
       "      <td>-3</td>\n",
       "      <td>-3</td>\n",
       "    </tr>\n",
       "    <tr>\n",
       "      <th>246974267</th>\n",
       "      <td>15</td>\n",
       "      <td>4</td>\n",
       "      <td>15</td>\n",
       "      <td>11</td>\n",
       "      <td>10</td>\n",
       "      <td>8</td>\n",
       "      <td>27</td>\n",
       "      <td>14</td>\n",
       "      <td>14</td>\n",
       "      <td>37</td>\n",
       "      <td>...</td>\n",
       "      <td>1</td>\n",
       "      <td>-4</td>\n",
       "      <td>0</td>\n",
       "      <td>0</td>\n",
       "      <td>0</td>\n",
       "      <td>-2</td>\n",
       "      <td>1</td>\n",
       "      <td>0</td>\n",
       "      <td>-3</td>\n",
       "      <td>-3</td>\n",
       "    </tr>\n",
       "    <tr>\n",
       "      <th>251479043</th>\n",
       "      <td>53</td>\n",
       "      <td>11</td>\n",
       "      <td>26</td>\n",
       "      <td>25</td>\n",
       "      <td>20</td>\n",
       "      <td>14</td>\n",
       "      <td>24</td>\n",
       "      <td>13</td>\n",
       "      <td>20</td>\n",
       "      <td>30</td>\n",
       "      <td>...</td>\n",
       "      <td>4</td>\n",
       "      <td>2</td>\n",
       "      <td>-1</td>\n",
       "      <td>-10</td>\n",
       "      <td>0</td>\n",
       "      <td>-2</td>\n",
       "      <td>1</td>\n",
       "      <td>0</td>\n",
       "      <td>-3</td>\n",
       "      <td>-3</td>\n",
       "    </tr>\n",
       "    <tr>\n",
       "      <th>255059157</th>\n",
       "      <td>15</td>\n",
       "      <td>12</td>\n",
       "      <td>31</td>\n",
       "      <td>27</td>\n",
       "      <td>18</td>\n",
       "      <td>11</td>\n",
       "      <td>37</td>\n",
       "      <td>16</td>\n",
       "      <td>17</td>\n",
       "      <td>30</td>\n",
       "      <td>...</td>\n",
       "      <td>12</td>\n",
       "      <td>8</td>\n",
       "      <td>-1</td>\n",
       "      <td>0</td>\n",
       "      <td>0</td>\n",
       "      <td>-2</td>\n",
       "      <td>-4</td>\n",
       "      <td>0</td>\n",
       "      <td>-3</td>\n",
       "      <td>-5</td>\n",
       "    </tr>\n",
       "    <tr>\n",
       "      <th>261321009</th>\n",
       "      <td>20</td>\n",
       "      <td>13</td>\n",
       "      <td>12</td>\n",
       "      <td>8</td>\n",
       "      <td>8</td>\n",
       "      <td>25</td>\n",
       "      <td>20</td>\n",
       "      <td>19</td>\n",
       "      <td>14</td>\n",
       "      <td>43</td>\n",
       "      <td>...</td>\n",
       "      <td>3</td>\n",
       "      <td>1</td>\n",
       "      <td>-6</td>\n",
       "      <td>-5</td>\n",
       "      <td>0</td>\n",
       "      <td>-2</td>\n",
       "      <td>1</td>\n",
       "      <td>0</td>\n",
       "      <td>-3</td>\n",
       "      <td>-4</td>\n",
       "    </tr>\n",
       "  </tbody>\n",
       "</table>\n",
       "<p>5 rows × 282 columns</p>\n",
       "</div>"
      ],
      "text/plain": [
       "           0    1    2    3    4    5    6    7    8    9    ...  274  275  \\\n",
       "240178964   43   16   22   23   10   23   30   16   20   31  ...    2   -5   \n",
       "246974267   15    4   15   11   10    8   27   14   14   37  ...    1   -4   \n",
       "251479043   53   11   26   25   20   14   24   13   20   30  ...    4    2   \n",
       "255059157   15   12   31   27   18   11   37   16   17   30  ...   12    8   \n",
       "261321009   20   13   12    8    8   25   20   19   14   43  ...    3    1   \n",
       "\n",
       "           276  277  278  279  280  281  282  283  \n",
       "240178964    0    0    0   -2    1    0   -3   -3  \n",
       "246974267    0    0    0   -2    1    0   -3   -3  \n",
       "251479043   -1  -10    0   -2    1    0   -3   -3  \n",
       "255059157   -1    0    0   -2   -4    0   -3   -5  \n",
       "261321009   -6   -5    0   -2    1    0   -3   -4  \n",
       "\n",
       "[5 rows x 282 columns]"
      ]
     },
     "execution_count": 14,
     "metadata": {},
     "output_type": "execute_result"
    }
   ],
   "source": [
    "pivot_df.tail()"
   ]
  },
  {
   "cell_type": "code",
   "execution_count": 48,
   "id": "c7530c6d-b970-4425-9925-bb13bc9133f4",
   "metadata": {},
   "outputs": [
    {
     "data": {
      "text/plain": [
       "{'LMI': {'model-config': '', 'training-dataset-percentage': 1},\n",
       " 'data': {'data-dir': '/storage/brno12-cerit/home/tslaninakova/data/',\n",
       "  'dataset': 'COPHIR',\n",
       "  'dataset-size': '1M',\n",
       "  'normalize': False,\n",
       "  'original': {'index': 'MTREE', 'leaf-node-capacity': 2000},\n",
       "  'shuffle': True,\n",
       "  'shuffle-seed': 1},\n",
       " 'experiment': {'gt-subdir': 'ground-truths',\n",
       "  'knns': 30,\n",
       "  'output-dir': 'outputs',\n",
       "  'queries-out-of-dataset': False,\n",
       "  'search-stop-conditions': [0.0005,\n",
       "   0.001,\n",
       "   0.003,\n",
       "   0.005,\n",
       "   0.01,\n",
       "   0.05,\n",
       "   0.1,\n",
       "   0.2,\n",
       "   0.3,\n",
       "   0.5]},\n",
       " 'setup': 'exp-basic'}"
      ]
     },
     "execution_count": 48,
     "metadata": {},
     "output_type": "execute_result"
    }
   ],
   "source": [
    "config"
   ]
  },
  {
   "cell_type": "code",
   "execution_count": 7,
   "id": "14b12860-64a5-4fc9-bd2c-7c7d3b1e613b",
   "metadata": {},
   "outputs": [],
   "source": [
    "label = loader.load_labels()"
   ]
  },
  {
   "cell_type": "code",
   "execution_count": null,
   "id": "7f6c2cf4-9d36-4a7f-95d1-279492cc9ff1",
   "metadata": {},
   "outputs": [],
   "source": [
    "label = loader.load_labels_tiny()"
   ]
  },
  {
   "cell_type": "code",
   "execution_count": 8,
   "id": "b207e478",
   "metadata": {},
   "outputs": [
    {
     "name": "stderr",
     "output_type": "stream",
     "text": [
      "[2022-05-18 11:03:46,730][INFO ][lmi.data.DataLoader] Loading CoPhIR dataset from /storage/brno12-cerit/home/tslaninakova/data//pivots/MIndex-CoPhIR-1M-descriptors.csv.\n"
     ]
    }
   ],
   "source": [
    "pivot_df = loader.load_mindex_pivots()"
   ]
  },
  {
   "cell_type": "code",
   "execution_count": 26,
   "id": "dd8080be-7bf5-4de0-a4c0-96f45bfaf122",
   "metadata": {},
   "outputs": [],
   "source": [
    "from lmi.indexes.Mtree import Mtree"
   ]
  },
  {
   "cell_type": "code",
   "execution_count": 32,
   "id": "13c11e17-d3a1-491b-9858-3a8a06b829a1",
   "metadata": {},
   "outputs": [],
   "source": [
    "pivot_df = loader.load_mtree_pivots()"
   ]
  },
  {
   "cell_type": "code",
   "execution_count": 57,
   "id": "52275039-f61c-43d5-80d4-832f306fae8d",
   "metadata": {},
   "outputs": [
    {
     "data": {
      "text/html": [
       "<div>\n",
       "<style scoped>\n",
       "    .dataframe tbody tr th:only-of-type {\n",
       "        vertical-align: middle;\n",
       "    }\n",
       "\n",
       "    .dataframe tbody tr th {\n",
       "        vertical-align: top;\n",
       "    }\n",
       "\n",
       "    .dataframe thead th {\n",
       "        text-align: right;\n",
       "    }\n",
       "</style>\n",
       "<table border=\"1\" class=\"dataframe\">\n",
       "  <thead>\n",
       "    <tr style=\"text-align: right;\">\n",
       "      <th></th>\n",
       "      <th>0</th>\n",
       "      <th>1</th>\n",
       "      <th>2</th>\n",
       "      <th>3</th>\n",
       "      <th>4</th>\n",
       "      <th>5</th>\n",
       "      <th>6</th>\n",
       "      <th>7</th>\n",
       "      <th>8</th>\n",
       "      <th>9</th>\n",
       "      <th>...</th>\n",
       "      <th>274</th>\n",
       "      <th>275</th>\n",
       "      <th>276</th>\n",
       "      <th>277</th>\n",
       "      <th>278</th>\n",
       "      <th>279</th>\n",
       "      <th>280</th>\n",
       "      <th>281</th>\n",
       "      <th>282</th>\n",
       "      <th>283</th>\n",
       "    </tr>\n",
       "    <tr>\n",
       "      <th>id</th>\n",
       "      <th></th>\n",
       "      <th></th>\n",
       "      <th></th>\n",
       "      <th></th>\n",
       "      <th></th>\n",
       "      <th></th>\n",
       "      <th></th>\n",
       "      <th></th>\n",
       "      <th></th>\n",
       "      <th></th>\n",
       "      <th></th>\n",
       "      <th></th>\n",
       "      <th></th>\n",
       "      <th></th>\n",
       "      <th></th>\n",
       "      <th></th>\n",
       "      <th></th>\n",
       "      <th></th>\n",
       "      <th></th>\n",
       "      <th></th>\n",
       "      <th></th>\n",
       "    </tr>\n",
       "  </thead>\n",
       "  <tbody>\n",
       "    <tr>\n",
       "      <th>3014089</th>\n",
       "      <td>56</td>\n",
       "      <td>16</td>\n",
       "      <td>20</td>\n",
       "      <td>16</td>\n",
       "      <td>17</td>\n",
       "      <td>14</td>\n",
       "      <td>28</td>\n",
       "      <td>16</td>\n",
       "      <td>18</td>\n",
       "      <td>34</td>\n",
       "      <td>...</td>\n",
       "      <td>6</td>\n",
       "      <td>7</td>\n",
       "      <td>-2</td>\n",
       "      <td>0</td>\n",
       "      <td>0</td>\n",
       "      <td>-2</td>\n",
       "      <td>1</td>\n",
       "      <td>0</td>\n",
       "      <td>-3</td>\n",
       "      <td>-5</td>\n",
       "    </tr>\n",
       "    <tr>\n",
       "      <th>1351751</th>\n",
       "      <td>51</td>\n",
       "      <td>19</td>\n",
       "      <td>24</td>\n",
       "      <td>21</td>\n",
       "      <td>17</td>\n",
       "      <td>19</td>\n",
       "      <td>35</td>\n",
       "      <td>14</td>\n",
       "      <td>15</td>\n",
       "      <td>31</td>\n",
       "      <td>...</td>\n",
       "      <td>8</td>\n",
       "      <td>4</td>\n",
       "      <td>0</td>\n",
       "      <td>0</td>\n",
       "      <td>0</td>\n",
       "      <td>-2</td>\n",
       "      <td>1</td>\n",
       "      <td>0</td>\n",
       "      <td>-3</td>\n",
       "      <td>-3</td>\n",
       "    </tr>\n",
       "  </tbody>\n",
       "</table>\n",
       "<p>2 rows × 282 columns</p>\n",
       "</div>"
      ],
      "text/plain": [
       "          0   1   2   3   4   5   6   7   8   9  ...  274  275  276  277  278  \\\n",
       "id                                               ...                            \n",
       "3014089  56  16  20  16  17  14  28  16  18  34  ...    6    7   -2    0    0   \n",
       "1351751  51  19  24  21  17  19  35  14  15  31  ...    8    4    0    0    0   \n",
       "\n",
       "         279  280  281  282  283  \n",
       "id                                \n",
       "3014089   -2    1    0   -3   -5  \n",
       "1351751   -2    1    0   -3   -3  \n",
       "\n",
       "[2 rows x 282 columns]"
      ]
     },
     "execution_count": 57,
     "metadata": {},
     "output_type": "execute_result"
    }
   ],
   "source": [
    "df = pd.read_csv('test-data/CoPhIR-1M-MTREE-2000.csv', index_col='id')\n",
    "df.head()"
   ]
  },
  {
   "cell_type": "code",
   "execution_count": 82,
   "id": "43464f21-d8c5-4583-a94e-43e87e065d37",
   "metadata": {},
   "outputs": [],
   "source": [
    "#primary_descriptors = df[0]# if config['data']['dataset'] == 'COPHIR' else df\n",
    "index = Mtree(df_20, label[:20], pivot_df, config['data']['dataset'])\n",
    "mem_train = 0"
   ]
  },
  {
   "cell_type": "code",
   "execution_count": 37,
   "id": "aaac2ef1-60b0-4815-98e2-54bf34d62aba",
   "metadata": {},
   "outputs": [
    {
     "data": {
      "text/html": [
       "<div>\n",
       "<style scoped>\n",
       "    .dataframe tbody tr th:only-of-type {\n",
       "        vertical-align: middle;\n",
       "    }\n",
       "\n",
       "    .dataframe tbody tr th {\n",
       "        vertical-align: top;\n",
       "    }\n",
       "\n",
       "    .dataframe thead th {\n",
       "        text-align: right;\n",
       "    }\n",
       "</style>\n",
       "<table border=\"1\" class=\"dataframe\">\n",
       "  <thead>\n",
       "    <tr style=\"text-align: right;\">\n",
       "      <th></th>\n",
       "      <th>node</th>\n",
       "      <th>radius</th>\n",
       "      <th>level</th>\n",
       "      <th>L1</th>\n",
       "      <th>L2</th>\n",
       "      <th>L3</th>\n",
       "      <th>L4</th>\n",
       "      <th>L5</th>\n",
       "      <th>L6</th>\n",
       "    </tr>\n",
       "  </thead>\n",
       "  <tbody>\n",
       "    <tr>\n",
       "      <th>3014089</th>\n",
       "      <td>(1,)</td>\n",
       "      <td>5.708939</td>\n",
       "      <td>1</td>\n",
       "      <td>1</td>\n",
       "      <td>-1</td>\n",
       "      <td>-1</td>\n",
       "      <td>-1</td>\n",
       "      <td>-1</td>\n",
       "      <td>-1</td>\n",
       "    </tr>\n",
       "    <tr>\n",
       "      <th>1351751</th>\n",
       "      <td>(1, 1)</td>\n",
       "      <td>2.974208</td>\n",
       "      <td>2</td>\n",
       "      <td>1</td>\n",
       "      <td>1</td>\n",
       "      <td>-1</td>\n",
       "      <td>-1</td>\n",
       "      <td>-1</td>\n",
       "      <td>-1</td>\n",
       "    </tr>\n",
       "    <tr>\n",
       "      <th>2146226</th>\n",
       "      <td>(1, 2)</td>\n",
       "      <td>3.037122</td>\n",
       "      <td>2</td>\n",
       "      <td>1</td>\n",
       "      <td>2</td>\n",
       "      <td>-1</td>\n",
       "      <td>-1</td>\n",
       "      <td>-1</td>\n",
       "      <td>-1</td>\n",
       "    </tr>\n",
       "    <tr>\n",
       "      <th>1204650</th>\n",
       "      <td>(1, 3)</td>\n",
       "      <td>2.702235</td>\n",
       "      <td>2</td>\n",
       "      <td>1</td>\n",
       "      <td>3</td>\n",
       "      <td>-1</td>\n",
       "      <td>-1</td>\n",
       "      <td>-1</td>\n",
       "      <td>-1</td>\n",
       "    </tr>\n",
       "    <tr>\n",
       "      <th>3014089</th>\n",
       "      <td>(1, 4)</td>\n",
       "      <td>2.903821</td>\n",
       "      <td>2</td>\n",
       "      <td>1</td>\n",
       "      <td>4</td>\n",
       "      <td>-1</td>\n",
       "      <td>-1</td>\n",
       "      <td>-1</td>\n",
       "      <td>-1</td>\n",
       "    </tr>\n",
       "  </tbody>\n",
       "</table>\n",
       "</div>"
      ],
      "text/plain": [
       "           node    radius  level  L1  L2  L3  L4  L5  L6\n",
       "3014089    (1,)  5.708939      1   1  -1  -1  -1  -1  -1\n",
       "1351751  (1, 1)  2.974208      2   1   1  -1  -1  -1  -1\n",
       "2146226  (1, 2)  3.037122      2   1   2  -1  -1  -1  -1\n",
       "1204650  (1, 3)  2.702235      2   1   3  -1  -1  -1  -1\n",
       "3014089  (1, 4)  2.903821      2   1   4  -1  -1  -1  -1"
      ]
     },
     "execution_count": 37,
     "metadata": {},
     "output_type": "execute_result"
    }
   ],
   "source": [
    "pivot_df.head()"
   ]
  },
  {
   "cell_type": "code",
   "execution_count": 38,
   "id": "5da0ae05-9022-4dc2-a4a3-a3fc352ef4cf",
   "metadata": {},
   "outputs": [
    {
     "name": "stdout",
     "output_type": "stream",
     "text": [
      "\u001b[0m\u001b[01;32mCoPhIR100k-descriptors.csv\u001b[0m*    \u001b[01;32mProfiset100k-objects.txt\u001b[0m*\n",
      "\u001b[01;32mCoPhIR100k-objects.txt\u001b[0m*        \u001b[01;32mProfiset1M-descriptors.csv\u001b[0m*\n",
      "\u001b[01;32mCoPhIR1M-descriptors.csv\u001b[0m*      \u001b[01;32mProfiset1M-objects.txt\u001b[0m*\n",
      "\u001b[01;32mCoPhIR1M-objects.txt\u001b[0m*          descriptors_10.pd\n",
      "MoCap-descriptors.csv          protein-chains-100k.pd\n",
      "MoCap-objects.txt              protein-chains-500k.pd\n",
      "\u001b[01;32mProfiset100k-descriptors.csv\u001b[0m*\n"
     ]
    }
   ],
   "source": [
    "%ls /storage/brno12-cerit/home/tslaninakova/data/datasets"
   ]
  },
  {
   "cell_type": "code",
   "execution_count": null,
   "id": "a8071d98-f64c-437d-9675-acdb1955676d",
   "metadata": {},
   "outputs": [],
   "source": [
    "import pandas as pd\n",
    "import numpy as np\n",
    "%time df_orig = pd.read_csv('/storage/brno12-cerit/home/tslaninakova/data/datase', header=None,sep=r'[,|;]', engine='python', dtype=np.int32,skiprows=lambda x: x not in [3014089, 1351751],usecols=[i for i in range(284) if i != 218 and i != 219])"
   ]
  },
  {
   "cell_type": "code",
   "execution_count": 36,
   "id": "44d26c28-f0a8-40d3-af5a-fb1e135686bb",
   "metadata": {},
   "outputs": [
    {
     "data": {
      "text/plain": [
       "(1142, 9)"
      ]
     },
     "execution_count": 36,
     "metadata": {},
     "output_type": "execute_result"
    }
   ],
   "source": [
    "pivot_df.shape"
   ]
  },
  {
   "cell_type": "code",
   "execution_count": null,
   "id": "2d1a7779-2524-4d66-a4fe-9b1c761866c5",
   "metadata": {},
   "outputs": [],
   "source": [
    "children_df = self.pivots_df.query(get_children_selection(node_label))"
   ]
  },
  {
   "cell_type": "code",
   "execution_count": 85,
   "id": "76848f9e-65d7-4555-819b-5159d681a3e7",
   "metadata": {},
   "outputs": [
    {
     "data": {
      "text/plain": [
       "node       (1, 3)\n",
       "radius    2.70223\n",
       "level           2\n",
       "L1              1\n",
       "L2              3\n",
       "L3             -1\n",
       "L4             -1\n",
       "L5             -1\n",
       "L6             -1\n",
       "Name: 1204650, dtype: object"
      ]
     },
     "execution_count": 85,
     "metadata": {},
     "output_type": "execute_result"
    }
   ],
   "source": [
    "pivot_df.loc[1204650]"
   ]
  },
  {
   "cell_type": "code",
   "execution_count": 84,
   "id": "8e07aaa6-cb3b-4521-8945-c4431da45ee1",
   "metadata": {},
   "outputs": [
    {
     "ename": "Exception",
     "evalue": "Object with id 1204650 does not exist in the trained dataset.",
     "output_type": "error",
     "traceback": [
      "\u001b[0;31m---------------------------------------------------------------------------\u001b[0m",
      "\u001b[0;31mKeyError\u001b[0m                                  Traceback (most recent call last)",
      "\u001b[0;32m~/.local/lib/python3.6/site-packages/pandas/core/indexes/base.py\u001b[0m in \u001b[0;36mget_loc\u001b[0;34m(self, key, method, tolerance)\u001b[0m\n\u001b[1;32m   2897\u001b[0m             \u001b[0;32mtry\u001b[0m\u001b[0;34m:\u001b[0m\u001b[0;34m\u001b[0m\u001b[0;34m\u001b[0m\u001b[0m\n\u001b[0;32m-> 2898\u001b[0;31m                 \u001b[0;32mreturn\u001b[0m \u001b[0mself\u001b[0m\u001b[0;34m.\u001b[0m\u001b[0m_engine\u001b[0m\u001b[0;34m.\u001b[0m\u001b[0mget_loc\u001b[0m\u001b[0;34m(\u001b[0m\u001b[0mcasted_key\u001b[0m\u001b[0;34m)\u001b[0m\u001b[0;34m\u001b[0m\u001b[0;34m\u001b[0m\u001b[0m\n\u001b[0m\u001b[1;32m   2899\u001b[0m             \u001b[0;32mexcept\u001b[0m \u001b[0mKeyError\u001b[0m \u001b[0;32mas\u001b[0m \u001b[0merr\u001b[0m\u001b[0;34m:\u001b[0m\u001b[0;34m\u001b[0m\u001b[0;34m\u001b[0m\u001b[0m\n",
      "\u001b[0;32mpandas/_libs/index.pyx\u001b[0m in \u001b[0;36mpandas._libs.index.IndexEngine.get_loc\u001b[0;34m()\u001b[0m\n",
      "\u001b[0;32mpandas/_libs/index.pyx\u001b[0m in \u001b[0;36mpandas._libs.index.IndexEngine.get_loc\u001b[0;34m()\u001b[0m\n",
      "\u001b[0;32mpandas/_libs/hashtable_class_helper.pxi\u001b[0m in \u001b[0;36mpandas._libs.hashtable.Int64HashTable.get_item\u001b[0;34m()\u001b[0m\n",
      "\u001b[0;32mpandas/_libs/hashtable_class_helper.pxi\u001b[0m in \u001b[0;36mpandas._libs.hashtable.Int64HashTable.get_item\u001b[0;34m()\u001b[0m\n",
      "\u001b[0;31mKeyError\u001b[0m: 1204650",
      "\nThe above exception was the direct cause of the following exception:\n",
      "\u001b[0;31mKeyError\u001b[0m                                  Traceback (most recent call last)",
      "\u001b[0;32m/auto/brno2/home/tslaninakova/exp/learned-indexes-repro/lmi/indexes/BaseIndex.py\u001b[0m in \u001b[0;36mget_object\u001b[0;34m(self, object, reshape)\u001b[0m\n\u001b[1;32m    114\u001b[0m             \u001b[0;32mtry\u001b[0m\u001b[0;34m:\u001b[0m\u001b[0;34m\u001b[0m\u001b[0;34m\u001b[0m\u001b[0m\n\u001b[0;32m--> 115\u001b[0;31m                 \u001b[0mobject\u001b[0m \u001b[0;34m=\u001b[0m \u001b[0mself\u001b[0m\u001b[0;34m.\u001b[0m\u001b[0mdata\u001b[0m\u001b[0;34m.\u001b[0m\u001b[0mX\u001b[0m\u001b[0;34m.\u001b[0m\u001b[0mloc\u001b[0m\u001b[0;34m[\u001b[0m\u001b[0mobject\u001b[0m\u001b[0;34m,\u001b[0m \u001b[0;34m]\u001b[0m\u001b[0;34m.\u001b[0m\u001b[0mvalues\u001b[0m\u001b[0;34m\u001b[0m\u001b[0;34m\u001b[0m\u001b[0m\n\u001b[0m\u001b[1;32m    116\u001b[0m                 \u001b[0;32mif\u001b[0m \u001b[0mreshape\u001b[0m\u001b[0;34m:\u001b[0m\u001b[0;34m\u001b[0m\u001b[0;34m\u001b[0m\u001b[0m\n",
      "\u001b[0;32m~/.local/lib/python3.6/site-packages/pandas/core/indexing.py\u001b[0m in \u001b[0;36m__getitem__\u001b[0;34m(self, key)\u001b[0m\n\u001b[1;32m    872\u001b[0m                     \u001b[0;32mpass\u001b[0m\u001b[0;34m\u001b[0m\u001b[0;34m\u001b[0m\u001b[0m\n\u001b[0;32m--> 873\u001b[0;31m             \u001b[0;32mreturn\u001b[0m \u001b[0mself\u001b[0m\u001b[0;34m.\u001b[0m\u001b[0m_getitem_tuple\u001b[0m\u001b[0;34m(\u001b[0m\u001b[0mkey\u001b[0m\u001b[0;34m)\u001b[0m\u001b[0;34m\u001b[0m\u001b[0;34m\u001b[0m\u001b[0m\n\u001b[0m\u001b[1;32m    874\u001b[0m         \u001b[0;32melse\u001b[0m\u001b[0;34m:\u001b[0m\u001b[0;34m\u001b[0m\u001b[0;34m\u001b[0m\u001b[0m\n",
      "\u001b[0;32m~/.local/lib/python3.6/site-packages/pandas/core/indexing.py\u001b[0m in \u001b[0;36m_getitem_tuple\u001b[0;34m(self, tup)\u001b[0m\n\u001b[1;32m   1043\u001b[0m         \u001b[0;32mtry\u001b[0m\u001b[0;34m:\u001b[0m\u001b[0;34m\u001b[0m\u001b[0;34m\u001b[0m\u001b[0m\n\u001b[0;32m-> 1044\u001b[0;31m             \u001b[0;32mreturn\u001b[0m \u001b[0mself\u001b[0m\u001b[0;34m.\u001b[0m\u001b[0m_getitem_lowerdim\u001b[0m\u001b[0;34m(\u001b[0m\u001b[0mtup\u001b[0m\u001b[0;34m)\u001b[0m\u001b[0;34m\u001b[0m\u001b[0;34m\u001b[0m\u001b[0m\n\u001b[0m\u001b[1;32m   1045\u001b[0m         \u001b[0;32mexcept\u001b[0m \u001b[0mIndexingError\u001b[0m\u001b[0;34m:\u001b[0m\u001b[0;34m\u001b[0m\u001b[0;34m\u001b[0m\u001b[0m\n",
      "\u001b[0;32m~/.local/lib/python3.6/site-packages/pandas/core/indexing.py\u001b[0m in \u001b[0;36m_getitem_lowerdim\u001b[0;34m(self, tup)\u001b[0m\n\u001b[1;32m    785\u001b[0m                 \u001b[0;31m#  caught by the _is_nested_tuple_indexer check above.\u001b[0m\u001b[0;34m\u001b[0m\u001b[0;34m\u001b[0m\u001b[0;34m\u001b[0m\u001b[0m\n\u001b[0;32m--> 786\u001b[0;31m                 \u001b[0msection\u001b[0m \u001b[0;34m=\u001b[0m \u001b[0mself\u001b[0m\u001b[0;34m.\u001b[0m\u001b[0m_getitem_axis\u001b[0m\u001b[0;34m(\u001b[0m\u001b[0mkey\u001b[0m\u001b[0;34m,\u001b[0m \u001b[0maxis\u001b[0m\u001b[0;34m=\u001b[0m\u001b[0mi\u001b[0m\u001b[0;34m)\u001b[0m\u001b[0;34m\u001b[0m\u001b[0;34m\u001b[0m\u001b[0m\n\u001b[0m\u001b[1;32m    787\u001b[0m \u001b[0;34m\u001b[0m\u001b[0m\n",
      "\u001b[0;32m~/.local/lib/python3.6/site-packages/pandas/core/indexing.py\u001b[0m in \u001b[0;36m_getitem_axis\u001b[0;34m(self, key, axis)\u001b[0m\n\u001b[1;32m   1109\u001b[0m         \u001b[0mself\u001b[0m\u001b[0;34m.\u001b[0m\u001b[0m_validate_key\u001b[0m\u001b[0;34m(\u001b[0m\u001b[0mkey\u001b[0m\u001b[0;34m,\u001b[0m \u001b[0maxis\u001b[0m\u001b[0;34m)\u001b[0m\u001b[0;34m\u001b[0m\u001b[0;34m\u001b[0m\u001b[0m\n\u001b[0;32m-> 1110\u001b[0;31m         \u001b[0;32mreturn\u001b[0m \u001b[0mself\u001b[0m\u001b[0;34m.\u001b[0m\u001b[0m_get_label\u001b[0m\u001b[0;34m(\u001b[0m\u001b[0mkey\u001b[0m\u001b[0;34m,\u001b[0m \u001b[0maxis\u001b[0m\u001b[0;34m=\u001b[0m\u001b[0maxis\u001b[0m\u001b[0;34m)\u001b[0m\u001b[0;34m\u001b[0m\u001b[0;34m\u001b[0m\u001b[0m\n\u001b[0m\u001b[1;32m   1111\u001b[0m \u001b[0;34m\u001b[0m\u001b[0m\n",
      "\u001b[0;32m~/.local/lib/python3.6/site-packages/pandas/core/indexing.py\u001b[0m in \u001b[0;36m_get_label\u001b[0;34m(self, label, axis)\u001b[0m\n\u001b[1;32m   1058\u001b[0m         \u001b[0;31m# GH#5667 this will fail if the label is not present in the axis.\u001b[0m\u001b[0;34m\u001b[0m\u001b[0;34m\u001b[0m\u001b[0;34m\u001b[0m\u001b[0m\n\u001b[0;32m-> 1059\u001b[0;31m         \u001b[0;32mreturn\u001b[0m \u001b[0mself\u001b[0m\u001b[0;34m.\u001b[0m\u001b[0mobj\u001b[0m\u001b[0;34m.\u001b[0m\u001b[0mxs\u001b[0m\u001b[0;34m(\u001b[0m\u001b[0mlabel\u001b[0m\u001b[0;34m,\u001b[0m \u001b[0maxis\u001b[0m\u001b[0;34m=\u001b[0m\u001b[0maxis\u001b[0m\u001b[0;34m)\u001b[0m\u001b[0;34m\u001b[0m\u001b[0;34m\u001b[0m\u001b[0m\n\u001b[0m\u001b[1;32m   1060\u001b[0m \u001b[0;34m\u001b[0m\u001b[0m\n",
      "\u001b[0;32m~/.local/lib/python3.6/site-packages/pandas/core/generic.py\u001b[0m in \u001b[0;36mxs\u001b[0;34m(self, key, axis, level, drop_level)\u001b[0m\n\u001b[1;32m   3492\u001b[0m         \u001b[0;32melse\u001b[0m\u001b[0;34m:\u001b[0m\u001b[0;34m\u001b[0m\u001b[0;34m\u001b[0m\u001b[0m\n\u001b[0;32m-> 3493\u001b[0;31m             \u001b[0mloc\u001b[0m \u001b[0;34m=\u001b[0m \u001b[0mself\u001b[0m\u001b[0;34m.\u001b[0m\u001b[0mindex\u001b[0m\u001b[0;34m.\u001b[0m\u001b[0mget_loc\u001b[0m\u001b[0;34m(\u001b[0m\u001b[0mkey\u001b[0m\u001b[0;34m)\u001b[0m\u001b[0;34m\u001b[0m\u001b[0;34m\u001b[0m\u001b[0m\n\u001b[0m\u001b[1;32m   3494\u001b[0m \u001b[0;34m\u001b[0m\u001b[0m\n",
      "\u001b[0;32m~/.local/lib/python3.6/site-packages/pandas/core/indexes/base.py\u001b[0m in \u001b[0;36mget_loc\u001b[0;34m(self, key, method, tolerance)\u001b[0m\n\u001b[1;32m   2899\u001b[0m             \u001b[0;32mexcept\u001b[0m \u001b[0mKeyError\u001b[0m \u001b[0;32mas\u001b[0m \u001b[0merr\u001b[0m\u001b[0;34m:\u001b[0m\u001b[0;34m\u001b[0m\u001b[0;34m\u001b[0m\u001b[0m\n\u001b[0;32m-> 2900\u001b[0;31m                 \u001b[0;32mraise\u001b[0m \u001b[0mKeyError\u001b[0m\u001b[0;34m(\u001b[0m\u001b[0mkey\u001b[0m\u001b[0;34m)\u001b[0m \u001b[0;32mfrom\u001b[0m \u001b[0merr\u001b[0m\u001b[0;34m\u001b[0m\u001b[0;34m\u001b[0m\u001b[0m\n\u001b[0m\u001b[1;32m   2901\u001b[0m \u001b[0;34m\u001b[0m\u001b[0m\n",
      "\u001b[0;31mKeyError\u001b[0m: 1204650",
      "\nDuring handling of the above exception, another exception occurred:\n",
      "\u001b[0;31mException\u001b[0m                                 Traceback (most recent call last)",
      "\u001b[0;32m<ipython-input-84-53c1e8f35cb0>\u001b[0m in \u001b[0;36m<module>\u001b[0;34m\u001b[0m\n\u001b[0;32m----> 1\u001b[0;31m \u001b[0mindex\u001b[0m\u001b[0;34m.\u001b[0m\u001b[0msearch\u001b[0m\u001b[0;34m(\u001b[0m\u001b[0mdf_20\u001b[0m\u001b[0;34m.\u001b[0m\u001b[0miloc\u001b[0m\u001b[0;34m[\u001b[0m\u001b[0;36m0\u001b[0m\u001b[0;34m]\u001b[0m\u001b[0;34m.\u001b[0m\u001b[0mname\u001b[0m\u001b[0;34m,\u001b[0m \u001b[0;34m[\u001b[0m\u001b[0;36m1\u001b[0m\u001b[0;34m]\u001b[0m\u001b[0;34m)\u001b[0m\u001b[0;34m\u001b[0m\u001b[0;34m\u001b[0m\u001b[0m\n\u001b[0m",
      "\u001b[0;32m/auto/brno2/home/tslaninakova/exp/learned-indexes-repro/lmi/indexes/BaseIndex.py\u001b[0m in \u001b[0;36msearch\u001b[0;34m(self, query, stop_conditions)\u001b[0m\n\u001b[1;32m    211\u001b[0m \u001b[0;34m\u001b[0m\u001b[0m\n\u001b[1;32m    212\u001b[0m             \u001b[0mpriority_queue\u001b[0m\u001b[0;34m,\u001b[0m \u001b[0mpopped_node\u001b[0m \u001b[0;34m=\u001b[0m\u001b[0;31m \u001b[0m\u001b[0;31m\\\u001b[0m\u001b[0;34m\u001b[0m\u001b[0;34m\u001b[0m\u001b[0m\n\u001b[0;32m--> 213\u001b[0;31m                 \u001b[0mself\u001b[0m\u001b[0;34m.\u001b[0m\u001b[0msearch_node\u001b[0m\u001b[0;34m(\u001b[0m\u001b[0mpriority_queue\u001b[0m\u001b[0;34m,\u001b[0m \u001b[0mquery\u001b[0m\u001b[0;34m)\u001b[0m\u001b[0;34m\u001b[0m\u001b[0;34m\u001b[0m\u001b[0m\n\u001b[0m\u001b[1;32m    214\u001b[0m \u001b[0;34m\u001b[0m\u001b[0m\n\u001b[1;32m    215\u001b[0m             \u001b[0mpopped_nodes\u001b[0m\u001b[0;34m.\u001b[0m\u001b[0mappend\u001b[0m\u001b[0;34m(\u001b[0m\u001b[0mpopped_node\u001b[0m\u001b[0;34m[\u001b[0m\u001b[0;36m0\u001b[0m\u001b[0;34m]\u001b[0m\u001b[0;34m)\u001b[0m\u001b[0;34m\u001b[0m\u001b[0;34m\u001b[0m\u001b[0m\n",
      "\u001b[0;32m/auto/brno2/home/tslaninakova/exp/learned-indexes-repro/lmi/indexes/Mtree.py\u001b[0m in \u001b[0;36msearch_node\u001b[0;34m(self, priority_queue, query)\u001b[0m\n\u001b[1;32m    100\u001b[0m \u001b[0;34m\u001b[0m\u001b[0m\n\u001b[1;32m    101\u001b[0m         \u001b[0;32mfor\u001b[0m \u001b[0mpivot_id\u001b[0m\u001b[0;34m,\u001b[0m \u001b[0mchild\u001b[0m \u001b[0;32min\u001b[0m \u001b[0mchildren_df\u001b[0m\u001b[0;34m.\u001b[0m\u001b[0miterrows\u001b[0m\u001b[0;34m(\u001b[0m\u001b[0;34m)\u001b[0m\u001b[0;34m:\u001b[0m\u001b[0;34m\u001b[0m\u001b[0;34m\u001b[0m\u001b[0m\n\u001b[0;32m--> 102\u001b[0;31m             \u001b[0mpivot\u001b[0m \u001b[0;34m=\u001b[0m \u001b[0mself\u001b[0m\u001b[0;34m.\u001b[0m\u001b[0mget_object\u001b[0m\u001b[0;34m(\u001b[0m\u001b[0mpivot_id\u001b[0m\u001b[0;34m)\u001b[0m\u001b[0;34m\u001b[0m\u001b[0;34m\u001b[0m\u001b[0m\n\u001b[0m\u001b[1;32m    103\u001b[0m \u001b[0;34m\u001b[0m\u001b[0m\n\u001b[1;32m    104\u001b[0m             \u001b[0;32mif\u001b[0m \u001b[0mself\u001b[0m\u001b[0;34m.\u001b[0m\u001b[0mdataset\u001b[0m \u001b[0;34m==\u001b[0m \u001b[0;34m'COPHIR'\u001b[0m\u001b[0;34m:\u001b[0m\u001b[0;34m\u001b[0m\u001b[0;34m\u001b[0m\u001b[0m\n",
      "\u001b[0;32m/auto/brno2/home/tslaninakova/exp/learned-indexes-repro/lmi/indexes/BaseIndex.py\u001b[0m in \u001b[0;36mget_object\u001b[0;34m(self, object, reshape)\u001b[0m\n\u001b[1;32m    119\u001b[0m                     \u001b[0;32mreturn\u001b[0m \u001b[0mobject\u001b[0m\u001b[0;34m\u001b[0m\u001b[0;34m\u001b[0m\u001b[0m\n\u001b[1;32m    120\u001b[0m             \u001b[0;32mexcept\u001b[0m \u001b[0mKeyError\u001b[0m\u001b[0;34m:\u001b[0m\u001b[0;34m\u001b[0m\u001b[0;34m\u001b[0m\u001b[0m\n\u001b[0;32m--> 121\u001b[0;31m                 \u001b[0;32mraise\u001b[0m \u001b[0mException\u001b[0m\u001b[0;34m(\u001b[0m\u001b[0;34mf'Object with id {object} does not exist in the trained dataset.'\u001b[0m\u001b[0;34m)\u001b[0m\u001b[0;34m\u001b[0m\u001b[0;34m\u001b[0m\u001b[0m\n\u001b[0m\u001b[1;32m    122\u001b[0m \u001b[0;34m\u001b[0m\u001b[0m\n\u001b[1;32m    123\u001b[0m     def pop_node(\n",
      "\u001b[0;31mException\u001b[0m: Object with id 1204650 does not exist in the trained dataset."
     ]
    }
   ],
   "source": [
    "index.search(df_20.iloc[0].name, [1])"
   ]
  },
  {
   "cell_type": "code",
   "execution_count": 17,
   "id": "13e05151",
   "metadata": {},
   "outputs": [
    {
     "name": "stdout",
     "output_type": "stream",
     "text": [
      "CPU times: user 14.2 s, sys: 659 ms, total: 14.9 s\n",
      "Wall time: 15.7 s\n"
     ]
    },
    {
     "data": {
      "text/html": [
       "<div>\n",
       "<style scoped>\n",
       "    .dataframe tbody tr th:only-of-type {\n",
       "        vertical-align: middle;\n",
       "    }\n",
       "\n",
       "    .dataframe tbody tr th {\n",
       "        vertical-align: top;\n",
       "    }\n",
       "\n",
       "    .dataframe thead th {\n",
       "        text-align: right;\n",
       "    }\n",
       "</style>\n",
       "<table border=\"1\" class=\"dataframe\">\n",
       "  <thead>\n",
       "    <tr style=\"text-align: right;\">\n",
       "      <th></th>\n",
       "      <th>L1</th>\n",
       "      <th>L2</th>\n",
       "      <th>L3</th>\n",
       "    </tr>\n",
       "    <tr>\n",
       "      <th>object_id</th>\n",
       "      <th></th>\n",
       "      <th></th>\n",
       "      <th></th>\n",
       "    </tr>\n",
       "  </thead>\n",
       "  <tbody>\n",
       "    <tr>\n",
       "      <th>296166</th>\n",
       "      <td>3</td>\n",
       "      <td>13</td>\n",
       "      <td>7</td>\n",
       "    </tr>\n",
       "    <tr>\n",
       "      <th>312568</th>\n",
       "      <td>4</td>\n",
       "      <td>17</td>\n",
       "      <td>8</td>\n",
       "    </tr>\n",
       "  </tbody>\n",
       "</table>\n",
       "</div>"
      ],
      "text/plain": [
       "           L1  L2  L3\n",
       "object_id            \n",
       "296166      3  13   7\n",
       "312568      4  17   8"
      ]
     },
     "execution_count": 17,
     "metadata": {},
     "output_type": "execute_result"
    }
   ],
   "source": [
    "loader = CoPhIRDataLoader(config)\n",
    "%time labels_mtree = loader.load_labels()\n",
    "labels_mtree.head(2)"
   ]
  },
  {
   "cell_type": "code",
   "execution_count": 46,
   "id": "72b3c23f",
   "metadata": {},
   "outputs": [],
   "source": [
    "import json\n",
    "with open('/storage/brno12-cerit/home/tslaninakova/data/ground-truths/CoPhIR-1k-for-1M-dataset.json', 'rb') as f:\n",
    "    knns = json.load(f)"
   ]
  },
  {
   "cell_type": "code",
   "execution_count": 8,
   "id": "ad4a6dab",
   "metadata": {},
   "outputs": [
    {
     "data": {
      "text/plain": [
       "'36126726'"
      ]
     },
     "execution_count": 8,
     "metadata": {},
     "output_type": "execute_result"
    }
   ],
   "source": [
    "list(knns.keys())[0]"
   ]
  },
  {
   "cell_type": "code",
   "execution_count": 16,
   "id": "348e4d3a",
   "metadata": {},
   "outputs": [
    {
     "data": {
      "text/plain": [
       "Index(['L1', 'L2', 'L3', 'L4', 'L5', 'L6'], dtype='object')"
      ]
     },
     "execution_count": 16,
     "metadata": {},
     "output_type": "execute_result"
    }
   ],
   "source": [
    "labels_mindex.columns"
   ]
  },
  {
   "cell_type": "code",
   "execution_count": 21,
   "id": "944d384c",
   "metadata": {},
   "outputs": [],
   "source": [
    "import pandas as pd\n",
    "import numpy as np"
   ]
  },
  {
   "cell_type": "code",
   "execution_count": 27,
   "id": "3fdc5908",
   "metadata": {},
   "outputs": [
    {
     "data": {
      "text/plain": [
       "True"
      ]
     },
     "execution_count": 27,
     "metadata": {},
     "output_type": "execute_result"
    }
   ],
   "source": [
    "pd.isnull(labels_mindex.loc[int(k)]['L4'])"
   ]
  },
  {
   "cell_type": "code",
   "execution_count": 30,
   "id": "60138ecf",
   "metadata": {},
   "outputs": [
    {
     "data": {
      "text/plain": [
       "'115_34_41'"
      ]
     },
     "execution_count": 30,
     "metadata": {},
     "output_type": "execute_result"
    }
   ],
   "source": [
    "p = '115_34_41_'\n",
    "p[:-1]"
   ]
  },
  {
   "cell_type": "code",
   "execution_count": 48,
   "id": "65de4bbd",
   "metadata": {},
   "outputs": [
    {
     "data": {
      "text/plain": [
       "'291838467'"
      ]
     },
     "execution_count": 48,
     "metadata": {},
     "output_type": "execute_result"
    }
   ],
   "source": [
    "list(knns[k].keys())[0]"
   ]
  },
  {
   "cell_type": "code",
   "execution_count": 54,
   "id": "713a1245",
   "metadata": {},
   "outputs": [],
   "source": [
    "query = '36126726'"
   ]
  },
  {
   "cell_type": "code",
   "execution_count": 57,
   "id": "cffaab81",
   "metadata": {},
   "outputs": [],
   "source": [
    "def get_unique_placements(labels):\n",
    "    unique_placements = []\n",
    "    for k in list(knns.keys()):\n",
    "        placements = []\n",
    "        for neighbor in list(knns[k].keys()):\n",
    "            placement = \"\"\n",
    "            for column in labels.columns:\n",
    "                if not pd.isnull(labels.loc[int(neighbor)][column]):\n",
    "                    placement += str(labels.loc[int(neighbor)][column]) + '_'\n",
    "            placements.append(placement[:-1])\n",
    "        unique_placements.append(np.unique(placements).shape[0])\n",
    "    return unique_placements"
   ]
  },
  {
   "cell_type": "code",
   "execution_count": 36,
   "id": "a43d165c",
   "metadata": {},
   "outputs": [
    {
     "data": {
      "text/plain": [
       "[18, 17, 13, 22, 8, 27, 23, 14, 14, 23]"
      ]
     },
     "execution_count": 36,
     "metadata": {},
     "output_type": "execute_result"
    }
   ],
   "source": [
    "unique_placements[:10]"
   ]
  },
  {
   "cell_type": "code",
   "execution_count": 58,
   "id": "8cfa0e23",
   "metadata": {},
   "outputs": [
    {
     "data": {
      "text/plain": [
       "[28, 30, 22, 24, 24, 27, 23, 22, 24, 29]"
      ]
     },
     "execution_count": 58,
     "metadata": {},
     "output_type": "execute_result"
    }
   ],
   "source": [
    "unique_placements_mtree = get_unique_placements(labels_mtree)\n",
    "unique_placements_mtree[:10]"
   ]
  },
  {
   "cell_type": "code",
   "execution_count": 60,
   "id": "494cf227",
   "metadata": {},
   "outputs": [
    {
     "data": {
      "text/plain": [
       "Text(0.5, 1.0, 'Dispersion of 30-NNs, M-tree (3-lvl) vs. M-index (6-lvl)')"
      ]
     },
     "execution_count": 60,
     "metadata": {},
     "output_type": "execute_result"
    },
    {
     "data": {
      "image/png": "[encoded data removed]",
      "text/plain": [
       "<Figure size 432x288 with 1 Axes>"
      ]
     },
     "metadata": {
      "needs_background": "light"
     },
     "output_type": "display_data"
    }
   ],
   "source": [
    "import seaborn as sns\n",
    "\n",
    "bp = sns.boxplot(\n",
    "    data=pd.DataFrame(\n",
    "        {'M-index': unique_placements, 'M-tree': unique_placements_mtree}\n",
    "    )\n",
    ")\n",
    "bp.set_ylabel('Number of nodes containing all 30NNs')\n",
    "bp.set_title('Dispersion of 30-NNs, M-tree (3-lvl) vs. M-index (6-lvl)')"
   ]
  },
  {
   "cell_type": "code",
   "execution_count": null,
   "id": "09fe371f",
   "metadata": {},
   "outputs": [],
   "source": [
    "import numpy as np\n",
    "\n",
    "def get_nn_placement(ref_df, col):\n",
    "    n_classes_all = []\n",
    "    for k in list(knns.keys()):\n",
    "        query_obj = ref_df.loc[int(k)]\n",
    "        #print(f\"query_obj: {query_obj['y_pred_root']}\")\n",
    "        n_classes = []\n",
    "        for neighbor in list(knns[k].keys()):\n",
    "            neighbor = ref_df.loc[int(neighbor)]\n",
    "            #print(f\"    neigh_obj: {neighbor['y_pred_root']}\")\n",
    "            n_classes.append(neighbor[col])\n",
    "        n_classes_all.append(np.unique(n_classes).shape[0])\n",
    "    return n_classes_all"
   ]
  },
  {
   "cell_type": "code",
   "execution_count": 5,
   "id": "f0f1dc2e",
   "metadata": {},
   "outputs": [
    {
     "name": "stderr",
     "output_type": "stream",
     "text": [
      "[2022-04-24 10:49:57,667][INFO ][lmi.data.DataLoader] Loading Profiset/MoCap dataset from /storage/brno12-cerit/home/tslaninakova/data/datasets/MoCap-descriptors.csv.\n"
     ]
    },
    {
     "name": "stdout",
     "output_type": "stream",
     "text": [
      "CPU times: user 12min 18s, sys: 41.4 s, total: 12min 59s\n",
      "Wall time: 12min 59s\n"
     ]
    }
   ],
   "source": [
    "%time data = loader.load_descriptors()"
   ]
  },
  {
   "cell_type": "code",
   "execution_count": 7,
   "id": "4f60c699",
   "metadata": {},
   "outputs": [],
   "source": [
    "from lmi.utils import intersect_mocap_dataset"
   ]
  },
  {
   "cell_type": "code",
   "execution_count": 10,
   "id": "21ac4d41",
   "metadata": {},
   "outputs": [],
   "source": [
    "df_new, labels_new = intersect_mocap_dataset(data, labels)"
   ]
  },
  {
   "cell_type": "code",
   "execution_count": 11,
   "id": "8261e8c0",
   "metadata": {},
   "outputs": [
    {
     "data": {
      "text/plain": [
       "((353902, 4096), (353902, 2))"
      ]
     },
     "execution_count": 11,
     "metadata": {},
     "output_type": "execute_result"
    }
   ],
   "source": [
    "df_new.shape, labels_new.shape"
   ]
  },
  {
   "cell_type": "code",
   "execution_count": null,
   "id": "197ad0d9",
   "metadata": {},
   "outputs": [],
   "source": []
  },
  {
   "cell_type": "code",
   "execution_count": 61,
   "id": "60515302",
   "metadata": {},
   "outputs": [],
   "source": [
    "import pandas as pd\n",
    "objects = pd.read_csv('/storage/brno12-cerit/home/tslaninakova/data/datasets/CoPhIR1M-objects.txt', header=None)"
   ]
  },
  {
   "cell_type": "code",
   "execution_count": 7,
   "id": "17b2d710",
   "metadata": {},
   "outputs": [
    {
     "data": {
      "text/html": [
       "<div>\n",
       "<style scoped>\n",
       "    .dataframe tbody tr th:only-of-type {\n",
       "        vertical-align: middle;\n",
       "    }\n",
       "\n",
       "    .dataframe tbody tr th {\n",
       "        vertical-align: top;\n",
       "    }\n",
       "\n",
       "    .dataframe thead th {\n",
       "        text-align: right;\n",
       "    }\n",
       "</style>\n",
       "<table border=\"1\" class=\"dataframe\">\n",
       "  <thead>\n",
       "    <tr style=\"text-align: right;\">\n",
       "      <th></th>\n",
       "      <th>0</th>\n",
       "    </tr>\n",
       "  </thead>\n",
       "  <tbody>\n",
       "    <tr>\n",
       "      <th>0</th>\n",
       "      <td>337981</td>\n",
       "    </tr>\n",
       "    <tr>\n",
       "      <th>1</th>\n",
       "      <td>549406</td>\n",
       "    </tr>\n",
       "    <tr>\n",
       "      <th>2</th>\n",
       "      <td>509874</td>\n",
       "    </tr>\n",
       "    <tr>\n",
       "      <th>3</th>\n",
       "      <td>589159</td>\n",
       "    </tr>\n",
       "    <tr>\n",
       "      <th>4</th>\n",
       "      <td>421785</td>\n",
       "    </tr>\n",
       "  </tbody>\n",
       "</table>\n",
       "</div>"
      ],
      "text/plain": [
       "        0\n",
       "0  337981\n",
       "1  549406\n",
       "2  509874\n",
       "3  589159\n",
       "4  421785"
      ]
     },
     "execution_count": 7,
     "metadata": {},
     "output_type": "execute_result"
    }
   ],
   "source": [
    "objects.head()"
   ]
  },
  {
   "cell_type": "code",
   "execution_count": 8,
   "id": "1fe20a91",
   "metadata": {},
   "outputs": [],
   "source": [
    "labels = labels.reindex(objects[0])"
   ]
  },
  {
   "cell_type": "code",
   "execution_count": 9,
   "id": "3a4ba93c",
   "metadata": {},
   "outputs": [
    {
     "data": {
      "text/html": [
       "<div>\n",
       "<style scoped>\n",
       "    .dataframe tbody tr th:only-of-type {\n",
       "        vertical-align: middle;\n",
       "    }\n",
       "\n",
       "    .dataframe tbody tr th {\n",
       "        vertical-align: top;\n",
       "    }\n",
       "\n",
       "    .dataframe thead th {\n",
       "        text-align: right;\n",
       "    }\n",
       "</style>\n",
       "<table border=\"1\" class=\"dataframe\">\n",
       "  <thead>\n",
       "    <tr style=\"text-align: right;\">\n",
       "      <th></th>\n",
       "      <th>L1</th>\n",
       "      <th>L2</th>\n",
       "    </tr>\n",
       "    <tr>\n",
       "      <th>0</th>\n",
       "      <th></th>\n",
       "      <th></th>\n",
       "    </tr>\n",
       "  </thead>\n",
       "  <tbody>\n",
       "    <tr>\n",
       "      <th>337981</th>\n",
       "      <td>5</td>\n",
       "      <td>6</td>\n",
       "    </tr>\n",
       "    <tr>\n",
       "      <th>549406</th>\n",
       "      <td>5</td>\n",
       "      <td>6</td>\n",
       "    </tr>\n",
       "    <tr>\n",
       "      <th>509874</th>\n",
       "      <td>5</td>\n",
       "      <td>6</td>\n",
       "    </tr>\n",
       "    <tr>\n",
       "      <th>589159</th>\n",
       "      <td>5</td>\n",
       "      <td>6</td>\n",
       "    </tr>\n",
       "    <tr>\n",
       "      <th>421785</th>\n",
       "      <td>5</td>\n",
       "      <td>6</td>\n",
       "    </tr>\n",
       "  </tbody>\n",
       "</table>\n",
       "</div>"
      ],
      "text/plain": [
       "        L1  L2\n",
       "0             \n",
       "337981   5   6\n",
       "549406   5   6\n",
       "509874   5   6\n",
       "589159   5   6\n",
       "421785   5   6"
      ]
     },
     "execution_count": 9,
     "metadata": {},
     "output_type": "execute_result"
    }
   ],
   "source": [
    "labels.head()"
   ]
  },
  {
   "cell_type": "code",
   "execution_count": 10,
   "id": "8adf614b",
   "metadata": {},
   "outputs": [
    {
     "data": {
      "text/html": [
       "<div>\n",
       "<style scoped>\n",
       "    .dataframe tbody tr th:only-of-type {\n",
       "        vertical-align: middle;\n",
       "    }\n",
       "\n",
       "    .dataframe tbody tr th {\n",
       "        vertical-align: top;\n",
       "    }\n",
       "\n",
       "    .dataframe thead th {\n",
       "        text-align: right;\n",
       "    }\n",
       "</style>\n",
       "<table border=\"1\" class=\"dataframe\">\n",
       "  <thead>\n",
       "    <tr style=\"text-align: right;\">\n",
       "      <th></th>\n",
       "      <th>L1</th>\n",
       "      <th>L2</th>\n",
       "    </tr>\n",
       "    <tr>\n",
       "      <th>0</th>\n",
       "      <th></th>\n",
       "      <th></th>\n",
       "    </tr>\n",
       "  </thead>\n",
       "  <tbody>\n",
       "    <tr>\n",
       "      <th>296166</th>\n",
       "      <td>3</td>\n",
       "      <td>11</td>\n",
       "    </tr>\n",
       "    <tr>\n",
       "      <th>312568</th>\n",
       "      <td>15</td>\n",
       "      <td>7</td>\n",
       "    </tr>\n",
       "    <tr>\n",
       "      <th>320479</th>\n",
       "      <td>13</td>\n",
       "      <td>60</td>\n",
       "    </tr>\n",
       "    <tr>\n",
       "      <th>325836</th>\n",
       "      <td>1</td>\n",
       "      <td>8</td>\n",
       "    </tr>\n",
       "    <tr>\n",
       "      <th>325837</th>\n",
       "      <td>1</td>\n",
       "      <td>28</td>\n",
       "    </tr>\n",
       "    <tr>\n",
       "      <th>...</th>\n",
       "      <td>...</td>\n",
       "      <td>...</td>\n",
       "    </tr>\n",
       "    <tr>\n",
       "      <th>543984434</th>\n",
       "      <td>16</td>\n",
       "      <td>32</td>\n",
       "    </tr>\n",
       "    <tr>\n",
       "      <th>543984436</th>\n",
       "      <td>1</td>\n",
       "      <td>53</td>\n",
       "    </tr>\n",
       "    <tr>\n",
       "      <th>543987212</th>\n",
       "      <td>16</td>\n",
       "      <td>84</td>\n",
       "    </tr>\n",
       "    <tr>\n",
       "      <th>543987261</th>\n",
       "      <td>13</td>\n",
       "      <td>3</td>\n",
       "    </tr>\n",
       "    <tr>\n",
       "      <th>543990416</th>\n",
       "      <td>16</td>\n",
       "      <td>74</td>\n",
       "    </tr>\n",
       "  </tbody>\n",
       "</table>\n",
       "<p>1000000 rows × 2 columns</p>\n",
       "</div>"
      ],
      "text/plain": [
       "           L1  L2\n",
       "0                \n",
       "296166      3  11\n",
       "312568     15   7\n",
       "320479     13  60\n",
       "325836      1   8\n",
       "325837      1  28\n",
       "...        ..  ..\n",
       "543984434  16  32\n",
       "543984436   1  53\n",
       "543987212  16  84\n",
       "543987261  13   3\n",
       "543990416  16  74\n",
       "\n",
       "[1000000 rows x 2 columns]"
      ]
     },
     "execution_count": 10,
     "metadata": {},
     "output_type": "execute_result"
    }
   ],
   "source": [
    "labels.sort_index()"
   ]
  },
  {
   "cell_type": "code",
   "execution_count": 7,
   "id": "d3e142ad",
   "metadata": {},
   "outputs": [
    {
     "data": {
      "text/plain": [
       "0\n",
       "337981        3\n",
       "549406       15\n",
       "509874       13\n",
       "589159        1\n",
       "421785        1\n",
       "             ..\n",
       "541533206    16\n",
       "542068518     1\n",
       "542156527    16\n",
       "542844034    13\n",
       "543578897    16\n",
       "Name: L1, Length: 1000000, dtype: uint32"
      ]
     },
     "execution_count": 7,
     "metadata": {},
     "output_type": "execute_result"
    }
   ],
   "source": [
    "labels.set_index(objects[0])[\"L1\"]"
   ]
  },
  {
   "cell_type": "code",
   "execution_count": 11,
   "id": "b0fcf8b1",
   "metadata": {},
   "outputs": [
    {
     "data": {
      "text/plain": [
       "0\n",
       "337981       5\n",
       "549406       5\n",
       "509874       5\n",
       "589159       5\n",
       "421785       5\n",
       "            ..\n",
       "541533206    2\n",
       "542068518    2\n",
       "542156527    2\n",
       "542844034    2\n",
       "543578897    2\n",
       "Name: L1, Length: 1000000, dtype: uint32"
      ]
     },
     "execution_count": 11,
     "metadata": {},
     "output_type": "execute_result"
    }
   ],
   "source": [
    "labels.reindex(objects[0])[\"L1\"]"
   ]
  },
  {
   "cell_type": "code",
   "execution_count": 64,
   "id": "85cc2e65",
   "metadata": {},
   "outputs": [
    {
     "data": {
      "text/html": [
       "<div>\n",
       "<style scoped>\n",
       "    .dataframe tbody tr th:only-of-type {\n",
       "        vertical-align: middle;\n",
       "    }\n",
       "\n",
       "    .dataframe tbody tr th {\n",
       "        vertical-align: top;\n",
       "    }\n",
       "\n",
       "    .dataframe thead th {\n",
       "        text-align: right;\n",
       "    }\n",
       "</style>\n",
       "<table border=\"1\" class=\"dataframe\">\n",
       "  <thead>\n",
       "    <tr style=\"text-align: right;\">\n",
       "      <th></th>\n",
       "      <th>L1</th>\n",
       "      <th>L2</th>\n",
       "      <th>L3</th>\n",
       "      <th>L4</th>\n",
       "      <th>L5</th>\n",
       "      <th>L6</th>\n",
       "    </tr>\n",
       "    <tr>\n",
       "      <th>object_id</th>\n",
       "      <th></th>\n",
       "      <th></th>\n",
       "      <th></th>\n",
       "      <th></th>\n",
       "      <th></th>\n",
       "      <th></th>\n",
       "    </tr>\n",
       "  </thead>\n",
       "  <tbody>\n",
       "    <tr>\n",
       "      <th>296166</th>\n",
       "      <td>71</td>\n",
       "      <td>57</td>\n",
       "      <td>&lt;NA&gt;</td>\n",
       "      <td>&lt;NA&gt;</td>\n",
       "      <td>&lt;NA&gt;</td>\n",
       "      <td>&lt;NA&gt;</td>\n",
       "    </tr>\n",
       "    <tr>\n",
       "      <th>14446948</th>\n",
       "      <td>71</td>\n",
       "      <td>57</td>\n",
       "      <td>&lt;NA&gt;</td>\n",
       "      <td>&lt;NA&gt;</td>\n",
       "      <td>&lt;NA&gt;</td>\n",
       "      <td>&lt;NA&gt;</td>\n",
       "    </tr>\n",
       "    <tr>\n",
       "      <th>25880037</th>\n",
       "      <td>71</td>\n",
       "      <td>57</td>\n",
       "      <td>&lt;NA&gt;</td>\n",
       "      <td>&lt;NA&gt;</td>\n",
       "      <td>&lt;NA&gt;</td>\n",
       "      <td>&lt;NA&gt;</td>\n",
       "    </tr>\n",
       "    <tr>\n",
       "      <th>25881366</th>\n",
       "      <td>71</td>\n",
       "      <td>57</td>\n",
       "      <td>&lt;NA&gt;</td>\n",
       "      <td>&lt;NA&gt;</td>\n",
       "      <td>&lt;NA&gt;</td>\n",
       "      <td>&lt;NA&gt;</td>\n",
       "    </tr>\n",
       "    <tr>\n",
       "      <th>25883336</th>\n",
       "      <td>71</td>\n",
       "      <td>57</td>\n",
       "      <td>&lt;NA&gt;</td>\n",
       "      <td>&lt;NA&gt;</td>\n",
       "      <td>&lt;NA&gt;</td>\n",
       "      <td>&lt;NA&gt;</td>\n",
       "    </tr>\n",
       "    <tr>\n",
       "      <th>29287111</th>\n",
       "      <td>71</td>\n",
       "      <td>57</td>\n",
       "      <td>&lt;NA&gt;</td>\n",
       "      <td>&lt;NA&gt;</td>\n",
       "      <td>&lt;NA&gt;</td>\n",
       "      <td>&lt;NA&gt;</td>\n",
       "    </tr>\n",
       "    <tr>\n",
       "      <th>39110534</th>\n",
       "      <td>71</td>\n",
       "      <td>57</td>\n",
       "      <td>&lt;NA&gt;</td>\n",
       "      <td>&lt;NA&gt;</td>\n",
       "      <td>&lt;NA&gt;</td>\n",
       "      <td>&lt;NA&gt;</td>\n",
       "    </tr>\n",
       "    <tr>\n",
       "      <th>65549305</th>\n",
       "      <td>71</td>\n",
       "      <td>57</td>\n",
       "      <td>&lt;NA&gt;</td>\n",
       "      <td>&lt;NA&gt;</td>\n",
       "      <td>&lt;NA&gt;</td>\n",
       "      <td>&lt;NA&gt;</td>\n",
       "    </tr>\n",
       "    <tr>\n",
       "      <th>100537236</th>\n",
       "      <td>71</td>\n",
       "      <td>57</td>\n",
       "      <td>&lt;NA&gt;</td>\n",
       "      <td>&lt;NA&gt;</td>\n",
       "      <td>&lt;NA&gt;</td>\n",
       "      <td>&lt;NA&gt;</td>\n",
       "    </tr>\n",
       "    <tr>\n",
       "      <th>102281881</th>\n",
       "      <td>71</td>\n",
       "      <td>57</td>\n",
       "      <td>&lt;NA&gt;</td>\n",
       "      <td>&lt;NA&gt;</td>\n",
       "      <td>&lt;NA&gt;</td>\n",
       "      <td>&lt;NA&gt;</td>\n",
       "    </tr>\n",
       "    <tr>\n",
       "      <th>110326801</th>\n",
       "      <td>71</td>\n",
       "      <td>57</td>\n",
       "      <td>&lt;NA&gt;</td>\n",
       "      <td>&lt;NA&gt;</td>\n",
       "      <td>&lt;NA&gt;</td>\n",
       "      <td>&lt;NA&gt;</td>\n",
       "    </tr>\n",
       "    <tr>\n",
       "      <th>135907460</th>\n",
       "      <td>71</td>\n",
       "      <td>57</td>\n",
       "      <td>&lt;NA&gt;</td>\n",
       "      <td>&lt;NA&gt;</td>\n",
       "      <td>&lt;NA&gt;</td>\n",
       "      <td>&lt;NA&gt;</td>\n",
       "    </tr>\n",
       "    <tr>\n",
       "      <th>162702681</th>\n",
       "      <td>71</td>\n",
       "      <td>57</td>\n",
       "      <td>&lt;NA&gt;</td>\n",
       "      <td>&lt;NA&gt;</td>\n",
       "      <td>&lt;NA&gt;</td>\n",
       "      <td>&lt;NA&gt;</td>\n",
       "    </tr>\n",
       "    <tr>\n",
       "      <th>169670419</th>\n",
       "      <td>71</td>\n",
       "      <td>57</td>\n",
       "      <td>&lt;NA&gt;</td>\n",
       "      <td>&lt;NA&gt;</td>\n",
       "      <td>&lt;NA&gt;</td>\n",
       "      <td>&lt;NA&gt;</td>\n",
       "    </tr>\n",
       "    <tr>\n",
       "      <th>180265904</th>\n",
       "      <td>71</td>\n",
       "      <td>57</td>\n",
       "      <td>&lt;NA&gt;</td>\n",
       "      <td>&lt;NA&gt;</td>\n",
       "      <td>&lt;NA&gt;</td>\n",
       "      <td>&lt;NA&gt;</td>\n",
       "    </tr>\n",
       "    <tr>\n",
       "      <th>189388993</th>\n",
       "      <td>71</td>\n",
       "      <td>57</td>\n",
       "      <td>&lt;NA&gt;</td>\n",
       "      <td>&lt;NA&gt;</td>\n",
       "      <td>&lt;NA&gt;</td>\n",
       "      <td>&lt;NA&gt;</td>\n",
       "    </tr>\n",
       "    <tr>\n",
       "      <th>200231368</th>\n",
       "      <td>71</td>\n",
       "      <td>57</td>\n",
       "      <td>&lt;NA&gt;</td>\n",
       "      <td>&lt;NA&gt;</td>\n",
       "      <td>&lt;NA&gt;</td>\n",
       "      <td>&lt;NA&gt;</td>\n",
       "    </tr>\n",
       "    <tr>\n",
       "      <th>215349109</th>\n",
       "      <td>71</td>\n",
       "      <td>57</td>\n",
       "      <td>&lt;NA&gt;</td>\n",
       "      <td>&lt;NA&gt;</td>\n",
       "      <td>&lt;NA&gt;</td>\n",
       "      <td>&lt;NA&gt;</td>\n",
       "    </tr>\n",
       "    <tr>\n",
       "      <th>221798032</th>\n",
       "      <td>71</td>\n",
       "      <td>57</td>\n",
       "      <td>&lt;NA&gt;</td>\n",
       "      <td>&lt;NA&gt;</td>\n",
       "      <td>&lt;NA&gt;</td>\n",
       "      <td>&lt;NA&gt;</td>\n",
       "    </tr>\n",
       "    <tr>\n",
       "      <th>222449196</th>\n",
       "      <td>71</td>\n",
       "      <td>57</td>\n",
       "      <td>&lt;NA&gt;</td>\n",
       "      <td>&lt;NA&gt;</td>\n",
       "      <td>&lt;NA&gt;</td>\n",
       "      <td>&lt;NA&gt;</td>\n",
       "    </tr>\n",
       "    <tr>\n",
       "      <th>232316667</th>\n",
       "      <td>71</td>\n",
       "      <td>57</td>\n",
       "      <td>&lt;NA&gt;</td>\n",
       "      <td>&lt;NA&gt;</td>\n",
       "      <td>&lt;NA&gt;</td>\n",
       "      <td>&lt;NA&gt;</td>\n",
       "    </tr>\n",
       "    <tr>\n",
       "      <th>233933681</th>\n",
       "      <td>71</td>\n",
       "      <td>57</td>\n",
       "      <td>&lt;NA&gt;</td>\n",
       "      <td>&lt;NA&gt;</td>\n",
       "      <td>&lt;NA&gt;</td>\n",
       "      <td>&lt;NA&gt;</td>\n",
       "    </tr>\n",
       "    <tr>\n",
       "      <th>236214032</th>\n",
       "      <td>71</td>\n",
       "      <td>57</td>\n",
       "      <td>&lt;NA&gt;</td>\n",
       "      <td>&lt;NA&gt;</td>\n",
       "      <td>&lt;NA&gt;</td>\n",
       "      <td>&lt;NA&gt;</td>\n",
       "    </tr>\n",
       "    <tr>\n",
       "      <th>252872046</th>\n",
       "      <td>71</td>\n",
       "      <td>57</td>\n",
       "      <td>&lt;NA&gt;</td>\n",
       "      <td>&lt;NA&gt;</td>\n",
       "      <td>&lt;NA&gt;</td>\n",
       "      <td>&lt;NA&gt;</td>\n",
       "    </tr>\n",
       "    <tr>\n",
       "      <th>258095856</th>\n",
       "      <td>71</td>\n",
       "      <td>57</td>\n",
       "      <td>&lt;NA&gt;</td>\n",
       "      <td>&lt;NA&gt;</td>\n",
       "      <td>&lt;NA&gt;</td>\n",
       "      <td>&lt;NA&gt;</td>\n",
       "    </tr>\n",
       "    <tr>\n",
       "      <th>274207601</th>\n",
       "      <td>71</td>\n",
       "      <td>57</td>\n",
       "      <td>&lt;NA&gt;</td>\n",
       "      <td>&lt;NA&gt;</td>\n",
       "      <td>&lt;NA&gt;</td>\n",
       "      <td>&lt;NA&gt;</td>\n",
       "    </tr>\n",
       "    <tr>\n",
       "      <th>277775826</th>\n",
       "      <td>71</td>\n",
       "      <td>57</td>\n",
       "      <td>&lt;NA&gt;</td>\n",
       "      <td>&lt;NA&gt;</td>\n",
       "      <td>&lt;NA&gt;</td>\n",
       "      <td>&lt;NA&gt;</td>\n",
       "    </tr>\n",
       "    <tr>\n",
       "      <th>284839660</th>\n",
       "      <td>71</td>\n",
       "      <td>57</td>\n",
       "      <td>&lt;NA&gt;</td>\n",
       "      <td>&lt;NA&gt;</td>\n",
       "      <td>&lt;NA&gt;</td>\n",
       "      <td>&lt;NA&gt;</td>\n",
       "    </tr>\n",
       "    <tr>\n",
       "      <th>294791529</th>\n",
       "      <td>71</td>\n",
       "      <td>57</td>\n",
       "      <td>&lt;NA&gt;</td>\n",
       "      <td>&lt;NA&gt;</td>\n",
       "      <td>&lt;NA&gt;</td>\n",
       "      <td>&lt;NA&gt;</td>\n",
       "    </tr>\n",
       "    <tr>\n",
       "      <th>308170266</th>\n",
       "      <td>71</td>\n",
       "      <td>57</td>\n",
       "      <td>&lt;NA&gt;</td>\n",
       "      <td>&lt;NA&gt;</td>\n",
       "      <td>&lt;NA&gt;</td>\n",
       "      <td>&lt;NA&gt;</td>\n",
       "    </tr>\n",
       "    <tr>\n",
       "      <th>314041089</th>\n",
       "      <td>71</td>\n",
       "      <td>57</td>\n",
       "      <td>&lt;NA&gt;</td>\n",
       "      <td>&lt;NA&gt;</td>\n",
       "      <td>&lt;NA&gt;</td>\n",
       "      <td>&lt;NA&gt;</td>\n",
       "    </tr>\n",
       "    <tr>\n",
       "      <th>343015465</th>\n",
       "      <td>71</td>\n",
       "      <td>57</td>\n",
       "      <td>&lt;NA&gt;</td>\n",
       "      <td>&lt;NA&gt;</td>\n",
       "      <td>&lt;NA&gt;</td>\n",
       "      <td>&lt;NA&gt;</td>\n",
       "    </tr>\n",
       "    <tr>\n",
       "      <th>349506870</th>\n",
       "      <td>71</td>\n",
       "      <td>57</td>\n",
       "      <td>&lt;NA&gt;</td>\n",
       "      <td>&lt;NA&gt;</td>\n",
       "      <td>&lt;NA&gt;</td>\n",
       "      <td>&lt;NA&gt;</td>\n",
       "    </tr>\n",
       "    <tr>\n",
       "      <th>349781875</th>\n",
       "      <td>71</td>\n",
       "      <td>57</td>\n",
       "      <td>&lt;NA&gt;</td>\n",
       "      <td>&lt;NA&gt;</td>\n",
       "      <td>&lt;NA&gt;</td>\n",
       "      <td>&lt;NA&gt;</td>\n",
       "    </tr>\n",
       "    <tr>\n",
       "      <th>356178311</th>\n",
       "      <td>71</td>\n",
       "      <td>57</td>\n",
       "      <td>&lt;NA&gt;</td>\n",
       "      <td>&lt;NA&gt;</td>\n",
       "      <td>&lt;NA&gt;</td>\n",
       "      <td>&lt;NA&gt;</td>\n",
       "    </tr>\n",
       "    <tr>\n",
       "      <th>366105419</th>\n",
       "      <td>71</td>\n",
       "      <td>57</td>\n",
       "      <td>&lt;NA&gt;</td>\n",
       "      <td>&lt;NA&gt;</td>\n",
       "      <td>&lt;NA&gt;</td>\n",
       "      <td>&lt;NA&gt;</td>\n",
       "    </tr>\n",
       "    <tr>\n",
       "      <th>382152730</th>\n",
       "      <td>71</td>\n",
       "      <td>57</td>\n",
       "      <td>&lt;NA&gt;</td>\n",
       "      <td>&lt;NA&gt;</td>\n",
       "      <td>&lt;NA&gt;</td>\n",
       "      <td>&lt;NA&gt;</td>\n",
       "    </tr>\n",
       "    <tr>\n",
       "      <th>388506439</th>\n",
       "      <td>71</td>\n",
       "      <td>57</td>\n",
       "      <td>&lt;NA&gt;</td>\n",
       "      <td>&lt;NA&gt;</td>\n",
       "      <td>&lt;NA&gt;</td>\n",
       "      <td>&lt;NA&gt;</td>\n",
       "    </tr>\n",
       "    <tr>\n",
       "      <th>390757388</th>\n",
       "      <td>71</td>\n",
       "      <td>57</td>\n",
       "      <td>&lt;NA&gt;</td>\n",
       "      <td>&lt;NA&gt;</td>\n",
       "      <td>&lt;NA&gt;</td>\n",
       "      <td>&lt;NA&gt;</td>\n",
       "    </tr>\n",
       "    <tr>\n",
       "      <th>394617430</th>\n",
       "      <td>71</td>\n",
       "      <td>57</td>\n",
       "      <td>&lt;NA&gt;</td>\n",
       "      <td>&lt;NA&gt;</td>\n",
       "      <td>&lt;NA&gt;</td>\n",
       "      <td>&lt;NA&gt;</td>\n",
       "    </tr>\n",
       "    <tr>\n",
       "      <th>396661107</th>\n",
       "      <td>71</td>\n",
       "      <td>57</td>\n",
       "      <td>&lt;NA&gt;</td>\n",
       "      <td>&lt;NA&gt;</td>\n",
       "      <td>&lt;NA&gt;</td>\n",
       "      <td>&lt;NA&gt;</td>\n",
       "    </tr>\n",
       "    <tr>\n",
       "      <th>400338463</th>\n",
       "      <td>71</td>\n",
       "      <td>57</td>\n",
       "      <td>&lt;NA&gt;</td>\n",
       "      <td>&lt;NA&gt;</td>\n",
       "      <td>&lt;NA&gt;</td>\n",
       "      <td>&lt;NA&gt;</td>\n",
       "    </tr>\n",
       "    <tr>\n",
       "      <th>402409059</th>\n",
       "      <td>71</td>\n",
       "      <td>57</td>\n",
       "      <td>&lt;NA&gt;</td>\n",
       "      <td>&lt;NA&gt;</td>\n",
       "      <td>&lt;NA&gt;</td>\n",
       "      <td>&lt;NA&gt;</td>\n",
       "    </tr>\n",
       "    <tr>\n",
       "      <th>430586523</th>\n",
       "      <td>71</td>\n",
       "      <td>57</td>\n",
       "      <td>&lt;NA&gt;</td>\n",
       "      <td>&lt;NA&gt;</td>\n",
       "      <td>&lt;NA&gt;</td>\n",
       "      <td>&lt;NA&gt;</td>\n",
       "    </tr>\n",
       "    <tr>\n",
       "      <th>431718852</th>\n",
       "      <td>71</td>\n",
       "      <td>57</td>\n",
       "      <td>&lt;NA&gt;</td>\n",
       "      <td>&lt;NA&gt;</td>\n",
       "      <td>&lt;NA&gt;</td>\n",
       "      <td>&lt;NA&gt;</td>\n",
       "    </tr>\n",
       "    <tr>\n",
       "      <th>458611461</th>\n",
       "      <td>71</td>\n",
       "      <td>57</td>\n",
       "      <td>&lt;NA&gt;</td>\n",
       "      <td>&lt;NA&gt;</td>\n",
       "      <td>&lt;NA&gt;</td>\n",
       "      <td>&lt;NA&gt;</td>\n",
       "    </tr>\n",
       "    <tr>\n",
       "      <th>529948916</th>\n",
       "      <td>71</td>\n",
       "      <td>57</td>\n",
       "      <td>&lt;NA&gt;</td>\n",
       "      <td>&lt;NA&gt;</td>\n",
       "      <td>&lt;NA&gt;</td>\n",
       "      <td>&lt;NA&gt;</td>\n",
       "    </tr>\n",
       "    <tr>\n",
       "      <th>536871955</th>\n",
       "      <td>71</td>\n",
       "      <td>57</td>\n",
       "      <td>&lt;NA&gt;</td>\n",
       "      <td>&lt;NA&gt;</td>\n",
       "      <td>&lt;NA&gt;</td>\n",
       "      <td>&lt;NA&gt;</td>\n",
       "    </tr>\n",
       "    <tr>\n",
       "      <th>541199815</th>\n",
       "      <td>71</td>\n",
       "      <td>57</td>\n",
       "      <td>&lt;NA&gt;</td>\n",
       "      <td>&lt;NA&gt;</td>\n",
       "      <td>&lt;NA&gt;</td>\n",
       "      <td>&lt;NA&gt;</td>\n",
       "    </tr>\n",
       "  </tbody>\n",
       "</table>\n",
       "</div>"
      ],
      "text/plain": [
       "           L1  L2    L3    L4    L5    L6\n",
       "object_id                                \n",
       "296166     71  57  <NA>  <NA>  <NA>  <NA>\n",
       "14446948   71  57  <NA>  <NA>  <NA>  <NA>\n",
       "25880037   71  57  <NA>  <NA>  <NA>  <NA>\n",
       "25881366   71  57  <NA>  <NA>  <NA>  <NA>\n",
       "25883336   71  57  <NA>  <NA>  <NA>  <NA>\n",
       "29287111   71  57  <NA>  <NA>  <NA>  <NA>\n",
       "39110534   71  57  <NA>  <NA>  <NA>  <NA>\n",
       "65549305   71  57  <NA>  <NA>  <NA>  <NA>\n",
       "100537236  71  57  <NA>  <NA>  <NA>  <NA>\n",
       "102281881  71  57  <NA>  <NA>  <NA>  <NA>\n",
       "110326801  71  57  <NA>  <NA>  <NA>  <NA>\n",
       "135907460  71  57  <NA>  <NA>  <NA>  <NA>\n",
       "162702681  71  57  <NA>  <NA>  <NA>  <NA>\n",
       "169670419  71  57  <NA>  <NA>  <NA>  <NA>\n",
       "180265904  71  57  <NA>  <NA>  <NA>  <NA>\n",
       "189388993  71  57  <NA>  <NA>  <NA>  <NA>\n",
       "200231368  71  57  <NA>  <NA>  <NA>  <NA>\n",
       "215349109  71  57  <NA>  <NA>  <NA>  <NA>\n",
       "221798032  71  57  <NA>  <NA>  <NA>  <NA>\n",
       "222449196  71  57  <NA>  <NA>  <NA>  <NA>\n",
       "232316667  71  57  <NA>  <NA>  <NA>  <NA>\n",
       "233933681  71  57  <NA>  <NA>  <NA>  <NA>\n",
       "236214032  71  57  <NA>  <NA>  <NA>  <NA>\n",
       "252872046  71  57  <NA>  <NA>  <NA>  <NA>\n",
       "258095856  71  57  <NA>  <NA>  <NA>  <NA>\n",
       "274207601  71  57  <NA>  <NA>  <NA>  <NA>\n",
       "277775826  71  57  <NA>  <NA>  <NA>  <NA>\n",
       "284839660  71  57  <NA>  <NA>  <NA>  <NA>\n",
       "294791529  71  57  <NA>  <NA>  <NA>  <NA>\n",
       "308170266  71  57  <NA>  <NA>  <NA>  <NA>\n",
       "314041089  71  57  <NA>  <NA>  <NA>  <NA>\n",
       "343015465  71  57  <NA>  <NA>  <NA>  <NA>\n",
       "349506870  71  57  <NA>  <NA>  <NA>  <NA>\n",
       "349781875  71  57  <NA>  <NA>  <NA>  <NA>\n",
       "356178311  71  57  <NA>  <NA>  <NA>  <NA>\n",
       "366105419  71  57  <NA>  <NA>  <NA>  <NA>\n",
       "382152730  71  57  <NA>  <NA>  <NA>  <NA>\n",
       "388506439  71  57  <NA>  <NA>  <NA>  <NA>\n",
       "390757388  71  57  <NA>  <NA>  <NA>  <NA>\n",
       "394617430  71  57  <NA>  <NA>  <NA>  <NA>\n",
       "396661107  71  57  <NA>  <NA>  <NA>  <NA>\n",
       "400338463  71  57  <NA>  <NA>  <NA>  <NA>\n",
       "402409059  71  57  <NA>  <NA>  <NA>  <NA>\n",
       "430586523  71  57  <NA>  <NA>  <NA>  <NA>\n",
       "431718852  71  57  <NA>  <NA>  <NA>  <NA>\n",
       "458611461  71  57  <NA>  <NA>  <NA>  <NA>\n",
       "529948916  71  57  <NA>  <NA>  <NA>  <NA>\n",
       "536871955  71  57  <NA>  <NA>  <NA>  <NA>\n",
       "541199815  71  57  <NA>  <NA>  <NA>  <NA>"
      ]
     },
     "execution_count": 64,
     "metadata": {},
     "output_type": "execute_result"
    }
   ],
   "source": [
    "labels_mindex[(labels_mindex['L1'] == 71) & (labels_mindex['L2'] == 57)]"
   ]
  },
  {
   "cell_type": "code",
   "execution_count": 62,
   "id": "fd93f746",
   "metadata": {},
   "outputs": [],
   "source": [
    "labels_mindex.reindex(objects[0]).to_csv('/storage/brno2/home/tslaninakova/CoPhIR1M-Mindex-2000-labels.csv', index=None, header=None)"
   ]
  },
  {
   "cell_type": "code",
   "execution_count": 36,
   "id": "362d684f",
   "metadata": {},
   "outputs": [],
   "source": [
    "loader = CoPhIRDataLoader(config)"
   ]
  },
  {
   "cell_type": "code",
   "execution_count": 37,
   "id": "b771d4ca",
   "metadata": {},
   "outputs": [
    {
     "name": "stderr",
     "output_type": "stream",
     "text": [
      "[2022-04-07 09:04:26,848][INFO ][lmi.data.DataLoader] Loading CoPhIR dataset from /storage/brno12-cerit/home/tslaninakova/data//pivots/MIndex-CoPhIR-1M-descriptors.csv.\n"
     ]
    }
   ],
   "source": [
    "#labels = loader.load_labels()\n",
    "pivot_df = loader.load_mindex_pivots()"
   ]
  },
  {
   "cell_type": "code",
   "execution_count": 38,
   "id": "047cf9d5",
   "metadata": {},
   "outputs": [
    {
     "data": {
      "text/html": [
       "<div>\n",
       "<style scoped>\n",
       "    .dataframe tbody tr th:only-of-type {\n",
       "        vertical-align: middle;\n",
       "    }\n",
       "\n",
       "    .dataframe tbody tr th {\n",
       "        vertical-align: top;\n",
       "    }\n",
       "\n",
       "    .dataframe thead th {\n",
       "        text-align: right;\n",
       "    }\n",
       "</style>\n",
       "<table border=\"1\" class=\"dataframe\">\n",
       "  <thead>\n",
       "    <tr style=\"text-align: right;\">\n",
       "      <th></th>\n",
       "      <th>0</th>\n",
       "      <th>1</th>\n",
       "      <th>2</th>\n",
       "      <th>3</th>\n",
       "      <th>4</th>\n",
       "      <th>5</th>\n",
       "      <th>6</th>\n",
       "      <th>7</th>\n",
       "      <th>8</th>\n",
       "      <th>9</th>\n",
       "      <th>...</th>\n",
       "      <th>274</th>\n",
       "      <th>275</th>\n",
       "      <th>276</th>\n",
       "      <th>277</th>\n",
       "      <th>278</th>\n",
       "      <th>279</th>\n",
       "      <th>280</th>\n",
       "      <th>281</th>\n",
       "      <th>282</th>\n",
       "      <th>283</th>\n",
       "    </tr>\n",
       "  </thead>\n",
       "  <tbody>\n",
       "    <tr>\n",
       "      <th>13622840</th>\n",
       "      <td>14</td>\n",
       "      <td>25</td>\n",
       "      <td>9</td>\n",
       "      <td>14</td>\n",
       "      <td>20</td>\n",
       "      <td>8</td>\n",
       "      <td>30</td>\n",
       "      <td>16</td>\n",
       "      <td>17</td>\n",
       "      <td>30</td>\n",
       "      <td>...</td>\n",
       "      <td>4</td>\n",
       "      <td>-1</td>\n",
       "      <td>0</td>\n",
       "      <td>0</td>\n",
       "      <td>0</td>\n",
       "      <td>-2</td>\n",
       "      <td>1</td>\n",
       "      <td>0</td>\n",
       "      <td>-3</td>\n",
       "      <td>-3</td>\n",
       "    </tr>\n",
       "    <tr>\n",
       "      <th>27736222</th>\n",
       "      <td>23</td>\n",
       "      <td>9</td>\n",
       "      <td>29</td>\n",
       "      <td>7</td>\n",
       "      <td>6</td>\n",
       "      <td>8</td>\n",
       "      <td>32</td>\n",
       "      <td>16</td>\n",
       "      <td>16</td>\n",
       "      <td>32</td>\n",
       "      <td>...</td>\n",
       "      <td>3</td>\n",
       "      <td>0</td>\n",
       "      <td>0</td>\n",
       "      <td>0</td>\n",
       "      <td>0</td>\n",
       "      <td>-2</td>\n",
       "      <td>1</td>\n",
       "      <td>0</td>\n",
       "      <td>-3</td>\n",
       "      <td>-3</td>\n",
       "    </tr>\n",
       "    <tr>\n",
       "      <th>33248999</th>\n",
       "      <td>30</td>\n",
       "      <td>11</td>\n",
       "      <td>25</td>\n",
       "      <td>16</td>\n",
       "      <td>11</td>\n",
       "      <td>11</td>\n",
       "      <td>34</td>\n",
       "      <td>16</td>\n",
       "      <td>17</td>\n",
       "      <td>31</td>\n",
       "      <td>...</td>\n",
       "      <td>1</td>\n",
       "      <td>-5</td>\n",
       "      <td>1</td>\n",
       "      <td>0</td>\n",
       "      <td>0</td>\n",
       "      <td>-2</td>\n",
       "      <td>0</td>\n",
       "      <td>0</td>\n",
       "      <td>-3</td>\n",
       "      <td>-3</td>\n",
       "    </tr>\n",
       "    <tr>\n",
       "      <th>53697048</th>\n",
       "      <td>16</td>\n",
       "      <td>12</td>\n",
       "      <td>21</td>\n",
       "      <td>16</td>\n",
       "      <td>14</td>\n",
       "      <td>15</td>\n",
       "      <td>30</td>\n",
       "      <td>15</td>\n",
       "      <td>17</td>\n",
       "      <td>37</td>\n",
       "      <td>...</td>\n",
       "      <td>3</td>\n",
       "      <td>1</td>\n",
       "      <td>-1</td>\n",
       "      <td>-1</td>\n",
       "      <td>0</td>\n",
       "      <td>-2</td>\n",
       "      <td>-1</td>\n",
       "      <td>0</td>\n",
       "      <td>-4</td>\n",
       "      <td>-8</td>\n",
       "    </tr>\n",
       "    <tr>\n",
       "      <th>56724598</th>\n",
       "      <td>28</td>\n",
       "      <td>27</td>\n",
       "      <td>17</td>\n",
       "      <td>22</td>\n",
       "      <td>20</td>\n",
       "      <td>12</td>\n",
       "      <td>26</td>\n",
       "      <td>17</td>\n",
       "      <td>11</td>\n",
       "      <td>25</td>\n",
       "      <td>...</td>\n",
       "      <td>4</td>\n",
       "      <td>1</td>\n",
       "      <td>0</td>\n",
       "      <td>-2</td>\n",
       "      <td>-1</td>\n",
       "      <td>-2</td>\n",
       "      <td>1</td>\n",
       "      <td>-1</td>\n",
       "      <td>-3</td>\n",
       "      <td>-3</td>\n",
       "    </tr>\n",
       "  </tbody>\n",
       "</table>\n",
       "<p>5 rows × 282 columns</p>\n",
       "</div>"
      ],
      "text/plain": [
       "          0    1    2    3    4    5    6    7    8    9    ...  274  275  \\\n",
       "13622840   14   25    9   14   20    8   30   16   17   30  ...    4   -1   \n",
       "27736222   23    9   29    7    6    8   32   16   16   32  ...    3    0   \n",
       "33248999   30   11   25   16   11   11   34   16   17   31  ...    1   -5   \n",
       "53697048   16   12   21   16   14   15   30   15   17   37  ...    3    1   \n",
       "56724598   28   27   17   22   20   12   26   17   11   25  ...    4    1   \n",
       "\n",
       "          276  277  278  279  280  281  282  283  \n",
       "13622840    0    0    0   -2    1    0   -3   -3  \n",
       "27736222    0    0    0   -2    1    0   -3   -3  \n",
       "33248999    1    0    0   -2    0    0   -3   -3  \n",
       "53697048   -1   -1    0   -2   -1    0   -4   -8  \n",
       "56724598    0   -2   -1   -2    1   -1   -3   -3  \n",
       "\n",
       "[5 rows x 282 columns]"
      ]
     },
     "execution_count": 38,
     "metadata": {},
     "output_type": "execute_result"
    }
   ],
   "source": [
    "pivot_df.head()"
   ]
  },
  {
   "cell_type": "code",
   "execution_count": 41,
   "id": "37ad7487",
   "metadata": {},
   "outputs": [],
   "source": [
    "import gc"
   ]
  },
  {
   "cell_type": "code",
   "execution_count": 39,
   "id": "30913d33",
   "metadata": {},
   "outputs": [],
   "source": [
    "del pivot_df"
   ]
  },
  {
   "cell_type": "code",
   "execution_count": 40,
   "id": "ca10f721",
   "metadata": {},
   "outputs": [],
   "source": [
    "del queries"
   ]
  },
  {
   "cell_type": "code",
   "execution_count": 42,
   "id": "9343892a",
   "metadata": {},
   "outputs": [],
   "source": [
    "del dataset"
   ]
  },
  {
   "cell_type": "code",
   "execution_count": 44,
   "id": "412948a4",
   "metadata": {},
   "outputs": [],
   "source": [
    "del loader"
   ]
  },
  {
   "cell_type": "code",
   "execution_count": 45,
   "id": "e5aa7125",
   "metadata": {},
   "outputs": [
    {
     "data": {
      "text/plain": [
       "424"
      ]
     },
     "execution_count": 45,
     "metadata": {},
     "output_type": "execute_result"
    }
   ],
   "source": [
    "gc.collect()"
   ]
  },
  {
   "cell_type": "code",
   "execution_count": 43,
   "id": "71fe7fb0",
   "metadata": {},
   "outputs": [],
   "source": [
    "del labels"
   ]
  },
  {
   "cell_type": "code",
   "execution_count": 6,
   "id": "079fd1f0",
   "metadata": {},
   "outputs": [],
   "source": [
    "queries = loader.get_queries()"
   ]
  },
  {
   "cell_type": "code",
   "execution_count": 7,
   "id": "c5719ba7",
   "metadata": {},
   "outputs": [],
   "source": [
    "from lmi.distances.euclidean import get_euclidean_distance"
   ]
  },
  {
   "cell_type": "code",
   "execution_count": 10,
   "id": "5b071e34",
   "metadata": {},
   "outputs": [
    {
     "data": {
      "text/plain": [
       "(10, 4096)"
      ]
     },
     "execution_count": 10,
     "metadata": {},
     "output_type": "execute_result"
    }
   ],
   "source": [
    "dataset.shape"
   ]
  },
  {
   "cell_type": "code",
   "execution_count": 12,
   "id": "041a5600",
   "metadata": {},
   "outputs": [],
   "source": [
    "query_id = 1866289\n",
    "import numpy as np\n",
    "import pandas as pd"
   ]
  },
  {
   "cell_type": "code",
   "execution_count": 16,
   "id": "b8b5825e",
   "metadata": {},
   "outputs": [],
   "source": [
    "def get_object(object, reshape=True):\n",
    "    if type(object) == np.ndarray:\n",
    "        return object.reshape(1, -1)\n",
    "    elif type(object) == pd.core.series.Series:\n",
    "        return object.values.reshape(1, -1)\n",
    "    else:\n",
    "        try:\n",
    "            object = dataset.loc[object, ].values\n",
    "            if reshape:\n",
    "                return object.reshape(1, -1)\n",
    "            else:\n",
    "                return object\n",
    "        except KeyError:\n",
    "            raise Exception(f'Object with id {object} does not exist in the trained dataset.')\n"
   ]
  },
  {
   "cell_type": "code",
   "execution_count": 17,
   "id": "b85031ee",
   "metadata": {},
   "outputs": [],
   "source": [
    "if isinstance(query_id, (int, np.integer)) or isinstance(query_id, str):\n",
    "    query = get_object(query_id, reshape=False)\n",
    "else:\n",
    "    try:\n",
    "        query = query_id.values\n",
    "    except AttributeError:\n",
    "        query = query_id"
   ]
  },
  {
   "cell_type": "code",
   "execution_count": 18,
   "id": "c1fd6247",
   "metadata": {},
   "outputs": [
    {
     "data": {
      "text/plain": [
       "array([0., 0., 0., ..., 0., 0., 0.])"
      ]
     },
     "execution_count": 18,
     "metadata": {},
     "output_type": "execute_result"
    }
   ],
   "source": [
    "query"
   ]
  },
  {
   "cell_type": "code",
   "execution_count": null,
   "id": "035cf07e",
   "metadata": {},
   "outputs": [],
   "source": [
    "pivot_df = loader.load_mindex_pivots()"
   ]
  },
  {
   "cell_type": "code",
   "execution_count": 25,
   "id": "25a6739c",
   "metadata": {},
   "outputs": [
    {
     "data": {
      "text/plain": [
       "8800      0.953613\n",
       "45343     0.000000\n",
       "49340     0.000000\n",
       "99085     0.000000\n",
       "109380    0.000000\n",
       "Name: 0, dtype: float16"
      ]
     },
     "execution_count": 25,
     "metadata": {},
     "output_type": "execute_result"
    }
   ],
   "source": [
    "pivot_df.head()"
   ]
  },
  {
   "cell_type": "code",
   "execution_count": 31,
   "id": "f7bd928a",
   "metadata": {},
   "outputs": [
    {
     "name": "stdout",
     "output_type": "stream",
     "text": [
      "(4096,) (4096,)\n"
     ]
    }
   ],
   "source": [
    "for pivot_descriptor in pivot_df.values[:1]:\n",
    "    print(pivot_descriptor.shape, query.shape)\n",
    "    get_euclidean_distance(pivot_descriptor, query)"
   ]
  },
  {
   "cell_type": "code",
   "execution_count": 39,
   "id": "3236284d",
   "metadata": {},
   "outputs": [
    {
     "data": {
      "text/html": [
       "<div>\n",
       "<style scoped>\n",
       "    .dataframe tbody tr th:only-of-type {\n",
       "        vertical-align: middle;\n",
       "    }\n",
       "\n",
       "    .dataframe tbody tr th {\n",
       "        vertical-align: top;\n",
       "    }\n",
       "\n",
       "    .dataframe thead th {\n",
       "        text-align: right;\n",
       "    }\n",
       "</style>\n",
       "<table border=\"1\" class=\"dataframe\">\n",
       "  <thead>\n",
       "    <tr style=\"text-align: right;\">\n",
       "      <th></th>\n",
       "      <th>0</th>\n",
       "      <th>1</th>\n",
       "      <th>2</th>\n",
       "      <th>3</th>\n",
       "      <th>4</th>\n",
       "      <th>5</th>\n",
       "      <th>6</th>\n",
       "      <th>7</th>\n",
       "      <th>8</th>\n",
       "      <th>9</th>\n",
       "      <th>...</th>\n",
       "      <th>4086</th>\n",
       "      <th>4087</th>\n",
       "      <th>4088</th>\n",
       "      <th>4089</th>\n",
       "      <th>4090</th>\n",
       "      <th>4091</th>\n",
       "      <th>4092</th>\n",
       "      <th>4093</th>\n",
       "      <th>4094</th>\n",
       "      <th>4095</th>\n",
       "    </tr>\n",
       "  </thead>\n",
       "  <tbody>\n",
       "    <tr>\n",
       "      <th>1866289</th>\n",
       "      <td>0.000000</td>\n",
       "      <td>0.0</td>\n",
       "      <td>0.000000</td>\n",
       "      <td>0.235242</td>\n",
       "      <td>1.255550</td>\n",
       "      <td>3.42303</td>\n",
       "      <td>0.000000</td>\n",
       "      <td>0.000000</td>\n",
       "      <td>3.339290</td>\n",
       "      <td>0.417240</td>\n",
       "      <td>...</td>\n",
       "      <td>0.033455</td>\n",
       "      <td>0.0</td>\n",
       "      <td>0.000000</td>\n",
       "      <td>0.000000</td>\n",
       "      <td>0.000000</td>\n",
       "      <td>0.221979</td>\n",
       "      <td>4.477560</td>\n",
       "      <td>0.000000</td>\n",
       "      <td>0.000000</td>\n",
       "      <td>0.000000</td>\n",
       "    </tr>\n",
       "    <tr>\n",
       "      <th>1866293</th>\n",
       "      <td>0.000000</td>\n",
       "      <td>0.0</td>\n",
       "      <td>0.000000</td>\n",
       "      <td>0.344806</td>\n",
       "      <td>0.000000</td>\n",
       "      <td>2.91817</td>\n",
       "      <td>0.000000</td>\n",
       "      <td>0.000000</td>\n",
       "      <td>0.915877</td>\n",
       "      <td>0.163597</td>\n",
       "      <td>...</td>\n",
       "      <td>0.000000</td>\n",
       "      <td>0.0</td>\n",
       "      <td>0.000000</td>\n",
       "      <td>0.000000</td>\n",
       "      <td>0.000000</td>\n",
       "      <td>0.000000</td>\n",
       "      <td>6.231800</td>\n",
       "      <td>0.000000</td>\n",
       "      <td>0.000000</td>\n",
       "      <td>0.070055</td>\n",
       "    </tr>\n",
       "    <tr>\n",
       "      <th>1866296</th>\n",
       "      <td>3.634230</td>\n",
       "      <td>0.0</td>\n",
       "      <td>0.000000</td>\n",
       "      <td>0.509658</td>\n",
       "      <td>0.000000</td>\n",
       "      <td>1.98039</td>\n",
       "      <td>0.000000</td>\n",
       "      <td>0.000000</td>\n",
       "      <td>2.466790</td>\n",
       "      <td>1.082110</td>\n",
       "      <td>...</td>\n",
       "      <td>0.000000</td>\n",
       "      <td>0.0</td>\n",
       "      <td>0.071962</td>\n",
       "      <td>0.000000</td>\n",
       "      <td>0.000000</td>\n",
       "      <td>0.000000</td>\n",
       "      <td>5.170170</td>\n",
       "      <td>0.000000</td>\n",
       "      <td>0.000000</td>\n",
       "      <td>1.317610</td>\n",
       "    </tr>\n",
       "    <tr>\n",
       "      <th>1866292</th>\n",
       "      <td>0.155025</td>\n",
       "      <td>0.0</td>\n",
       "      <td>0.000000</td>\n",
       "      <td>0.059828</td>\n",
       "      <td>0.147860</td>\n",
       "      <td>4.27600</td>\n",
       "      <td>0.553222</td>\n",
       "      <td>0.866644</td>\n",
       "      <td>0.000000</td>\n",
       "      <td>0.000000</td>\n",
       "      <td>...</td>\n",
       "      <td>0.272011</td>\n",
       "      <td>0.0</td>\n",
       "      <td>0.305491</td>\n",
       "      <td>0.342989</td>\n",
       "      <td>0.000000</td>\n",
       "      <td>0.479859</td>\n",
       "      <td>4.178310</td>\n",
       "      <td>0.000000</td>\n",
       "      <td>0.000000</td>\n",
       "      <td>1.032310</td>\n",
       "    </tr>\n",
       "    <tr>\n",
       "      <th>1866291</th>\n",
       "      <td>0.000000</td>\n",
       "      <td>0.0</td>\n",
       "      <td>0.000000</td>\n",
       "      <td>0.000000</td>\n",
       "      <td>0.006650</td>\n",
       "      <td>6.83670</td>\n",
       "      <td>1.068830</td>\n",
       "      <td>1.021450</td>\n",
       "      <td>0.000000</td>\n",
       "      <td>0.000000</td>\n",
       "      <td>...</td>\n",
       "      <td>0.968732</td>\n",
       "      <td>0.0</td>\n",
       "      <td>0.029012</td>\n",
       "      <td>1.011620</td>\n",
       "      <td>0.000000</td>\n",
       "      <td>1.996660</td>\n",
       "      <td>3.041710</td>\n",
       "      <td>0.000000</td>\n",
       "      <td>0.000000</td>\n",
       "      <td>0.817380</td>\n",
       "    </tr>\n",
       "    <tr>\n",
       "      <th>1866294</th>\n",
       "      <td>0.395871</td>\n",
       "      <td>0.0</td>\n",
       "      <td>0.000000</td>\n",
       "      <td>0.000000</td>\n",
       "      <td>0.000000</td>\n",
       "      <td>3.96423</td>\n",
       "      <td>0.000000</td>\n",
       "      <td>0.000000</td>\n",
       "      <td>1.614150</td>\n",
       "      <td>0.235908</td>\n",
       "      <td>...</td>\n",
       "      <td>0.000000</td>\n",
       "      <td>0.0</td>\n",
       "      <td>0.000000</td>\n",
       "      <td>0.000000</td>\n",
       "      <td>0.000000</td>\n",
       "      <td>0.008648</td>\n",
       "      <td>4.613070</td>\n",
       "      <td>0.361133</td>\n",
       "      <td>0.000000</td>\n",
       "      <td>1.695850</td>\n",
       "    </tr>\n",
       "    <tr>\n",
       "      <th>1866290</th>\n",
       "      <td>0.000000</td>\n",
       "      <td>0.0</td>\n",
       "      <td>0.000000</td>\n",
       "      <td>0.000000</td>\n",
       "      <td>0.000000</td>\n",
       "      <td>1.15062</td>\n",
       "      <td>0.000000</td>\n",
       "      <td>0.000000</td>\n",
       "      <td>4.248710</td>\n",
       "      <td>4.868070</td>\n",
       "      <td>...</td>\n",
       "      <td>0.000000</td>\n",
       "      <td>0.0</td>\n",
       "      <td>1.198160</td>\n",
       "      <td>0.000000</td>\n",
       "      <td>0.000000</td>\n",
       "      <td>0.000000</td>\n",
       "      <td>5.540820</td>\n",
       "      <td>0.000000</td>\n",
       "      <td>0.000000</td>\n",
       "      <td>0.000000</td>\n",
       "    </tr>\n",
       "    <tr>\n",
       "      <th>1866295</th>\n",
       "      <td>0.000000</td>\n",
       "      <td>0.0</td>\n",
       "      <td>0.000000</td>\n",
       "      <td>0.000000</td>\n",
       "      <td>0.000000</td>\n",
       "      <td>0.00000</td>\n",
       "      <td>0.000000</td>\n",
       "      <td>0.000000</td>\n",
       "      <td>3.410610</td>\n",
       "      <td>3.161100</td>\n",
       "      <td>...</td>\n",
       "      <td>0.000000</td>\n",
       "      <td>0.0</td>\n",
       "      <td>2.583500</td>\n",
       "      <td>0.000000</td>\n",
       "      <td>0.000000</td>\n",
       "      <td>0.000000</td>\n",
       "      <td>4.448340</td>\n",
       "      <td>0.000000</td>\n",
       "      <td>0.000000</td>\n",
       "      <td>0.000000</td>\n",
       "    </tr>\n",
       "    <tr>\n",
       "      <th>1866288</th>\n",
       "      <td>2.079880</td>\n",
       "      <td>0.0</td>\n",
       "      <td>0.262393</td>\n",
       "      <td>1.409370</td>\n",
       "      <td>3.156260</td>\n",
       "      <td>0.00000</td>\n",
       "      <td>0.024265</td>\n",
       "      <td>0.000000</td>\n",
       "      <td>0.000000</td>\n",
       "      <td>0.195682</td>\n",
       "      <td>...</td>\n",
       "      <td>0.000000</td>\n",
       "      <td>0.0</td>\n",
       "      <td>0.210303</td>\n",
       "      <td>0.000000</td>\n",
       "      <td>0.041993</td>\n",
       "      <td>0.438306</td>\n",
       "      <td>0.014868</td>\n",
       "      <td>0.000000</td>\n",
       "      <td>0.101547</td>\n",
       "      <td>0.000000</td>\n",
       "    </tr>\n",
       "    <tr>\n",
       "      <th>1866287</th>\n",
       "      <td>0.000000</td>\n",
       "      <td>0.0</td>\n",
       "      <td>0.000000</td>\n",
       "      <td>0.000000</td>\n",
       "      <td>0.381626</td>\n",
       "      <td>1.95952</td>\n",
       "      <td>0.000000</td>\n",
       "      <td>0.000000</td>\n",
       "      <td>0.000000</td>\n",
       "      <td>0.000000</td>\n",
       "      <td>...</td>\n",
       "      <td>0.000000</td>\n",
       "      <td>0.0</td>\n",
       "      <td>0.000000</td>\n",
       "      <td>0.000000</td>\n",
       "      <td>0.000000</td>\n",
       "      <td>0.000000</td>\n",
       "      <td>2.017320</td>\n",
       "      <td>0.000000</td>\n",
       "      <td>0.000000</td>\n",
       "      <td>0.184601</td>\n",
       "    </tr>\n",
       "  </tbody>\n",
       "</table>\n",
       "<p>10 rows × 4096 columns</p>\n",
       "</div>"
      ],
      "text/plain": [
       "             0     1         2         3         4        5         6     \\\n",
       "1866289  0.000000   0.0  0.000000  0.235242  1.255550  3.42303  0.000000   \n",
       "1866293  0.000000   0.0  0.000000  0.344806  0.000000  2.91817  0.000000   \n",
       "1866296  3.634230   0.0  0.000000  0.509658  0.000000  1.98039  0.000000   \n",
       "1866292  0.155025   0.0  0.000000  0.059828  0.147860  4.27600  0.553222   \n",
       "1866291  0.000000   0.0  0.000000  0.000000  0.006650  6.83670  1.068830   \n",
       "1866294  0.395871   0.0  0.000000  0.000000  0.000000  3.96423  0.000000   \n",
       "1866290  0.000000   0.0  0.000000  0.000000  0.000000  1.15062  0.000000   \n",
       "1866295  0.000000   0.0  0.000000  0.000000  0.000000  0.00000  0.000000   \n",
       "1866288  2.079880   0.0  0.262393  1.409370  3.156260  0.00000  0.024265   \n",
       "1866287  0.000000   0.0  0.000000  0.000000  0.381626  1.95952  0.000000   \n",
       "\n",
       "             7         8         9     ...      4086  4087      4088  \\\n",
       "1866289  0.000000  3.339290  0.417240  ...  0.033455   0.0  0.000000   \n",
       "1866293  0.000000  0.915877  0.163597  ...  0.000000   0.0  0.000000   \n",
       "1866296  0.000000  2.466790  1.082110  ...  0.000000   0.0  0.071962   \n",
       "1866292  0.866644  0.000000  0.000000  ...  0.272011   0.0  0.305491   \n",
       "1866291  1.021450  0.000000  0.000000  ...  0.968732   0.0  0.029012   \n",
       "1866294  0.000000  1.614150  0.235908  ...  0.000000   0.0  0.000000   \n",
       "1866290  0.000000  4.248710  4.868070  ...  0.000000   0.0  1.198160   \n",
       "1866295  0.000000  3.410610  3.161100  ...  0.000000   0.0  2.583500   \n",
       "1866288  0.000000  0.000000  0.195682  ...  0.000000   0.0  0.210303   \n",
       "1866287  0.000000  0.000000  0.000000  ...  0.000000   0.0  0.000000   \n",
       "\n",
       "             4089      4090      4091      4092      4093      4094      4095  \n",
       "1866289  0.000000  0.000000  0.221979  4.477560  0.000000  0.000000  0.000000  \n",
       "1866293  0.000000  0.000000  0.000000  6.231800  0.000000  0.000000  0.070055  \n",
       "1866296  0.000000  0.000000  0.000000  5.170170  0.000000  0.000000  1.317610  \n",
       "1866292  0.342989  0.000000  0.479859  4.178310  0.000000  0.000000  1.032310  \n",
       "1866291  1.011620  0.000000  1.996660  3.041710  0.000000  0.000000  0.817380  \n",
       "1866294  0.000000  0.000000  0.008648  4.613070  0.361133  0.000000  1.695850  \n",
       "1866290  0.000000  0.000000  0.000000  5.540820  0.000000  0.000000  0.000000  \n",
       "1866295  0.000000  0.000000  0.000000  4.448340  0.000000  0.000000  0.000000  \n",
       "1866288  0.000000  0.041993  0.438306  0.014868  0.000000  0.101547  0.000000  \n",
       "1866287  0.000000  0.000000  0.000000  2.017320  0.000000  0.000000  0.184601  \n",
       "\n",
       "[10 rows x 4096 columns]"
      ]
     },
     "execution_count": 39,
     "metadata": {},
     "output_type": "execute_result"
    }
   ],
   "source": [
    "dataset.drop([4096], axis=1)"
   ]
  },
  {
   "cell_type": "code",
   "execution_count": 37,
   "id": "ba3990fe",
   "metadata": {},
   "outputs": [
    {
     "data": {
      "text/plain": [
       "(10, 4097)"
      ]
     },
     "execution_count": 37,
     "metadata": {},
     "output_type": "execute_result"
    }
   ],
   "source": [
    "dataset.shape"
   ]
  },
  {
   "cell_type": "code",
   "execution_count": null,
   "id": "253007af",
   "metadata": {},
   "outputs": [],
   "source": [
    "%time labels = loader.load_labels()\n",
    "#labels = labels[:10]"
   ]
  },
  {
   "cell_type": "code",
   "execution_count": null,
   "id": "2b0d45df",
   "metadata": {},
   "outputs": [],
   "source": []
  },
  {
   "cell_type": "code",
   "execution_count": 9,
   "id": "79d6e919",
   "metadata": {},
   "outputs": [
    {
     "data": {
      "text/html": [
       "<div>\n",
       "<style scoped>\n",
       "    .dataframe tbody tr th:only-of-type {\n",
       "        vertical-align: middle;\n",
       "    }\n",
       "\n",
       "    .dataframe tbody tr th {\n",
       "        vertical-align: top;\n",
       "    }\n",
       "\n",
       "    .dataframe thead th {\n",
       "        text-align: right;\n",
       "    }\n",
       "</style>\n",
       "<table border=\"1\" class=\"dataframe\">\n",
       "  <thead>\n",
       "    <tr style=\"text-align: right;\">\n",
       "      <th></th>\n",
       "      <th>L1</th>\n",
       "      <th>L2</th>\n",
       "      <th>L3</th>\n",
       "      <th>L4</th>\n",
       "      <th>L5</th>\n",
       "      <th>L6</th>\n",
       "      <th>L7</th>\n",
       "      <th>L8</th>\n",
       "    </tr>\n",
       "    <tr>\n",
       "      <th>object_id</th>\n",
       "      <th></th>\n",
       "      <th></th>\n",
       "      <th></th>\n",
       "      <th></th>\n",
       "      <th></th>\n",
       "      <th></th>\n",
       "      <th></th>\n",
       "      <th></th>\n",
       "    </tr>\n",
       "  </thead>\n",
       "  <tbody>\n",
       "    <tr>\n",
       "      <th>296166</th>\n",
       "      <td>71</td>\n",
       "      <td>57</td>\n",
       "      <td>&lt;NA&gt;</td>\n",
       "      <td>&lt;NA&gt;</td>\n",
       "      <td>&lt;NA&gt;</td>\n",
       "      <td>&lt;NA&gt;</td>\n",
       "      <td>&lt;NA&gt;</td>\n",
       "      <td>&lt;NA&gt;</td>\n",
       "    </tr>\n",
       "    <tr>\n",
       "      <th>312568</th>\n",
       "      <td>48</td>\n",
       "      <td>76</td>\n",
       "      <td>67</td>\n",
       "      <td>&lt;NA&gt;</td>\n",
       "      <td>&lt;NA&gt;</td>\n",
       "      <td>&lt;NA&gt;</td>\n",
       "      <td>&lt;NA&gt;</td>\n",
       "      <td>&lt;NA&gt;</td>\n",
       "    </tr>\n",
       "    <tr>\n",
       "      <th>320479</th>\n",
       "      <td>19</td>\n",
       "      <td>52</td>\n",
       "      <td>124</td>\n",
       "      <td>118</td>\n",
       "      <td>&lt;NA&gt;</td>\n",
       "      <td>&lt;NA&gt;</td>\n",
       "      <td>&lt;NA&gt;</td>\n",
       "      <td>&lt;NA&gt;</td>\n",
       "    </tr>\n",
       "    <tr>\n",
       "      <th>325836</th>\n",
       "      <td>15</td>\n",
       "      <td>1</td>\n",
       "      <td>6</td>\n",
       "      <td>8</td>\n",
       "      <td>60</td>\n",
       "      <td>48</td>\n",
       "      <td>&lt;NA&gt;</td>\n",
       "      <td>&lt;NA&gt;</td>\n",
       "    </tr>\n",
       "    <tr>\n",
       "      <th>325837</th>\n",
       "      <td>8</td>\n",
       "      <td>6</td>\n",
       "      <td>15</td>\n",
       "      <td>1</td>\n",
       "      <td>54</td>\n",
       "      <td>&lt;NA&gt;</td>\n",
       "      <td>&lt;NA&gt;</td>\n",
       "      <td>&lt;NA&gt;</td>\n",
       "    </tr>\n",
       "  </tbody>\n",
       "</table>\n",
       "</div>"
      ],
      "text/plain": [
       "           L1  L2    L3    L4    L5    L6    L7    L8\n",
       "object_id                                            \n",
       "296166     71  57  <NA>  <NA>  <NA>  <NA>  <NA>  <NA>\n",
       "312568     48  76    67  <NA>  <NA>  <NA>  <NA>  <NA>\n",
       "320479     19  52   124   118  <NA>  <NA>  <NA>  <NA>\n",
       "325836     15   1     6     8    60    48  <NA>  <NA>\n",
       "325837      8   6    15     1    54  <NA>  <NA>  <NA>"
      ]
     },
     "execution_count": 9,
     "metadata": {},
     "output_type": "execute_result"
    }
   ],
   "source": [
    "labels.head()"
   ]
  },
  {
   "cell_type": "code",
   "execution_count": 55,
   "id": "7a7c97a0",
   "metadata": {},
   "outputs": [],
   "source": [
    "from lmi.utils import intersect_mocap_dataset\n",
    "df, labels = intersect_mocap_dataset(dataset, labels)"
   ]
  },
  {
   "cell_type": "code",
   "execution_count": 23,
   "id": "649ff2bc",
   "metadata": {},
   "outputs": [
    {
     "data": {
      "text/html": [
       "<div>\n",
       "<style scoped>\n",
       "    .dataframe tbody tr th:only-of-type {\n",
       "        vertical-align: middle;\n",
       "    }\n",
       "\n",
       "    .dataframe tbody tr th {\n",
       "        vertical-align: top;\n",
       "    }\n",
       "\n",
       "    .dataframe thead th {\n",
       "        text-align: right;\n",
       "    }\n",
       "</style>\n",
       "<table border=\"1\" class=\"dataframe\">\n",
       "  <thead>\n",
       "    <tr style=\"text-align: right;\">\n",
       "      <th></th>\n",
       "      <th>L1</th>\n",
       "      <th>L2</th>\n",
       "      <th>L3</th>\n",
       "      <th>L4</th>\n",
       "      <th>L5</th>\n",
       "      <th>L6</th>\n",
       "      <th>L7</th>\n",
       "      <th>L8</th>\n",
       "    </tr>\n",
       "    <tr>\n",
       "      <th>object_id</th>\n",
       "      <th></th>\n",
       "      <th></th>\n",
       "      <th></th>\n",
       "      <th></th>\n",
       "      <th></th>\n",
       "      <th></th>\n",
       "      <th></th>\n",
       "      <th></th>\n",
       "    </tr>\n",
       "  </thead>\n",
       "  <tbody>\n",
       "    <tr>\n",
       "      <th>296166</th>\n",
       "      <td>71</td>\n",
       "      <td>57</td>\n",
       "      <td>&lt;NA&gt;</td>\n",
       "      <td>&lt;NA&gt;</td>\n",
       "      <td>&lt;NA&gt;</td>\n",
       "      <td>&lt;NA&gt;</td>\n",
       "      <td>&lt;NA&gt;</td>\n",
       "      <td>&lt;NA&gt;</td>\n",
       "    </tr>\n",
       "    <tr>\n",
       "      <th>312568</th>\n",
       "      <td>48</td>\n",
       "      <td>76</td>\n",
       "      <td>67</td>\n",
       "      <td>&lt;NA&gt;</td>\n",
       "      <td>&lt;NA&gt;</td>\n",
       "      <td>&lt;NA&gt;</td>\n",
       "      <td>&lt;NA&gt;</td>\n",
       "      <td>&lt;NA&gt;</td>\n",
       "    </tr>\n",
       "    <tr>\n",
       "      <th>320479</th>\n",
       "      <td>19</td>\n",
       "      <td>52</td>\n",
       "      <td>124</td>\n",
       "      <td>118</td>\n",
       "      <td>&lt;NA&gt;</td>\n",
       "      <td>&lt;NA&gt;</td>\n",
       "      <td>&lt;NA&gt;</td>\n",
       "      <td>&lt;NA&gt;</td>\n",
       "    </tr>\n",
       "    <tr>\n",
       "      <th>325836</th>\n",
       "      <td>15</td>\n",
       "      <td>1</td>\n",
       "      <td>6</td>\n",
       "      <td>8</td>\n",
       "      <td>60</td>\n",
       "      <td>48</td>\n",
       "      <td>&lt;NA&gt;</td>\n",
       "      <td>&lt;NA&gt;</td>\n",
       "    </tr>\n",
       "    <tr>\n",
       "      <th>325837</th>\n",
       "      <td>8</td>\n",
       "      <td>6</td>\n",
       "      <td>15</td>\n",
       "      <td>1</td>\n",
       "      <td>54</td>\n",
       "      <td>&lt;NA&gt;</td>\n",
       "      <td>&lt;NA&gt;</td>\n",
       "      <td>&lt;NA&gt;</td>\n",
       "    </tr>\n",
       "  </tbody>\n",
       "</table>\n",
       "</div>"
      ],
      "text/plain": [
       "           L1  L2    L3    L4    L5    L6    L7    L8\n",
       "object_id                                            \n",
       "296166     71  57  <NA>  <NA>  <NA>  <NA>  <NA>  <NA>\n",
       "312568     48  76    67  <NA>  <NA>  <NA>  <NA>  <NA>\n",
       "320479     19  52   124   118  <NA>  <NA>  <NA>  <NA>\n",
       "325836     15   1     6     8    60    48  <NA>  <NA>\n",
       "325837      8   6    15     1    54  <NA>  <NA>  <NA>"
      ]
     },
     "execution_count": 23,
     "metadata": {},
     "output_type": "execute_result"
    }
   ],
   "source": [
    "labels.head()"
   ]
  },
  {
   "cell_type": "code",
   "execution_count": 24,
   "id": "f505c25d",
   "metadata": {},
   "outputs": [
    {
     "data": {
      "text/html": [
       "<div>\n",
       "<style scoped>\n",
       "    .dataframe tbody tr th:only-of-type {\n",
       "        vertical-align: middle;\n",
       "    }\n",
       "\n",
       "    .dataframe tbody tr th {\n",
       "        vertical-align: top;\n",
       "    }\n",
       "\n",
       "    .dataframe thead th {\n",
       "        text-align: right;\n",
       "    }\n",
       "</style>\n",
       "<table border=\"1\" class=\"dataframe\">\n",
       "  <thead>\n",
       "    <tr style=\"text-align: right;\">\n",
       "      <th></th>\n",
       "      <th>0</th>\n",
       "      <th>1</th>\n",
       "      <th>2</th>\n",
       "      <th>3</th>\n",
       "      <th>4</th>\n",
       "      <th>5</th>\n",
       "      <th>6</th>\n",
       "      <th>7</th>\n",
       "      <th>8</th>\n",
       "      <th>9</th>\n",
       "      <th>...</th>\n",
       "      <th>272</th>\n",
       "      <th>273</th>\n",
       "      <th>274</th>\n",
       "      <th>275</th>\n",
       "      <th>276</th>\n",
       "      <th>277</th>\n",
       "      <th>278</th>\n",
       "      <th>279</th>\n",
       "      <th>280</th>\n",
       "      <th>281</th>\n",
       "    </tr>\n",
       "  </thead>\n",
       "  <tbody>\n",
       "    <tr>\n",
       "      <th>536773645</th>\n",
       "      <td>0.079305</td>\n",
       "      <td>-0.565466</td>\n",
       "      <td>-0.106752</td>\n",
       "      <td>-0.576117</td>\n",
       "      <td>1.028992</td>\n",
       "      <td>-0.978019</td>\n",
       "      <td>-0.803399</td>\n",
       "      <td>0.088045</td>\n",
       "      <td>1.071217</td>\n",
       "      <td>0.017653</td>\n",
       "      <td>...</td>\n",
       "      <td>-0.939336</td>\n",
       "      <td>0.307148</td>\n",
       "      <td>-1.860521</td>\n",
       "      <td>0.0</td>\n",
       "      <td>0.0</td>\n",
       "      <td>0.333333</td>\n",
       "      <td>-0.333333</td>\n",
       "      <td>0.0</td>\n",
       "      <td>-0.333333</td>\n",
       "      <td>-0.534052</td>\n",
       "    </tr>\n",
       "    <tr>\n",
       "      <th>536640184</th>\n",
       "      <td>0.079305</td>\n",
       "      <td>1.815444</td>\n",
       "      <td>-0.907393</td>\n",
       "      <td>1.344273</td>\n",
       "      <td>-2.400980</td>\n",
       "      <td>1.467029</td>\n",
       "      <td>-1.020534</td>\n",
       "      <td>1.848947</td>\n",
       "      <td>0.139724</td>\n",
       "      <td>1.782939</td>\n",
       "      <td>...</td>\n",
       "      <td>-0.626224</td>\n",
       "      <td>0.307148</td>\n",
       "      <td>-0.620174</td>\n",
       "      <td>0.0</td>\n",
       "      <td>0.0</td>\n",
       "      <td>0.333333</td>\n",
       "      <td>-0.333333</td>\n",
       "      <td>0.0</td>\n",
       "      <td>-0.333333</td>\n",
       "      <td>1.839512</td>\n",
       "    </tr>\n",
       "    <tr>\n",
       "      <th>542844034</th>\n",
       "      <td>0.079305</td>\n",
       "      <td>-1.160694</td>\n",
       "      <td>-1.708034</td>\n",
       "      <td>1.518854</td>\n",
       "      <td>0.171499</td>\n",
       "      <td>-0.755742</td>\n",
       "      <td>-0.369129</td>\n",
       "      <td>0.088045</td>\n",
       "      <td>0.139724</td>\n",
       "      <td>-1.747633</td>\n",
       "      <td>...</td>\n",
       "      <td>0.000000</td>\n",
       "      <td>-0.614295</td>\n",
       "      <td>0.620174</td>\n",
       "      <td>0.0</td>\n",
       "      <td>0.0</td>\n",
       "      <td>-3.000000</td>\n",
       "      <td>-0.333333</td>\n",
       "      <td>0.0</td>\n",
       "      <td>-0.333333</td>\n",
       "      <td>0.059339</td>\n",
       "    </tr>\n",
       "    <tr>\n",
       "      <th>543578897</th>\n",
       "      <td>-1.903324</td>\n",
       "      <td>0.327375</td>\n",
       "      <td>0.960769</td>\n",
       "      <td>0.296788</td>\n",
       "      <td>1.028992</td>\n",
       "      <td>0.133366</td>\n",
       "      <td>0.716545</td>\n",
       "      <td>-1.672857</td>\n",
       "      <td>-0.326023</td>\n",
       "      <td>-0.511933</td>\n",
       "      <td>...</td>\n",
       "      <td>-0.313112</td>\n",
       "      <td>-0.614295</td>\n",
       "      <td>0.620174</td>\n",
       "      <td>0.0</td>\n",
       "      <td>0.0</td>\n",
       "      <td>0.333333</td>\n",
       "      <td>-0.333333</td>\n",
       "      <td>0.0</td>\n",
       "      <td>-0.333333</td>\n",
       "      <td>0.059339</td>\n",
       "    </tr>\n",
       "    <tr>\n",
       "      <th>536831087</th>\n",
       "      <td>0.475831</td>\n",
       "      <td>-0.267852</td>\n",
       "      <td>1.227649</td>\n",
       "      <td>-1.274441</td>\n",
       "      <td>-0.685994</td>\n",
       "      <td>-0.533465</td>\n",
       "      <td>-0.586264</td>\n",
       "      <td>0.968496</td>\n",
       "      <td>1.071217</td>\n",
       "      <td>0.017653</td>\n",
       "      <td>...</td>\n",
       "      <td>0.313112</td>\n",
       "      <td>-0.307148</td>\n",
       "      <td>0.620174</td>\n",
       "      <td>0.0</td>\n",
       "      <td>0.0</td>\n",
       "      <td>0.333333</td>\n",
       "      <td>-0.333333</td>\n",
       "      <td>0.0</td>\n",
       "      <td>-0.333333</td>\n",
       "      <td>-0.830747</td>\n",
       "    </tr>\n",
       "  </tbody>\n",
       "</table>\n",
       "<p>5 rows × 282 columns</p>\n",
       "</div>"
      ],
      "text/plain": [
       "                0         1         2         3         4         5    \\\n",
       "536773645  0.079305 -0.565466 -0.106752 -0.576117  1.028992 -0.978019   \n",
       "536640184  0.079305  1.815444 -0.907393  1.344273 -2.400980  1.467029   \n",
       "542844034  0.079305 -1.160694 -1.708034  1.518854  0.171499 -0.755742   \n",
       "543578897 -1.903324  0.327375  0.960769  0.296788  1.028992  0.133366   \n",
       "536831087  0.475831 -0.267852  1.227649 -1.274441 -0.685994 -0.533465   \n",
       "\n",
       "                6         7         8         9    ...       272       273  \\\n",
       "536773645 -0.803399  0.088045  1.071217  0.017653  ... -0.939336  0.307148   \n",
       "536640184 -1.020534  1.848947  0.139724  1.782939  ... -0.626224  0.307148   \n",
       "542844034 -0.369129  0.088045  0.139724 -1.747633  ...  0.000000 -0.614295   \n",
       "543578897  0.716545 -1.672857 -0.326023 -0.511933  ... -0.313112 -0.614295   \n",
       "536831087 -0.586264  0.968496  1.071217  0.017653  ...  0.313112 -0.307148   \n",
       "\n",
       "                274  275  276       277       278  279       280       281  \n",
       "536773645 -1.860521  0.0  0.0  0.333333 -0.333333  0.0 -0.333333 -0.534052  \n",
       "536640184 -0.620174  0.0  0.0  0.333333 -0.333333  0.0 -0.333333  1.839512  \n",
       "542844034  0.620174  0.0  0.0 -3.000000 -0.333333  0.0 -0.333333  0.059339  \n",
       "543578897  0.620174  0.0  0.0  0.333333 -0.333333  0.0 -0.333333  0.059339  \n",
       "536831087  0.620174  0.0  0.0  0.333333 -0.333333  0.0 -0.333333 -0.830747  \n",
       "\n",
       "[5 rows x 282 columns]"
      ]
     },
     "execution_count": 24,
     "metadata": {},
     "output_type": "execute_result"
    }
   ],
   "source": [
    "dataset[0].head()"
   ]
  },
  {
   "cell_type": "code",
   "execution_count": 26,
   "id": "02d9f7bc",
   "metadata": {},
   "outputs": [
    {
     "data": {
      "text/plain": [
       "((100, 8), (10, 282))"
      ]
     },
     "execution_count": 26,
     "metadata": {},
     "output_type": "execute_result"
    }
   ],
   "source": [
    "labels[:100].shape, dataset[0].shape"
   ]
  },
  {
   "cell_type": "code",
   "execution_count": 11,
   "id": "3e7631a4",
   "metadata": {},
   "outputs": [],
   "source": [
    "index = LMI(config['LMI'], dataset[0], labels, reindex=False)"
   ]
  },
  {
   "cell_type": "code",
   "execution_count": 12,
   "id": "985eca01",
   "metadata": {},
   "outputs": [],
   "source": [
    "model_config = load_model_config(config['LMI']['model-config'], index.n_levels)"
   ]
  },
  {
   "cell_type": "code",
   "execution_count": 14,
   "id": "e06f6b2e",
   "metadata": {},
   "outputs": [
    {
     "data": {
      "text/html": [
       "<div>\n",
       "<style scoped>\n",
       "    .dataframe tbody tr th:only-of-type {\n",
       "        vertical-align: middle;\n",
       "    }\n",
       "\n",
       "    .dataframe tbody tr th {\n",
       "        vertical-align: top;\n",
       "    }\n",
       "\n",
       "    .dataframe thead th {\n",
       "        text-align: right;\n",
       "    }\n",
       "</style>\n",
       "<table border=\"1\" class=\"dataframe\">\n",
       "  <thead>\n",
       "    <tr style=\"text-align: right;\">\n",
       "      <th></th>\n",
       "      <th>L1</th>\n",
       "      <th>L2</th>\n",
       "      <th>L3</th>\n",
       "      <th>L4</th>\n",
       "      <th>L5</th>\n",
       "      <th>L6</th>\n",
       "      <th>L7</th>\n",
       "      <th>L8</th>\n",
       "    </tr>\n",
       "    <tr>\n",
       "      <th>object_id</th>\n",
       "      <th></th>\n",
       "      <th></th>\n",
       "      <th></th>\n",
       "      <th></th>\n",
       "      <th></th>\n",
       "      <th></th>\n",
       "      <th></th>\n",
       "      <th></th>\n",
       "    </tr>\n",
       "  </thead>\n",
       "  <tbody>\n",
       "    <tr>\n",
       "      <th>296166</th>\n",
       "      <td>71</td>\n",
       "      <td>57</td>\n",
       "      <td>&lt;NA&gt;</td>\n",
       "      <td>&lt;NA&gt;</td>\n",
       "      <td>&lt;NA&gt;</td>\n",
       "      <td>&lt;NA&gt;</td>\n",
       "      <td>&lt;NA&gt;</td>\n",
       "      <td>&lt;NA&gt;</td>\n",
       "    </tr>\n",
       "    <tr>\n",
       "      <th>312568</th>\n",
       "      <td>48</td>\n",
       "      <td>76</td>\n",
       "      <td>67</td>\n",
       "      <td>&lt;NA&gt;</td>\n",
       "      <td>&lt;NA&gt;</td>\n",
       "      <td>&lt;NA&gt;</td>\n",
       "      <td>&lt;NA&gt;</td>\n",
       "      <td>&lt;NA&gt;</td>\n",
       "    </tr>\n",
       "    <tr>\n",
       "      <th>320479</th>\n",
       "      <td>19</td>\n",
       "      <td>52</td>\n",
       "      <td>124</td>\n",
       "      <td>118</td>\n",
       "      <td>&lt;NA&gt;</td>\n",
       "      <td>&lt;NA&gt;</td>\n",
       "      <td>&lt;NA&gt;</td>\n",
       "      <td>&lt;NA&gt;</td>\n",
       "    </tr>\n",
       "    <tr>\n",
       "      <th>325836</th>\n",
       "      <td>15</td>\n",
       "      <td>1</td>\n",
       "      <td>6</td>\n",
       "      <td>8</td>\n",
       "      <td>60</td>\n",
       "      <td>48</td>\n",
       "      <td>&lt;NA&gt;</td>\n",
       "      <td>&lt;NA&gt;</td>\n",
       "    </tr>\n",
       "    <tr>\n",
       "      <th>325837</th>\n",
       "      <td>8</td>\n",
       "      <td>6</td>\n",
       "      <td>15</td>\n",
       "      <td>1</td>\n",
       "      <td>54</td>\n",
       "      <td>&lt;NA&gt;</td>\n",
       "      <td>&lt;NA&gt;</td>\n",
       "      <td>&lt;NA&gt;</td>\n",
       "    </tr>\n",
       "    <tr>\n",
       "      <th>325863</th>\n",
       "      <td>6</td>\n",
       "      <td>1</td>\n",
       "      <td>8</td>\n",
       "      <td>15</td>\n",
       "      <td>85</td>\n",
       "      <td>54</td>\n",
       "      <td>&lt;NA&gt;</td>\n",
       "      <td>&lt;NA&gt;</td>\n",
       "    </tr>\n",
       "    <tr>\n",
       "      <th>325865</th>\n",
       "      <td>8</td>\n",
       "      <td>6</td>\n",
       "      <td>15</td>\n",
       "      <td>1</td>\n",
       "      <td>85</td>\n",
       "      <td>75</td>\n",
       "      <td>54</td>\n",
       "      <td>&lt;NA&gt;</td>\n",
       "    </tr>\n",
       "    <tr>\n",
       "      <th>325868</th>\n",
       "      <td>6</td>\n",
       "      <td>15</td>\n",
       "      <td>1</td>\n",
       "      <td>8</td>\n",
       "      <td>54</td>\n",
       "      <td>&lt;NA&gt;</td>\n",
       "      <td>&lt;NA&gt;</td>\n",
       "      <td>&lt;NA&gt;</td>\n",
       "    </tr>\n",
       "    <tr>\n",
       "      <th>325887</th>\n",
       "      <td>8</td>\n",
       "      <td>6</td>\n",
       "      <td>1</td>\n",
       "      <td>15</td>\n",
       "      <td>85</td>\n",
       "      <td>75</td>\n",
       "      <td>86</td>\n",
       "      <td>&lt;NA&gt;</td>\n",
       "    </tr>\n",
       "    <tr>\n",
       "      <th>325889</th>\n",
       "      <td>8</td>\n",
       "      <td>6</td>\n",
       "      <td>1</td>\n",
       "      <td>15</td>\n",
       "      <td>85</td>\n",
       "      <td>86</td>\n",
       "      <td>72</td>\n",
       "      <td>&lt;NA&gt;</td>\n",
       "    </tr>\n",
       "  </tbody>\n",
       "</table>\n",
       "</div>"
      ],
      "text/plain": [
       "           L1  L2    L3    L4    L5    L6    L7    L8\n",
       "object_id                                            \n",
       "296166     71  57  <NA>  <NA>  <NA>  <NA>  <NA>  <NA>\n",
       "312568     48  76    67  <NA>  <NA>  <NA>  <NA>  <NA>\n",
       "320479     19  52   124   118  <NA>  <NA>  <NA>  <NA>\n",
       "325836     15   1     6     8    60    48  <NA>  <NA>\n",
       "325837      8   6    15     1    54  <NA>  <NA>  <NA>\n",
       "325863      6   1     8    15    85    54  <NA>  <NA>\n",
       "325865      8   6    15     1    85    75    54  <NA>\n",
       "325868      6  15     1     8    54  <NA>  <NA>  <NA>\n",
       "325887      8   6     1    15    85    75    86  <NA>\n",
       "325889      8   6     1    15    85    86    72  <NA>"
      ]
     },
     "execution_count": 14,
     "metadata": {},
     "output_type": "execute_result"
    }
   ],
   "source": [
    "labels"
   ]
  },
  {
   "cell_type": "code",
   "execution_count": 25,
   "id": "8ea61504",
   "metadata": {},
   "outputs": [],
   "source": [
    "index.pred_data"
   ]
  },
  {
   "cell_type": "code",
   "execution_count": 26,
   "id": "29f51df0",
   "metadata": {},
   "outputs": [
    {
     "data": {
      "text/plain": [
       "{'setup': 'exp-basic',\n",
       " 'data': {'data-dir': '/storage/brno12-cerit/home/tslaninakova/data/',\n",
       "  'dataset': 'COPHIR',\n",
       "  'dataset-size': '1M',\n",
       "  'original': {'index': 'MINDEX', 'leaf-node-capacity': 200},\n",
       "  'normalize': True,\n",
       "  'shuffle': True},\n",
       " 'LMI': {'model-config': 'experiment-setups/basic/models/CoPhIR-1M-Mindex-200-LR-model.yml',\n",
       "  'training-dataset-percentage': 1},\n",
       " 'experiment': {'gt-subdir': 'ground-truths',\n",
       "  'output-dir': 'outputs',\n",
       "  'search-stop-conditions': [0.0005,\n",
       "   0.001,\n",
       "   0.003,\n",
       "   0.005,\n",
       "   0.01,\n",
       "   0.05,\n",
       "   0.1,\n",
       "   0.2,\n",
       "   0.3,\n",
       "   0.5],\n",
       "  'knns': 30,\n",
       "  'queries-out-of-dataset': False}}"
      ]
     },
     "execution_count": 26,
     "metadata": {},
     "output_type": "execute_result"
    }
   ],
   "source": [
    "config"
   ]
  },
  {
   "cell_type": "code",
   "execution_count": 27,
   "id": "ee62bf5d",
   "metadata": {},
   "outputs": [],
   "source": [
    "from lmi.indexes.lmi_utils import split_data"
   ]
  },
  {
   "cell_type": "code",
   "execution_count": 28,
   "id": "0304c0b8",
   "metadata": {},
   "outputs": [],
   "source": [
    "train_data, pred_data = split_data(\n",
    "    dataset[0],\n",
    "    labels,\n",
    "    1\n",
    ")"
   ]
  },
  {
   "cell_type": "code",
   "execution_count": 29,
   "id": "a2f37c4d",
   "metadata": {},
   "outputs": [
    {
     "data": {
      "text/html": [
       "<div>\n",
       "<style scoped>\n",
       "    .dataframe tbody tr th:only-of-type {\n",
       "        vertical-align: middle;\n",
       "    }\n",
       "\n",
       "    .dataframe tbody tr th {\n",
       "        vertical-align: top;\n",
       "    }\n",
       "\n",
       "    .dataframe thead th {\n",
       "        text-align: right;\n",
       "    }\n",
       "</style>\n",
       "<table border=\"1\" class=\"dataframe\">\n",
       "  <thead>\n",
       "    <tr style=\"text-align: right;\">\n",
       "      <th></th>\n",
       "      <th>L1</th>\n",
       "      <th>L2</th>\n",
       "      <th>L3</th>\n",
       "      <th>L4</th>\n",
       "      <th>L5</th>\n",
       "      <th>L6</th>\n",
       "      <th>L7</th>\n",
       "      <th>L8</th>\n",
       "    </tr>\n",
       "  </thead>\n",
       "  <tbody>\n",
       "    <tr>\n",
       "      <th>536831087</th>\n",
       "      <td>NaN</td>\n",
       "      <td>&lt;NA&gt;</td>\n",
       "      <td>&lt;NA&gt;</td>\n",
       "      <td>&lt;NA&gt;</td>\n",
       "      <td>&lt;NA&gt;</td>\n",
       "      <td>&lt;NA&gt;</td>\n",
       "      <td>&lt;NA&gt;</td>\n",
       "      <td>&lt;NA&gt;</td>\n",
       "    </tr>\n",
       "    <tr>\n",
       "      <th>543578897</th>\n",
       "      <td>NaN</td>\n",
       "      <td>&lt;NA&gt;</td>\n",
       "      <td>&lt;NA&gt;</td>\n",
       "      <td>&lt;NA&gt;</td>\n",
       "      <td>&lt;NA&gt;</td>\n",
       "      <td>&lt;NA&gt;</td>\n",
       "      <td>&lt;NA&gt;</td>\n",
       "      <td>&lt;NA&gt;</td>\n",
       "    </tr>\n",
       "    <tr>\n",
       "      <th>536773645</th>\n",
       "      <td>NaN</td>\n",
       "      <td>&lt;NA&gt;</td>\n",
       "      <td>&lt;NA&gt;</td>\n",
       "      <td>&lt;NA&gt;</td>\n",
       "      <td>&lt;NA&gt;</td>\n",
       "      <td>&lt;NA&gt;</td>\n",
       "      <td>&lt;NA&gt;</td>\n",
       "      <td>&lt;NA&gt;</td>\n",
       "    </tr>\n",
       "    <tr>\n",
       "      <th>542844034</th>\n",
       "      <td>NaN</td>\n",
       "      <td>&lt;NA&gt;</td>\n",
       "      <td>&lt;NA&gt;</td>\n",
       "      <td>&lt;NA&gt;</td>\n",
       "      <td>&lt;NA&gt;</td>\n",
       "      <td>&lt;NA&gt;</td>\n",
       "      <td>&lt;NA&gt;</td>\n",
       "      <td>&lt;NA&gt;</td>\n",
       "    </tr>\n",
       "    <tr>\n",
       "      <th>542156527</th>\n",
       "      <td>NaN</td>\n",
       "      <td>&lt;NA&gt;</td>\n",
       "      <td>&lt;NA&gt;</td>\n",
       "      <td>&lt;NA&gt;</td>\n",
       "      <td>&lt;NA&gt;</td>\n",
       "      <td>&lt;NA&gt;</td>\n",
       "      <td>&lt;NA&gt;</td>\n",
       "      <td>&lt;NA&gt;</td>\n",
       "    </tr>\n",
       "  </tbody>\n",
       "</table>\n",
       "</div>"
      ],
      "text/plain": [
       "           L1    L2    L3    L4    L5    L6    L7    L8\n",
       "536831087 NaN  <NA>  <NA>  <NA>  <NA>  <NA>  <NA>  <NA>\n",
       "543578897 NaN  <NA>  <NA>  <NA>  <NA>  <NA>  <NA>  <NA>\n",
       "536773645 NaN  <NA>  <NA>  <NA>  <NA>  <NA>  <NA>  <NA>\n",
       "542844034 NaN  <NA>  <NA>  <NA>  <NA>  <NA>  <NA>  <NA>\n",
       "542156527 NaN  <NA>  <NA>  <NA>  <NA>  <NA>  <NA>  <NA>"
      ]
     },
     "execution_count": 29,
     "metadata": {},
     "output_type": "execute_result"
    }
   ],
   "source": [
    "train_data.y.head()"
   ]
  },
  {
   "cell_type": "code",
   "execution_count": 23,
   "id": "958b7ccd",
   "metadata": {},
   "outputs": [
    {
     "data": {
      "text/html": [
       "<div>\n",
       "<style scoped>\n",
       "    .dataframe tbody tr th:only-of-type {\n",
       "        vertical-align: middle;\n",
       "    }\n",
       "\n",
       "    .dataframe tbody tr th {\n",
       "        vertical-align: top;\n",
       "    }\n",
       "\n",
       "    .dataframe thead th {\n",
       "        text-align: right;\n",
       "    }\n",
       "</style>\n",
       "<table border=\"1\" class=\"dataframe\">\n",
       "  <thead>\n",
       "    <tr style=\"text-align: right;\">\n",
       "      <th></th>\n",
       "      <th>L1</th>\n",
       "      <th>L2</th>\n",
       "      <th>L3</th>\n",
       "      <th>L4</th>\n",
       "      <th>L5</th>\n",
       "      <th>L6</th>\n",
       "      <th>L7</th>\n",
       "      <th>L8</th>\n",
       "    </tr>\n",
       "  </thead>\n",
       "  <tbody>\n",
       "    <tr>\n",
       "      <th>536831087</th>\n",
       "      <td>NaN</td>\n",
       "      <td>&lt;NA&gt;</td>\n",
       "      <td>&lt;NA&gt;</td>\n",
       "      <td>&lt;NA&gt;</td>\n",
       "      <td>&lt;NA&gt;</td>\n",
       "      <td>&lt;NA&gt;</td>\n",
       "      <td>&lt;NA&gt;</td>\n",
       "      <td>&lt;NA&gt;</td>\n",
       "    </tr>\n",
       "    <tr>\n",
       "      <th>543578897</th>\n",
       "      <td>NaN</td>\n",
       "      <td>&lt;NA&gt;</td>\n",
       "      <td>&lt;NA&gt;</td>\n",
       "      <td>&lt;NA&gt;</td>\n",
       "      <td>&lt;NA&gt;</td>\n",
       "      <td>&lt;NA&gt;</td>\n",
       "      <td>&lt;NA&gt;</td>\n",
       "      <td>&lt;NA&gt;</td>\n",
       "    </tr>\n",
       "    <tr>\n",
       "      <th>536773645</th>\n",
       "      <td>NaN</td>\n",
       "      <td>&lt;NA&gt;</td>\n",
       "      <td>&lt;NA&gt;</td>\n",
       "      <td>&lt;NA&gt;</td>\n",
       "      <td>&lt;NA&gt;</td>\n",
       "      <td>&lt;NA&gt;</td>\n",
       "      <td>&lt;NA&gt;</td>\n",
       "      <td>&lt;NA&gt;</td>\n",
       "    </tr>\n",
       "    <tr>\n",
       "      <th>542844034</th>\n",
       "      <td>NaN</td>\n",
       "      <td>&lt;NA&gt;</td>\n",
       "      <td>&lt;NA&gt;</td>\n",
       "      <td>&lt;NA&gt;</td>\n",
       "      <td>&lt;NA&gt;</td>\n",
       "      <td>&lt;NA&gt;</td>\n",
       "      <td>&lt;NA&gt;</td>\n",
       "      <td>&lt;NA&gt;</td>\n",
       "    </tr>\n",
       "    <tr>\n",
       "      <th>542156527</th>\n",
       "      <td>NaN</td>\n",
       "      <td>&lt;NA&gt;</td>\n",
       "      <td>&lt;NA&gt;</td>\n",
       "      <td>&lt;NA&gt;</td>\n",
       "      <td>&lt;NA&gt;</td>\n",
       "      <td>&lt;NA&gt;</td>\n",
       "      <td>&lt;NA&gt;</td>\n",
       "      <td>&lt;NA&gt;</td>\n",
       "    </tr>\n",
       "  </tbody>\n",
       "</table>\n",
       "</div>"
      ],
      "text/plain": [
       "           L1    L2    L3    L4    L5    L6    L7    L8\n",
       "536831087 NaN  <NA>  <NA>  <NA>  <NA>  <NA>  <NA>  <NA>\n",
       "543578897 NaN  <NA>  <NA>  <NA>  <NA>  <NA>  <NA>  <NA>\n",
       "536773645 NaN  <NA>  <NA>  <NA>  <NA>  <NA>  <NA>  <NA>\n",
       "542844034 NaN  <NA>  <NA>  <NA>  <NA>  <NA>  <NA>  <NA>\n",
       "542156527 NaN  <NA>  <NA>  <NA>  <NA>  <NA>  <NA>  <NA>"
      ]
     },
     "execution_count": 23,
     "metadata": {},
     "output_type": "execute_result"
    }
   ],
   "source": [
    "index.train_data.y.head()"
   ]
  },
  {
   "cell_type": "code",
   "execution_count": 18,
   "id": "e5bb0849",
   "metadata": {},
   "outputs": [
    {
     "name": "stderr",
     "output_type": "stream",
     "text": [
      "[2022-03-25 14:10:51,175][INFO ][lmi.indexes.BaseInde] Training model M.0 (root) on dataset(10, 282) with {'max_iter': 10, 'C': 10000, 'model': 'LogReg'}.\n"
     ]
    },
    {
     "name": "stdout",
     "output_type": "stream",
     "text": [
      "[nan nan nan nan nan nan nan nan nan nan]\n",
      "in LMI: [nan nan nan nan nan nan nan nan nan nan]\n"
     ]
    },
    {
     "ename": "ValueError",
     "evalue": "This solver needs samples of at least 2 classes in the data, but the data contains only one class: 0",
     "output_type": "error",
     "traceback": [
      "\u001b[0;31m---------------------------------------------------------------------------\u001b[0m",
      "\u001b[0;31mValueError\u001b[0m                                Traceback (most recent call last)",
      "\u001b[0;32m<ipython-input-18-d1b85b9fef1d>\u001b[0m in \u001b[0;36m<module>\u001b[0;34m\u001b[0m\n\u001b[0;32m----> 1\u001b[0;31m \u001b[0mindex\u001b[0m\u001b[0;34m.\u001b[0m\u001b[0mtrain\u001b[0m\u001b[0;34m(\u001b[0m\u001b[0mmodel_config\u001b[0m\u001b[0;34m)\u001b[0m\u001b[0;34m\u001b[0m\u001b[0;34m\u001b[0m\u001b[0m\n\u001b[0m",
      "\u001b[0;32m/auto/brno2/home/tslaninakova/exp/learned-indexes/lmi/indexes/LearnedMetricIndex.py\u001b[0m in \u001b[0;36mtrain\u001b[0;34m(self, model_config, rebuild)\u001b[0m\n\u001b[1;32m     94\u001b[0m \u001b[0;34m\u001b[0m\u001b[0m\n\u001b[1;32m     95\u001b[0m         \u001b[0;32mif\u001b[0m \u001b[0mself\u001b[0m\u001b[0;34m.\u001b[0m\u001b[0mfull_dataset_train\u001b[0m\u001b[0;34m:\u001b[0m\u001b[0;34m\u001b[0m\u001b[0;34m\u001b[0m\u001b[0m\n\u001b[0;32m---> 96\u001b[0;31m             \u001b[0mself\u001b[0m\u001b[0;34m.\u001b[0m\u001b[0mtrain_full_dataset\u001b[0m\u001b[0;34m(\u001b[0m\u001b[0mmodel_config\u001b[0m\u001b[0;34m)\u001b[0m\u001b[0;34m\u001b[0m\u001b[0;34m\u001b[0m\u001b[0m\n\u001b[0m\u001b[1;32m     97\u001b[0m         \u001b[0;32melse\u001b[0m\u001b[0;34m:\u001b[0m\u001b[0;34m\u001b[0m\u001b[0;34m\u001b[0m\u001b[0m\n\u001b[1;32m     98\u001b[0m             \u001b[0mself\u001b[0m\u001b[0;34m.\u001b[0m\u001b[0mtrain_subset\u001b[0m\u001b[0;34m(\u001b[0m\u001b[0mmodel_config\u001b[0m\u001b[0;34m)\u001b[0m\u001b[0;34m\u001b[0m\u001b[0;34m\u001b[0m\u001b[0m\n",
      "\u001b[0;32m/auto/brno2/home/tslaninakova/exp/learned-indexes/lmi/indexes/LearnedMetricIndex.py\u001b[0m in \u001b[0;36mtrain_full_dataset\u001b[0;34m(self, model_config)\u001b[0m\n\u001b[1;32m    132\u001b[0m         \u001b[0;31m#                  Training the root model\u001b[0m\u001b[0;34m\u001b[0m\u001b[0;34m\u001b[0m\u001b[0;34m\u001b[0m\u001b[0m\n\u001b[1;32m    133\u001b[0m         \u001b[0;31m# --------------------------------------------------------------\u001b[0m\u001b[0;34m\u001b[0m\u001b[0;34m\u001b[0m\u001b[0;34m\u001b[0m\u001b[0m\n\u001b[0;32m--> 134\u001b[0;31m         \u001b[0mself\u001b[0m\u001b[0;34m.\u001b[0m\u001b[0mtrain_root_node\u001b[0m\u001b[0;34m(\u001b[0m\u001b[0mmodel_config\u001b[0m\u001b[0;34m[\u001b[0m\u001b[0;34m'level-0'\u001b[0m\u001b[0;34m]\u001b[0m\u001b[0;34m)\u001b[0m\u001b[0;34m\u001b[0m\u001b[0;34m\u001b[0m\u001b[0m\n\u001b[0m\u001b[1;32m    135\u001b[0m         \u001b[0;31m# --------------------------------------------------------------\u001b[0m\u001b[0;34m\u001b[0m\u001b[0;34m\u001b[0m\u001b[0;34m\u001b[0m\u001b[0m\n\u001b[1;32m    136\u001b[0m         \u001b[0;31m#                  Training the index levels\u001b[0m\u001b[0;34m\u001b[0m\u001b[0;34m\u001b[0m\u001b[0;34m\u001b[0m\u001b[0m\n",
      "\u001b[0;32m/auto/brno2/home/tslaninakova/exp/learned-indexes/lmi/indexes/LearnedMetricIndex.py\u001b[0m in \u001b[0;36mtrain_root_node\u001b[0;34m(self, level)\u001b[0m\n\u001b[1;32m    288\u001b[0m             \u001b[0mself\u001b[0m\u001b[0;34m.\u001b[0m\u001b[0mtrain_data\u001b[0m\u001b[0;34m.\u001b[0m\u001b[0mX\u001b[0m\u001b[0;34m.\u001b[0m\u001b[0mvalues\u001b[0m\u001b[0;34m,\u001b[0m\u001b[0;34m\u001b[0m\u001b[0;34m\u001b[0m\u001b[0m\n\u001b[1;32m    289\u001b[0m             \u001b[0mself\u001b[0m\u001b[0;34m.\u001b[0m\u001b[0mtrain_data\u001b[0m\u001b[0;34m.\u001b[0m\u001b[0my\u001b[0m\u001b[0;34m[\u001b[0m\u001b[0mself\u001b[0m\u001b[0;34m.\u001b[0m\u001b[0mlabels\u001b[0m\u001b[0;34m[\u001b[0m\u001b[0;36m0\u001b[0m\u001b[0;34m]\u001b[0m\u001b[0;34m]\u001b[0m\u001b[0;34m.\u001b[0m\u001b[0mvalues\u001b[0m\u001b[0;34m,\u001b[0m\u001b[0;34m\u001b[0m\u001b[0;34m\u001b[0m\u001b[0m\n\u001b[0;32m--> 290\u001b[0;31m             \u001b[0;34m(\u001b[0m\u001b[0;34m(\u001b[0m\u001b[0;34m)\u001b[0m\u001b[0;34m)\u001b[0m\u001b[0;34m\u001b[0m\u001b[0;34m\u001b[0m\u001b[0m\n\u001b[0m\u001b[1;32m    291\u001b[0m         )\n\u001b[1;32m    292\u001b[0m         \u001b[0mself\u001b[0m\u001b[0;34m.\u001b[0m\u001b[0mtrain_data\u001b[0m\u001b[0;34m.\u001b[0m\u001b[0my\u001b[0m\u001b[0;34m[\u001b[0m\u001b[0;34mf'{self.labels[0]}_pred'\u001b[0m\u001b[0;34m]\u001b[0m \u001b[0;34m=\u001b[0m \u001b[0mpredictions\u001b[0m\u001b[0;34m\u001b[0m\u001b[0;34m\u001b[0m\u001b[0m\n",
      "\u001b[0;32m/auto/brno2/home/tslaninakova/exp/learned-indexes/lmi/indexes/LearnedMetricIndex.py\u001b[0m in \u001b[0;36mtrain_node\u001b[0;34m(self, level_config, X, y, node_id)\u001b[0m\n\u001b[1;32m    411\u001b[0m         ):\n\u001b[1;32m    412\u001b[0m             \u001b[0mprint\u001b[0m\u001b[0;34m(\u001b[0m\u001b[0;34mf'in LMI: {y}'\u001b[0m\u001b[0;34m)\u001b[0m\u001b[0;34m\u001b[0m\u001b[0;34m\u001b[0m\u001b[0m\n\u001b[0;32m--> 413\u001b[0;31m             \u001b[0mpredictions\u001b[0m \u001b[0;34m=\u001b[0m \u001b[0mclassifier\u001b[0m\u001b[0;34m.\u001b[0m\u001b[0mfit\u001b[0m\u001b[0;34m(\u001b[0m\u001b[0mX\u001b[0m\u001b[0;34m,\u001b[0m \u001b[0my\u001b[0m\u001b[0;34m)\u001b[0m\u001b[0;34m\u001b[0m\u001b[0;34m\u001b[0m\u001b[0m\n\u001b[0m\u001b[1;32m    414\u001b[0m         \u001b[0;32melse\u001b[0m\u001b[0;34m:\u001b[0m\u001b[0;34m\u001b[0m\u001b[0;34m\u001b[0m\u001b[0m\n\u001b[1;32m    415\u001b[0m             \u001b[0;32mraise\u001b[0m \u001b[0mNotImplementedError\u001b[0m\u001b[0;34m(\u001b[0m\u001b[0;34mf'Classifier {classifier} is not found within the implemented classifiers.'\u001b[0m\u001b[0;34m)\u001b[0m\u001b[0;34m\u001b[0m\u001b[0;34m\u001b[0m\u001b[0m\n",
      "\u001b[0;32m/auto/brno2/home/tslaninakova/exp/learned-indexes/lmi/classifiers/LogisticRegression.py\u001b[0m in \u001b[0;36mfit\u001b[0;34m(self, X, y)\u001b[0m\n\u001b[1;32m     78\u001b[0m         \"\"\"\n\u001b[1;32m     79\u001b[0m         \u001b[0my\u001b[0m \u001b[0;34m=\u001b[0m \u001b[0mself\u001b[0m\u001b[0;34m.\u001b[0m\u001b[0mencode_input_labels\u001b[0m\u001b[0;34m(\u001b[0m\u001b[0my\u001b[0m\u001b[0;34m)\u001b[0m\u001b[0;34m\u001b[0m\u001b[0;34m\u001b[0m\u001b[0m\n\u001b[0;32m---> 80\u001b[0;31m         \u001b[0msuper\u001b[0m\u001b[0;34m(\u001b[0m\u001b[0;34m)\u001b[0m\u001b[0;34m.\u001b[0m\u001b[0mfit\u001b[0m\u001b[0;34m(\u001b[0m\u001b[0mX\u001b[0m\u001b[0;34m,\u001b[0m \u001b[0my\u001b[0m\u001b[0;34m)\u001b[0m\u001b[0;34m\u001b[0m\u001b[0;34m\u001b[0m\u001b[0m\n\u001b[0m\u001b[1;32m     81\u001b[0m         \u001b[0mself\u001b[0m\u001b[0;34m.\u001b[0m\u001b[0mnode_classes_\u001b[0m \u001b[0;34m=\u001b[0m \u001b[0;34m[\u001b[0m\u001b[0mself\u001b[0m\u001b[0;34m.\u001b[0m\u001b[0mnode_id\u001b[0m \u001b[0;34m+\u001b[0m \u001b[0;34m(\u001b[0m\u001b[0mnode\u001b[0m\u001b[0;34m,\u001b[0m \u001b[0;34m)\u001b[0m \u001b[0;32mfor\u001b[0m \u001b[0mnode\u001b[0m \u001b[0;32min\u001b[0m \u001b[0mself\u001b[0m\u001b[0;34m.\u001b[0m\u001b[0mencoder\u001b[0m\u001b[0;34m.\u001b[0m\u001b[0mclasses_\u001b[0m\u001b[0;34m]\u001b[0m\u001b[0;34m\u001b[0m\u001b[0;34m\u001b[0m\u001b[0m\n\u001b[1;32m     82\u001b[0m         \u001b[0mpreds\u001b[0m \u001b[0;34m=\u001b[0m \u001b[0mself\u001b[0m\u001b[0;34m.\u001b[0m\u001b[0mpredict\u001b[0m\u001b[0;34m(\u001b[0m\u001b[0mX\u001b[0m\u001b[0;34m)\u001b[0m\u001b[0;34m\u001b[0m\u001b[0;34m\u001b[0m\u001b[0m\n",
      "\u001b[0;32m/storage/plzen1/home/tslaninakova/.conda/envs/lmi/lib/python3.6/site-packages/sklearn/linear_model/_logistic.py\u001b[0m in \u001b[0;36mfit\u001b[0;34m(self, X, y, sample_weight)\u001b[0m\n\u001b[1;32m   1374\u001b[0m             raise ValueError(\"This solver needs samples of at least 2 classes\"\n\u001b[1;32m   1375\u001b[0m                              \u001b[0;34m\" in the data, but the data contains only one\"\u001b[0m\u001b[0;34m\u001b[0m\u001b[0;34m\u001b[0m\u001b[0m\n\u001b[0;32m-> 1376\u001b[0;31m                              \" class: %r\" % classes_[0])\n\u001b[0m\u001b[1;32m   1377\u001b[0m \u001b[0;34m\u001b[0m\u001b[0m\n\u001b[1;32m   1378\u001b[0m         \u001b[0;32mif\u001b[0m \u001b[0mlen\u001b[0m\u001b[0;34m(\u001b[0m\u001b[0mself\u001b[0m\u001b[0;34m.\u001b[0m\u001b[0mclasses_\u001b[0m\u001b[0;34m)\u001b[0m \u001b[0;34m==\u001b[0m \u001b[0;36m2\u001b[0m\u001b[0;34m:\u001b[0m\u001b[0;34m\u001b[0m\u001b[0;34m\u001b[0m\u001b[0m\n",
      "\u001b[0;31mValueError\u001b[0m: This solver needs samples of at least 2 classes in the data, but the data contains only one class: 0"
     ]
    }
   ],
   "source": [
    "index.train(model_config)"
   ]
  },
  {
   "cell_type": "code",
   "execution_count": 57,
   "id": "72444fdd",
   "metadata": {},
   "outputs": [],
   "source": [
    "knns = loader.get_knn_ground_truth()"
   ]
  },
  {
   "cell_type": "code",
   "execution_count": 61,
   "id": "adfac715",
   "metadata": {},
   "outputs": [
    {
     "data": {
      "text/plain": [
       "'3459_3459-1584-93_1584_93'"
      ]
     },
     "execution_count": 61,
     "metadata": {},
     "output_type": "execute_result"
    }
   ],
   "source": [
    "dataset.iloc[0].name"
   ]
  },
  {
   "cell_type": "code",
   "execution_count": 62,
   "id": "3e1bd916",
   "metadata": {},
   "outputs": [],
   "source": [
    "knns_ = {dataset.iloc[0].name: {dataset.iloc[0].name: 0.0}}"
   ]
  },
  {
   "cell_type": "code",
   "execution_count": 73,
   "id": "2ebeb814",
   "metadata": {},
   "outputs": [
    {
     "data": {
      "text/plain": [
       "(4096,)"
      ]
     },
     "execution_count": 73,
     "metadata": {},
     "output_type": "execute_result"
    }
   ],
   "source": [
    "dataset.iloc[0].values.shape"
   ]
  },
  {
   "cell_type": "code",
   "execution_count": 76,
   "id": "2e6db247",
   "metadata": {},
   "outputs": [],
   "source": [
    "from lmi.Experiment import Evaluator\n",
    "evaluator = Evaluator(index, knns_, dataset.iloc[:1], config, job_id='0')"
   ]
  },
  {
   "cell_type": "code",
   "execution_count": 77,
   "id": "19f9b052",
   "metadata": {},
   "outputs": [
    {
     "name": "stderr",
     "output_type": "stream",
     "text": [
      "[2022-03-25 13:56:04,517][INFO ][lmi.Experiment] Starting the search for 1 queries.\n",
      "[2022-03-25 13:56:04,530][INFO ][lmi.Experiment] Search is finished, results are stored in: 'outputs/0/search.csv'\n"
     ]
    }
   ],
   "source": [
    "evaluator.run_evaluate()"
   ]
  },
  {
   "cell_type": "code",
   "execution_count": null,
   "id": "ce862694",
   "metadata": {},
   "outputs": [],
   "source": []
  },
  {
   "cell_type": "code",
   "execution_count": 3,
   "id": "e97867e9",
   "metadata": {},
   "outputs": [],
   "source": [
    "import matplotlib.pyplot as plt\n",
    "import numpy as np\n",
    "\n",
    "def plot_boxplots(data_a, data_b, index=\"M-tree\"):\n",
    "    ticks = [index, 'LogReg', 'RF', 'NN', 'NN Multi']\n",
    "\n",
    "    def set_box_color(bp, color):\n",
    "        for i in ['boxes', 'medians', 'caps', 'whiskers']:\n",
    "            plt.setp(bp[i], color=color)\n",
    "            bp[i][0].set(linewidth=2)\n",
    "        for i in ['caps', 'whiskers']:\n",
    "            bp[i][1].set(linewidth=2)\n",
    "\n",
    "    fig = plt.figure(figsize=(5,3))\n",
    "\n",
    "    #print(np.array(range(len(data_a)))*2.0-0.4)\n",
    "\n",
    "    bpl = plt.boxplot(data_a, positions=np.array(range(len(data_a)))*2.0-0.3, sym='', widths=0.5)\n",
    "    bpr = plt.boxplot(data_b, positions=np.array(range(len(data_b)))*2.0+0.3, sym='', widths=0.5)\n",
    "    set_box_color(bpl, '#D7191C') # colors are from http://colorbrewer2.org/\n",
    "    set_box_color(bpr, '#2C7BB6')\n",
    "\n",
    "    # draw temporary red and blue lines and use them to create a legend\n",
    "    plt.plot([], c='#D7191C', label='Descriptor length: 282')\n",
    "    plt.plot([], c='#2C7BB6', label='Descriptor length: 4096')\n",
    "    plt.legend(prop={'size': 8}, loc=\"lower right\")\n",
    "\n",
    "    plt.xticks(range(0, len(ticks) * 2, 2), ticks)\n",
    "    plt.xlim(-2, len(ticks)*2)\n",
    "    plt.ylim(-0.01, 1.05)\n",
    "    plt.grid(axis='y')\n",
    "    #plt.tight_layout()\n",
    "    #plt.savefig('boxcompare.png')\n",
    "    #plt.show()\n",
    "    extent = fig.get_window_extent().transformed(fig.dpi_scale_trans.inverted())\n",
    "    plt.savefig(f\"./plots/boxplots-{index}.eps\", format='eps', bbox_inches=extent.expanded(1.1, 1.1))\n",
    "    \n",
    "#data_a = [cophir_mtree[\"MI\"], cophir_mtree[\"LR\"].values, cophir_mtree[\"RF\"].values, cophir_mtree[\"NN\"].values, cophir_mtree[\"NNM\"].values]\n",
    "#data_b = [profi_mtree[\"MI\"], profi_mtree[\"LR\"].values, profi_mtree[\"RF\"].values, profi_mtree[\"NN\"].values, profi_mtree[\"NNM\"].values]\n",
    "#plot_boxplots(data_a, data_b)"
   ]
  },
  {
   "cell_type": "code",
   "execution_count": 2,
   "id": "0e1b6474",
   "metadata": {},
   "outputs": [],
   "source": [
    "from lmi.enums import Mtree10perc, Mindex10perc\n",
    "import itertools"
   ]
  },
  {
   "cell_type": "code",
   "execution_count": 10,
   "id": "7a1c8237",
   "metadata": {},
   "outputs": [
    {
     "data": {
      "text/plain": [
       "('CoPhIR-1M-Mindex-2000-LR-',\n",
       " 'CoPhIR-1M-Mindex-2000-LR-10perc',\n",
       " 'CoPhIR-1M-Mindex-2000-NN-',\n",
       " 'CoPhIR-1M-Mindex-2000-NN-10perc',\n",
       " 'CoPhIR-1M-Mindex-2000-multilabel-NN-',\n",
       " 'CoPhIR-1M-Mindex-2000-multilabel-NN-10perc',\n",
       " 'CoPhIR-1M-Mindex-2000-RF-',\n",
       " 'CoPhIR-1M-Mindex-2000-RF-10perc')"
      ]
     },
     "execution_count": 10,
     "metadata": {},
     "output_type": "execute_result"
    }
   ],
   "source": [
    "def get_combinations(target_enum):\n",
    "    return tuple(['-'.join(p) for p in itertools.product(*[e.value for e in target_enum])])\n",
    "get_combinations(Mindex10perc)"
   ]
  },
  {
   "cell_type": "code",
   "execution_count": 11,
   "id": "24a1cf21",
   "metadata": {},
   "outputs": [
    {
     "data": {
      "text/plain": [
       "('Profiset-1M-Mtree-200-LR-',\n",
       " 'Profiset-1M-Mtree-200-LR-10perc',\n",
       " 'Profiset-1M-Mtree-200-NN-',\n",
       " 'Profiset-1M-Mtree-200-NN-10perc',\n",
       " 'Profiset-1M-Mtree-200-multilabel-NN-',\n",
       " 'Profiset-1M-Mtree-200-multilabel-NN-10perc',\n",
       " 'Profiset-1M-Mtree-200-RF-',\n",
       " 'Profiset-1M-Mtree-200-RF-10perc')"
      ]
     },
     "execution_count": 11,
     "metadata": {},
     "output_type": "execute_result"
    }
   ],
   "source": [
    "get_combinations(Mtree10perc)"
   ]
  },
  {
   "cell_type": "code",
   "execution_count": 42,
   "id": "be1b48b3",
   "metadata": {},
   "outputs": [],
   "source": [
    "DIR = '/storage/brno2/home/tslaninakova/exp/learned-indexes-repro/outputs/'"
   ]
  },
  {
   "cell_type": "code",
   "execution_count": 13,
   "id": "c6d412c7",
   "metadata": {},
   "outputs": [
    {
     "data": {
      "text/plain": [
       "[]"
      ]
     },
     "execution_count": 13,
     "metadata": {},
     "output_type": "execute_result"
    }
   ],
   "source": [
    "[exp_file for exp_file in os.listdir(DIR) if exp_file in get_combinations(Mindex10perc)]"
   ]
  },
  {
   "cell_type": "code",
   "execution_count": 17,
   "id": "ef3a1b2f",
   "metadata": {},
   "outputs": [],
   "source": [
    "import re\n",
    "def regex_model_names(model_names):\n",
    "    model_names_re = '('\n",
    "    for name in model_names:\n",
    "        model_names_re += f'{name}|'\n",
    "    model_names_re = model_names_re[:-1]\n",
    "    model_names_re += ')'\n",
    "    return model_names_re"
   ]
  },
  {
   "cell_type": "code",
   "execution_count": 30,
   "id": "347fa405",
   "metadata": {},
   "outputs": [],
   "source": [
    "models = regex_model_names([c[:-1] if c.endswith('-') else c for c in get_combinations(Mindex10perc)])"
   ]
  },
  {
   "cell_type": "code",
   "execution_count": 4,
   "id": "b5ff809a",
   "metadata": {},
   "outputs": [
    {
     "data": {
      "text/plain": [
       "'Mindex10perc'"
      ]
     },
     "execution_count": 4,
     "metadata": {},
     "output_type": "execute_result"
    }
   ],
   "source": [
    "Mindex10perc.__name__"
   ]
  },
  {
   "cell_type": "code",
   "execution_count": 31,
   "id": "98d3404c",
   "metadata": {},
   "outputs": [
    {
     "data": {
      "text/plain": [
       "'(CoPhIR-1M-Mindex-2000-LR|CoPhIR-1M-Mindex-2000-LR-10perc|CoPhIR-1M-Mindex-2000-NN|CoPhIR-1M-Mindex-2000-NN-10perc|CoPhIR-1M-Mindex-2000-multilabel-NN|CoPhIR-1M-Mindex-2000-multilabel-NN-10perc|CoPhIR-1M-Mindex-2000-RF|CoPhIR-1M-Mindex-2000-RF-10perc)'"
      ]
     },
     "execution_count": 31,
     "metadata": {},
     "output_type": "execute_result"
    }
   ],
   "source": [
    "models"
   ]
  },
  {
   "cell_type": "code",
   "execution_count": 24,
   "id": "ed19fb18",
   "metadata": {},
   "outputs": [],
   "source": [
    "combination = get_combinations(Mindex10perc)"
   ]
  },
  {
   "cell_type": "code",
   "execution_count": 130,
   "id": "5d73b072",
   "metadata": {},
   "outputs": [
    {
     "data": {
      "text/plain": [
       "('CoPhIR-1M-Mindex-2000-LR-',\n",
       " 'CoPhIR-1M-Mindex-2000-LR-10perc',\n",
       " 'CoPhIR-1M-Mindex-2000-NN-',\n",
       " 'CoPhIR-1M-Mindex-2000-NN-10perc',\n",
       " 'CoPhIR-1M-Mindex-2000-multilabel-NN-',\n",
       " 'CoPhIR-1M-Mindex-2000-multilabel-NN-10perc',\n",
       " 'CoPhIR-1M-Mindex-2000-RF-',\n",
       " 'CoPhIR-1M-Mindex-2000-RF-10perc')"
      ]
     },
     "execution_count": 130,
     "metadata": {},
     "output_type": "execute_result"
    }
   ],
   "source": [
    "combination"
   ]
  },
  {
   "cell_type": "code",
   "execution_count": 32,
   "id": "bcfa08ea",
   "metadata": {},
   "outputs": [
    {
     "data": {
      "text/plain": [
       "['CoPhIR-1M-Mindex-2000-RF--2022-01-05--22-21-49',\n",
       " 'CoPhIR-1M-Mindex-2000-RF-10perc--2022-01-21--21-05-09',\n",
       " 'CoPhIR-1M-Mindex-2000-LR--2022-01-05--19-25-27',\n",
       " 'CoPhIR-1M-Mindex-2000-LR-10perc--2022-01-21--16-36-03',\n",
       " 'CoPhIR-1M-Mindex-2000-multilabel-NN--2022-01-19--12-09-11',\n",
       " 'CoPhIR-1M-Mindex-2000-NN-10perc--2022-01-27--09-27-47',\n",
       " 'CoPhIR-1M-Mindex-2000-NN--2022-01-05--19-40-34']"
      ]
     },
     "execution_count": 32,
     "metadata": {},
     "output_type": "execute_result"
    }
   ],
   "source": [
    "[exp_file for exp_file in os.listdir(DIR) if re.match(f'^{models}--.*$', exp_file)]"
   ]
  },
  {
   "cell_type": "code",
   "execution_count": 101,
   "id": "d749c79d",
   "metadata": {},
   "outputs": [],
   "source": [
    "from lmi.visualization import Plot, plot_boxplots"
   ]
  },
  {
   "cell_type": "code",
   "execution_count": 104,
   "id": "5b923d86",
   "metadata": {},
   "outputs": [],
   "source": [
    "l = [exp_file for exp_file in os.listdir(DIR) if re.match(f'^{models}--.*$', exp_file)]"
   ]
  },
  {
   "cell_type": "code",
   "execution_count": 105,
   "id": "6f66758a",
   "metadata": {},
   "outputs": [],
   "source": [
    "a = sorted(l, key=lambda x: x.split('-')[4], reverse=True)"
   ]
  },
  {
   "cell_type": "code",
   "execution_count": 106,
   "id": "fa772da4",
   "metadata": {},
   "outputs": [
    {
     "data": {
      "text/plain": [
       "['CoPhIR-1M-Mindex-2000-multilabel-NN--2022-04-23--16-51-03',\n",
       " 'CoPhIR-1M-Mindex-2000-multilabel-NN-10perc--2022-04-25--11-35-52',\n",
       " 'CoPhIR-1M-Mindex-2000-multilabel-NN-10perc--2022-04-13--07-08-27',\n",
       " 'CoPhIR-1M-Mindex-2000-multilabel-NN--2022-04-18--07-48-05',\n",
       " 'CoPhIR-1M-Mindex-2000-RF-10perc--2022-04-25--09-12-48',\n",
       " 'CoPhIR-1M-Mindex-2000-RF--2022-04-23--21-06-41',\n",
       " 'CoPhIR-1M-Mindex-2000-RF-10perc--2022-04-15--00-37-10',\n",
       " 'CoPhIR-1M-Mindex-2000-RF--2022-04-17--22-36-19',\n",
       " 'CoPhIR-1M-Mindex-2000-NN-10perc--2022-04-15--04-00-22',\n",
       " 'CoPhIR-1M-Mindex-2000-NN--2022-04-24--01-12-35',\n",
       " 'CoPhIR-1M-Mindex-2000-NN-10perc--2022-04-25--08-53-16',\n",
       " 'CoPhIR-1M-Mindex-2000-NN--2022-04-17--20-23-49',\n",
       " 'CoPhIR-1M-Mindex-2000-LR--2022-04-24--03-42-18',\n",
       " 'CoPhIR-1M-Mindex-2000-LR-10perc--2022-04-15--14-49-16',\n",
       " 'CoPhIR-1M-Mindex-2000-LR--2022-04-14--04-54-22',\n",
       " 'CoPhIR-1M-Mindex-2000-LR-10perc--2022-04-25--08-23-02']"
      ]
     },
     "execution_count": 106,
     "metadata": {},
     "output_type": "execute_result"
    }
   ],
   "source": [
    "a"
   ]
  },
  {
   "cell_type": "code",
   "execution_count": 139,
   "id": "bcba5942",
   "metadata": {},
   "outputs": [],
   "source": [
    "final_candidates = []\n",
    "\n",
    "for comb in [f'{c}-' if c.endswith('-') else c for c in get_combinations(Mindex10perc)]:\n",
    "    for a_ in a:\n",
    "        if a_.startswith(comb) and not any([f.startswith(comb) for f in final_candidates]):\n",
    "            final_candidates.append(a_)"
   ]
  },
  {
   "cell_type": "code",
   "execution_count": 140,
   "id": "5d973eeb",
   "metadata": {},
   "outputs": [
    {
     "data": {
      "text/plain": [
       "['CoPhIR-1M-Mindex-2000-LR--2022-04-24--03-42-18',\n",
       " 'CoPhIR-1M-Mindex-2000-LR-10perc--2022-04-15--14-49-16',\n",
       " 'CoPhIR-1M-Mindex-2000-NN--2022-04-24--01-12-35',\n",
       " 'CoPhIR-1M-Mindex-2000-NN-10perc--2022-04-15--04-00-22',\n",
       " 'CoPhIR-1M-Mindex-2000-multilabel-NN--2022-04-23--16-51-03',\n",
       " 'CoPhIR-1M-Mindex-2000-multilabel-NN-10perc--2022-04-25--11-35-52',\n",
       " 'CoPhIR-1M-Mindex-2000-RF--2022-04-23--21-06-41',\n",
       " 'CoPhIR-1M-Mindex-2000-RF-10perc--2022-04-25--09-12-48']"
      ]
     },
     "execution_count": 140,
     "metadata": {},
     "output_type": "execute_result"
    }
   ],
   "source": [
    "final_candidates"
   ]
  },
  {
   "cell_type": "code",
   "execution_count": 156,
   "id": "8d8f3c0b",
   "metadata": {},
   "outputs": [],
   "source": [
    "ticks = [a_.split('-')[4] for a_ in final_candidates]"
   ]
  },
  {
   "cell_type": "code",
   "execution_count": 157,
   "id": "37177df3",
   "metadata": {},
   "outputs": [
    {
     "data": {
      "text/plain": [
       "['LR', 'LR', 'NN', 'NN', 'multilabel', 'multilabel', 'RF', 'RF']"
      ]
     },
     "execution_count": 157,
     "metadata": {},
     "output_type": "execute_result"
    }
   ],
   "source": [
    "ticks"
   ]
  },
  {
   "cell_type": "code",
   "execution_count": 86,
   "id": "3db0c511",
   "metadata": {},
   "outputs": [],
   "source": [
    "from lmi.enums import BasicMtree, BasicMindex, MODELS, MTREE, MINDEX, GMMMtree, GMMMindex, GMMCoPhIR, GMMProfiset\n",
    "\n",
    "MODEL_NAMES = [f'{m}-10perc' for m in MODELS] + MODELS + MTREE + MINDEX + ['GMM']"
   ]
  },
  {
   "cell_type": "code",
   "execution_count": 87,
   "id": "d05575b0",
   "metadata": {},
   "outputs": [],
   "source": [
    "def get_model_names(experiment_files):\n",
    "    model_names = []\n",
    "    for exp_file in experiment_files:\n",
    "        for model_name in MODEL_NAMES:\n",
    "            if model_name != 'NN' and model_name in exp_file or \\\n",
    "               model_name == 'NN' and model_name in exp_file and 'multilabel-NN' not in exp_file:\n",
    "                model_names.append(model_name)\n",
    "                break\n",
    "    return model_names"
   ]
  },
  {
   "cell_type": "code",
   "execution_count": 150,
   "id": "eb08c34e",
   "metadata": {},
   "outputs": [],
   "source": [
    "test_files_a = [test_file for test_file in final_candidates if '10perc' in test_file]\n",
    "test_files_b = [test_file for test_file in final_candidates if '10perc' not in test_file]"
   ]
  },
  {
   "cell_type": "code",
   "execution_count": 160,
   "id": "b5d3c04b",
   "metadata": {},
   "outputs": [],
   "source": [
    "ticks = [a_.split('-')[4] for a_ in test_files_a]"
   ]
  },
  {
   "cell_type": "code",
   "execution_count": 151,
   "id": "4fee2da1",
   "metadata": {},
   "outputs": [],
   "source": [
    "import pandas as pd\n",
    "scores_a = []\n",
    "for t in test_files_a:\n",
    "    search = pd.read_csv(f'{DIR}/{t}/search.csv')\n",
    "    scores_a.append(search[search['condition'] == 50_000]['knn_score'].values)"
   ]
  },
  {
   "cell_type": "code",
   "execution_count": 152,
   "id": "26a43e33",
   "metadata": {},
   "outputs": [],
   "source": [
    "scores_b = []\n",
    "for t in test_files_b:\n",
    "    search = pd.read_csv(f'{DIR}/{t}/search.csv')\n",
    "    scores_b.append(search[search['condition'] == 50_000]['knn_score'].values)"
   ]
  },
  {
   "cell_type": "code",
   "execution_count": 89,
   "id": "2668d4e5",
   "metadata": {},
   "outputs": [
    {
     "data": {
      "text/plain": [
       "['LR', 'LR-10perc', 'RF', 'RF-10perc']"
      ]
     },
     "execution_count": 89,
     "metadata": {},
     "output_type": "execute_result"
    }
   ],
   "source": [
    "get_model_names(test_files)"
   ]
  },
  {
   "cell_type": "code",
   "execution_count": 146,
   "id": "6a9e39f0",
   "metadata": {},
   "outputs": [],
   "source": [
    "plot = Plot(\n",
    "    test_files\n",
    ")"
   ]
  },
  {
   "cell_type": "code",
   "execution_count": 153,
   "id": "55264a19",
   "metadata": {},
   "outputs": [
    {
     "data": {
      "text/plain": [
       "['CoPhIR-1M-Mindex-2000-LR--2022-04-24--03-42-18',\n",
       " 'CoPhIR-1M-Mindex-2000-NN--2022-04-24--01-12-35',\n",
       " 'CoPhIR-1M-Mindex-2000-multilabel-NN--2022-04-23--16-51-03',\n",
       " 'CoPhIR-1M-Mindex-2000-RF--2022-04-23--21-06-41']"
      ]
     },
     "execution_count": 153,
     "metadata": {},
     "output_type": "execute_result"
    }
   ],
   "source": [
    "test_files_b"
   ]
  },
  {
   "cell_type": "code",
   "execution_count": 149,
   "id": "5b1911b5",
   "metadata": {},
   "outputs": [
    {
     "data": {
      "text/plain": [
       "['CoPhIR-1M-Mindex-2000-multilabel-NN-10perc--2022-04-25--11-35-52',\n",
       " 'CoPhIR-1M-Mindex-2000-multilabel-NN-10perc--2022-04-13--07-08-27',\n",
       " 'CoPhIR-1M-Mindex-2000-RF-10perc--2022-04-25--09-12-48',\n",
       " 'CoPhIR-1M-Mindex-2000-RF-10perc--2022-04-15--00-37-10',\n",
       " 'CoPhIR-1M-Mindex-2000-NN-10perc--2022-04-15--04-00-22',\n",
       " 'CoPhIR-1M-Mindex-2000-NN-10perc--2022-04-25--08-53-16',\n",
       " 'CoPhIR-1M-Mindex-2000-LR-10perc--2022-04-15--14-49-16',\n",
       " 'CoPhIR-1M-Mindex-2000-LR-10perc--2022-04-25--08-23-02']"
      ]
     },
     "execution_count": 149,
     "metadata": {},
     "output_type": "execute_result"
    }
   ],
   "source": [
    "test_files_a"
   ]
  },
  {
   "cell_type": "code",
   "execution_count": 161,
   "id": "4d027a57",
   "metadata": {},
   "outputs": [
    {
     "data": {
      "text/plain": [
       "['LR', 'NN', 'multilabel', 'RF']"
      ]
     },
     "execution_count": 161,
     "metadata": {},
     "output_type": "execute_result"
    }
   ],
   "source": [
    "ticks"
   ]
  },
  {
   "cell_type": "code",
   "execution_count": 162,
   "id": "02dc48b3",
   "metadata": {},
   "outputs": [
    {
     "data": {
      "image/png": "[encoded data removed]",
      "text/plain": [
       "<Figure size 360x216 with 1 Axes>"
      ]
     },
     "metadata": {
      "needs_background": "light"
     },
     "output_type": "display_data"
    }
   ],
   "source": [
    "plot_boxplots(scores_a, scores_b, ticks, labels=['100% data', '10% data'])"
   ]
  },
  {
   "cell_type": "code",
   "execution_count": 5,
   "id": "d6b1eb87",
   "metadata": {},
   "outputs": [],
   "source": [
    "from lmi.visualization import Plot\n",
    "import os\n",
    "from lmi.enums import BasicMtree, BasicMindex, Table3, IndexTable3\n",
    "import itertools\n",
    "from lmi.visualization import Plot\n",
    "import pandas as pd\n",
    "import numpy as np\n",
    "\n",
    "\n",
    "OUTPUT_DIR = '../report'\n",
    "\n",
    "def get_combinations(target_enum):\n",
    "    return tuple(['-'.join(p) for p in itertools.product(*[e.value for e in target_enum])])"
   ]
  },
  {
   "cell_type": "code",
   "execution_count": 6,
   "id": "e148110e",
   "metadata": {},
   "outputs": [
    {
     "name": "stdout",
     "output_type": "stream",
     "text": [
      "Index(['CoPhIR-Mindex-2000-LR', 'CoPhIR-Mindex-2000-RF',\n",
      "       'CoPhIR-Mindex-2000-NN', 'CoPhIR-Mindex-2000-multilabel-NN',\n",
      "       'Profiset-Mtree-200-LR', 'Profiset-Mtree-200-RF',\n",
      "       'Profiset-Mtree-200-NN', 'Profiset-Mtree-200-multilabel-NN'],\n",
      "      dtype='object')\n"
     ]
    }
   ],
   "source": [
    "col_names = get_combinations(Table3)\n",
    "index_names = get_combinations(IndexTable3)\n",
    "df = pd.DataFrame(np.random.uniform(low=-1, high=0, size=(4,8)), index=index_names, columns = col_names)\n",
    "print(df.columns)"
   ]
  },
  {
   "cell_type": "code",
   "execution_count": 6,
   "id": "21d0cb4f",
   "metadata": {},
   "outputs": [
    {
     "data": {
      "text/plain": [
       "('build t. (h)-100%',\n",
       " 'build t. (h)-10%',\n",
       " 'memory (gb)-100%',\n",
       " 'memory (gb)-10%')"
      ]
     },
     "execution_count": 6,
     "metadata": {},
     "output_type": "execute_result"
    }
   ],
   "source": [
    "index_names"
   ]
  },
  {
   "cell_type": "code",
   "execution_count": 7,
   "id": "3e017d53",
   "metadata": {},
   "outputs": [
    {
     "data": {
      "text/html": [
       "<div>\n",
       "<style scoped>\n",
       "    .dataframe tbody tr th:only-of-type {\n",
       "        vertical-align: middle;\n",
       "    }\n",
       "\n",
       "    .dataframe tbody tr th {\n",
       "        vertical-align: top;\n",
       "    }\n",
       "\n",
       "    .dataframe thead th {\n",
       "        text-align: right;\n",
       "    }\n",
       "</style>\n",
       "<table border=\"1\" class=\"dataframe\">\n",
       "  <thead>\n",
       "    <tr style=\"text-align: right;\">\n",
       "      <th></th>\n",
       "      <th>CoPhIR-Mindex-2000-LR</th>\n",
       "      <th>CoPhIR-Mindex-2000-RF</th>\n",
       "      <th>CoPhIR-Mindex-2000-NN</th>\n",
       "      <th>CoPhIR-Mindex-2000-multilabel-NN</th>\n",
       "      <th>Profiset-Mtree-200-LR</th>\n",
       "      <th>Profiset-Mtree-200-RF</th>\n",
       "      <th>Profiset-Mtree-200-NN</th>\n",
       "      <th>Profiset-Mtree-200-multilabel-NN</th>\n",
       "    </tr>\n",
       "  </thead>\n",
       "  <tbody>\n",
       "    <tr>\n",
       "      <th>build t. (h)-100%</th>\n",
       "      <td>-0.934394</td>\n",
       "      <td>-0.243198</td>\n",
       "      <td>-0.803893</td>\n",
       "      <td>-0.355667</td>\n",
       "      <td>-0.672195</td>\n",
       "      <td>-0.862953</td>\n",
       "      <td>-0.387550</td>\n",
       "      <td>-0.783072</td>\n",
       "    </tr>\n",
       "    <tr>\n",
       "      <th>build t. (h)-10%</th>\n",
       "      <td>-0.904115</td>\n",
       "      <td>-0.661050</td>\n",
       "      <td>-0.171893</td>\n",
       "      <td>-0.654214</td>\n",
       "      <td>-0.253272</td>\n",
       "      <td>-0.139045</td>\n",
       "      <td>-0.914857</td>\n",
       "      <td>-0.263767</td>\n",
       "    </tr>\n",
       "    <tr>\n",
       "      <th>memory (gb)-100%</th>\n",
       "      <td>-0.833545</td>\n",
       "      <td>-0.834460</td>\n",
       "      <td>-0.939022</td>\n",
       "      <td>-0.674238</td>\n",
       "      <td>-0.525912</td>\n",
       "      <td>-0.042041</td>\n",
       "      <td>-0.870115</td>\n",
       "      <td>-0.781468</td>\n",
       "    </tr>\n",
       "    <tr>\n",
       "      <th>memory (gb)-10%</th>\n",
       "      <td>-0.181272</td>\n",
       "      <td>-0.998252</td>\n",
       "      <td>-0.612695</td>\n",
       "      <td>-0.056166</td>\n",
       "      <td>-0.314780</td>\n",
       "      <td>-0.607303</td>\n",
       "      <td>-0.850290</td>\n",
       "      <td>-0.464110</td>\n",
       "    </tr>\n",
       "  </tbody>\n",
       "</table>\n",
       "</div>"
      ],
      "text/plain": [
       "                   CoPhIR-Mindex-2000-LR  CoPhIR-Mindex-2000-RF  \\\n",
       "build t. (h)-100%              -0.934394              -0.243198   \n",
       "build t. (h)-10%               -0.904115              -0.661050   \n",
       "memory (gb)-100%               -0.833545              -0.834460   \n",
       "memory (gb)-10%                -0.181272              -0.998252   \n",
       "\n",
       "                   CoPhIR-Mindex-2000-NN  CoPhIR-Mindex-2000-multilabel-NN  \\\n",
       "build t. (h)-100%              -0.803893                         -0.355667   \n",
       "build t. (h)-10%               -0.171893                         -0.654214   \n",
       "memory (gb)-100%               -0.939022                         -0.674238   \n",
       "memory (gb)-10%                -0.612695                         -0.056166   \n",
       "\n",
       "                   Profiset-Mtree-200-LR  Profiset-Mtree-200-RF  \\\n",
       "build t. (h)-100%              -0.672195              -0.862953   \n",
       "build t. (h)-10%               -0.253272              -0.139045   \n",
       "memory (gb)-100%               -0.525912              -0.042041   \n",
       "memory (gb)-10%                -0.314780              -0.607303   \n",
       "\n",
       "                   Profiset-Mtree-200-NN  Profiset-Mtree-200-multilabel-NN  \n",
       "build t. (h)-100%              -0.387550                         -0.783072  \n",
       "build t. (h)-10%               -0.914857                         -0.263767  \n",
       "memory (gb)-100%               -0.870115                         -0.781468  \n",
       "memory (gb)-10%                -0.850290                         -0.464110  "
      ]
     },
     "execution_count": 7,
     "metadata": {},
     "output_type": "execute_result"
    }
   ],
   "source": [
    "df.head()"
   ]
  },
  {
   "cell_type": "code",
   "execution_count": 21,
   "id": "c2572205",
   "metadata": {},
   "outputs": [],
   "source": [
    "df.loc['build t. (h)-CoPhIR', 'Mindex-200-LR'] = 0"
   ]
  },
  {
   "cell_type": "code",
   "execution_count": 22,
   "id": "abcd97cc",
   "metadata": {},
   "outputs": [
    {
     "data": {
      "text/html": [
       "<div>\n",
       "<style scoped>\n",
       "    .dataframe tbody tr th:only-of-type {\n",
       "        vertical-align: middle;\n",
       "    }\n",
       "\n",
       "    .dataframe tbody tr th {\n",
       "        vertical-align: top;\n",
       "    }\n",
       "\n",
       "    .dataframe thead th {\n",
       "        text-align: right;\n",
       "    }\n",
       "</style>\n",
       "<table border=\"1\" class=\"dataframe\">\n",
       "  <thead>\n",
       "    <tr style=\"text-align: right;\">\n",
       "      <th></th>\n",
       "      <th>Mindex-200-LR</th>\n",
       "      <th>Mindex-200-NN</th>\n",
       "      <th>Mindex-200-multilabel-NN</th>\n",
       "      <th>Mindex-200-RF</th>\n",
       "      <th>Mindex-2000-LR</th>\n",
       "      <th>Mindex-2000-NN</th>\n",
       "      <th>Mindex-2000-multilabel-NN</th>\n",
       "      <th>Mindex-2000-RF</th>\n",
       "      <th>Mtree-200-LR</th>\n",
       "      <th>Mtree-200-NN</th>\n",
       "      <th>Mtree-200-multilabel-NN</th>\n",
       "      <th>Mtree-200-RF</th>\n",
       "      <th>Mtree-2000-LR</th>\n",
       "      <th>Mtree-2000-NN</th>\n",
       "      <th>Mtree-2000-multilabel-NN</th>\n",
       "      <th>Mtree-2000-RF</th>\n",
       "    </tr>\n",
       "  </thead>\n",
       "  <tbody>\n",
       "    <tr>\n",
       "      <th>build t. (h)-CoPhIR</th>\n",
       "      <td>0.000000</td>\n",
       "      <td>0.669314</td>\n",
       "      <td>0.391933</td>\n",
       "      <td>0.569115</td>\n",
       "      <td>0.849974</td>\n",
       "      <td>-0.439940</td>\n",
       "      <td>-0.440474</td>\n",
       "      <td>0.231594</td>\n",
       "      <td>-0.056465</td>\n",
       "      <td>1.057329</td>\n",
       "      <td>-1.031223</td>\n",
       "      <td>-0.416104</td>\n",
       "      <td>0.155086</td>\n",
       "      <td>0.852692</td>\n",
       "      <td>0.238487</td>\n",
       "      <td>0.772579</td>\n",
       "    </tr>\n",
       "    <tr>\n",
       "      <th>build t. (h)-Profiset</th>\n",
       "      <td>0.263372</td>\n",
       "      <td>-0.368621</td>\n",
       "      <td>0.917301</td>\n",
       "      <td>1.634413</td>\n",
       "      <td>0.890111</td>\n",
       "      <td>-2.049798</td>\n",
       "      <td>0.206256</td>\n",
       "      <td>-0.584608</td>\n",
       "      <td>1.704531</td>\n",
       "      <td>1.098834</td>\n",
       "      <td>0.768306</td>\n",
       "      <td>1.019663</td>\n",
       "      <td>1.461760</td>\n",
       "      <td>0.037969</td>\n",
       "      <td>-2.409389</td>\n",
       "      <td>1.381190</td>\n",
       "    </tr>\n",
       "    <tr>\n",
       "      <th>memory (gb)-CoPhIR</th>\n",
       "      <td>0.906221</td>\n",
       "      <td>-1.614170</td>\n",
       "      <td>-0.499598</td>\n",
       "      <td>-1.168403</td>\n",
       "      <td>0.567991</td>\n",
       "      <td>-0.378435</td>\n",
       "      <td>-0.365432</td>\n",
       "      <td>-1.498207</td>\n",
       "      <td>-1.394063</td>\n",
       "      <td>-0.633897</td>\n",
       "      <td>0.256117</td>\n",
       "      <td>0.538459</td>\n",
       "      <td>1.090741</td>\n",
       "      <td>-1.954473</td>\n",
       "      <td>-0.589173</td>\n",
       "      <td>0.141924</td>\n",
       "    </tr>\n",
       "    <tr>\n",
       "      <th>memory (gb)-Profiset</th>\n",
       "      <td>1.417077</td>\n",
       "      <td>1.091446</td>\n",
       "      <td>0.590637</td>\n",
       "      <td>-0.177710</td>\n",
       "      <td>0.209285</td>\n",
       "      <td>0.316336</td>\n",
       "      <td>0.642088</td>\n",
       "      <td>-1.147856</td>\n",
       "      <td>-0.323158</td>\n",
       "      <td>0.529077</td>\n",
       "      <td>1.403353</td>\n",
       "      <td>-0.247199</td>\n",
       "      <td>1.408553</td>\n",
       "      <td>-1.922284</td>\n",
       "      <td>-0.240970</td>\n",
       "      <td>1.590443</td>\n",
       "    </tr>\n",
       "  </tbody>\n",
       "</table>\n",
       "</div>"
      ],
      "text/plain": [
       "                       Mindex-200-LR  Mindex-200-NN  Mindex-200-multilabel-NN  \\\n",
       "build t. (h)-CoPhIR         0.000000       0.669314                  0.391933   \n",
       "build t. (h)-Profiset       0.263372      -0.368621                  0.917301   \n",
       "memory (gb)-CoPhIR          0.906221      -1.614170                 -0.499598   \n",
       "memory (gb)-Profiset        1.417077       1.091446                  0.590637   \n",
       "\n",
       "                       Mindex-200-RF  Mindex-2000-LR  Mindex-2000-NN  \\\n",
       "build t. (h)-CoPhIR         0.569115        0.849974       -0.439940   \n",
       "build t. (h)-Profiset       1.634413        0.890111       -2.049798   \n",
       "memory (gb)-CoPhIR         -1.168403        0.567991       -0.378435   \n",
       "memory (gb)-Profiset       -0.177710        0.209285        0.316336   \n",
       "\n",
       "                       Mindex-2000-multilabel-NN  Mindex-2000-RF  \\\n",
       "build t. (h)-CoPhIR                    -0.440474        0.231594   \n",
       "build t. (h)-Profiset                   0.206256       -0.584608   \n",
       "memory (gb)-CoPhIR                     -0.365432       -1.498207   \n",
       "memory (gb)-Profiset                    0.642088       -1.147856   \n",
       "\n",
       "                       Mtree-200-LR  Mtree-200-NN  Mtree-200-multilabel-NN  \\\n",
       "build t. (h)-CoPhIR       -0.056465      1.057329                -1.031223   \n",
       "build t. (h)-Profiset      1.704531      1.098834                 0.768306   \n",
       "memory (gb)-CoPhIR        -1.394063     -0.633897                 0.256117   \n",
       "memory (gb)-Profiset      -0.323158      0.529077                 1.403353   \n",
       "\n",
       "                       Mtree-200-RF  Mtree-2000-LR  Mtree-2000-NN  \\\n",
       "build t. (h)-CoPhIR       -0.416104       0.155086       0.852692   \n",
       "build t. (h)-Profiset      1.019663       1.461760       0.037969   \n",
       "memory (gb)-CoPhIR         0.538459       1.090741      -1.954473   \n",
       "memory (gb)-Profiset      -0.247199       1.408553      -1.922284   \n",
       "\n",
       "                       Mtree-2000-multilabel-NN  Mtree-2000-RF  \n",
       "build t. (h)-CoPhIR                    0.238487       0.772579  \n",
       "build t. (h)-Profiset                 -2.409389       1.381190  \n",
       "memory (gb)-CoPhIR                    -0.589173       0.141924  \n",
       "memory (gb)-Profiset                  -0.240970       1.590443  "
      ]
     },
     "execution_count": 22,
     "metadata": {},
     "output_type": "execute_result"
    }
   ],
   "source": [
    "df.head()"
   ]
  },
  {
   "cell_type": "code",
   "execution_count": 10,
   "id": "9798e4da",
   "metadata": {},
   "outputs": [],
   "source": [
    "from lmi.enums import BasicMtree, BasicMindex, MODELS, MTREE, MINDEX, GMMMtree, \\\n",
    "                      GMMMindex, GMMCoPhIR, GMMProfiset, Mindex10perc, Mtree10perc, MindexOOD, MtreeOOD, Table1, IndexTable1"
   ]
  },
  {
   "cell_type": "code",
   "execution_count": 11,
   "id": "93b1f432",
   "metadata": {},
   "outputs": [],
   "source": [
    "from typing import List\n",
    "\n",
    "def deduplicate_runs(completed_runs: List[str]) -> List[str]:\n",
    "    \"\"\"\n",
    "    \"\"\"\n",
    "    unique_runs = []; runs_to_return = []\n",
    "    for run in completed_runs:\n",
    "        if run.split('--')[0] not in unique_runs:\n",
    "            unique_runs.append(run.split('--')[0])\n",
    "            runs_to_return.append(run)\n",
    "    return runs_to_return\n",
    "DIR = '/storage/brno2/home/tslaninakova/exp/learned-indexes-repro/outputs/'\n",
    "\n",
    "def get_files_in_dir():\n",
    "    files = os.listdir(DIR)\n",
    "    # If there are runs that did not finish, summary.json won't be generated and its information can't be used,\n",
    "    # disregard such runs\n",
    "    completed_runs = [run for run in os.listdir(DIR) if isfile(f'{DIR}/{run}/summary.json')]\n",
    "    return deduplicate_runs(completed_runs)\n"
   ]
  },
  {
   "cell_type": "code",
   "execution_count": 12,
   "id": "2b08f6e7",
   "metadata": {},
   "outputs": [],
   "source": [
    "def get_combinations(target_enum):\n",
    "    return tuple(['-'.join(p) for p in itertools.product(*[e.value for e in target_enum])])"
   ]
  },
  {
   "cell_type": "code",
   "execution_count": 13,
   "id": "c703d7b0",
   "metadata": {},
   "outputs": [],
   "source": [
    "relevant_enums, group_identifier, labels = [MindexOOD, MtreeOOD], 'ood', ['from dataset', 'out-of-dataset']"
   ]
  },
  {
   "cell_type": "code",
   "execution_count": 14,
   "id": "f5af2db3",
   "metadata": {},
   "outputs": [],
   "source": [
    "DIR = '/storage/brno2/home/tslaninakova/exp/learned-indexes-repro/outputs/'\n",
    "import itertools\n",
    "from lmi.visualization import Plot, plot_boxplots\n",
    "import matplotlib.pyplot as plt\n",
    "import re\n",
    "from os.path import isfile\n",
    "from typing import List\n",
    "from lmi.utils import load_json, get_logger_config\n",
    "import logging"
   ]
  },
  {
   "cell_type": "code",
   "execution_count": 15,
   "id": "30ceb96d",
   "metadata": {},
   "outputs": [],
   "source": [
    "def regex_model_names(model_names):\n",
    "    model_names_re = '('\n",
    "    for name in model_names:\n",
    "        model_names_re += f'{name}|'\n",
    "    model_names_re = model_names_re[:-1]\n",
    "    model_names_re += ')'\n",
    "    return model_names_re"
   ]
  },
  {
   "cell_type": "code",
   "execution_count": 23,
   "id": "50c107f3",
   "metadata": {},
   "outputs": [
    {
     "name": "stdout",
     "output_type": "stream",
     "text": [
      "['CoPhIR-1M-Mindex-2000-LR--2022-04-24--03-42-18', 'CoPhIR-1M-Mindex-2000-NN--2022-04-24--01-12-35', 'CoPhIR-1M-Mindex-2000-multilabel-NN--2022-04-23--16-51-03', 'CoPhIR-1M-Mindex-2000-RF--2022-04-23--21-06-41', 'CoPhIR-1M-Mindex-2000-Mindex--2022-04-24--03-18-23'] ['CoPhIR-1M-Mindex-2000-LR-ood--2022-04-25--08-29-02', 'CoPhIR-1M-Mindex-2000-NN-ood--2022-04-25--09-01-24', 'CoPhIR-1M-Mindex-2000-multilabel-NN-ood--2022-04-25--11-55-44', 'CoPhIR-1M-Mindex-2000-RF-ood--2022-04-25--09-33-48', 'CoPhIR-1M-Mindex-2000-Mindex-ood--2022-05-16--15-45-38'] ['LR', 'NN', 'multilabel', 'RF', 'Mindex']\n",
      "['Profiset-1M-Mtree-200-LR--2022-05-11--13-46-15', 'Profiset-1M-Mtree-200-NN--2022-05-11--11-44-49', 'Profiset-1M-Mtree-200-multilabel-NN--2022-05-04--08-42-01', 'Profiset-1M-Mtree-200-RF--2022-05-06--07-45-30', 'Profiset-1M-Mtree-200-Mtree--2022-05-07--03-57-27'] ['Profiset-1M-Mtree-200-NN-ood--2022-05-13--21-29-04', 'Profiset-1M-Mtree-200-multilabel-NN-ood--2022-05-03--13-28-55', 'Profiset-1M-Mtree-200-RF-ood--2022-05-11--16-55-08'] ['LR', 'NN', 'multilabel', 'RF', 'Mtree']\n"
     ]
    }
   ],
   "source": [
    "import os\n",
    "for exp_enum in relevant_enums:\n",
    "    combinations = get_combinations(exp_enum)\n",
    "    models = regex_model_names([c[:-1] if c.endswith('-') else c for c in combinations])\n",
    "    matched_files = [exp_file for exp_file in get_files_in_dir() if re.match(f'^{models}--.*$', exp_file)]\n",
    "\n",
    "    final_candidates = []\n",
    "    for comb in [f'{c}-' if c.endswith('-') else c for c in combinations]:\n",
    "        for matched_file in matched_files:\n",
    "            if matched_file.startswith(comb) and not any([f.startswith(comb) for f in final_candidates]):\n",
    "                final_candidates.append(matched_file)\n",
    "    final_candidates_a = [test_file for test_file in final_candidates if group_identifier not in test_file]\n",
    "    final_candidates_b = [test_file for test_file in final_candidates if group_identifier in test_file]\n",
    "    ticks = [final_candidate.split('-')[4] for final_candidate in final_candidates_a]\n",
    "    print(final_candidates_a, final_candidates_b, ticks)\n",
    "    \"\"\"\n",
    "    scores_a = []\n",
    "    for t in final_candidates_a:\n",
    "        search = pd.read_csv(f'{DIR}/{t}/search.csv')\n",
    "        scores_a.append(search[search['condition'] == 50_000]['knn_score'].values)\n",
    "    scores_b = []\n",
    "    for t in final_candidates_b:\n",
    "        search = pd.read_csv(f'{DIR}/{t}/search.csv')\n",
    "        scores_b.append(search[search['condition'] == 50_000]['knn_score'].values)\n",
    "\n",
    "    plot_boxplots(\n",
    "        scores_a,\n",
    "        scores_b,\n",
    "        ticks,\n",
    "        labels=labels,\n",
    "        save=True,\n",
    "        filename=f'{group_identifier}-{exp_enum.__name__}',\n",
    "        dir_to_save_to='outputs/'\n",
    "    )\n",
    "    \"\"\""
   ]
  },
  {
   "cell_type": "code",
   "execution_count": 16,
   "id": "d8a7ec64",
   "metadata": {},
   "outputs": [],
   "source": [
    "import pandas as pd\n",
    "import numpy as np"
   ]
  },
  {
   "cell_type": "code",
   "execution_count": 20,
   "id": "c1e80a67",
   "metadata": {},
   "outputs": [],
   "source": [
    "save_to='outputs/'\n",
    "col_names = get_combinations(Table3)\n",
    "index_names = get_combinations(IndexTable3)\n",
    "#df = pd.DataFrame(np.random.randn(4,8), index=index_names, columns = col_names)\n",
    "\n",
    "for combination in [f'CoPhIR-1M-Mindex-2000', f'Profiset-1M-Mtree-200']:\n",
    "    models = regex_model_names(MODELS)\n",
    "    res = [f'{DIR}{exp_file}' for exp_file in get_files_in_dir() if re.match(f'^{combination}-{models}(-10perc|)--.*$', exp_file)]\n",
    "    model_names = get_model_names(res)\n",
    "    for model_name, filename in zip(model_names, res):\n",
    "        suffix = '10%' if '10perc' in filename else '100%'\n",
    "        hw_info = load_json(f'{filename}/summary.json')['hw_info']\n",
    "        times = pd.read_csv(f'{filename}/times.csv')\n",
    "        df.loc['build t. (h)-'+suffix, f\"{combination.replace('-1M', '')}-{model_name.strip(' ')}\"] = round(times.iloc[0][' training'] / 60 / 60, 2)\n",
    "        df.loc['memory (gb)-'+suffix, f\"{combination.replace('-1M', '')}-{model_name.strip(' ')}\"] = round(hw_info['mem_train'] / 1024, 2)\n",
    "\n",
    "#df.to_html(os.path.join(save_to, 'table-2.html'))"
   ]
  },
  {
   "cell_type": "code",
   "execution_count": 21,
   "id": "7708e064-54cc-4260-b04b-8d0f2e909b82",
   "metadata": {},
   "outputs": [
    {
     "data": {
      "text/html": [
       "<div>\n",
       "<style scoped>\n",
       "    .dataframe tbody tr th:only-of-type {\n",
       "        vertical-align: middle;\n",
       "    }\n",
       "\n",
       "    .dataframe tbody tr th {\n",
       "        vertical-align: top;\n",
       "    }\n",
       "\n",
       "    .dataframe thead th {\n",
       "        text-align: right;\n",
       "    }\n",
       "</style>\n",
       "<table border=\"1\" class=\"dataframe\">\n",
       "  <thead>\n",
       "    <tr style=\"text-align: right;\">\n",
       "      <th></th>\n",
       "      <th>CoPhIR-Mindex-2000-LR</th>\n",
       "      <th>CoPhIR-Mindex-2000-NN</th>\n",
       "      <th>CoPhIR-Mindex-2000-multilabel-NN</th>\n",
       "      <th>CoPhIR-Mindex-2000-RF</th>\n",
       "      <th>Profiset-Mtree-200-LR</th>\n",
       "      <th>Profiset-Mtree-200-NN</th>\n",
       "      <th>Profiset-Mtree-200-multilabel-NN</th>\n",
       "      <th>Profiset-Mtree-200-RF</th>\n",
       "    </tr>\n",
       "  </thead>\n",
       "  <tbody>\n",
       "    <tr>\n",
       "      <th>build t. (h)-100%</th>\n",
       "      <td>8.39</td>\n",
       "      <td>1.21</td>\n",
       "      <td>2.71</td>\n",
       "      <td>2.65</td>\n",
       "      <td>2.29</td>\n",
       "      <td>2.24</td>\n",
       "      <td>3.46</td>\n",
       "      <td>8.96</td>\n",
       "    </tr>\n",
       "    <tr>\n",
       "      <th>build t. (h)-10%</th>\n",
       "      <td>0.14</td>\n",
       "      <td>0.08</td>\n",
       "      <td>0.31</td>\n",
       "      <td>0.38</td>\n",
       "      <td>0.54</td>\n",
       "      <td>1.16</td>\n",
       "      <td>0.77</td>\n",
       "      <td>1.13</td>\n",
       "    </tr>\n",
       "    <tr>\n",
       "      <th>memory (gb)-100%</th>\n",
       "      <td>1.72</td>\n",
       "      <td>0.43</td>\n",
       "      <td>0.73</td>\n",
       "      <td>36.54</td>\n",
       "      <td>20.98</td>\n",
       "      <td>132.14</td>\n",
       "      <td>45.07</td>\n",
       "      <td>44.39</td>\n",
       "    </tr>\n",
       "    <tr>\n",
       "      <th>memory (gb)-10%</th>\n",
       "      <td>4.02</td>\n",
       "      <td>4.79</td>\n",
       "      <td>5.08</td>\n",
       "      <td>23.36</td>\n",
       "      <td>16.48</td>\n",
       "      <td>48.64</td>\n",
       "      <td>36.84</td>\n",
       "      <td>21.15</td>\n",
       "    </tr>\n",
       "  </tbody>\n",
       "</table>\n",
       "</div>"
      ],
      "text/plain": [
       "                   CoPhIR-Mindex-2000-LR  CoPhIR-Mindex-2000-NN  \\\n",
       "build t. (h)-100%                   8.39                   1.21   \n",
       "build t. (h)-10%                    0.14                   0.08   \n",
       "memory (gb)-100%                    1.72                   0.43   \n",
       "memory (gb)-10%                     4.02                   4.79   \n",
       "\n",
       "                   CoPhIR-Mindex-2000-multilabel-NN  CoPhIR-Mindex-2000-RF  \\\n",
       "build t. (h)-100%                              2.71                   2.65   \n",
       "build t. (h)-10%                               0.31                   0.38   \n",
       "memory (gb)-100%                               0.73                  36.54   \n",
       "memory (gb)-10%                                5.08                  23.36   \n",
       "\n",
       "                   Profiset-Mtree-200-LR  Profiset-Mtree-200-NN  \\\n",
       "build t. (h)-100%                   2.29                   2.24   \n",
       "build t. (h)-10%                    0.54                   1.16   \n",
       "memory (gb)-100%                   20.98                 132.14   \n",
       "memory (gb)-10%                    16.48                  48.64   \n",
       "\n",
       "                   Profiset-Mtree-200-multilabel-NN  Profiset-Mtree-200-RF  \n",
       "build t. (h)-100%                              3.46                   8.96  \n",
       "build t. (h)-10%                               0.77                   1.13  \n",
       "memory (gb)-100%                              45.07                  44.39  \n",
       "memory (gb)-10%                               36.84                  21.15  "
      ]
     },
     "execution_count": 21,
     "metadata": {},
     "output_type": "execute_result"
    }
   ],
   "source": [
    "df.head()"
   ]
  },
  {
   "cell_type": "code",
   "execution_count": 18,
   "id": "54dfc07f",
   "metadata": {},
   "outputs": [],
   "source": [
    "import re\n",
    "from os.path import isfile\n",
    "def regex_model_names(model_names):\n",
    "    model_names_re = '('\n",
    "    for name in model_names:\n",
    "        model_names_re += f'{name}|'\n",
    "    model_names_re = model_names_re[:-1]\n",
    "    model_names_re += ')'\n",
    "    return model_names_re\n"
   ]
  },
  {
   "cell_type": "code",
   "execution_count": 19,
   "id": "411d2f8c",
   "metadata": {},
   "outputs": [],
   "source": [
    "MODEL_NAMES = MODELS\n",
    "\n",
    "def get_model_names(experiment_files):\n",
    "    model_names = []\n",
    "    for exp_file in experiment_files:\n",
    "        for model_name in MODEL_NAMES:\n",
    "            if model_name != 'NN' and model_name in exp_file or \\\n",
    "               model_name == 'NN' and model_name in exp_file and 'multilabel-NN' not in exp_file:\n",
    "                model_names.append(model_name)\n",
    "                break\n",
    "    return model_names\n"
   ]
  },
  {
   "cell_type": "code",
   "execution_count": 20,
   "id": "8b9c62aa",
   "metadata": {},
   "outputs": [],
   "source": [
    "from lmi.utils import load_json"
   ]
  },
  {
   "cell_type": "code",
   "execution_count": 31,
   "id": "83714185",
   "metadata": {},
   "outputs": [],
   "source": [
    "f = get_files_in_dir()"
   ]
  },
  {
   "cell_type": "code",
   "execution_count": 32,
   "id": "4d22d300",
   "metadata": {},
   "outputs": [
    {
     "data": {
      "text/plain": [
       "'CoPhIR-1M-Mindex-2000-NN-10perc--2022-04-15--04-00-22'"
      ]
     },
     "execution_count": 32,
     "metadata": {},
     "output_type": "execute_result"
    }
   ],
   "source": [
    "f[2]"
   ]
  },
  {
   "cell_type": "code",
   "execution_count": 33,
   "id": "7ed1d05f",
   "metadata": {},
   "outputs": [],
   "source": [
    "models = regex_model_names(MODELS)"
   ]
  },
  {
   "cell_type": "code",
   "execution_count": null,
   "id": "d131f677",
   "metadata": {},
   "outputs": [],
   "source": [
    "re.match(f'^CoPhIR-1M-Mindex-2000-10perc-{models}--.*$', exp_file)"
   ]
  },
  {
   "cell_type": "code",
   "execution_count": 43,
   "id": "0fe12f54",
   "metadata": {},
   "outputs": [
    {
     "name": "stdout",
     "output_type": "stream",
     "text": [
      "LR\n"
     ]
    }
   ],
   "source": [
    "print(model_name)"
   ]
  },
  {
   "cell_type": "code",
   "execution_count": 35,
   "id": "a4bdf7da",
   "metadata": {},
   "outputs": [],
   "source": [
    "for combination in [f'CoPhIR-1M-Mindex-2000', f'Profiset-1M-Mtree-200']:\n",
    "    models = regex_model_names(MODELS)\n",
    "    res = [f'{DIR}{exp_file}' for exp_file in get_files_in_dir() if re.match(f'^{combination}-{models}(-10perc|)--.*$', exp_file)]\n",
    "    model_names = get_model_names(res)\n",
    "    for model_name, filename in zip(model_names, res):\n",
    "        suffix = '10%' if '10perc' in filename else '100%'\n",
    "        hw_info = load_json(f'{filename}/summary.json')['hw_info']\n",
    "        times = pd.read_csv(f'{filename}/times.csv')\n",
    "        df.loc['build t. (h)-'+suffix, f\"{combination.replace('-1M', '')}-{model_name.strip(' ')}\"] = round(times.iloc[0][' training'] / 60 / 60, 2)\n",
    "        df.loc['memory (gb)-'+suffix, f\"{combination.replace('-1M', '')}-{model_name.strip(' ')}\"] = round(hw_info['mem_train'] / 1024, 2)"
   ]
  },
  {
   "cell_type": "code",
   "execution_count": 13,
   "id": "e82b8360",
   "metadata": {},
   "outputs": [],
   "source": [
    "import shutil\n",
    "import os"
   ]
  },
  {
   "cell_type": "code",
   "execution_count": 14,
   "id": "d63f10d1",
   "metadata": {},
   "outputs": [],
   "source": [
    "from lmi.utils import isfile"
   ]
  },
  {
   "cell_type": "code",
   "execution_count": 26,
   "id": "6658032a",
   "metadata": {},
   "outputs": [],
   "source": [
    "base_dir = '/storage/brno2/home/tslaninakova/exp/learned-indexes-repro/outputs'\n",
    "dir_containing_times = '/storage/brno2/home/tslaninakova/exp/learned-indexes-repro/outputs-test'\n",
    "for d in os.listdir(base_dir):\n",
    "    if not isfile(f'{base_dir}/{d}/times.csv'):\n",
    "        if os.path.isdir(f'{dir_containing_times}/{d}') and isfile(f'{dir_containing_times}/{d}/times.csv'):\n",
    "            shutil.copy(f'{dir_containing_times}/{d}/times.csv', f'{base_dir}/{d}/')"
   ]
  },
  {
   "cell_type": "code",
   "execution_count": 38,
   "id": "fe1d50a6",
   "metadata": {},
   "outputs": [
    {
     "data": {
      "text/html": [
       "<div>\n",
       "<style scoped>\n",
       "    .dataframe tbody tr th:only-of-type {\n",
       "        vertical-align: middle;\n",
       "    }\n",
       "\n",
       "    .dataframe tbody tr th {\n",
       "        vertical-align: top;\n",
       "    }\n",
       "\n",
       "    .dataframe thead th {\n",
       "        text-align: right;\n",
       "    }\n",
       "</style>\n",
       "<table border=\"1\" class=\"dataframe\">\n",
       "  <thead>\n",
       "    <tr style=\"text-align: right;\">\n",
       "      <th></th>\n",
       "      <th>CoPhIR-Mindex-2000-LR</th>\n",
       "      <th>CoPhIR-Mindex-2000-NN</th>\n",
       "      <th>CoPhIR-Mindex-2000-multilabel-NN</th>\n",
       "      <th>CoPhIR-Mindex-2000-RF</th>\n",
       "      <th>Profiset-Mtree-200-LR</th>\n",
       "      <th>Profiset-Mtree-200-NN</th>\n",
       "      <th>Profiset-Mtree-200-multilabel-NN</th>\n",
       "      <th>Profiset-Mtree-200-RF</th>\n",
       "    </tr>\n",
       "  </thead>\n",
       "  <tbody>\n",
       "    <tr>\n",
       "      <th>build t. (h)-100%</th>\n",
       "      <td>8.39</td>\n",
       "      <td>0.21</td>\n",
       "      <td>2.71</td>\n",
       "      <td>2.65</td>\n",
       "      <td>2.29</td>\n",
       "      <td>1.75</td>\n",
       "      <td>3.46</td>\n",
       "      <td>8.96</td>\n",
       "    </tr>\n",
       "    <tr>\n",
       "      <th>build t. (h)-10%</th>\n",
       "      <td>0.19</td>\n",
       "      <td>0.06</td>\n",
       "      <td>0.29</td>\n",
       "      <td>0.26</td>\n",
       "      <td>0.54</td>\n",
       "      <td>1.16</td>\n",
       "      <td>0.77</td>\n",
       "      <td>1.13</td>\n",
       "    </tr>\n",
       "    <tr>\n",
       "      <th>memory (gb)-100%</th>\n",
       "      <td>1.72</td>\n",
       "      <td>2.12</td>\n",
       "      <td>0.73</td>\n",
       "      <td>36.54</td>\n",
       "      <td>20.98</td>\n",
       "      <td>0.41</td>\n",
       "      <td>45.07</td>\n",
       "      <td>44.39</td>\n",
       "    </tr>\n",
       "    <tr>\n",
       "      <th>memory (gb)-10%</th>\n",
       "      <td>4.02</td>\n",
       "      <td>4.78</td>\n",
       "      <td>5.01</td>\n",
       "      <td>23.28</td>\n",
       "      <td>16.48</td>\n",
       "      <td>48.64</td>\n",
       "      <td>36.84</td>\n",
       "      <td>21.15</td>\n",
       "    </tr>\n",
       "  </tbody>\n",
       "</table>\n",
       "</div>"
      ],
      "text/plain": [
       "                   CoPhIR-Mindex-2000-LR  CoPhIR-Mindex-2000-NN  \\\n",
       "build t. (h)-100%                   8.39                   0.21   \n",
       "build t. (h)-10%                    0.19                   0.06   \n",
       "memory (gb)-100%                    1.72                   2.12   \n",
       "memory (gb)-10%                     4.02                   4.78   \n",
       "\n",
       "                   CoPhIR-Mindex-2000-multilabel-NN  CoPhIR-Mindex-2000-RF  \\\n",
       "build t. (h)-100%                              2.71                   2.65   \n",
       "build t. (h)-10%                               0.29                   0.26   \n",
       "memory (gb)-100%                               0.73                  36.54   \n",
       "memory (gb)-10%                                5.01                  23.28   \n",
       "\n",
       "                   Profiset-Mtree-200-LR  Profiset-Mtree-200-NN  \\\n",
       "build t. (h)-100%                   2.29                   1.75   \n",
       "build t. (h)-10%                    0.54                   1.16   \n",
       "memory (gb)-100%                   20.98                   0.41   \n",
       "memory (gb)-10%                    16.48                  48.64   \n",
       "\n",
       "                   Profiset-Mtree-200-multilabel-NN  Profiset-Mtree-200-RF  \n",
       "build t. (h)-100%                              3.46                   8.96  \n",
       "build t. (h)-10%                               0.77                   1.13  \n",
       "memory (gb)-100%                              45.07                  44.39  \n",
       "memory (gb)-10%                               36.84                  21.15  "
      ]
     },
     "execution_count": 38,
     "metadata": {},
     "output_type": "execute_result"
    }
   ],
   "source": [
    "df.head()"
   ]
  },
  {
   "cell_type": "code",
   "execution_count": 13,
   "id": "809d70ba",
   "metadata": {},
   "outputs": [
    {
     "data": {
      "text/plain": [
       "(['Mindex-200-LR',\n",
       "  'Mindex-200-NN',\n",
       "  'Mindex-200-multilabel-NN',\n",
       "  'Mindex-200-RF'],\n",
       " ['Mindex-2000-LR',\n",
       "  'Mindex-2000-NN',\n",
       "  'Mindex-2000-multilabel-NN',\n",
       "  'Mindex-2000-RF'],\n",
       " ['Mtree-200-LR', 'Mtree-200-NN', 'Mtree-200-multilabel-NN', 'Mtree-200-RF'],\n",
       " ['Mtree-2000-LR',\n",
       "  'Mtree-2000-NN',\n",
       "  'Mtree-2000-multilabel-NN',\n",
       "  'Mtree-2000-RF'])"
      ]
     },
     "execution_count": 13,
     "metadata": {},
     "output_type": "execute_result"
    }
   ],
   "source": [
    "(df.columns.tolist()[:4], df.columns.tolist()[4:8], df.columns.tolist()[8:12], df.columns.tolist()[12:16])"
   ]
  },
  {
   "cell_type": "code",
   "execution_count": 16,
   "id": "bff63aec",
   "metadata": {},
   "outputs": [],
   "source": [
    "new_df = pd.MultiIndex.from_arrays((df.columns.tolist()[:4], df.columns.tolist()[4:8], df.columns.tolist()[8:12], df.columns.tolist()[12:16]), names=('Mindex-200', 'Mindex-2000', 'Mtree-200', 'Mtree-2000'))"
   ]
  },
  {
   "cell_type": "code",
   "execution_count": 18,
   "id": "9dd5afaf",
   "metadata": {},
   "outputs": [
    {
     "data": {
      "text/plain": [
       "MultiIndex([(           'Mindex-200-LR',            'Mindex-2000-LR', ...),\n",
       "            (           'Mindex-200-NN',            'Mindex-2000-NN', ...),\n",
       "            ('Mindex-200-multilabel-NN', 'Mindex-2000-multilabel-NN', ...),\n",
       "            (           'Mindex-200-RF',            'Mindex-2000-RF', ...)],\n",
       "           names=['Mindex-200', 'Mindex-2000', 'Mtree-200', 'Mtree-2000'])"
      ]
     },
     "execution_count": 18,
     "metadata": {},
     "output_type": "execute_result"
    }
   ],
   "source": [
    "new_df"
   ]
  },
  {
   "cell_type": "code",
   "execution_count": 25,
   "id": "55b937ba",
   "metadata": {},
   "outputs": [],
   "source": [
    "OUTPUT_DIR = './report'"
   ]
  },
  {
   "cell_type": "code",
   "execution_count": 26,
   "id": "365bdff8",
   "metadata": {},
   "outputs": [],
   "source": [
    "#df.columns = pd.MultiIndex.from_tuples(df.columns)\n",
    "df.to_html(os.path.join(OUTPUT_DIR, 'table-1.html'))"
   ]
  },
  {
   "cell_type": "code",
   "execution_count": 23,
   "id": "e553acc8",
   "metadata": {},
   "outputs": [],
   "source": [
    "def reorder_matched_files(results):\n",
    "    reorder_d = {'LR': 0, 'RF': 1, '00-NN': 2, 'multilabel': 3, '00-Mtree': 4, '00-Mindex': 4}\n",
    "    final_results = []\n",
    "    for model_name, target_position in reorder_d.items():\n",
    "        for result in results:\n",
    "            if model_name in result:\n",
    "                final_results.append(result)\n",
    "    \n",
    "    return final_results"
   ]
  },
  {
   "cell_type": "code",
   "execution_count": 43,
   "id": "f80dce55-a237-4ae1-b961-aef379d90ff5",
   "metadata": {},
   "outputs": [
    {
     "name": "stdout",
     "output_type": "stream",
     "text": [
      "['CoPhIR-1M-Mindex-2000-LR--2022-04-24--03-42-18', 'CoPhIR-1M-Mindex-2000-RF--2022-04-23--21-06-41', 'CoPhIR-1M-Mindex-2000-NN--2022-04-24--01-12-35', 'CoPhIR-1M-Mindex-2000-multilabel-NN--2022-04-23--16-51-03', 'CoPhIR-1M-Mindex-2000-Mindex--2022-04-24--03-18-23'] ['CoPhIR-1M-Mindex-2000-LR-ood--2022-04-25--08-29-02', 'CoPhIR-1M-Mindex-2000-RF-ood--2022-04-25--09-33-48', 'CoPhIR-1M-Mindex-2000-NN-ood--2022-04-25--09-01-24', 'CoPhIR-1M-Mindex-2000-multilabel-NN-ood--2022-04-25--11-55-44', 'CoPhIR-1M-Mindex-2000-Mindex-ood--2022-05-16--15-45-38']\n",
      "Saving to: 'outputs//ood-MindexOODboxplots.png'\n",
      "['Profiset-1M-Mtree-200-LR--2022-05-11--13-46-15', 'Profiset-1M-Mtree-200-RF--2022-05-06--07-45-30', 'Profiset-1M-Mtree-200-NN--2022-05-17--08-42-27', 'Profiset-1M-Mtree-200-multilabel-NN--2022-05-04--08-42-01', 'Profiset-1M-Mtree-200-Mtree--2022-05-07--03-57-27'] ['Profiset-1M-Mtree-200-LR-ood--2022-05-02--19-42-33', 'Profiset-1M-Mtree-200-RF-ood--2022-05-11--16-55-08', 'Profiset-1M-Mtree-200-NN-ood--2022-05-13--21-29-04', 'Profiset-1M-Mtree-200-multilabel-NN-ood--2022-05-03--13-28-55']\n",
      "Saving to: 'outputs//ood-MtreeOODboxplots.png'\n"
     ]
    },
    {
     "data": {
      "image/png": "[encoded data removed]",
      "text/plain": [
       "<Figure size 360x216 with 1 Axes>"
      ]
     },
     "metadata": {
      "needs_background": "light"
     },
     "output_type": "display_data"
    },
    {
     "data": {
      "image/png": "[encoded data removed]",
      "text/plain": [
       "<Figure size 360x216 with 1 Axes>"
      ]
     },
     "metadata": {
      "needs_background": "light"
     },
     "output_type": "display_data"
    }
   ],
   "source": [
    "relevant_enums, group_identifier, labels = [MindexOOD, MtreeOOD], 'ood', ['from dataset', 'out-of-dataset']\n",
    "DIR = '/storage/brno2/home/tslaninakova/exp/learned-indexes-repro/outputs/'\n",
    "\n",
    "for exp_enum in relevant_enums:\n",
    "    combinations = get_combinations(exp_enum)\n",
    "    models = regex_model_names([c[:-1] if c.endswith('-') else c for c in combinations])\n",
    "    matched_files = [exp_file for exp_file in get_files_in_dir() if re.match(f'^{models}--.*$', exp_file)]\n",
    "    matched_files = reorder_matched_files(matched_files)\n",
    "    #print(matched_files)\n",
    "    #final_candidates = []\n",
    "    #for comb in [f'{c}-' if c.endswith('-') else c for c in combinations]:\n",
    "    #    for matched_file in matched_files:\n",
    "    #        if matched_file.startswith(comb) and not any([f.startswith(comb) for f in final_candidates]):\n",
    "    #            final_candidates.append(matched_file)\n",
    "    final_candidates_a = [test_file for test_file in matched_files if group_identifier not in test_file]\n",
    "    final_candidates_b = [test_file for test_file in matched_files if group_identifier in test_file]\n",
    "    #assert len(final_candidates_a) == len(final_candidates_b)\n",
    "    print(final_candidates_a, final_candidates_b)\n",
    "    ticks = [final_candidate.split('-')[4] for final_candidate in final_candidates_a]\n",
    "\n",
    "    scores_a = []\n",
    "    for t in final_candidates_a:\n",
    "        search = pd.read_csv(f'{DIR}/{t}/search.csv')\n",
    "        scores_a.append(search[search['condition'] == 50_000]['knn_score'].values)\n",
    "    scores_b = []\n",
    "    for t in final_candidates_b:\n",
    "        search = pd.read_csv(f'{DIR}/{t}/search.csv')\n",
    "        scores_b.append(search[search['condition'] == 50_000]['knn_score'].values)\n",
    "\n",
    "    plot_boxplots(\n",
    "        scores_a,\n",
    "        scores_b,\n",
    "        ticks,\n",
    "        labels=labels,\n",
    "        save=True,\n",
    "        filename=f'{group_identifier}-{exp_enum.__name__}',\n",
    "        dir_to_save_to='outputs/'\n",
    "    )"
   ]
  },
  {
   "cell_type": "code",
   "execution_count": 37,
   "id": "9c43d8bb-a7cf-4dcf-a3a3-479fcfdd8c00",
   "metadata": {},
   "outputs": [],
   "source": [
    "df = pd.read_csv('/storage/brno2/home/tslaninakova/exp/learned-indexes-repro/outputs/CoPhIR-1M-Mindex-2000-multilabel-NN--2022-05-17--10-18-05/search.csv')"
   ]
  },
  {
   "cell_type": "code",
   "execution_count": 39,
   "id": "92dd9c5b-06fc-4d48-a842-f473f992034f",
   "metadata": {},
   "outputs": [
    {
     "data": {
      "text/plain": [
       "0.9037356321839082"
      ]
     },
     "execution_count": 39,
     "metadata": {},
     "output_type": "execute_result"
    }
   ],
   "source": [
    "df[df['condition'] == 50_000]['knn_score'].mean()"
   ]
  },
  {
   "cell_type": "code",
   "execution_count": null,
   "id": "8cbeb58f-802d-44d7-bbd2-5ef4b0c12ab8",
   "metadata": {},
   "outputs": [],
   "source": []
  }
 ],
 "metadata": {
  "kernelspec": {
   "display_name": "Python 3 (ipykernel)",
   "language": "python",
   "name": "python3"
  },
  "language_info": {
   "codemirror_mode": {
    "name": "ipython",
    "version": 3
   },
   "file_extension": ".py",
   "mimetype": "text/x-python",
   "name": "python",
   "nbconvert_exporter": "python",
   "pygments_lexer": "ipython3",
   "version": "3.8.13"
  }
 },
 "nbformat": 4,
 "nbformat_minor": 5
}
