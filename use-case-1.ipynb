{
 "cells": [
  {
   "cell_type": "code",
   "execution_count": 1,
   "id": "b289f509-0d9b-4238-b293-ad3b207c7cda",
   "metadata": {},
   "outputs": [],
   "source": [
    "%reload_ext autoreload\n",
    "%autoreload 2"
   ]
  },
  {
   "cell_type": "markdown",
   "id": "c9e59308-f76f-4f04-959f-4c943622f6eb",
   "metadata": {},
   "source": [
    "# Using LMI with a custom dataset\n",
    "\n",
    "## Use case 1 -- run and evaluate LMI with algorithms from [Data-driven LMI [2]](https://link.springer.com/chapter/10.1007/978-3-030-89657-7_7).\n",
    "\n",
    "### Necessary components:\n",
    "1. the `descriptors` file -- vector representation \n",
    "    - We assume that you have these descriptors ready\n",
    "    \n",
    "#### Components that will be used but can be extracted from necessary components:\n",
    "2. the `ground-truth` file computed on the dataset\n",
    "    - see 'How to create the ground-truth file'\n",
    "3. the `queries` file\n",
    "    - see 'How to create the queries file'"
   ]
  },
  {
   "cell_type": "markdown",
   "id": "df9804ba-4a4b-44ce-bd97-e43a12d4f309",
   "metadata": {},
   "source": [
    "# Example with a custom dataset\n",
    "\n",
    "Within the data folder, we have stored a `test/simple-data.csv` file, which contains a tiny example descriptor dataset on which we'll demonstrate the use with any custom dataset.\n",
    "\n",
    "## Steps:\n",
    "1. Load the configuration file\n",
    "2. Load the dataset using `SimpleDataLoader`\n",
    "3. Create the ground-truth and queries files\n",
    "4. Train and search in the LMI\n",
    "5. Evaluate the results"
   ]
  },
  {
   "cell_type": "code",
   "execution_count": 9,
   "id": "e8a4096d-7e20-41e7-8c28-de2787cbe02a",
   "metadata": {},
   "outputs": [],
   "source": [
    "import os\n",
    "from lmi.utils import load_yaml, load_model_config\n",
    "from lmi.data.SimpleDataLoader import SimpleDataLoader\n",
    "from lmi.indexes.LearnedMetricIndex import LMI"
   ]
  },
  {
   "cell_type": "markdown",
   "id": "680b1c5f-5689-42bb-89f3-155aed6868a2",
   "metadata": {},
   "source": [
    "#### 1. Load the configuration file"
   ]
  },
  {
   "cell_type": "code",
   "execution_count": 64,
   "id": "dc95c1b8-cc00-430b-9dd1-76fd5592a8ab",
   "metadata": {},
   "outputs": [
    {
     "data": {
      "text/plain": [
       "{'setup': 'lmi-test',\n",
       " 'data': {'data-dir': '/storage/brno12-cerit/home/tslaninakova/data/test',\n",
       "  'dataset-file': 'simple-data.csv',\n",
       "  'queries': 'simple-queries.txt',\n",
       "  'knn-gt': 'simple-knn.json',\n",
       "  'normalize': False,\n",
       "  'shuffle': True},\n",
       " 'LMI': {'model-config': './supplementary-experiment-setups/data-driven/models/model-kmeans.yml',\n",
       "  'n_levels': 2,\n",
       "  'training-dataset-percentage': 1},\n",
       " 'experiment': {'output-dir': 'outputs',\n",
       "  'search-stop-conditions': [0.0005,\n",
       "   0.001,\n",
       "   0.003,\n",
       "   0.005,\n",
       "   0.01,\n",
       "   0.05,\n",
       "   0.1,\n",
       "   0.2,\n",
       "   0.3,\n",
       "   0.5],\n",
       "  'knns': 30}}"
      ]
     },
     "execution_count": 64,
     "metadata": {},
     "output_type": "execute_result"
    }
   ],
   "source": [
    "config = load_yaml('./supplementary-experiment-setups/dummy-data-config.yml')\n",
    "config"
   ]
  },
  {
   "cell_type": "markdown",
   "id": "d456cc94-9a16-421f-80c1-be895ab733b5",
   "metadata": {},
   "source": [
    "#### 2. Load the dataset using `SimpleDataLoader`\n",
    "\n",
    "Note that if the loading method of `SimpleDataLoader` does not work with your dataset, you can easily modify it -- we use the Pandas API."
   ]
  },
  {
   "cell_type": "code",
   "execution_count": 17,
   "id": "496dbfc5-74db-4c4f-b48f-d5420e376a67",
   "metadata": {},
   "outputs": [
    {
     "name": "stderr",
     "output_type": "stream",
     "text": [
      "INFO:lmi.data.SimpleDataLoader:Loading dataset from /storage/brno12-cerit/home/tslaninakova/data/test/simple-data.csv.\n"
     ]
    },
    {
     "data": {
      "text/html": [
       "<div>\n",
       "<style scoped>\n",
       "    .dataframe tbody tr th:only-of-type {\n",
       "        vertical-align: middle;\n",
       "    }\n",
       "\n",
       "    .dataframe tbody tr th {\n",
       "        vertical-align: top;\n",
       "    }\n",
       "\n",
       "    .dataframe thead th {\n",
       "        text-align: right;\n",
       "    }\n",
       "</style>\n",
       "<table border=\"1\" class=\"dataframe\">\n",
       "  <thead>\n",
       "    <tr style=\"text-align: right;\">\n",
       "      <th></th>\n",
       "      <th>Sample</th>\n",
       "      <th>ecc</th>\n",
       "      <th>N</th>\n",
       "      <th>gammaG</th>\n",
       "      <th>Esoil</th>\n",
       "      <th>Econc</th>\n",
       "      <th>Dbot</th>\n",
       "      <th>H1</th>\n",
       "      <th>H2</th>\n",
       "      <th>H3</th>\n",
       "      <th>Mr_t</th>\n",
       "      <th>Mt_t</th>\n",
       "      <th>Mr_c</th>\n",
       "      <th>Mt_c</th>\n",
       "    </tr>\n",
       "  </thead>\n",
       "  <tbody>\n",
       "    <tr>\n",
       "      <th>730</th>\n",
       "      <td>731.0</td>\n",
       "      <td>18.366831</td>\n",
       "      <td>3948.023438</td>\n",
       "      <td>0.95699</td>\n",
       "      <td>114.363274</td>\n",
       "      <td>32521.521484</td>\n",
       "      <td>19.261681</td>\n",
       "      <td>1.26294</td>\n",
       "      <td>1.20946</td>\n",
       "      <td>1.41062</td>\n",
       "      <td>-2.592027</td>\n",
       "      <td>-1.281848</td>\n",
       "      <td>3.091215</td>\n",
       "      <td>2.218345</td>\n",
       "    </tr>\n",
       "    <tr>\n",
       "      <th>551</th>\n",
       "      <td>552.0</td>\n",
       "      <td>24.819481</td>\n",
       "      <td>4308.607910</td>\n",
       "      <td>0.91736</td>\n",
       "      <td>74.213387</td>\n",
       "      <td>32234.570312</td>\n",
       "      <td>19.815281</td>\n",
       "      <td>1.04914</td>\n",
       "      <td>1.28868</td>\n",
       "      <td>1.56531</td>\n",
       "      <td>-3.263736</td>\n",
       "      <td>-2.073766</td>\n",
       "      <td>5.874210</td>\n",
       "      <td>3.043677</td>\n",
       "    </tr>\n",
       "  </tbody>\n",
       "</table>\n",
       "</div>"
      ],
      "text/plain": [
       "     Sample        ecc            N   gammaG       Esoil         Econc  \\\n",
       "730   731.0  18.366831  3948.023438  0.95699  114.363274  32521.521484   \n",
       "551   552.0  24.819481  4308.607910  0.91736   74.213387  32234.570312   \n",
       "\n",
       "          Dbot       H1       H2       H3      Mr_t      Mt_t      Mr_c  \\\n",
       "730  19.261681  1.26294  1.20946  1.41062 -2.592027 -1.281848  3.091215   \n",
       "551  19.815281  1.04914  1.28868  1.56531 -3.263736 -2.073766  5.874210   \n",
       "\n",
       "         Mt_c  \n",
       "730  2.218345  \n",
       "551  3.043677  "
      ]
     },
     "execution_count": 17,
     "metadata": {},
     "output_type": "execute_result"
    }
   ],
   "source": [
    "loader = SimpleDataLoader(config['data'])\n",
    "dataset = loader.load_descriptors()\n",
    "dataset.head(2)"
   ]
  },
  {
   "cell_type": "markdown",
   "id": "08739d35-7649-49d5-a20a-457bff07edec",
   "metadata": {},
   "source": [
    "#### 3. Create the ground-truth and queries files\n",
    "\n",
    "##### 3.1. **Queries** are a newline separated list of object ids\n",
    "This list can contain all the objects of `dataset` or just a subset. In our experiments we used 1k queries for 1M descriptor dataset. In the example below, random half of all the objects in `dataset` is selected as queries.\n",
    "\n",
    "Note that if you're interested in using queries that are not in `dataset`, you need to store their vector representations into the `queries` file. This change will also need modification of the `compute_ground_truths` introduced below."
   ]
  },
  {
   "cell_type": "code",
   "execution_count": 12,
   "id": "f92eddeb-fe0d-4a42-9f61-80b11cbc39a1",
   "metadata": {},
   "outputs": [],
   "source": [
    "dataset.sample(frac=0.5).to_csv(\n",
    "    os.path.join(config['data']['data-dir'], 'simple-queries.txt'), columns=[], header=False\n",
    ")"
   ]
  },
  {
   "cell_type": "markdown",
   "id": "878fadc1-10f3-419d-8b61-788f42234d5d",
   "metadata": {},
   "source": [
    "##### 3.2. **Ground truths** are the true `k` nearest neighbors of every query object\n",
    "With `k` being a modifiable parameter. To compute the ground truths we need to know the distances between objects. There are different metrics that are suitable for different dataset (see e.g. [spatial.distance](https://docs.scipy.org/doc/scipy/reference/spatial.distance.html)) -- we encourage the reader to implement his or her own. In our datasets, we used either Euclidean (L2) metric or a metric specific for the CoPhIR dataset. Both are taken from `lmi.distances`.\n",
    "\n",
    "Note that depending on how many queries you have, this operation can be time consuming."
   ]
  },
  {
   "cell_type": "code",
   "execution_count": 18,
   "id": "1260b1d8-9ea0-4d0b-8e1e-63ca804021a0",
   "metadata": {},
   "outputs": [],
   "source": [
    "# make sure that the config['data']['queries'] value corresponds to the path we used to store \n",
    "# the queries in the cell above\n",
    "queries = loader.load_queries()"
   ]
  },
  {
   "cell_type": "code",
   "execution_count": 26,
   "id": "153d4349-48b4-4de1-ae2a-0b37670ee438",
   "metadata": {},
   "outputs": [],
   "source": [
    "from lmi.distances.euclidean import get_euclidean_distance"
   ]
  },
  {
   "cell_type": "code",
   "execution_count": 52,
   "id": "dbab765c-7783-4267-8e5e-97539b2e3eef",
   "metadata": {},
   "outputs": [
    {
     "name": "stdout",
     "output_type": "stream",
     "text": [
      "CPU times: user 2min 13s, sys: 148 ms, total: 2min 13s\n",
      "Wall time: 2min 17s\n"
     ]
    }
   ],
   "source": [
    "def compute_ground_truths(query_objects, dataset, k, metric):\n",
    "    ground_truths = {}\n",
    "    for query_object in query_objects:\n",
    "        distances_to_query_object = {}\n",
    "        for i, data_object in dataset.iterrows():\n",
    "            distances_to_query_object[str(i)] = float(metric(dataset.loc[query_object], data_object))\n",
    "        ground_truths[str(query_object)] = dict(\n",
    "            sorted(distances_to_query_object.items(), key=lambda item: item[1])[:k]\n",
    "        )\n",
    "    return ground_truths\n",
    "\n",
    "%time ground_truths = compute_ground_truths(queries, dataset, k=2, metric=get_euclidean_distance)"
   ]
  },
  {
   "cell_type": "markdown",
   "id": "bc764327-53b3-472e-8739-4cda78752486",
   "metadata": {},
   "source": [
    "The ground truth file should be a dict of dicts with `key` as query and `{key: value}` being the id of the `k` nearest objects and their distances.\n",
    "\n",
    "E.g. for `k = 2` and two queries:\n",
    "```\n",
    "{361: {361: 0.0, 362: 7.1938624},\n",
    " 136: {136: 0.0, 137: 14.150513}\n",
    "}\n",
    "```"
   ]
  },
  {
   "cell_type": "code",
   "execution_count": 28,
   "id": "8c72a7f0-3b41-48ef-9e33-8f5c3640f310",
   "metadata": {},
   "outputs": [
    {
     "name": "stdout",
     "output_type": "stream",
     "text": [
      "CPU times: user 1min 53s, sys: 99 ms, total: 1min 53s\n",
      "Wall time: 1min 56s\n"
     ]
    }
   ],
   "source": [
    "# Alternative use with the metrics in `scipy.spatial.distance`\n",
    "# from scipy.spatial.distance import cosine\n",
    "# %time ground_truths = compute_ground_truths(queries, dataset, k=2, metric=cosine)"
   ]
  },
  {
   "cell_type": "markdown",
   "id": "04bd3c6d-bd18-4e70-accf-2b8df4673367",
   "metadata": {},
   "source": [
    "You can save the file for later use:"
   ]
  },
  {
   "cell_type": "code",
   "execution_count": 53,
   "id": "c9da33a2-8a33-4991-88c6-3eae42c5efec",
   "metadata": {},
   "outputs": [],
   "source": [
    "from lmi.utils import save_json\n",
    "save_json(ground_truths, os.path.join(config['data']['data-dir'], 'simple-knn.json'))"
   ]
  },
  {
   "cell_type": "markdown",
   "id": "9a931c1f-b497-43a8-8cb9-cc4b891d936e",
   "metadata": {},
   "source": [
    "#### 4. Train and search in the LMI"
   ]
  },
  {
   "cell_type": "code",
   "execution_count": 58,
   "id": "d2d676ce-8079-478c-b715-61a248b18128",
   "metadata": {},
   "outputs": [],
   "source": [
    "lmi = LMI(config['LMI'], dataset)"
   ]
  },
  {
   "cell_type": "code",
   "execution_count": 66,
   "id": "516b98eb-41b6-47bb-8f85-9a479a3e9402",
   "metadata": {},
   "outputs": [
    {
     "data": {
      "text/plain": [
       "{'level-0': {'model': 'KMeans',\n",
       "  'n_clusters': 100,\n",
       "  'n_init': 5,\n",
       "  'max_iter': 10},\n",
       " 'level-1': {'model': 'KMeans',\n",
       "  'n_clusters': 100,\n",
       "  'n_init': 5,\n",
       "  'max_iter': 10}}"
      ]
     },
     "execution_count": 66,
     "metadata": {},
     "output_type": "execute_result"
    }
   ],
   "source": [
    "model_config = load_model_config(config['LMI']['model-config'], lmi.n_levels)\n",
    "model_config"
   ]
  },
  {
   "cell_type": "code",
   "execution_count": 67,
   "id": "e55c00c0-7652-496c-8c9a-71b6a9749af3",
   "metadata": {},
   "outputs": [
    {
     "name": "stderr",
     "output_type": "stream",
     "text": [
      "INFO:lmi.indexes.BaseIndex:Training model M.0 (root) on dataset(1000, 14) with {'model': 'KMeans', 'n_clusters': 100, 'n_init': 5, 'max_iter': 10}.\n",
      "INFO:lmi.indexes.BaseIndex:Training level 1 with {'model': 'KMeans', 'n_clusters': 100, 'n_init': 5, 'max_iter': 10}.\n",
      "INFO:lmi.indexes.BaseIndex:Finished training the LMI.\n"
     ]
    },
    {
     "name": "stdout",
     "output_type": "stream",
     "text": [
      "CPU times: user 1.05 s, sys: 12.1 ms, total: 1.06 s\n",
      "Wall time: 1.6 s\n"
     ]
    }
   ],
   "source": [
    "%time lmi.train(model_config, rebuild=True)"
   ]
  },
  {
   "cell_type": "code",
   "execution_count": 68,
   "id": "75fd9d6f-dc50-4b87-b7c7-b99fb75e721e",
   "metadata": {},
   "outputs": [
    {
     "name": "stdout",
     "output_type": "stream",
     "text": [
      "CPU times: user 2.77 ms, sys: 3.98 ms, total: 6.75 ms\n",
      "Wall time: 6.77 ms\n"
     ]
    },
    {
     "data": {
      "text/plain": [
       "([[(45, 0),\n",
       "   (45, 3),\n",
       "   (45, 5),\n",
       "   (45, 2),\n",
       "   (71, 2),\n",
       "   (71, 3),\n",
       "   (71, 0),\n",
       "   (71, 4),\n",
       "   (9, 2),\n",
       "   (9, 0),\n",
       "   (18, 3),\n",
       "   (18, 0),\n",
       "   (69, 3),\n",
       "   (69, 2),\n",
       "   (69, 5),\n",
       "   (69, 0),\n",
       "   (41, 3),\n",
       "   (41, 1),\n",
       "   (48, 0),\n",
       "   (96, 0),\n",
       "   (81, 2),\n",
       "   (81, 3),\n",
       "   (81, 5),\n",
       "   (81, 0)]],\n",
       " [0.006704092025756836],\n",
       " [50])"
      ]
     },
     "execution_count": 68,
     "metadata": {},
     "output_type": "execute_result"
    }
   ],
   "source": [
    "%time search_results, times, visited_objects_all = lmi.search(queries[0], [50])\n",
    "search_results, times, visited_objects_all"
   ]
  },
  {
   "cell_type": "markdown",
   "id": "eb16a596-5572-46bb-98a4-8f1b1dd526d6",
   "metadata": {},
   "source": [
    "#### 5. Evaluate LMI's performance"
   ]
  },
  {
   "cell_type": "code",
   "execution_count": 86,
   "id": "11884b8d-fbb3-4804-9a21-e227c000db52",
   "metadata": {},
   "outputs": [
    {
     "name": "stderr",
     "output_type": "stream",
     "text": [
      "INFO:lmi.Experiment:Starting the search for 500 queries.\n",
      "INFO:lmi.Experiment:Evaluated 100/500 queries.\n",
      "INFO:lmi.Experiment:Evaluated 200/500 queries.\n",
      "INFO:lmi.Experiment:Evaluated 300/500 queries.\n",
      "INFO:lmi.Experiment:Evaluated 400/500 queries.\n",
      "INFO:lmi.Experiment:Search is finished, results are stored in: 'outputs/2022-03-16--10-20-05/search.csv'\n",
      "INFO:lmi.Experiment:Consumed memory by evaluating (MB): None\n"
     ]
    }
   ],
   "source": [
    "from lmi.Experiment import Evaluator\n",
    "import pandas as pd\n",
    "\n",
    "queries_df = pd.DataFrame(queries)\n",
    "queries_df = queries_df.set_index([0])\n",
    "\n",
    "e = Evaluator(lmi, ground_truths, queries_df, config)\n",
    "e.run_evaluate()\n",
    "e.generate_summary()"
   ]
  },
  {
   "cell_type": "code",
   "execution_count": 87,
   "id": "0c4cb563-b56c-4fbd-8179-84c8619d9b45",
   "metadata": {},
   "outputs": [
    {
     "name": "stdout",
     "output_type": "stream",
     "text": [
      "{\n",
      "    \"model\": \"LMI\",\n",
      "    \"experiment\": \"outputs/2022-03-16--10-20-05\",\n",
      "    \"stop_conditions_perc\": [\n",
      "        0.0005,\n",
      "        0.001,\n",
      "        0.003,\n",
      "        0.005,\n",
      "        0.01,\n",
      "        0.05,\n",
      "        0.1,\n",
      "        0.2,\n",
      "        0.3,\n",
      "        0.5\n",
      "    ],\n",
      "    \"results\": {\n",
      "        \"0\": {\n",
      "            \"time\": 0.002288386344909668,\n",
      "            \"score\": 0.851,\n",
      "            \"visited_objects\": 2\n",
      "        },\n",
      "        \"1\": {\n",
      "            \"time\": 0.002305778980255127,\n",
      "            \"score\": 0.851,\n",
      "            \"visited_objects\": 2\n",
      "        },\n",
      "        \"3\": {\n",
      "            \"time\": 0.002391507148742676,\n",
      "            \"score\": 0.991,\n",
      "            \"visited_objects\": 3\n",
      "        },\n",
      "        \"5\": {\n",
      "            \"time\": 0.002812516689300537,\n",
      "            \"score\": 0.991,\n",
      "            \"visited_objects\": 6\n",
      "        },\n",
      "        \"10\": {\n",
      "            \"time\": 0.003476684093475342,\n",
      "            \"score\": 0.991,\n",
      "            \"visited_objects\": 10\n",
      "        },\n",
      "        \"50\": {\n",
      "            \"time\": 0.009042134284973144,\n",
      "            \"score\": 0.991,\n",
      "            \"visited_objects\": 50\n",
      "        },\n",
      "        \"100\": {\n",
      "            \"time\": 0.014308039665222167,\n",
      "            \"score\": 0.991,\n",
      "            \"visited_objects\": 100\n",
      "        },\n",
      "        \"200\": {\n",
      "            \"time\": 0.02236821460723877,\n",
      "            \"score\": 0.991,\n",
      "            \"visited_objects\": 200\n",
      "        },\n",
      "        \"300\": {\n",
      "            \"time\": 0.029979241371154784,\n",
      "            \"score\": 0.991,\n",
      "            \"visited_objects\": 300\n",
      "        },\n",
      "        \"500\": {\n",
      "            \"time\": 0.04525985288619995,\n",
      "            \"score\": 0.991,\n",
      "            \"visited_objects\": 500\n",
      "        }\n",
      "    },\n",
      "    \"hw_info\": {\n",
      "        \"mem_data_load\": null,\n",
      "        \"mem_train\": null,\n",
      "        \"mem_exp\": null,\n",
      "        \"cpu_brand\": \"AMD EPYC 7532 32-Core Processor\",\n",
      "        \"cpu_hz\": \"2.7217 GHz\",\n",
      "        \"cpu_arch\": \"X86_64\"\n",
      "    }\n",
      "}"
     ]
    }
   ],
   "source": [
    "!cat outputs/2022-03-16--10-20-05/summary.json"
   ]
  }
 ],
 "metadata": {
  "kernelspec": {
   "display_name": "Python 3",
   "language": "python",
   "name": "python3"
  },
  "language_info": {
   "codemirror_mode": {
    "name": "ipython",
    "version": 3
   },
   "file_extension": ".py",
   "mimetype": "text/x-python",
   "name": "python",
   "nbconvert_exporter": "python",
   "pygments_lexer": "ipython3",
   "version": "3.6.15"
  }
 },
 "nbformat": 4,
 "nbformat_minor": 5
}
