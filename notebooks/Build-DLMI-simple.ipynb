{
 "cells": [
  {
   "cell_type": "code",
   "execution_count": 1,
   "id": "7cce73f1-2c37-40ab-bf5b-71384a69c534",
   "metadata": {},
   "outputs": [],
   "source": [
    "%reload_ext autoreload\n",
    "%autoreload 2"
   ]
  },
  {
   "cell_type": "markdown",
   "id": "0a3261e1-5b99-49a6-ad4d-2d894ed68ffe",
   "metadata": {},
   "source": [
    "# Build DLMI simple\n",
    "- Using user-defined changes to the structure (no database orchestrator)\n",
    "\n",
    "## Goal\n",
    "Example of how to build and search in DLMI with synthetic data.\n",
    "\n",
    "## Steps:\n",
    "1. Prepare the data\n",
    "2. Instantiate LMI\n",
    "3. Insert data\n",
    "4. Change structure\n",
    "5. Search in the structure\n",
    "\n",
    "##### Author: Terezia Slaninakova, xslanin@fi.muni.cz\n",
    "##### Date: 23.10.2022"
   ]
  },
  {
   "cell_type": "code",
   "execution_count": 2,
   "id": "babdb59f-fa7d-491b-bdd9-3b2e3b7ae4d9",
   "metadata": {},
   "outputs": [
    {
     "name": "stderr",
     "output_type": "stream",
     "text": [
      "[2022-10-23 12:04:32,199][DEBUG][root] Initialized logger\n"
     ]
    }
   ],
   "source": [
    "from dlmi.utils import *\n",
    "from dlmi.Logger import logging, get_logger_config\n",
    "import logging\n",
    "logging.basicConfig(level=logging.DEBUG, format=get_logger_config())\n",
    "logging.debug('Initialized logger')"
   ]
  },
  {
   "cell_type": "markdown",
   "id": "996cbde4-0101-4af3-ac79-d93c7231818b",
   "metadata": {
    "tags": []
   },
   "source": [
    "## 1. Prepare the data"
   ]
  },
  {
   "cell_type": "code",
   "execution_count": 3,
   "id": "c5c63b6a-60e2-4a9a-ba14-613c1665a887",
   "metadata": {},
   "outputs": [
    {
     "name": "stderr",
     "output_type": "stream",
     "text": [
      "[2022-10-23 12:04:45,467][INFO ][faiss.loader] Loading faiss with AVX2 support.\n",
      "[2022-10-23 12:04:45,472][INFO ][faiss.loader] Could not load library with AVX2 support due to:\n",
      "ModuleNotFoundError(\"No module named 'faiss.swigfaiss_avx2'\",)\n",
      "[2022-10-23 12:04:45,475][INFO ][faiss.loader] Loading faiss.\n",
      "[2022-10-23 12:04:45,542][INFO ][faiss.loader] Successfully loaded faiss.\n"
     ]
    },
    {
     "data": {
      "text/html": [
       "<div>\n",
       "<style scoped>\n",
       "    .dataframe tbody tr th:only-of-type {\n",
       "        vertical-align: middle;\n",
       "    }\n",
       "\n",
       "    .dataframe tbody tr th {\n",
       "        vertical-align: top;\n",
       "    }\n",
       "\n",
       "    .dataframe thead th {\n",
       "        text-align: right;\n",
       "    }\n",
       "</style>\n",
       "<table border=\"1\" class=\"dataframe\">\n",
       "  <thead>\n",
       "    <tr style=\"text-align: right;\">\n",
       "      <th></th>\n",
       "      <th>0</th>\n",
       "      <th>1</th>\n",
       "      <th>2</th>\n",
       "      <th>3</th>\n",
       "      <th>4</th>\n",
       "      <th>5</th>\n",
       "      <th>6</th>\n",
       "      <th>7</th>\n",
       "      <th>8</th>\n",
       "      <th>9</th>\n",
       "      <th>...</th>\n",
       "      <th>118</th>\n",
       "      <th>119</th>\n",
       "      <th>120</th>\n",
       "      <th>121</th>\n",
       "      <th>122</th>\n",
       "      <th>123</th>\n",
       "      <th>124</th>\n",
       "      <th>125</th>\n",
       "      <th>126</th>\n",
       "      <th>127</th>\n",
       "    </tr>\n",
       "  </thead>\n",
       "  <tbody>\n",
       "    <tr>\n",
       "      <th>0</th>\n",
       "      <td>0.174146</td>\n",
       "      <td>0.636025</td>\n",
       "      <td>0.052366</td>\n",
       "      <td>0.066236</td>\n",
       "      <td>0.833853</td>\n",
       "      <td>0.225025</td>\n",
       "      <td>0.934428</td>\n",
       "      <td>0.264884</td>\n",
       "      <td>0.791498</td>\n",
       "      <td>0.799136</td>\n",
       "      <td>...</td>\n",
       "      <td>0.212472</td>\n",
       "      <td>0.740060</td>\n",
       "      <td>0.567989</td>\n",
       "      <td>0.248770</td>\n",
       "      <td>0.590600</td>\n",
       "      <td>0.046706</td>\n",
       "      <td>0.357110</td>\n",
       "      <td>0.494380</td>\n",
       "      <td>0.508003</td>\n",
       "      <td>0.844378</td>\n",
       "    </tr>\n",
       "    <tr>\n",
       "      <th>1</th>\n",
       "      <td>0.922731</td>\n",
       "      <td>0.938299</td>\n",
       "      <td>0.587256</td>\n",
       "      <td>0.016207</td>\n",
       "      <td>0.495015</td>\n",
       "      <td>0.168374</td>\n",
       "      <td>0.345242</td>\n",
       "      <td>0.506989</td>\n",
       "      <td>0.963526</td>\n",
       "      <td>0.366027</td>\n",
       "      <td>...</td>\n",
       "      <td>0.464140</td>\n",
       "      <td>0.727747</td>\n",
       "      <td>0.643786</td>\n",
       "      <td>0.215733</td>\n",
       "      <td>0.987642</td>\n",
       "      <td>0.653069</td>\n",
       "      <td>0.660295</td>\n",
       "      <td>0.848699</td>\n",
       "      <td>0.605542</td>\n",
       "      <td>0.000983</td>\n",
       "    </tr>\n",
       "  </tbody>\n",
       "</table>\n",
       "<p>2 rows × 128 columns</p>\n",
       "</div>"
      ],
      "text/plain": [
       "        0         1         2         3         4         5         6    \\\n",
       "0  0.174146  0.636025  0.052366  0.066236  0.833853  0.225025  0.934428   \n",
       "1  0.922731  0.938299  0.587256  0.016207  0.495015  0.168374  0.345242   \n",
       "\n",
       "        7         8         9    ...       118       119       120       121  \\\n",
       "0  0.264884  0.791498  0.799136  ...  0.212472  0.740060  0.567989  0.248770   \n",
       "1  0.506989  0.963526  0.366027  ...  0.464140  0.727747  0.643786  0.215733   \n",
       "\n",
       "        122       123       124       125       126       127  \n",
       "0  0.590600  0.046706  0.357110  0.494380  0.508003  0.844378  \n",
       "1  0.987642  0.653069  0.660295  0.848699  0.605542  0.000983  \n",
       "\n",
       "[2 rows x 128 columns]"
      ]
     },
     "execution_count": 3,
     "metadata": {},
     "output_type": "execute_result"
    }
   ],
   "source": [
    "import numpy as np\n",
    "import pandas as pd\n",
    "from dlmi.LMI import LMI, Inconsistencies\n",
    "data = pd.DataFrame(np.random.random((10_000, 128)))\n",
    "data.head(2)"
   ]
  },
  {
   "cell_type": "markdown",
   "id": "7087d3c7-6990-4b10-96b2-4b41d4cacc61",
   "metadata": {},
   "source": [
    "## 2. Instantiate LMI"
   ]
  },
  {
   "cell_type": "code",
   "execution_count": 4,
   "id": "5adf43dd-6dee-4463-81ac-644094194086",
   "metadata": {},
   "outputs": [],
   "source": [
    "from dlmi.utils import load_yaml\n",
    "config = load_yaml('../config.yml')"
   ]
  },
  {
   "cell_type": "code",
   "execution_count": 5,
   "id": "c91342f5-4420-446f-8312-d104263ce943",
   "metadata": {},
   "outputs": [],
   "source": [
    "lmi = LMI(**config['LMI'])"
   ]
  },
  {
   "cell_type": "markdown",
   "id": "524ea57d-4123-4656-ab16-9b43b48fae28",
   "metadata": {},
   "source": [
    "## 3. Insert data into LMI"
   ]
  },
  {
   "cell_type": "code",
   "execution_count": 6,
   "id": "46fd2be6-a6fb-4e87-b125-6fc62e3fcf7e",
   "metadata": {},
   "outputs": [
    {
     "name": "stderr",
     "output_type": "stream",
     "text": [
      "[2022-10-23 12:04:45,817][DEBUG][LeafNode] Created leaf node at `(0,)`\n",
      "[2022-10-23 12:04:45,821][DEBUG][LMI] Added inconsistency: Inconsistencies.OVERFLOW at (0,)\n",
      "[2022-10-23 12:04:45,824][DEBUG][LMI] Inserted node `(0,)` into LMI\n"
     ]
    }
   ],
   "source": [
    "lmi.insert(data.iloc[:1000])"
   ]
  },
  {
   "cell_type": "code",
   "execution_count": 7,
   "id": "f7bdf38d-262d-476a-9937-d0c18027f54a",
   "metadata": {},
   "outputs": [
    {
     "data": {
      "text/html": [
       "<div>\n",
       "<style scoped>\n",
       "    .dataframe tbody tr th:only-of-type {\n",
       "        vertical-align: middle;\n",
       "    }\n",
       "\n",
       "    .dataframe tbody tr th {\n",
       "        vertical-align: top;\n",
       "    }\n",
       "\n",
       "    .dataframe thead th {\n",
       "        text-align: right;\n",
       "    }\n",
       "</style>\n",
       "<table border=\"1\" class=\"dataframe\">\n",
       "  <thead>\n",
       "    <tr style=\"text-align: right;\">\n",
       "      <th></th>\n",
       "      <th>type</th>\n",
       "      <th>children</th>\n",
       "    </tr>\n",
       "    <tr>\n",
       "      <th>key</th>\n",
       "      <th></th>\n",
       "      <th></th>\n",
       "    </tr>\n",
       "  </thead>\n",
       "  <tbody>\n",
       "    <tr>\n",
       "      <th>(0,)</th>\n",
       "      <td>LeafNode</td>\n",
       "      <td>1000</td>\n",
       "    </tr>\n",
       "  </tbody>\n",
       "</table>\n",
       "</div>"
      ],
      "text/plain": [
       "          type children\n",
       "key                    \n",
       "(0,)  LeafNode     1000"
      ]
     },
     "execution_count": 7,
     "metadata": {},
     "output_type": "execute_result"
    }
   ],
   "source": [
    "lmi.dump_structure()"
   ]
  },
  {
   "cell_type": "code",
   "execution_count": 8,
   "id": "ef23bc46-6d2c-4b9d-9370-48757a0fcb22",
   "metadata": {},
   "outputs": [
    {
     "data": {
      "text/plain": [
       "'overflow'"
      ]
     },
     "execution_count": 8,
     "metadata": {},
     "output_type": "execute_result"
    }
   ],
   "source": [
    "Inconsistencies.OVERFLOW.value"
   ]
  },
  {
   "cell_type": "code",
   "execution_count": 9,
   "id": "7f75dd9e-d3cf-459e-af15-0cecb77811a1",
   "metadata": {},
   "outputs": [
    {
     "data": {
      "text/plain": [
       "{'InnerNode': {'overflow': {}, 'underflow': {}},\n",
       " 'LeafNode': {'overflow': {(0,): 1000}, 'underflow': {}}}"
      ]
     },
     "execution_count": 9,
     "metadata": {},
     "output_type": "execute_result"
    }
   ],
   "source": [
    "lmi.inconsistencies"
   ]
  },
  {
   "cell_type": "markdown",
   "id": "33509e68-42ee-40d4-97ea-93c684707a7f",
   "metadata": {},
   "source": [
    "## 4. Change the structure"
   ]
  },
  {
   "cell_type": "code",
   "execution_count": 10,
   "id": "39308149-1466-416f-bd66-4521d67fc7e2",
   "metadata": {},
   "outputs": [
    {
     "name": "stderr",
     "output_type": "stream",
     "text": [
      "[2022-10-23 12:04:45,972][DEBUG][LMI] ==== Deepen with (0,)\n",
      "[2022-10-23 12:04:48,792][DEBUG][LMI] Removed node at `(0,)`\n",
      "[2022-10-23 12:04:48,796][DEBUG][LMI] Removed inconsistency: Inconsistencies.OVERFLOW from (0,)\n",
      "[2022-10-23 12:04:48,798][DEBUG][InnerNode] Created inner node at `(0,)`\n",
      "[2022-10-23 12:04:48,801][DEBUG][LMI] Inserted node `(0,)` into LMI\n",
      "[2022-10-23 12:04:48,804][DEBUG][LeafNode] Created leaf node at `(0, 0)`\n",
      "[2022-10-23 12:04:48,807][DEBUG][LMI] Added inconsistency: Inconsistencies.OVERFLOW at (0, 0)\n",
      "[2022-10-23 12:04:48,810][DEBUG][LMI] Inserted node `(0, 0)` into LMI\n",
      "[2022-10-23 12:04:48,812][DEBUG][LeafNode] Created leaf node at `(0, 1)`\n",
      "[2022-10-23 12:04:48,815][DEBUG][LMI] Added inconsistency: Inconsistencies.OVERFLOW at (0, 1)\n",
      "[2022-10-23 12:04:48,816][DEBUG][LMI] Inserted node `(0, 1)` into LMI\n",
      "[2022-10-23 12:04:48,817][DEBUG][LMI] Added inconsistency: Inconsistencies.UNDERFLOW at (0,)\n"
     ]
    }
   ],
   "source": [
    "_ = lmi.deepen(lmi.nodes[(0, )], 2)"
   ]
  },
  {
   "cell_type": "code",
   "execution_count": 11,
   "id": "55203c7e-6540-43cb-961a-32089a3d8d1f",
   "metadata": {},
   "outputs": [
    {
     "data": {
      "text/html": [
       "<div>\n",
       "<style scoped>\n",
       "    .dataframe tbody tr th:only-of-type {\n",
       "        vertical-align: middle;\n",
       "    }\n",
       "\n",
       "    .dataframe tbody tr th {\n",
       "        vertical-align: top;\n",
       "    }\n",
       "\n",
       "    .dataframe thead th {\n",
       "        text-align: right;\n",
       "    }\n",
       "</style>\n",
       "<table border=\"1\" class=\"dataframe\">\n",
       "  <thead>\n",
       "    <tr style=\"text-align: right;\">\n",
       "      <th></th>\n",
       "      <th>type</th>\n",
       "      <th>children</th>\n",
       "    </tr>\n",
       "    <tr>\n",
       "      <th>key</th>\n",
       "      <th></th>\n",
       "      <th></th>\n",
       "    </tr>\n",
       "  </thead>\n",
       "  <tbody>\n",
       "    <tr>\n",
       "      <th>(0,)</th>\n",
       "      <td>InnerNode</td>\n",
       "      <td>2</td>\n",
       "    </tr>\n",
       "    <tr>\n",
       "      <th>(0, 0)</th>\n",
       "      <td>LeafNode</td>\n",
       "      <td>433</td>\n",
       "    </tr>\n",
       "    <tr>\n",
       "      <th>(0, 1)</th>\n",
       "      <td>LeafNode</td>\n",
       "      <td>567</td>\n",
       "    </tr>\n",
       "  </tbody>\n",
       "</table>\n",
       "</div>"
      ],
      "text/plain": [
       "             type children\n",
       "key                       \n",
       "(0,)    InnerNode        2\n",
       "(0, 0)   LeafNode      433\n",
       "(0, 1)   LeafNode      567"
      ]
     },
     "execution_count": 11,
     "metadata": {},
     "output_type": "execute_result"
    }
   ],
   "source": [
    "lmi.dump_structure()"
   ]
  },
  {
   "cell_type": "code",
   "execution_count": 12,
   "id": "b65b3f28-156f-4e87-9392-196013b76abb",
   "metadata": {},
   "outputs": [
    {
     "name": "stderr",
     "output_type": "stream",
     "text": [
      "[2022-10-23 12:04:48,893][DEBUG][LMI] ==== Deepen with (0, 0)\n",
      "[2022-10-23 12:04:48,957][DEBUG][LMI] Removed node at `(0, 0)`\n",
      "[2022-10-23 12:04:48,961][DEBUG][LMI] Removed inconsistency: Inconsistencies.OVERFLOW from (0, 0)\n",
      "[2022-10-23 12:04:48,964][DEBUG][InnerNode] Created inner node at `(0, 0)`\n",
      "[2022-10-23 12:04:48,966][DEBUG][LMI] Inserted node `(0, 0)` into LMI\n",
      "[2022-10-23 12:04:48,969][DEBUG][LeafNode] Created leaf node at `(0, 0, 0)`\n",
      "[2022-10-23 12:04:48,972][DEBUG][LMI] Added inconsistency: Inconsistencies.OVERFLOW at (0, 0, 0)\n",
      "[2022-10-23 12:04:48,975][DEBUG][LMI] Inserted node `(0, 0, 0)` into LMI\n",
      "[2022-10-23 12:04:48,977][DEBUG][LeafNode] Created leaf node at `(0, 0, 1)`\n",
      "[2022-10-23 12:04:48,980][DEBUG][LMI] Inserted node `(0, 0, 1)` into LMI\n",
      "[2022-10-23 12:04:48,981][DEBUG][LMI] Added inconsistency: Inconsistencies.UNDERFLOW at (0, 0)\n"
     ]
    }
   ],
   "source": [
    "_ = lmi.deepen(lmi.nodes[(0, 0)], 2)"
   ]
  },
  {
   "cell_type": "code",
   "execution_count": 13,
   "id": "99131b31-6128-416a-aea1-e1b0d30a45c0",
   "metadata": {},
   "outputs": [
    {
     "data": {
      "text/html": [
       "<div>\n",
       "<style scoped>\n",
       "    .dataframe tbody tr th:only-of-type {\n",
       "        vertical-align: middle;\n",
       "    }\n",
       "\n",
       "    .dataframe tbody tr th {\n",
       "        vertical-align: top;\n",
       "    }\n",
       "\n",
       "    .dataframe thead th {\n",
       "        text-align: right;\n",
       "    }\n",
       "</style>\n",
       "<table border=\"1\" class=\"dataframe\">\n",
       "  <thead>\n",
       "    <tr style=\"text-align: right;\">\n",
       "      <th></th>\n",
       "      <th>type</th>\n",
       "      <th>children</th>\n",
       "    </tr>\n",
       "    <tr>\n",
       "      <th>key</th>\n",
       "      <th></th>\n",
       "      <th></th>\n",
       "    </tr>\n",
       "  </thead>\n",
       "  <tbody>\n",
       "    <tr>\n",
       "      <th>(0,)</th>\n",
       "      <td>InnerNode</td>\n",
       "      <td>2</td>\n",
       "    </tr>\n",
       "    <tr>\n",
       "      <th>(0, 1)</th>\n",
       "      <td>LeafNode</td>\n",
       "      <td>567</td>\n",
       "    </tr>\n",
       "    <tr>\n",
       "      <th>(0, 0)</th>\n",
       "      <td>InnerNode</td>\n",
       "      <td>2</td>\n",
       "    </tr>\n",
       "    <tr>\n",
       "      <th>(0, 0, 0)</th>\n",
       "      <td>LeafNode</td>\n",
       "      <td>290</td>\n",
       "    </tr>\n",
       "    <tr>\n",
       "      <th>(0, 0, 1)</th>\n",
       "      <td>LeafNode</td>\n",
       "      <td>143</td>\n",
       "    </tr>\n",
       "  </tbody>\n",
       "</table>\n",
       "</div>"
      ],
      "text/plain": [
       "                type children\n",
       "key                          \n",
       "(0,)       InnerNode        2\n",
       "(0, 1)      LeafNode      567\n",
       "(0, 0)     InnerNode        2\n",
       "(0, 0, 0)   LeafNode      290\n",
       "(0, 0, 1)   LeafNode      143"
      ]
     },
     "execution_count": 13,
     "metadata": {},
     "output_type": "execute_result"
    }
   ],
   "source": [
    "lmi.dump_structure()"
   ]
  },
  {
   "cell_type": "code",
   "execution_count": 14,
   "id": "31d79563-a3b2-4b25-b3e8-4eba83da5363",
   "metadata": {},
   "outputs": [
    {
     "name": "stderr",
     "output_type": "stream",
     "text": [
      "[2022-10-23 12:04:49,054][DEBUG][LMI] ==== Retrain with (0, 0)\n",
      "[2022-10-23 12:04:49,117][DEBUG][LMI] Removed node at `(0, 0, 1)`\n",
      "[2022-10-23 12:04:49,120][DEBUG][LMI] Removed node at `(0, 0, 0)`\n",
      "[2022-10-23 12:04:49,123][DEBUG][LMI] Removed inconsistency: Inconsistencies.OVERFLOW from (0, 0, 0)\n",
      "[2022-10-23 12:04:49,126][DEBUG][LeafNode] Created leaf node at `(0, 0, 0)`\n",
      "[2022-10-23 12:04:49,129][DEBUG][LMI] Inserted node `(0, 0, 0)` into LMI\n",
      "[2022-10-23 12:04:49,131][DEBUG][LeafNode] Created leaf node at `(0, 0, 1)`\n",
      "[2022-10-23 12:04:49,134][DEBUG][LMI] Added inconsistency: Inconsistencies.UNDERFLOW at (0, 0, 1)\n",
      "[2022-10-23 12:04:49,137][DEBUG][LMI] Inserted node `(0, 0, 1)` into LMI\n",
      "[2022-10-23 12:04:49,140][DEBUG][LeafNode] Created leaf node at `(0, 0, 2)`\n",
      "[2022-10-23 12:04:49,141][DEBUG][LMI] Inserted node `(0, 0, 2)` into LMI\n",
      "[2022-10-23 12:04:49,142][DEBUG][LeafNode] Created leaf node at `(0, 0, 3)`\n",
      "[2022-10-23 12:04:49,146][DEBUG][LMI] Inserted node `(0, 0, 3)` into LMI\n"
     ]
    }
   ],
   "source": [
    "lmi.retrain(lmi.nodes[(0, 0)], 4)"
   ]
  },
  {
   "cell_type": "code",
   "execution_count": 15,
   "id": "49da0be9-e70a-4845-b157-82da2aaf3ef8",
   "metadata": {},
   "outputs": [
    {
     "data": {
      "text/html": [
       "<div>\n",
       "<style scoped>\n",
       "    .dataframe tbody tr th:only-of-type {\n",
       "        vertical-align: middle;\n",
       "    }\n",
       "\n",
       "    .dataframe tbody tr th {\n",
       "        vertical-align: top;\n",
       "    }\n",
       "\n",
       "    .dataframe thead th {\n",
       "        text-align: right;\n",
       "    }\n",
       "</style>\n",
       "<table border=\"1\" class=\"dataframe\">\n",
       "  <thead>\n",
       "    <tr style=\"text-align: right;\">\n",
       "      <th></th>\n",
       "      <th>type</th>\n",
       "      <th>children</th>\n",
       "    </tr>\n",
       "    <tr>\n",
       "      <th>key</th>\n",
       "      <th></th>\n",
       "      <th></th>\n",
       "    </tr>\n",
       "  </thead>\n",
       "  <tbody>\n",
       "    <tr>\n",
       "      <th>(0,)</th>\n",
       "      <td>InnerNode</td>\n",
       "      <td>2</td>\n",
       "    </tr>\n",
       "    <tr>\n",
       "      <th>(0, 1)</th>\n",
       "      <td>LeafNode</td>\n",
       "      <td>567</td>\n",
       "    </tr>\n",
       "    <tr>\n",
       "      <th>(0, 0)</th>\n",
       "      <td>InnerNode</td>\n",
       "      <td>4</td>\n",
       "    </tr>\n",
       "    <tr>\n",
       "      <th>(0, 0, 0)</th>\n",
       "      <td>LeafNode</td>\n",
       "      <td>117</td>\n",
       "    </tr>\n",
       "    <tr>\n",
       "      <th>(0, 0, 1)</th>\n",
       "      <td>LeafNode</td>\n",
       "      <td>12</td>\n",
       "    </tr>\n",
       "    <tr>\n",
       "      <th>(0, 0, 2)</th>\n",
       "      <td>LeafNode</td>\n",
       "      <td>134</td>\n",
       "    </tr>\n",
       "    <tr>\n",
       "      <th>(0, 0, 3)</th>\n",
       "      <td>LeafNode</td>\n",
       "      <td>170</td>\n",
       "    </tr>\n",
       "  </tbody>\n",
       "</table>\n",
       "</div>"
      ],
      "text/plain": [
       "                type children\n",
       "key                          \n",
       "(0,)       InnerNode        2\n",
       "(0, 1)      LeafNode      567\n",
       "(0, 0)     InnerNode        4\n",
       "(0, 0, 0)   LeafNode      117\n",
       "(0, 0, 1)   LeafNode       12\n",
       "(0, 0, 2)   LeafNode      134\n",
       "(0, 0, 3)   LeafNode      170"
      ]
     },
     "execution_count": 15,
     "metadata": {},
     "output_type": "execute_result"
    }
   ],
   "source": [
    "lmi.dump_structure()"
   ]
  },
  {
   "cell_type": "markdown",
   "id": "76060854-25a1-4e08-afe4-02d5c289bd4b",
   "metadata": {},
   "source": [
    "## 5. Search"
   ]
  },
  {
   "cell_type": "code",
   "execution_count": 16,
   "id": "5bd1aced-a69d-43a5-a7d4-419c93f3846b",
   "metadata": {},
   "outputs": [
    {
     "name": "stderr",
     "output_type": "stream",
     "text": [
      "[2022-10-23 12:05:14,831][DEBUG][LMI] Processing: (0,)\n",
      "[2022-10-23 12:05:14,835][DEBUG][LMI] Top 5 entries in PQ: [[(0, 1) 0.8267986178398132]\n",
      " [(0, 0) 0.173201322555542]]\n"
     ]
    },
    {
     "data": {
      "text/plain": [
       "([(0, 1)], 567)"
      ]
     },
     "execution_count": 16,
     "metadata": {},
     "output_type": "execute_result"
    }
   ],
   "source": [
    "res = lmi.search(data.iloc[0], 500)\n",
    "res"
   ]
  },
  {
   "cell_type": "code",
   "execution_count": 17,
   "id": "eee46d3b-359d-4031-a548-027ee824f42d",
   "metadata": {},
   "outputs": [
    {
     "data": {
      "text/plain": [
       "array([[(0, 0), 0.173201322555542]], dtype=object)"
      ]
     },
     "execution_count": 17,
     "metadata": {},
     "output_type": "execute_result"
    }
   ],
   "source": [
    "lmi.pq"
   ]
  },
  {
   "cell_type": "code",
   "execution_count": 18,
   "id": "20b7c357-3cb5-4af5-a36e-c537c427ac70",
   "metadata": {
    "tags": []
   },
   "outputs": [
    {
     "name": "stderr",
     "output_type": "stream",
     "text": [
      "[2022-10-23 12:05:18,904][DEBUG][LMI] Processing: (0,)\n",
      "[2022-10-23 12:05:18,909][DEBUG][LMI] Top 5 entries in PQ: [[(0, 1) 0.8267986178398132]\n",
      " [(0, 0) 0.173201322555542]]\n"
     ]
    },
    {
     "data": {
      "text/plain": [
       "([(0, 1)], 567)"
      ]
     },
     "execution_count": 18,
     "metadata": {},
     "output_type": "execute_result"
    }
   ],
   "source": [
    "res = lmi.search(data.iloc[0], 500)\n",
    "res"
   ]
  }
 ],
 "metadata": {
  "kernelspec": {
   "display_name": "Python 3",
   "language": "python",
   "name": "python3"
  },
  "language_info": {
   "codemirror_mode": {
    "name": "ipython",
    "version": 3
   },
   "file_extension": ".py",
   "mimetype": "text/x-python",
   "name": "python",
   "nbconvert_exporter": "python",
   "pygments_lexer": "ipython3",
   "version": "3.6.2"
  }
 },
 "nbformat": 4,
 "nbformat_minor": 5
}
