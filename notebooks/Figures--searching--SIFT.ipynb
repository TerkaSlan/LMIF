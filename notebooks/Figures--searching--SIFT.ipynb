{
 "cells": [
  {
   "cell_type": "code",
   "execution_count": 1,
   "id": "b0cd1052-ec37-402b-96d2-43c5247ce278",
   "metadata": {},
   "outputs": [],
   "source": [
    "%reload_ext autoreload\n",
    "%autoreload 2"
   ]
  },
  {
   "cell_type": "code",
   "execution_count": 2,
   "id": "dfdc47f6-a622-43a6-80e8-2bfae5e3190c",
   "metadata": {},
   "outputs": [],
   "source": [
    "from os import listdir\n",
    "import pandas as pd\n",
    "import numpy as np"
   ]
  },
  {
   "cell_type": "code",
   "execution_count": 3,
   "id": "5aa5d0d7-abd2-4799-922d-035b1a8d93b6",
   "metadata": {},
   "outputs": [],
   "source": [
    "from dlmi.visualization import *\n",
    "from dlmi.utils import get_size_of_file, load_pickle\n",
    "search_type = 'leaf'"
   ]
  },
  {
   "cell_type": "markdown",
   "id": "c8e5ae18-5815-4009-b4cf-eeb8b1e1d237",
   "metadata": {},
   "source": [
    "# Graph 1 -- SIFt -- 1M"
   ]
  },
  {
   "cell_type": "code",
   "execution_count": 4,
   "id": "05ef35f2-f584-438b-b83a-6f51d8aadc9f",
   "metadata": {},
   "outputs": [],
   "source": [
    "#dyn = '../experiments/2022-11-23--19-44-31-13364399-SIFT-1000000-adan6.grid.cesnet.cz'\n",
    "#bulk = '../experiments/2022-12-05--08-58-43-13575368-SIFT-bulk-MLP-1000000-adan7.grid.cesnet.cz'\n",
    "dyn = '../experiments/2022-12-02--10-12-30-13425037-SIFT-1000000-adan7.grid.cesnet.cz'\n",
    "bulk = '../experiments/2022-12-30--18-38-41-13825624-SIFT-bulk-MLP-1000000-adan6.grid.cesnet.cz'\n",
    "naive_dyn = '../experiments/2022-12-31--19-29-57-13828510-SIFT-bulk-MLP-1000000-adan52.grid.cesnet.cz'"
   ]
  },
  {
   "cell_type": "code",
   "execution_count": 5,
   "id": "9a47ab19-cd7f-4859-9364-a9be66fef77d",
   "metadata": {},
   "outputs": [],
   "source": [
    "df = pd.read_csv(f'{dyn}/struct/str-36.csv')\n",
    "n_leaf_nodes_d = df[df['type'] == 'LeafNode'].shape[0]\n",
    "df_b = pd.read_csv(f'{bulk}/struct/str-99.csv')\n",
    "n_leaf_nodes_b = df_b[df_b['type'] == 'LeafNode'].shape[0]\n",
    "df = pd.read_csv(f'{naive_dyn}/struct/str-99.csv')\n",
    "n_leaf_nodes_nd = df[df['type'] == 'LeafNode'].shape[0]"
   ]
  },
  {
   "cell_type": "code",
   "execution_count": 6,
   "id": "3f61f116-c538-4777-9fa4-59fcd6351ff9",
   "metadata": {},
   "outputs": [
    {
     "data": {
      "text/plain": [
       "(12061, 12000, 1200)"
      ]
     },
     "execution_count": 6,
     "metadata": {},
     "output_type": "execute_result"
    }
   ],
   "source": [
    "n_leaf_nodes_d, n_leaf_nodes_b, n_leaf_nodes_nd"
   ]
  },
  {
   "cell_type": "code",
   "execution_count": 7,
   "id": "77b8f003-9419-4470-a2ec-76de363a5faa",
   "metadata": {},
   "outputs": [
    {
     "data": {
      "text/html": [
       "<div>\n",
       "<style scoped>\n",
       "    .dataframe tbody tr th:only-of-type {\n",
       "        vertical-align: middle;\n",
       "    }\n",
       "\n",
       "    .dataframe tbody tr th {\n",
       "        vertical-align: top;\n",
       "    }\n",
       "\n",
       "    .dataframe thead th {\n",
       "        text-align: right;\n",
       "    }\n",
       "</style>\n",
       "<table border=\"1\" class=\"dataframe\">\n",
       "  <thead>\n",
       "    <tr style=\"text-align: right;\">\n",
       "      <th></th>\n",
       "      <th>key</th>\n",
       "      <th>type</th>\n",
       "      <th>children</th>\n",
       "    </tr>\n",
       "  </thead>\n",
       "  <tbody>\n",
       "    <tr>\n",
       "      <th>0</th>\n",
       "      <td>(0,)</td>\n",
       "      <td>InnerNode</td>\n",
       "      <td>100</td>\n",
       "    </tr>\n",
       "    <tr>\n",
       "      <th>1</th>\n",
       "      <td>(0, 0)</td>\n",
       "      <td>InnerNode</td>\n",
       "      <td>120</td>\n",
       "    </tr>\n",
       "    <tr>\n",
       "      <th>2</th>\n",
       "      <td>(0, 0, 0)</td>\n",
       "      <td>LeafNode</td>\n",
       "      <td>98</td>\n",
       "    </tr>\n",
       "    <tr>\n",
       "      <th>3</th>\n",
       "      <td>(0, 0, 1)</td>\n",
       "      <td>LeafNode</td>\n",
       "      <td>36</td>\n",
       "    </tr>\n",
       "    <tr>\n",
       "      <th>4</th>\n",
       "      <td>(0, 0, 2)</td>\n",
       "      <td>LeafNode</td>\n",
       "      <td>61</td>\n",
       "    </tr>\n",
       "  </tbody>\n",
       "</table>\n",
       "</div>"
      ],
      "text/plain": [
       "         key       type  children\n",
       "0       (0,)  InnerNode       100\n",
       "1     (0, 0)  InnerNode       120\n",
       "2  (0, 0, 0)   LeafNode        98\n",
       "3  (0, 0, 1)   LeafNode        36\n",
       "4  (0, 0, 2)   LeafNode        61"
      ]
     },
     "execution_count": 7,
     "metadata": {},
     "output_type": "execute_result"
    }
   ],
   "source": [
    "df_b.head()"
   ]
  },
  {
   "cell_type": "code",
   "execution_count": 8,
   "id": "147cb6db-24c2-489a-b38e-693f4dd6a6a1",
   "metadata": {},
   "outputs": [
    {
     "data": {
      "text/html": [
       "<div>\n",
       "<style scoped>\n",
       "    .dataframe tbody tr th:only-of-type {\n",
       "        vertical-align: middle;\n",
       "    }\n",
       "\n",
       "    .dataframe tbody tr th {\n",
       "        vertical-align: top;\n",
       "    }\n",
       "\n",
       "    .dataframe thead th {\n",
       "        text-align: right;\n",
       "    }\n",
       "</style>\n",
       "<table border=\"1\" class=\"dataframe\">\n",
       "  <thead>\n",
       "    <tr style=\"text-align: right;\">\n",
       "      <th></th>\n",
       "      <th>key</th>\n",
       "      <th>type</th>\n",
       "      <th>children</th>\n",
       "    </tr>\n",
       "  </thead>\n",
       "  <tbody>\n",
       "    <tr>\n",
       "      <th>0</th>\n",
       "      <td>(0,)</td>\n",
       "      <td>InnerNode</td>\n",
       "      <td>100</td>\n",
       "    </tr>\n",
       "    <tr>\n",
       "      <th>1</th>\n",
       "      <td>(0, 0)</td>\n",
       "      <td>InnerNode</td>\n",
       "      <td>12</td>\n",
       "    </tr>\n",
       "    <tr>\n",
       "      <th>2</th>\n",
       "      <td>(0, 0, 0)</td>\n",
       "      <td>LeafNode</td>\n",
       "      <td>109</td>\n",
       "    </tr>\n",
       "    <tr>\n",
       "      <th>3</th>\n",
       "      <td>(0, 0, 1)</td>\n",
       "      <td>LeafNode</td>\n",
       "      <td>154</td>\n",
       "    </tr>\n",
       "    <tr>\n",
       "      <th>4</th>\n",
       "      <td>(0, 0, 2)</td>\n",
       "      <td>LeafNode</td>\n",
       "      <td>76</td>\n",
       "    </tr>\n",
       "  </tbody>\n",
       "</table>\n",
       "</div>"
      ],
      "text/plain": [
       "         key       type  children\n",
       "0       (0,)  InnerNode       100\n",
       "1     (0, 0)  InnerNode        12\n",
       "2  (0, 0, 0)   LeafNode       109\n",
       "3  (0, 0, 1)   LeafNode       154\n",
       "4  (0, 0, 2)   LeafNode        76"
      ]
     },
     "execution_count": 8,
     "metadata": {},
     "output_type": "execute_result"
    }
   ],
   "source": [
    "df.head()"
   ]
  },
  {
   "cell_type": "code",
   "execution_count": 9,
   "id": "33fd4646-24a5-4bc9-9e2f-5beae6654ad6",
   "metadata": {},
   "outputs": [],
   "source": [
    "def get_search_df(exp, objs=1_000_000, type_s='leaf'):\n",
    "    search_df = pd.DataFrame([])\n",
    "    for f in listdir(f'{exp}/search/{type_s}/csv/'):\n",
    "        if all(pd.read_csv(f'{exp}/search/{type_s}/csv/{f}')['n-objects-total'].values == objs):\n",
    "            search_df = pd.concat([search_df, pd.read_csv(f'{exp}/search/{type_s}/csv/{f}')])\n",
    "    return search_df"
   ]
  },
  {
   "cell_type": "code",
   "execution_count": 10,
   "id": "7ae673d6-e2d1-4f2e-89c9-3e44783553ed",
   "metadata": {},
   "outputs": [],
   "source": [
    "def get_recalls(search_df, n_leaf_nodes, search_type='leaf'):\n",
    "    recalls = []\n",
    "    mean_recalls = []\n",
    "    stop_conds = []\n",
    "    stop_conds_time = []\n",
    "    seq_search_time = []\n",
    "    n_queries = 0\n",
    "\n",
    "    for n, g in search_df.groupby(['sc']):\n",
    "        n_queries = g['recall'].values.shape[0]\n",
    "        if search_type == search_type:\n",
    "            r = (n/n_leaf_nodes)*100\n",
    "            stop_conds.append(\n",
    "                f'{round(r, 2) if r < 1 else int(r)}%'\n",
    "            )\n",
    "            stop_conds_time.append(round(g['time'].mean(), 3))\n",
    "            seq_search_time.append(round(g['time-seq-search'].mean(), 3))\n",
    "        recalls.append(g['recall'].values)\n",
    "        mean_recalls.append(np.mean(g['recall'].values))\n",
    "    return recalls, mean_recalls, stop_conds, stop_conds_time, seq_search_time"
   ]
  },
  {
   "cell_type": "code",
   "execution_count": 11,
   "id": "63d7d3d5-7da8-45d0-817f-b0ecd52d6be4",
   "metadata": {},
   "outputs": [],
   "source": [
    "search_df_d = get_search_df(dyn)\n",
    "recalls_d, mean_recalls_d, stop_conds, stop_conds_time_d, seq_search_time_d = get_recalls(search_df_d, n_leaf_nodes_d)\n",
    "search_df_nd = get_search_df(naive_dyn)\n",
    "recalls_nd, mean_recalls_nd, stop_conds_nd, stop_conds_time_nd, seq_search_time_nd = get_recalls(search_df_nd, n_leaf_nodes_nd)\n",
    "search_df_b = get_search_df(bulk)\n",
    "recalls_b, mean_recalls_b, stop_conds_b, stop_conds_time_b, seq_search_time_b = get_recalls(search_df_b, n_leaf_nodes_b)"
   ]
  },
  {
   "cell_type": "code",
   "execution_count": 12,
   "id": "e52a4ca1-154d-4b0d-8260-1e8a8e3544c6",
   "metadata": {},
   "outputs": [
    {
     "data": {
      "text/plain": [
       "(['0.05%', '0.1%', '0.3%', '0.5%', '0.99%', '2%', '4%', '9%', '19%', '29%'],\n",
       " ['0.08%', '0.25%', '0.5%', '1%', '3%', '5%', '10%', '20%', '30%'],\n",
       " ['0.05%', '0.1%', '0.3%', '0.5%', '1%', '3%', '5%', '10%', '20%', '30%'])"
      ]
     },
     "execution_count": 12,
     "metadata": {},
     "output_type": "execute_result"
    }
   ],
   "source": [
    "stop_conds, stop_conds_nd, stop_conds_b"
   ]
  },
  {
   "cell_type": "code",
   "execution_count": 13,
   "id": "57d5a3e6-dc15-478b-8744-31b8d32ca1ab",
   "metadata": {},
   "outputs": [],
   "source": [
    "stop_conds = ['.05', '.1', '.3', '.5', '1', '3', '5', '10', '20', '30']\n",
    "mask_present_d = [1, 1, 1, 1, 1, 1, 1, 1, 1, 1]\n",
    "mask_present_nd = [0, 1, 1, 1, 1, 1, 1, 1, 1, 1]\n",
    "mask_present_b = [1, 1, 1, 1, 1, 1, 1, 1, 1, 1]"
   ]
  },
  {
   "cell_type": "code",
   "execution_count": 14,
   "id": "dcd8c28b-0b41-4b69-91bd-34453b55b188",
   "metadata": {},
   "outputs": [],
   "source": [
    "import matplotlib\n",
    "font = {'size': 18}\n",
    "\n",
    "matplotlib.rc('font', **font)"
   ]
  },
  {
   "cell_type": "code",
   "execution_count": 15,
   "id": "7f6da9a6-e4de-47a2-b804-bb0dfaec163b",
   "metadata": {},
   "outputs": [],
   "source": [
    "def plot_line_with_boxplots_graph(\n",
    "    data_values_a,\n",
    "    data_values_b,\n",
    "    data_values_c,\n",
    "    mean_data_values_a,\n",
    "    mean_data_values_b,\n",
    "    mean_data_values_c,\n",
    "    present_values_a,\n",
    "    present_values_b,\n",
    "    present_values_c,\n",
    "    ticks,\n",
    "    #ticks_z,\n",
    "    x_label='',\n",
    "    title='',\n",
    "    y_label='',\n",
    "    legend_loc='lower right',\n",
    "    ylim=True,\n",
    "    pad_to_10=False,\n",
    "    legend='lower right'\n",
    "):\n",
    "    \"\"\" Creates time-recall and stopcond-recall plots of connected scatterpoints.\n",
    "\n",
    "    Parameters\n",
    "    -------\n",
    "    save : bool\n",
    "        Should the plot be saved.\n",
    "    filename : str\n",
    "        Filename to save as.\n",
    "    dir_to_save_to : str\n",
    "        Directory to save to.\n",
    "    \"\"\"\n",
    "    fig, ax = plt.subplots(figsize=(7, 4.3))\n",
    "    def set_box_color(bp, color):\n",
    "        for i in ['boxes', 'medians', 'caps', 'whiskers']:\n",
    "            plt.setp(bp[i], color=color)\n",
    "\n",
    "    padding = pad_to_10 if pad_to_10 else 0\n",
    "    colors = ['#D7191C', '#2C7BB6', '#0D8A51']\n",
    "    \n",
    "    for en, (color, data_values, positions, present_values) in enumerate(zip(\n",
    "        colors,\n",
    "        [data_values_a, data_values_b, data_values_c],\n",
    "        [np.array(range(len(stop_conds)))*2.0 - 0.5, np.array(range(len(stop_conds)))*2.0, np.array(range(len(stop_conds)))*2.0 + 0.5],\n",
    "        [present_values_a, present_values_b, present_values_c]\n",
    "    )):\n",
    "        data_value_idx = 0\n",
    "        for pos, present_value in zip(positions, present_values):\n",
    "            if present_value != 0:\n",
    "                data_value = data_values[data_value_idx]\n",
    "                data_value_idx += 1\n",
    "                bpl = plt.boxplot(data_value, positions=[pos], sym='', widths=0.5)\n",
    "                set_box_color(bpl, color)\n",
    "\n",
    "    plt.plot(np.array([i for i in range(len(stop_conds)) if present_values_a[i] != 0])*2.0, mean_data_values_a, marker='o', color=colors[0], label='Static')\n",
    "    plt.plot(np.array([i for i in range(len(stop_conds)) if present_values_b[i] != 0])*2.0, mean_data_values_b, marker='.', color=colors[1], label='Dynamic')\n",
    "    plt.plot(np.array([i for i in range(len(stop_conds)) if present_values_c[i] != 0])*2.0, mean_data_values_c, marker='x', color=colors[2], label='Naive dyn.')\n",
    "    \n",
    "    plt.legend(prop={'size': 8}, loc=legend_loc)\n",
    "    plt.xticks(range(0, len(ticks)* 2, 2), ticks)\n",
    "    plt.xlim(-2, len(ticks)*2)\n",
    "\n",
    "    #plt.xticks(range(0, len(ticks), 1), ticks)\n",
    "    if ylim:\n",
    "        plt.ylim(-0.01, 1.05)\n",
    "    plt.grid(axis='y')\n",
    "    plt.legend(loc=legend)\n",
    "    #plt.legend(loc='upper left')\n",
    "    plt.title(title)\n",
    "    plt.xlabel(x_label)\n",
    "    #ax2 = ax.secondary_xaxis('top')\n",
    "    #ax2.set_xticks(range(0, len(ticks_z)* 2, 2))\n",
    "    #ax2.set_xticklabels(ticks_z)\n",
    "    #ax2.set_xlabel('time -- navigation (s)\\n time -- sequential search of candidate answer (s)')\n",
    "    plt.ylabel(y_label)\n",
    "    return fig"
   ]
  },
  {
   "cell_type": "code",
   "execution_count": 16,
   "id": "6a870ec3-efa0-4475-be33-14da3e231d8b",
   "metadata": {},
   "outputs": [
    {
     "data": {
      "image/png": "[encoded data removed]",
      "text/plain": [
       "<Figure size 504x309.6 with 1 Axes>"
      ]
     },
     "metadata": {
      "needs_background": "light"
     },
     "output_type": "display_data"
    }
   ],
   "source": [
    "fig = plot_line_with_boxplots_graph(\n",
    "    recalls_b,\n",
    "    recalls_d,\n",
    "    recalls_nd,\n",
    "    mean_recalls_b,\n",
    "    mean_recalls_d,\n",
    "    mean_recalls_nd,\n",
    "    mask_present_b,\n",
    "    mask_present_d,\n",
    "    mask_present_nd,\n",
    "    stop_conds,\n",
    "    #joint_stop_conds,\n",
    "    '% of visted leaf nodes',\n",
    "    'SIFT, 1M',#'Search performance -- GloVe, 1M objects, 1000 queries',\n",
    "    y_label='Recall',\n",
    "    pad_to_10=3\n",
    ")"
   ]
  },
  {
   "cell_type": "code",
   "execution_count": 17,
   "id": "d23b78e9-38ad-44d4-942c-84d1ecf7de8e",
   "metadata": {},
   "outputs": [],
   "source": [
    "fig.savefig('../figures/search-sift-leaf-1M.pdf', bbox_inches='tight', format='pdf')"
   ]
  },
  {
   "cell_type": "code",
   "execution_count": 18,
   "id": "e776ab7e-7023-4812-a999-03a78d9a2051",
   "metadata": {},
   "outputs": [],
   "source": [
    "search_df_d = get_search_df(dyn, type_s='leaf-absolute')\n",
    "recalls_d, mean_recalls_d, _, stop_conds_time_d, seq_search_time_d = get_recalls(search_df_d, n_leaf_nodes_d)\n",
    "search_df_nd = get_search_df(naive_dyn, type_s='leaf-absolute')\n",
    "recalls_nd, mean_recalls_nd, _, stop_conds_time_nd, seq_search_time_nd = get_recalls(search_df_nd, n_leaf_nodes_nd)\n",
    "search_df_b = get_search_df(bulk, type_s='leaf-absolute')\n",
    "recalls_b, mean_recalls_b, _, stop_conds_time_b, seq_search_time_b = get_recalls(search_df_b, n_leaf_nodes_b)"
   ]
  },
  {
   "cell_type": "code",
   "execution_count": 19,
   "id": "c433dade-6a9a-46ca-ac64-0dffb6fb8640",
   "metadata": {},
   "outputs": [
    {
     "data": {
      "text/plain": [
       "leaf    10000\n",
       "Name: sc-type, dtype: int64"
      ]
     },
     "execution_count": 19,
     "metadata": {},
     "output_type": "execute_result"
    }
   ],
   "source": [
    "search_df_d['sc-type'].value_counts()"
   ]
  },
  {
   "cell_type": "code",
   "execution_count": 20,
   "id": "2e01438a-b190-44d8-844f-bbf07ece213e",
   "metadata": {},
   "outputs": [
    {
     "data": {
      "text/plain": [
       "(0.00340383095741272,\n",
       " 0.003108353877067566,\n",
       " 0.001720022439956665,\n",
       " 0.0016380548477172852)"
      ]
     },
     "execution_count": 20,
     "metadata": {},
     "output_type": "execute_result"
    }
   ],
   "source": [
    "search_df_b['time'].mean(), search_df_nd['time'].mean(), search_df_b[search_df_b['sc'] == 1]['time'].mean(), search_df_nd[search_df_nd['sc'] == 1]['time'].mean()"
   ]
  },
  {
   "cell_type": "code",
   "execution_count": 21,
   "id": "dc7a00b5-b91c-4ee1-9217-7cbb6af9ca0d",
   "metadata": {},
   "outputs": [],
   "source": [
    "def get_n_parent_nodes_accessed(pq):\n",
    "    parents = []\n",
    "    for leaf_node in eval(pq):\n",
    "        parents.append(leaf_node[:-1])\n",
    "    return len(set(parents))"
   ]
  },
  {
   "cell_type": "code",
   "execution_count": 22,
   "id": "1667090c-a666-4ae8-96d0-2d29f6ae7d4a",
   "metadata": {},
   "outputs": [],
   "source": [
    "search_df_b['n-parents-accessed'] = search_df_b['query-predicted-pos'].apply(lambda x: get_n_parent_nodes_accessed(x))\n",
    "search_df_nd['n-parents-accessed'] = search_df_nd['query-predicted-pos'].apply(lambda x: get_n_parent_nodes_accessed(x))\n",
    "search_df_d['n-parents-accessed'] = search_df_d['query-predicted-pos'].apply(lambda x: get_n_parent_nodes_accessed(x))"
   ]
  },
  {
   "cell_type": "code",
   "execution_count": 23,
   "id": "ad0400ed-8966-472a-8bed-7c60192abfcd",
   "metadata": {},
   "outputs": [
    {
     "data": {
      "text/plain": [
       "(3.1329, 3.4224, 4.2325)"
      ]
     },
     "execution_count": 23,
     "metadata": {},
     "output_type": "execute_result"
    }
   ],
   "source": [
    "search_df_b['n-parents-accessed'].mean(), search_df_nd['n-parents-accessed'].mean(), search_df_d['n-parents-accessed'].mean()"
   ]
  },
  {
   "cell_type": "code",
   "execution_count": 24,
   "id": "90202a0b-9446-46cf-9813-9fbd62a61e65",
   "metadata": {},
   "outputs": [],
   "source": [
    "stop_conds = sorted(search_df_b['sc'].unique())"
   ]
  },
  {
   "cell_type": "code",
   "execution_count": 25,
   "id": "0f4c9e56-ea76-48ef-89cb-030aec343509",
   "metadata": {},
   "outputs": [],
   "source": [
    "present = [1 for i in range(len(stop_conds))]"
   ]
  },
  {
   "cell_type": "code",
   "execution_count": 26,
   "id": "0c195b52-7f0b-4a1b-b651-6f87d865a903",
   "metadata": {},
   "outputs": [
    {
     "data": {
      "image/png": "[encoded data removed]",
      "text/plain": [
       "<Figure size 504x309.6 with 1 Axes>"
      ]
     },
     "metadata": {
      "needs_background": "light"
     },
     "output_type": "display_data"
    }
   ],
   "source": [
    "fig = plot_line_with_boxplots_graph(\n",
    "    recalls_b,\n",
    "    recalls_d,\n",
    "    recalls_nd,\n",
    "    mean_recalls_b,\n",
    "    mean_recalls_d,\n",
    "    mean_recalls_nd,\n",
    "    present,\n",
    "    present,\n",
    "    present,\n",
    "    stop_conds,\n",
    "    #joint_stop_conds,\n",
    "    '# of visted leaf nodes',\n",
    "    'SIFT, 1M', #'Search performance -- GloVe, 1M objects, 1000 queries',\n",
    "    y_label='Recall'\n",
    ")"
   ]
  },
  {
   "cell_type": "code",
   "execution_count": 27,
   "id": "b0e2274c-d732-4045-b3f9-3d6de160c259",
   "metadata": {},
   "outputs": [],
   "source": [
    "fig.savefig('../figures/search-sift-leaf-absolute-1M.pdf', bbox_inches='tight', format='pdf')"
   ]
  },
  {
   "cell_type": "code",
   "execution_count": 28,
   "id": "abfd2e67-8ada-4d8b-adf6-8b76c9ec6990",
   "metadata": {},
   "outputs": [
    {
     "data": {
      "text/plain": [
       "([0.002, 0.002, 0.003, 0.003, 0.003, 0.004, 0.004, 0.004, 0.004, 0.005],\n",
       " [0.002, 0.002, 0.003, 0.005, 0.006, 0.007, 0.008, 0.009, 0.01, 0.012],\n",
       " [0.002, 0.002, 0.002, 0.003, 0.003, 0.003, 0.004, 0.004, 0.004, 0.004],\n",
       " [0.005, 0.011, 0.018, 0.033, 0.043, 0.049, 0.066, 0.075, 0.082, 0.097])"
      ]
     },
     "execution_count": 28,
     "metadata": {},
     "output_type": "execute_result"
    }
   ],
   "source": [
    "stop_conds_time_b, seq_search_time_b, stop_conds_time_nd, seq_search_time_nd"
   ]
  },
  {
   "cell_type": "code",
   "execution_count": 29,
   "id": "0d81d80f-76bf-4726-9293-5ac4b402322e",
   "metadata": {},
   "outputs": [],
   "source": [
    "def get_time(search_df, n_leaf_nodes):\n",
    "    time_mean = []\n",
    "    time = []\n",
    "    seq_search_time_mean = []\n",
    "    seq_search_time = []\n",
    "    stop_conds = []\n",
    "    n_queries = 0\n",
    "\n",
    "    for n, g in search_df.groupby(['sc']):\n",
    "        n_queries = g['recall'].values.shape[0]\n",
    "        if search_type == 'leaf':\n",
    "            r = (n/n_leaf_nodes)*100\n",
    "            stop_conds.append(\n",
    "                f'{round(r, 2) if r < 1 else int(r)}%'\n",
    "            )\n",
    "        time_mean.append(g['time'].mean())\n",
    "        time.append(g['time'].values)\n",
    "        seq_search_time_mean.append(g['time-seq-search'].mean())\n",
    "        seq_search_time.append(g['time-seq-search'].values)\n",
    "    return time, time_mean, seq_search_time, seq_search_time_mean, stop_conds"
   ]
  },
  {
   "cell_type": "code",
   "execution_count": 30,
   "id": "986cd9ad-e551-4f33-9e15-7239bd44b8e7",
   "metadata": {},
   "outputs": [],
   "source": [
    "search_df_d = get_search_df(dyn, type_s='leaf-absolute')\n",
    "recalls_d, mean_recalls_d, _, stop_conds_time_d, seq_search_time_d = get_recalls(search_df_d, n_leaf_nodes_d)\n",
    "search_df_nd = get_search_df(naive_dyn, type_s='leaf-absolute')\n",
    "recalls_nd, mean_recalls_nd, _, stop_conds_time_nd, seq_search_time_nd = get_recalls(search_df_nd, n_leaf_nodes_nd)\n",
    "search_df_b = get_search_df(bulk, type_s='leaf-absolute')\n",
    "recalls_b, mean_recalls_b, _, stop_conds_time_b, seq_search_time_b = get_recalls(search_df_b, n_leaf_nodes_b)"
   ]
  },
  {
   "cell_type": "code",
   "execution_count": 31,
   "id": "dd1cbda6-661b-4870-b6f8-a0791842f713",
   "metadata": {},
   "outputs": [],
   "source": [
    "time_d, time_mean_d, seq_time_d, seq_time_mean_d, _ = get_time(search_df_d, n_leaf_nodes_d)\n",
    "time_b, time_mean_b, seq_time_b, seq_time_mean_b, _ = get_time(search_df_b, n_leaf_nodes_b)\n",
    "time_nd, time_mean_nd, seq_time_nd, seq_time_mean_nd, _ = get_time(search_df_nd, n_leaf_nodes_nd)"
   ]
  },
  {
   "cell_type": "code",
   "execution_count": 32,
   "id": "7119f2a3-6450-428b-945a-d13186cad183",
   "metadata": {},
   "outputs": [
    {
     "data": {
      "text/plain": [
       "10"
      ]
     },
     "execution_count": 32,
     "metadata": {},
     "output_type": "execute_result"
    }
   ],
   "source": [
    "len(time_mean_nd)"
   ]
  },
  {
   "cell_type": "code",
   "execution_count": 33,
   "id": "4bedf06f-3883-4ff9-b466-3edc64fbf276",
   "metadata": {},
   "outputs": [
    {
     "data": {
      "text/plain": [
       "[1, 3, 5, 10, 13, 15, 20, 23, 25, 30]"
      ]
     },
     "execution_count": 33,
     "metadata": {},
     "output_type": "execute_result"
    }
   ],
   "source": [
    "stop_conds"
   ]
  },
  {
   "cell_type": "code",
   "execution_count": 34,
   "id": "8481cf43-cf3b-4e10-80de-32fa2b422c64",
   "metadata": {},
   "outputs": [
    {
     "data": {
      "text/plain": [
       "(12000, 1200)"
      ]
     },
     "execution_count": 34,
     "metadata": {},
     "output_type": "execute_result"
    }
   ],
   "source": [
    "n_leaf_nodes_b, n_leaf_nodes_nd"
   ]
  },
  {
   "cell_type": "code",
   "execution_count": 35,
   "id": "8a81c830-fa0f-4d25-8fd2-55dddd2050a7",
   "metadata": {},
   "outputs": [
    {
     "data": {
      "text/plain": [
       "0    0.002257\n",
       "1    0.001718\n",
       "2    0.001658\n",
       "3    0.001648\n",
       "4    0.001645\n",
       "Name: time, dtype: float64"
      ]
     },
     "execution_count": 35,
     "metadata": {},
     "output_type": "execute_result"
    }
   ],
   "source": [
    "search_df_b['time'].head()"
   ]
  },
  {
   "cell_type": "code",
   "execution_count": 36,
   "id": "b2fc72ed-2962-4189-bedd-2678837660ac",
   "metadata": {},
   "outputs": [
    {
     "data": {
      "text/plain": [
       "0    0.003383\n",
       "1    0.003989\n",
       "2    0.003406\n",
       "3    0.002856\n",
       "4    0.003402\n",
       "Name: time, dtype: float64"
      ]
     },
     "execution_count": 36,
     "metadata": {},
     "output_type": "execute_result"
    }
   ],
   "source": [
    "search_df_nd['time'].head()"
   ]
  },
  {
   "cell_type": "code",
   "execution_count": 37,
   "id": "2495ae05-67a3-46dc-9d6a-6b1fa94e602d",
   "metadata": {},
   "outputs": [
    {
     "data": {
      "image/png": "[encoded data removed]",
      "text/plain": [
       "<Figure size 504x309.6 with 1 Axes>"
      ]
     },
     "metadata": {
      "needs_background": "light"
     },
     "output_type": "display_data"
    }
   ],
   "source": [
    "fig = plot_line_with_boxplots_graph(\n",
    "    time_b,\n",
    "    time_d,\n",
    "    time_nd,\n",
    "    time_mean_b,\n",
    "    time_mean_d,\n",
    "    time_mean_nd,\n",
    "    present,\n",
    "    present,\n",
    "    present,\n",
    "    stop_conds,\n",
    "    #joint_stop_conds,\n",
    "    '# of visted leaf nodes',\n",
    "    'SIFT, 1M',\n",
    "    ylim=False,\n",
    "    y_label='Navigation time (s)',\n",
    "    legend='upper left'\n",
    ")"
   ]
  },
  {
   "cell_type": "code",
   "execution_count": 38,
   "id": "04784b55-c4fd-436b-a57a-05fcac79b4e6",
   "metadata": {},
   "outputs": [],
   "source": [
    "fig.savefig('../figures/search-sift-leaf-absolute-navigation-costs-1M.pdf', bbox_inches='tight', format='pdf')"
   ]
  },
  {
   "cell_type": "code",
   "execution_count": 39,
   "id": "c7663a10-d769-4297-829b-7dbb458679b7",
   "metadata": {},
   "outputs": [
    {
     "data": {
      "image/png": "[encoded data removed]",
      "text/plain": [
       "<Figure size 504x309.6 with 1 Axes>"
      ]
     },
     "metadata": {
      "needs_background": "light"
     },
     "output_type": "display_data"
    }
   ],
   "source": [
    "fig = plot_line_with_boxplots_graph(\n",
    "    seq_time_b,\n",
    "    seq_time_d,\n",
    "    seq_time_nd,\n",
    "    seq_time_mean_b,\n",
    "    seq_time_mean_d,\n",
    "    seq_time_mean_nd,\n",
    "    present,\n",
    "    present,\n",
    "    present,\n",
    "    stop_conds,\n",
    "    #joint_stop_conds,\n",
    "    '# of visted leaf nodes',\n",
    "    'SIFT, 1M',\n",
    "    ylim=False,\n",
    "    y_label='Filtering time (s)',\n",
    "    legend='upper left'\n",
    ")"
   ]
  },
  {
   "cell_type": "code",
   "execution_count": 40,
   "id": "0e18f70b-0ce2-4559-b229-d31555354415",
   "metadata": {},
   "outputs": [],
   "source": [
    "fig.savefig('../figures/search-sift-leaf-absolute-filtering-costs-1M.pdf', bbox_inches='tight', format='pdf')"
   ]
  },
  {
   "cell_type": "code",
   "execution_count": 42,
   "id": "de53c29c-0b0e-44ea-8aee-ed0b56f298b6",
   "metadata": {},
   "outputs": [
    {
     "data": {
      "text/plain": [
       "(0.011831639289855957, 0.09733617091178894)"
      ]
     },
     "execution_count": 42,
     "metadata": {},
     "output_type": "execute_result"
    }
   ],
   "source": [
    "seq_time_mean_b[-1], seq_time_mean_nd[-1]"
   ]
  }
 ],
 "metadata": {
  "kernelspec": {
   "display_name": "Python 3",
   "language": "python",
   "name": "python3"
  },
  "language_info": {
   "codemirror_mode": {
    "name": "ipython",
    "version": 3
   },
   "file_extension": ".py",
   "mimetype": "text/x-python",
   "name": "python",
   "nbconvert_exporter": "python",
   "pygments_lexer": "ipython3",
   "version": "3.6.2"
  }
 },
 "nbformat": 4,
 "nbformat_minor": 5
}
