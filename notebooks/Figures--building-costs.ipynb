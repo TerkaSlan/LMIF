{
 "cells": [
  {
   "cell_type": "code",
   "execution_count": 1,
   "id": "b0cd1052-ec37-402b-96d2-43c5247ce278",
   "metadata": {},
   "outputs": [],
   "source": [
    "%reload_ext autoreload\n",
    "%autoreload 2"
   ]
  },
  {
   "cell_type": "code",
   "execution_count": 2,
   "id": "dfdc47f6-a622-43a6-80e8-2bfae5e3190c",
   "metadata": {},
   "outputs": [],
   "source": [
    "from os import listdir\n",
    "import pandas as pd\n",
    "import numpy as np"
   ]
  },
  {
   "cell_type": "code",
   "execution_count": 3,
   "id": "5aa5d0d7-abd2-4799-922d-035b1a8d93b6",
   "metadata": {},
   "outputs": [],
   "source": [
    "from dlmi.visualization import *\n",
    "from dlmi.utils import get_size_of_file"
   ]
  },
  {
   "cell_type": "code",
   "execution_count": null,
   "id": "9b98f692-5a95-42d5-a116-0696b8542d97",
   "metadata": {},
   "outputs": [],
   "source": []
  },
  {
   "cell_type": "code",
   "execution_count": 4,
   "id": "089838b3-8cab-4ed9-b7d1-4684d3b8b41c",
   "metadata": {},
   "outputs": [],
   "source": [
    "colors = ['#D7191C', '#2C7BB6', '#0D8A51']"
   ]
  },
  {
   "cell_type": "markdown",
   "id": "c8e5ae18-5815-4009-b4cf-eeb8b1e1d237",
   "metadata": {},
   "source": [
    "# Graph 1 -- SIFT -- 1M"
   ]
  },
  {
   "cell_type": "code",
   "execution_count": 44,
   "id": "dd9865b7-b2cd-4905-8eac-c016499b9db7",
   "metadata": {},
   "outputs": [],
   "source": [
    "sift_dyn_base = '../experiments/2022-11-23--19-44-31-13364399-SIFT-1000000-adan6.grid.cesnet.cz'\n",
    "sift_bulk_1k = '../experiments/2022-12-07--20-05-52-13604823-SIFT-bulk-MLP-10000-adan34.grid.cesnet.cz'\n",
    "sift_bulk_10k = '../experiments/2022-12-08--08-35-39-13606979-SIFT-bulk-MLP-100000-adan31.grid.cesnet.cz'\n",
    "sift_bulk_100k = '../experiments/2022-12-08--20-18-43-13609991-SIFT-bulk-MLP-1000000-adan5.grid.cesnet.cz'\n",
    "sift_bulk_1M = '../experiments/2022-12-30--18-38-41-13825624-SIFT-bulk-MLP-1000000-adan6.grid.cesnet.cz'"
   ]
  },
  {
   "cell_type": "code",
   "execution_count": 45,
   "id": "f943e677-de97-47ff-bd9e-394cfff4eee0",
   "metadata": {},
   "outputs": [],
   "source": [
    "sift_naive = '../experiments/2022-12-31--11-47-28-13827757-SIFT-bulk-MLP-100000-adan6.grid.cesnet.cz'\n",
    "build_1k = pd.read_csv(f'{sift_bulk_1k}/build/csv/build-0.csv')"
   ]
  },
  {
   "cell_type": "code",
   "execution_count": 46,
   "id": "32f5573b-0c1d-4ff7-9e6a-3eeaa156feb3",
   "metadata": {},
   "outputs": [],
   "source": [
    "build_dyn = pd.read_csv(f'{sift_dyn_base}/build/csv/build-36.csv')"
   ]
  },
  {
   "cell_type": "code",
   "execution_count": 47,
   "id": "45a294c2-9869-4c90-8286-5eb4d0de752e",
   "metadata": {},
   "outputs": [],
   "source": [
    "build_1k = pd.read_csv(f'{sift_bulk_1k}/build/csv/build-0.csv')\n",
    "build_10k = pd.read_csv(f'{sift_bulk_10k}/build/csv/build-0.csv')\n",
    "build_100k = pd.read_csv(f'{sift_bulk_100k}/build/csv/build-0.csv')\n",
    "build_1M = pd.read_csv(f'{sift_bulk_1M}/build/csv/build-100.csv')"
   ]
  },
  {
   "cell_type": "code",
   "execution_count": 54,
   "id": "beaea30a-e3b5-4fc4-b57d-ce7a4a4063cc",
   "metadata": {},
   "outputs": [],
   "source": [
    "def extract_dynamic_info(info_df):\n",
    "    x = info_df[info_df['op'] == 'REORGANIZATION']['#-objects']\n",
    "    x = [str(x_)[:-3] + 'k' if str(x_).endswith('000') else x_ for x_ in x]\n",
    "    #x = [f'0.{str(x_)[0]}M' if str(x_).endswith('00') else x_ for x_ in x]\n",
    "    y1 = info_df[info_df['op'] == 'REORGANIZATION']['time-taken'].cumsum()\n",
    "    y2 = info_df[info_df['op'] == 'REORGANIZATION']['size']\n",
    "    \n",
    "    #target = [100, '1k', '10k', '100k', '1000k']\n",
    "    x = list(info_df['#-objects'].unique())\n",
    "    #target_idx = [x.index(i) for i in target]\n",
    "    #x = np.array(x)[target_idx]\n",
    "    #x[-1] = '1M'\n",
    "    #y1 = np.array(y1)[x]\n",
    "    #y2 = np.array(y2)[x] / 1000\n",
    "    \n",
    "    return x, y1, y2"
   ]
  },
  {
   "cell_type": "code",
   "execution_count": 55,
   "id": "9c9514b2-e5ef-4441-b658-3c87cb7647ce",
   "metadata": {},
   "outputs": [],
   "source": [
    "x, y1, y2 = extract_dynamic_info(build_dyn)"
   ]
  },
  {
   "cell_type": "code",
   "execution_count": 56,
   "id": "8876f07e-0bfe-4c55-9d05-5a43a773b3e7",
   "metadata": {},
   "outputs": [
    {
     "data": {
      "text/plain": [
       "[100,\n",
       " 200,\n",
       " 300,\n",
       " 400,\n",
       " 500,\n",
       " 600,\n",
       " 700,\n",
       " 800,\n",
       " 900,\n",
       " 1000,\n",
       " 2000,\n",
       " 3000,\n",
       " 4000,\n",
       " 5000,\n",
       " 6000,\n",
       " 7000,\n",
       " 8000,\n",
       " 9000,\n",
       " 10000,\n",
       " 20000,\n",
       " 30000,\n",
       " 40000,\n",
       " 50000,\n",
       " 60000,\n",
       " 70000,\n",
       " 80000,\n",
       " 90000,\n",
       " 100000,\n",
       " 200000,\n",
       " 300000,\n",
       " 400000,\n",
       " 500000,\n",
       " 600000,\n",
       " 700000,\n",
       " 800000,\n",
       " 900000,\n",
       " 1000000]"
      ]
     },
     "execution_count": 56,
     "metadata": {},
     "output_type": "execute_result"
    }
   ],
   "source": [
    "x"
   ]
  },
  {
   "cell_type": "code",
   "execution_count": 11,
   "id": "a4e8d6f5-fde4-43e8-8d8b-3d76677143f4",
   "metadata": {},
   "outputs": [],
   "source": [
    "import matplotlib\n",
    "font = {'size': 18}\n",
    "\n",
    "matplotlib.rc('font', **font)"
   ]
  },
  {
   "cell_type": "code",
   "execution_count": 12,
   "id": "45f18310-c76c-499c-a515-e93b1a654703",
   "metadata": {},
   "outputs": [],
   "source": [
    "def create_build_times_plot(axs, x, y1, title):\n",
    "    colors = ['#D7191C', '#2C7BB6', '#0D8A51']\n",
    "    axs.bar([i for i in range(len(x))], y1.values, width=0.8, label='Dynamic', color=colors[1], alpha=0.5)\n",
    "    axs.set_xticks([i for i in range(len(x)) if i%2 == 0])\n",
    "    x = [str(x_)[:-3] + 'k' if str(x_).endswith('000') else x_ for x_ in x]\n",
    "    if len(x) == 37:\n",
    "        x[-1] = '1M'\n",
    "    elif len(x) == 41:\n",
    "        x[-1] = '5M'; x[-2] = '4M'; x[-3] = '3M'; x[-4] = '2M'; x[-5] = '1M'\n",
    "    axs.set_xticklabels([x_ for i,x_ in enumerate(x) if i%2 == 0])\n",
    "    axs.grid(b=True, which='major', color='gray', linestyle='-', linewidth=0.2)\n",
    "    axs.set_title(title)\n",
    "    axs.set_xlabel('# objects')\n",
    "    axs.set_ylabel('build time (s)')\n",
    "    axs.set_yscale('log')\n",
    "    axs.set_xlim(xmin=-1, xmax=len(x))\n",
    "    return axs"
   ]
  },
  {
   "cell_type": "code",
   "execution_count": 13,
   "id": "09c4ff20-a2c6-4cc6-94e6-0172d0fe6f85",
   "metadata": {},
   "outputs": [
    {
     "data": {
      "image/png": "[encoded data removed]",
      "text/plain": [
       "<Figure size 1080x216 with 1 Axes>"
      ]
     },
     "metadata": {
      "needs_background": "light"
     },
     "output_type": "display_data"
    }
   ],
   "source": [
    "fig, axs = plt.subplots(figsize=(15, 3), ncols=1, nrows=1)\n",
    "axs = create_build_times_plot(axs, x, y1, 'Build costs (SIFT)')"
   ]
  },
  {
   "cell_type": "code",
   "execution_count": 14,
   "id": "8e6d8b33-f1d4-4c04-b59e-24c48b7bdb1e",
   "metadata": {},
   "outputs": [],
   "source": [
    "mapping = {\n",
    "    1000: 9,\n",
    "    10_000: 18,\n",
    "    100_000: 27,\n",
    "    1_000_000: 36\n",
    "}"
   ]
  },
  {
   "cell_type": "code",
   "execution_count": 15,
   "id": "0228a9a0-b27d-4264-91e9-499df9f5fd66",
   "metadata": {},
   "outputs": [
    {
     "data": {
      "text/plain": [
       "<BarContainer object of 4 artists>"
      ]
     },
     "execution_count": 15,
     "metadata": {},
     "output_type": "execute_result"
    }
   ],
   "source": [
    "axs.bar(\n",
    "    list(mapping.values()),\n",
    "    [build_1k['time-taken'].sum(), build_10k['time-taken'].sum(), build_100k['time-taken'].sum(), build_1M['time-taken'].sum()],\n",
    "    label='Static',\n",
    "    color=colors[0],\n",
    "    alpha=0.5\n",
    ")"
   ]
  },
  {
   "cell_type": "code",
   "execution_count": 16,
   "id": "cca03581-bd03-43f9-947e-b666b243cb03",
   "metadata": {},
   "outputs": [
    {
     "data": {
      "text/plain": [
       "<BarContainer object of 3 artists>"
      ]
     },
     "execution_count": 16,
     "metadata": {},
     "output_type": "execute_result"
    }
   ],
   "source": [
    "axs.bar(\n",
    "    list(mapping.values())[1:],\n",
    "    [build_1k['time-taken'].sum(), build_10k['time-taken'].sum(), build_100k['time-taken'].sum()],\n",
    "    label='Naive ins.',\n",
    "    color=colors[2],\n",
    "    alpha=0.5\n",
    ")"
   ]
  },
  {
   "cell_type": "code",
   "execution_count": 17,
   "id": "1894f3d2-10cd-41d8-a776-283f1c2f9e4e",
   "metadata": {},
   "outputs": [
    {
     "data": {
      "text/plain": [
       "<matplotlib.legend.Legend at 0x14f667d782b0>"
      ]
     },
     "execution_count": 17,
     "metadata": {},
     "output_type": "execute_result"
    }
   ],
   "source": [
    "axs.legend()"
   ]
  },
  {
   "cell_type": "code",
   "execution_count": 18,
   "id": "a9b38e70-b0fb-4842-9d00-93b111dfaded",
   "metadata": {},
   "outputs": [
    {
     "data": {
      "image/png": "[encoded data removed]",
      "text/plain": [
       "<Figure size 1080x216 with 1 Axes>"
      ]
     },
     "execution_count": 18,
     "metadata": {},
     "output_type": "execute_result"
    }
   ],
   "source": [
    "fig"
   ]
  },
  {
   "cell_type": "code",
   "execution_count": 19,
   "id": "5c43fa4f-a297-4c1f-9e9d-6be6a83cc356",
   "metadata": {},
   "outputs": [],
   "source": [
    "fig.savefig('../figures/building-costs-sift.pdf', format='pdf', bbox_inches='tight')"
   ]
  },
  {
   "cell_type": "code",
   "execution_count": 20,
   "id": "135f4365-3b61-4d83-80f6-c01b9d95a3aa",
   "metadata": {},
   "outputs": [],
   "source": [
    "fig.savefig('../figures/building-costs.png')"
   ]
  },
  {
   "cell_type": "markdown",
   "id": "94300078-d537-4dce-82bf-fa7e05f3fd2b",
   "metadata": {},
   "source": [
    "# Graph 2 -- Glove -- 10k -- step 18"
   ]
  },
  {
   "cell_type": "code",
   "execution_count": 21,
   "id": "b098fda4-9ec6-4752-8ae4-fba62486aef9",
   "metadata": {},
   "outputs": [],
   "source": [
    "glove_dyn_base = '../experiments/2022-12-06--13-02-27-13588498-GLOVE-1183514-adan4.grid.cesnet.cz'\n",
    "glove_bulk_1k = '../experiments/2022-12-07--20-05-18-13604824-GLOVE-bulk-MLP-10000-adan57.grid.cesnet.cz'\n",
    "glove_bulk_10k = '../experiments/2022-12-08--08-33-01-13606977-GLOVE-bulk-MLP-100000-adan32.grid.cesnet.cz'\n",
    "glove_bulk_100k = '../experiments/2022-12-30--19-33-00-13825625-GLOVE-bulk-MLP-100000-adan4.grid.cesnet.cz'"
   ]
  },
  {
   "cell_type": "code",
   "execution_count": 22,
   "id": "9513334e-f8fe-4070-82e5-6e39b5865f53",
   "metadata": {},
   "outputs": [],
   "source": [
    "build_dyn = pd.read_csv(f'{glove_dyn_base}/build/csv/build-36.csv')"
   ]
  },
  {
   "cell_type": "code",
   "execution_count": 23,
   "id": "fdf39b2b-4b04-4c03-937d-f1b090eb1b9e",
   "metadata": {},
   "outputs": [
    {
     "data": {
      "text/plain": [
       "(3.155341148376465, 41.50984477996826)"
      ]
     },
     "execution_count": 23,
     "metadata": {},
     "output_type": "execute_result"
    }
   ],
   "source": [
    "build_1k = pd.read_csv(f'{glove_bulk_1k}/build/csv/build-0.csv')\n",
    "build_10k = pd.read_csv(f'{glove_bulk_10k}/build/csv/build-0.csv')\n",
    "build_100k = pd.read_csv(f'{glove_bulk_100k}/build/csv/build-100.csv')\n",
    "build_1k['time-taken'].sum(), build_10k['time-taken'].sum()"
   ]
  },
  {
   "cell_type": "code",
   "execution_count": 24,
   "id": "23804aa8-0c0c-4586-9eda-9d17f7869e31",
   "metadata": {},
   "outputs": [],
   "source": [
    "x, y1, y2 = extract_dynamic_info(build_dyn)"
   ]
  },
  {
   "cell_type": "code",
   "execution_count": 25,
   "id": "3d1e2fe8-bf92-4f31-b841-38a0413c5c5f",
   "metadata": {},
   "outputs": [
    {
     "data": {
      "image/png": "[encoded data removed]",
      "text/plain": [
       "<Figure size 1080x216 with 1 Axes>"
      ]
     },
     "metadata": {
      "needs_background": "light"
     },
     "output_type": "display_data"
    }
   ],
   "source": [
    "fig, axs = plt.subplots(figsize=(15, 3), ncols=1, nrows=1)\n",
    "axs = create_build_times_plot(axs, x, y1, 'GloVe')"
   ]
  },
  {
   "cell_type": "code",
   "execution_count": 26,
   "id": "5997722c-fc19-4c6d-8e35-64de14953d9a",
   "metadata": {},
   "outputs": [],
   "source": [
    "mapping = {\n",
    "    1000: 9,\n",
    "    10_000: 18,\n",
    "    100_000: 27\n",
    "}"
   ]
  },
  {
   "cell_type": "code",
   "execution_count": 27,
   "id": "1251d62d-a36a-4254-966c-cf6069f0d7b5",
   "metadata": {},
   "outputs": [
    {
     "data": {
      "text/plain": [
       "<BarContainer object of 3 artists>"
      ]
     },
     "execution_count": 27,
     "metadata": {},
     "output_type": "execute_result"
    }
   ],
   "source": [
    "axs.bar(\n",
    "    list(mapping.values()),\n",
    "    [build_1k['time-taken'].sum(), build_10k['time-taken'].sum(), build_100k['time-taken'].sum()],\n",
    "    label='Static',\n",
    "    color=colors[0],\n",
    "    alpha=0.5\n",
    ")"
   ]
  },
  {
   "cell_type": "code",
   "execution_count": 28,
   "id": "3ce9c232-4f98-4f90-bc2d-44c96b4eba73",
   "metadata": {},
   "outputs": [
    {
     "data": {
      "text/plain": [
       "<BarContainer object of 2 artists>"
      ]
     },
     "execution_count": 28,
     "metadata": {},
     "output_type": "execute_result"
    }
   ],
   "source": [
    "axs.bar(\n",
    "    list(mapping.values())[1:],\n",
    "    [build_1k['time-taken'].sum(), build_10k['time-taken'].sum()],\n",
    "    label='Naive ins.',\n",
    "    color=colors[2],\n",
    "    alpha=0.5\n",
    ")"
   ]
  },
  {
   "cell_type": "code",
   "execution_count": 29,
   "id": "71c21503-dcdc-44eb-8184-250b7f0e2d9f",
   "metadata": {},
   "outputs": [
    {
     "data": {
      "text/plain": [
       "<matplotlib.legend.Legend at 0x14f6678fd828>"
      ]
     },
     "execution_count": 29,
     "metadata": {},
     "output_type": "execute_result"
    }
   ],
   "source": [
    "axs.legend()"
   ]
  },
  {
   "cell_type": "code",
   "execution_count": 30,
   "id": "be6cb467-878e-4d30-b975-5d8389c2a475",
   "metadata": {},
   "outputs": [
    {
     "data": {
      "image/png": "[encoded data removed]",
      "text/plain": [
       "<Figure size 1080x216 with 1 Axes>"
      ]
     },
     "execution_count": 30,
     "metadata": {},
     "output_type": "execute_result"
    }
   ],
   "source": [
    "fig"
   ]
  },
  {
   "cell_type": "code",
   "execution_count": 31,
   "id": "35852cd4-513f-4411-b6f3-adc26bbbae46",
   "metadata": {},
   "outputs": [],
   "source": [
    "fig.savefig('../figures/building-costs-glove.pdf', format='pdf', bbox_inches='tight')"
   ]
  },
  {
   "cell_type": "code",
   "execution_count": 32,
   "id": "fc339641-493d-49f5-9aed-004f2270dbe2",
   "metadata": {},
   "outputs": [],
   "source": [
    "fig.savefig('../figures/building-costs-glove.png')"
   ]
  },
  {
   "cell_type": "markdown",
   "id": "f04c8834-4e0b-4be2-a6c8-394f0f1b5410",
   "metadata": {},
   "source": [
    "# Graph 3 -- Deep1b -- 10k -- step 18"
   ]
  },
  {
   "cell_type": "code",
   "execution_count": 33,
   "id": "c79dc1c9-8148-4cfc-8afb-170946610622",
   "metadata": {},
   "outputs": [],
   "source": [
    "deep1b_dyn_base = '../experiments/2022-12-06--13-17-32-13588502-DEEP1B-9990000-adan8.grid.cesnet.cz'\n",
    "deep1b_bulk_1k = '../experiments/2022-12-08--14-29-31-13609995-DEEP1B-bulk-MLP-10000-adan47.grid.cesnet.cz'\n",
    "deep1b_bulk_10k = '../experiments/2022-12-08--08-46-31-13606976-DEEP1B-bulk-MLP-100000-adan7.grid.cesnet.cz'\n",
    "deep1b_bulk_100k = '../experiments/2022-12-30--18-53-48-13825626-DEEP1B-bulk-MLP-100000-adan8.grid.cesnet.cz'"
   ]
  },
  {
   "cell_type": "code",
   "execution_count": 34,
   "id": "35bb0055-167a-4df8-95ed-4f2f11391e66",
   "metadata": {},
   "outputs": [
    {
     "data": {
      "text/html": [
       "<div>\n",
       "<style scoped>\n",
       "    .dataframe tbody tr th:only-of-type {\n",
       "        vertical-align: middle;\n",
       "    }\n",
       "\n",
       "    .dataframe tbody tr th {\n",
       "        vertical-align: top;\n",
       "    }\n",
       "\n",
       "    .dataframe thead th {\n",
       "        text-align: right;\n",
       "    }\n",
       "</style>\n",
       "<table border=\"1\" class=\"dataframe\">\n",
       "  <thead>\n",
       "    <tr style=\"text-align: right;\">\n",
       "      <th></th>\n",
       "      <th>op</th>\n",
       "      <th>time-taken</th>\n",
       "      <th>size</th>\n",
       "      <th>#-objects</th>\n",
       "    </tr>\n",
       "  </thead>\n",
       "  <tbody>\n",
       "    <tr>\n",
       "      <th>34308</th>\n",
       "      <td>RETRAIN-COLL-(0, 97, 44, 85)-6</td>\n",
       "      <td>0.068502</td>\n",
       "      <td>NaN</td>\n",
       "      <td>5000000</td>\n",
       "    </tr>\n",
       "    <tr>\n",
       "      <th>34309</th>\n",
       "      <td>RETRAIN-PART-(0, 97, 44, 85)-6</td>\n",
       "      <td>0.001282</td>\n",
       "      <td>NaN</td>\n",
       "      <td>5000000</td>\n",
       "    </tr>\n",
       "    <tr>\n",
       "      <th>34310</th>\n",
       "      <td>RETRAIN-TRAIN-(0, 97, 44, 85)-6</td>\n",
       "      <td>0.376932</td>\n",
       "      <td>NaN</td>\n",
       "      <td>5000000</td>\n",
       "    </tr>\n",
       "    <tr>\n",
       "      <th>34311</th>\n",
       "      <td>RETRAIN-REST-(0, 97, 44, 85)-6</td>\n",
       "      <td>0.000716</td>\n",
       "      <td>NaN</td>\n",
       "      <td>5000000</td>\n",
       "    </tr>\n",
       "    <tr>\n",
       "      <th>34312</th>\n",
       "      <td>REORGANIZATION</td>\n",
       "      <td>109150.489658</td>\n",
       "      <td>5453.608484</td>\n",
       "      <td>5000000</td>\n",
       "    </tr>\n",
       "  </tbody>\n",
       "</table>\n",
       "</div>"
      ],
      "text/plain": [
       "                                    op     time-taken         size  #-objects\n",
       "34308   RETRAIN-COLL-(0, 97, 44, 85)-6       0.068502          NaN    5000000\n",
       "34309   RETRAIN-PART-(0, 97, 44, 85)-6       0.001282          NaN    5000000\n",
       "34310  RETRAIN-TRAIN-(0, 97, 44, 85)-6       0.376932          NaN    5000000\n",
       "34311   RETRAIN-REST-(0, 97, 44, 85)-6       0.000716          NaN    5000000\n",
       "34312                   REORGANIZATION  109150.489658  5453.608484    5000000"
      ]
     },
     "execution_count": 34,
     "metadata": {},
     "output_type": "execute_result"
    }
   ],
   "source": [
    "build_dyn = pd.read_csv(f'{deep1b_dyn_base}/build/csv/build-40.csv')\n",
    "build_dyn.tail()"
   ]
  },
  {
   "cell_type": "code",
   "execution_count": 35,
   "id": "85d8d591-547a-49da-a1b5-cc5d7340c4be",
   "metadata": {},
   "outputs": [
    {
     "data": {
      "text/plain": [
       "(11.11246585845947, 56.19543814659119)"
      ]
     },
     "execution_count": 35,
     "metadata": {},
     "output_type": "execute_result"
    }
   ],
   "source": [
    "build_1k = pd.read_csv(f'{deep1b_bulk_1k}/build/csv/build-0.csv')\n",
    "build_10k = pd.read_csv(f'{deep1b_bulk_10k}/build/csv/build-0.csv')\n",
    "build_100k = pd.read_csv(f'{deep1b_bulk_100k}/build/csv/build-100.csv')\n",
    "build_10k['time-taken'].sum(), build_100k['time-taken'].sum()"
   ]
  },
  {
   "cell_type": "code",
   "execution_count": 36,
   "id": "50944a5c-a189-4efe-a92a-1e7a8f1ded2c",
   "metadata": {},
   "outputs": [],
   "source": [
    "x, y1, y2 = extract_dynamic_info(build_dyn)"
   ]
  },
  {
   "cell_type": "code",
   "execution_count": 37,
   "id": "19910e89-b969-4b46-950e-53a5db778710",
   "metadata": {},
   "outputs": [
    {
     "data": {
      "image/png": "[encoded data removed]",
      "text/plain": [
       "<Figure size 1080x216 with 1 Axes>"
      ]
     },
     "metadata": {
      "needs_background": "light"
     },
     "output_type": "display_data"
    }
   ],
   "source": [
    "fig, axs = plt.subplots(figsize=(15, 3), ncols=1, nrows=1)\n",
    "axs = create_build_times_plot(axs, x, y1, 'DEEP1B')"
   ]
  },
  {
   "cell_type": "code",
   "execution_count": 38,
   "id": "048f6477-572c-451d-a06e-c1c19e25f226",
   "metadata": {},
   "outputs": [
    {
     "data": {
      "text/plain": [
       "<BarContainer object of 3 artists>"
      ]
     },
     "execution_count": 38,
     "metadata": {},
     "output_type": "execute_result"
    }
   ],
   "source": [
    "axs.bar(\n",
    "    list(mapping.values()),\n",
    "    [build_1k['time-taken'].sum(), build_10k['time-taken'].sum(), build_100k['time-taken'].sum()],\n",
    "    label='Static',\n",
    "    color=colors[0],\n",
    "    alpha=0.5\n",
    ")"
   ]
  },
  {
   "cell_type": "code",
   "execution_count": 39,
   "id": "43f2dba3-70f1-450b-9156-a0ae090d4dda",
   "metadata": {},
   "outputs": [
    {
     "data": {
      "text/plain": [
       "<BarContainer object of 2 artists>"
      ]
     },
     "execution_count": 39,
     "metadata": {},
     "output_type": "execute_result"
    }
   ],
   "source": [
    "axs.bar(\n",
    "    list(mapping.values())[1:],\n",
    "    [build_1k['time-taken'].sum(), build_10k['time-taken'].sum()],\n",
    "    label='Naive ins.',\n",
    "    color=colors[2],\n",
    "    alpha=0.5\n",
    ")"
   ]
  },
  {
   "cell_type": "code",
   "execution_count": 40,
   "id": "544fc430-a1c5-4800-bdd6-742fc6344d46",
   "metadata": {},
   "outputs": [
    {
     "data": {
      "text/plain": [
       "<matplotlib.legend.Legend at 0x14f6678ebd30>"
      ]
     },
     "execution_count": 40,
     "metadata": {},
     "output_type": "execute_result"
    }
   ],
   "source": [
    "axs.legend()"
   ]
  },
  {
   "cell_type": "code",
   "execution_count": 41,
   "id": "6cd89409-2240-477c-8999-c8d4b02a5c30",
   "metadata": {},
   "outputs": [
    {
     "data": {
      "image/png": "[encoded data removed]",
      "text/plain": [
       "<Figure size 1080x216 with 1 Axes>"
      ]
     },
     "execution_count": 41,
     "metadata": {},
     "output_type": "execute_result"
    }
   ],
   "source": [
    "fig"
   ]
  },
  {
   "cell_type": "code",
   "execution_count": 42,
   "id": "a7b4cb8c-ee5d-4212-af3f-a445193650d2",
   "metadata": {},
   "outputs": [],
   "source": [
    "fig.savefig('../figures/building-costs-deep1b.pdf', format='pdf', bbox_inches='tight')"
   ]
  },
  {
   "cell_type": "code",
   "execution_count": 43,
   "id": "95710552-1403-4452-aa4d-513694de03c3",
   "metadata": {},
   "outputs": [],
   "source": [
    "fig.savefig('../figures/building-costs-deep1b.png')"
   ]
  },
  {
   "cell_type": "code",
   "execution_count": null,
   "id": "8418cdf4-f4e7-4ae8-a982-20ef121a424c",
   "metadata": {},
   "outputs": [],
   "source": []
  },
  {
   "cell_type": "code",
   "execution_count": null,
   "id": "66958385-1cec-4ece-9fc7-89e94ea263eb",
   "metadata": {},
   "outputs": [],
   "source": []
  }
 ],
 "metadata": {
  "kernelspec": {
   "display_name": "Python 3",
   "language": "python",
   "name": "python3"
  },
  "language_info": {
   "codemirror_mode": {
    "name": "ipython",
    "version": 3
   },
   "file_extension": ".py",
   "mimetype": "text/x-python",
   "name": "python",
   "nbconvert_exporter": "python",
   "pygments_lexer": "ipython3",
   "version": "3.6.2"
  }
 },
 "nbformat": 4,
 "nbformat_minor": 5
}
