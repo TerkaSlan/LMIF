{
 "cells": [
  {
   "cell_type": "code",
   "execution_count": 40,
   "id": "b0cd1052-ec37-402b-96d2-43c5247ce278",
   "metadata": {},
   "outputs": [],
   "source": [
    "%reload_ext autoreload\n",
    "%autoreload 2"
   ]
  },
  {
   "cell_type": "code",
   "execution_count": 41,
   "id": "dfdc47f6-a622-43a6-80e8-2bfae5e3190c",
   "metadata": {},
   "outputs": [],
   "source": [
    "from os import listdir\n",
    "import pandas as pd\n",
    "import numpy as np"
   ]
  },
  {
   "cell_type": "code",
   "execution_count": 42,
   "id": "5aa5d0d7-abd2-4799-922d-035b1a8d93b6",
   "metadata": {},
   "outputs": [],
   "source": [
    "from dlmi.visualization import *\n",
    "from dlmi.utils import *\n",
    "search_type = 'leaf'"
   ]
  },
  {
   "cell_type": "markdown",
   "id": "c8e5ae18-5815-4009-b4cf-eeb8b1e1d237",
   "metadata": {},
   "source": [
    "# Graph 1 -- SIFT -- 1M"
   ]
  },
  {
   "cell_type": "code",
   "execution_count": 55,
   "id": "dd9865b7-b2cd-4905-8eac-c016499b9db7",
   "metadata": {},
   "outputs": [],
   "source": [
    "sift_dyn_base = '../experiments/2022-12-02--10-12-30-13425037-SIFT-1000000-adan7.grid.cesnet.cz'\n",
    "sift_bulk_base = '../experiments/2022-12-30--18-38-41-13825624-SIFT-bulk-MLP-1000000-adan6.grid.cesnet.cz'\n",
    "sift_naive_dyn_base = '../experiments/2022-12-31--19-29-57-13828510-SIFT-bulk-MLP-1000000-adan52.grid.cesnet.cz'\n",
    "lmi = load_pickle(f'{sift_naive_dyn_base}/index/index.pkl')"
   ]
  },
  {
   "cell_type": "markdown",
   "id": "4251f29a-6a38-45c7-9536-a21bbc2f6518",
   "metadata": {},
   "source": [
    "#### Plotting out the bucket occupancy distributions"
   ]
  },
  {
   "cell_type": "code",
   "execution_count": 44,
   "id": "dee71cd9-25d1-4142-9c7a-26e64f4c2313",
   "metadata": {},
   "outputs": [
    {
     "data": {
      "text/html": [
       "<div>\n",
       "<style scoped>\n",
       "    .dataframe tbody tr th:only-of-type {\n",
       "        vertical-align: middle;\n",
       "    }\n",
       "\n",
       "    .dataframe tbody tr th {\n",
       "        vertical-align: top;\n",
       "    }\n",
       "\n",
       "    .dataframe thead th {\n",
       "        text-align: right;\n",
       "    }\n",
       "</style>\n",
       "<table border=\"1\" class=\"dataframe\">\n",
       "  <thead>\n",
       "    <tr style=\"text-align: right;\">\n",
       "      <th></th>\n",
       "      <th>key</th>\n",
       "      <th>type</th>\n",
       "      <th>children</th>\n",
       "    </tr>\n",
       "  </thead>\n",
       "  <tbody>\n",
       "    <tr>\n",
       "      <th>0</th>\n",
       "      <td>(0,)</td>\n",
       "      <td>InnerNode</td>\n",
       "      <td>100</td>\n",
       "    </tr>\n",
       "    <tr>\n",
       "      <th>1</th>\n",
       "      <td>(0, 0)</td>\n",
       "      <td>InnerNode</td>\n",
       "      <td>93</td>\n",
       "    </tr>\n",
       "    <tr>\n",
       "      <th>2</th>\n",
       "      <td>(0, 4)</td>\n",
       "      <td>InnerNode</td>\n",
       "      <td>90</td>\n",
       "    </tr>\n",
       "    <tr>\n",
       "      <th>3</th>\n",
       "      <td>(0, 5)</td>\n",
       "      <td>InnerNode</td>\n",
       "      <td>93</td>\n",
       "    </tr>\n",
       "    <tr>\n",
       "      <th>4</th>\n",
       "      <td>(0, 6)</td>\n",
       "      <td>InnerNode</td>\n",
       "      <td>96</td>\n",
       "    </tr>\n",
       "  </tbody>\n",
       "</table>\n",
       "</div>"
      ],
      "text/plain": [
       "      key       type  children\n",
       "0    (0,)  InnerNode       100\n",
       "1  (0, 0)  InnerNode        93\n",
       "2  (0, 4)  InnerNode        90\n",
       "3  (0, 5)  InnerNode        93\n",
       "4  (0, 6)  InnerNode        96"
      ]
     },
     "execution_count": 44,
     "metadata": {},
     "output_type": "execute_result"
    }
   ],
   "source": [
    "struct_dyn = pd.read_csv(f'{sift_dyn_base}/struct/str-36.csv')\n",
    "struct_dyn.head()"
   ]
  },
  {
   "cell_type": "code",
   "execution_count": 45,
   "id": "3a99d53b-a9a4-43b8-a4ce-d7422dbafe26",
   "metadata": {},
   "outputs": [
    {
     "data": {
      "text/html": [
       "<div>\n",
       "<style scoped>\n",
       "    .dataframe tbody tr th:only-of-type {\n",
       "        vertical-align: middle;\n",
       "    }\n",
       "\n",
       "    .dataframe tbody tr th {\n",
       "        vertical-align: top;\n",
       "    }\n",
       "\n",
       "    .dataframe thead th {\n",
       "        text-align: right;\n",
       "    }\n",
       "</style>\n",
       "<table border=\"1\" class=\"dataframe\">\n",
       "  <thead>\n",
       "    <tr style=\"text-align: right;\">\n",
       "      <th></th>\n",
       "      <th>key</th>\n",
       "      <th>type</th>\n",
       "      <th>children</th>\n",
       "    </tr>\n",
       "  </thead>\n",
       "  <tbody>\n",
       "    <tr>\n",
       "      <th>0</th>\n",
       "      <td>(0,)</td>\n",
       "      <td>InnerNode</td>\n",
       "      <td>100</td>\n",
       "    </tr>\n",
       "    <tr>\n",
       "      <th>1</th>\n",
       "      <td>(0, 0)</td>\n",
       "      <td>InnerNode</td>\n",
       "      <td>120</td>\n",
       "    </tr>\n",
       "    <tr>\n",
       "      <th>2</th>\n",
       "      <td>(0, 0, 0)</td>\n",
       "      <td>LeafNode</td>\n",
       "      <td>98</td>\n",
       "    </tr>\n",
       "    <tr>\n",
       "      <th>3</th>\n",
       "      <td>(0, 0, 1)</td>\n",
       "      <td>LeafNode</td>\n",
       "      <td>36</td>\n",
       "    </tr>\n",
       "    <tr>\n",
       "      <th>4</th>\n",
       "      <td>(0, 0, 2)</td>\n",
       "      <td>LeafNode</td>\n",
       "      <td>61</td>\n",
       "    </tr>\n",
       "  </tbody>\n",
       "</table>\n",
       "</div>"
      ],
      "text/plain": [
       "         key       type  children\n",
       "0       (0,)  InnerNode       100\n",
       "1     (0, 0)  InnerNode       120\n",
       "2  (0, 0, 0)   LeafNode        98\n",
       "3  (0, 0, 1)   LeafNode        36\n",
       "4  (0, 0, 2)   LeafNode        61"
      ]
     },
     "execution_count": 45,
     "metadata": {},
     "output_type": "execute_result"
    }
   ],
   "source": [
    "struct_bulk = pd.read_csv(f'{sift_bulk_base}/struct/str-99.csv')\n",
    "struct_bulk.head()"
   ]
  },
  {
   "cell_type": "code",
   "execution_count": 46,
   "id": "286f327e-64b1-4cc9-9776-1c84632aaf60",
   "metadata": {},
   "outputs": [
    {
     "data": {
      "text/plain": [
       "1000000"
      ]
     },
     "execution_count": 46,
     "metadata": {},
     "output_type": "execute_result"
    }
   ],
   "source": [
    "struct_bulk[struct_bulk['type'] == 'LeafNode']['children'].sum()"
   ]
  },
  {
   "cell_type": "code",
   "execution_count": 56,
   "id": "79bb85a0-e31f-42ad-a1d7-9ff790f6be11",
   "metadata": {},
   "outputs": [],
   "source": [
    "struct_naive_dyn = lmi.dump_structure()"
   ]
  },
  {
   "cell_type": "code",
   "execution_count": 14,
   "id": "8c424301-bc8a-4820-bf14-279761049416",
   "metadata": {},
   "outputs": [
    {
     "data": {
      "text/plain": [
       "618     6\n",
       "706     6\n",
       "600     5\n",
       "616     4\n",
       "752     4\n",
       "       ..\n",
       "558     1\n",
       "1583    1\n",
       "560     1\n",
       "564     1\n",
       "530     1\n",
       "Name: children, Length: 782, dtype: int64"
      ]
     },
     "execution_count": 14,
     "metadata": {},
     "output_type": "execute_result"
    }
   ],
   "source": [
    "struct_naive_dyn[struct_naive_dyn['type'] == 'LeafNode']['children'].value_counts()"
   ]
  },
  {
   "cell_type": "code",
   "execution_count": 57,
   "id": "b3301940-8b9d-45aa-af7e-9ffbbff4e900",
   "metadata": {},
   "outputs": [
    {
     "data": {
      "text/plain": [
       "1200"
      ]
     },
     "execution_count": 57,
     "metadata": {},
     "output_type": "execute_result"
    }
   ],
   "source": [
    "struct_naive_dyn[struct_naive_dyn['type'] == 'LeafNode']['children'].count()"
   ]
  },
  {
   "cell_type": "code",
   "execution_count": 16,
   "id": "72344b48-2530-4798-9f61-d9ebc7066431",
   "metadata": {},
   "outputs": [
    {
     "data": {
      "text/plain": [
       "1000000"
      ]
     },
     "execution_count": 16,
     "metadata": {},
     "output_type": "execute_result"
    }
   ],
   "source": [
    "struct_naive_dyn[struct_naive_dyn['type'] == 'LeafNode']['children'].sum()"
   ]
  },
  {
   "cell_type": "code",
   "execution_count": 58,
   "id": "654e53e6-5779-4615-bd0d-16ca5cfc6686",
   "metadata": {},
   "outputs": [],
   "source": [
    "import matplotlib\n",
    "font = {'size': 16}\n",
    "\n",
    "matplotlib.rc('font', **font)"
   ]
  },
  {
   "cell_type": "code",
   "execution_count": 62,
   "id": "602aba26-6955-42dc-b76f-e95b4b8692cf",
   "metadata": {},
   "outputs": [],
   "source": [
    "def plot_bucket_occupancy(struct_dyn, struct_naive_dyn, struct_bulk, dataset='SIFT', n_objs='1M'):\n",
    "    colors = ['#D7191C', '#2C7BB6', '#0D8A51']\n",
    "    \n",
    "    fig, ax = plt.subplots(1, 1, figsize=(15, 3))\n",
    "    y_dyn = struct_dyn[struct_dyn['type'] == 'LeafNode'].sort_values(by=['children'], ascending=False)['children']\n",
    "    y_n_dyn = struct_naive_dyn[struct_naive_dyn['type'] == 'LeafNode'].sort_values(by=['children'], ascending=False)['children']\n",
    "    y_bulk = struct_bulk[struct_bulk['type'] == 'LeafNode'].sort_values(by=['children'], ascending=False)['children']\n",
    "    ax.bar(np.arange(y_dyn.shape[0]), y_dyn, label='Dynamic', color=colors[1], alpha=0.5)\n",
    "    #ax.hlines(y=np.mean(y_dyn), xmin=0, xmax=1, linewidth=1, color=colors[1])\n",
    "    ax.bar(np.arange(y_n_dyn.shape[0]), y_n_dyn, label='Naive ins.', color=colors[2], alpha=0.5)\n",
    "    #ax.hlines(y=np.mean(y_n_dyn), xmin=0, xmax=1, linewidth=1, color=colors[2])\n",
    "    ax.bar(np.arange(y_bulk.shape[0]), y_bulk, label='Static', color=colors[0], alpha=0.5)\n",
    "    ax.hlines(y=np.mean(y_dyn), xmin=0, xmax=y_dyn.shape[0], linewidth=1.5, color=colors[1])\n",
    "    #ax.hlines(y=np.mean(y_n_dyn), xmin=0, xmax=y_dyn.shape[0], linewidth=1.5, color=colors[2])\n",
    "    ax.hlines(y=np.mean(y_bulk), xmin=0, xmax=y_dyn.shape[0], linewidth=1.5, color=colors[0])\n",
    "    ax.hlines(y=np.mean(y_n_dyn), xmin=0, xmax=y_dyn.shape[0], linewidth=1.5, color=colors[2])\n",
    "    #ax.plot([0, 1], [np.mean(y_dyn), np.mean(y_dyn)], color=colors[1], marker=\"--\")\n",
    "    #ax.hlines(y=[np.mean(y_dyn), np.mean(y_n_dyn), np.mean(y_bulk)], xmin=[0, 0, 0], xmax=[1, 1, 1], linewidth=2, color=[colors[1], colors[2], colors[0]], label='means')\n",
    "    order = [0,2,1]\n",
    "    handles, labels = plt.gca().get_legend_handles_labels()\n",
    "    ax.legend([handles[idx] for idx in order],[labels[idx] for idx in order])\n",
    "    ax.set_title(f'Leaf node occupancy distributions, {dataset}, {n_objs} objects.')\n",
    "    ax.set_xlabel('Leaf node')\n",
    "    ax.set_ylabel('# of objects\\nin the leaf node')\n",
    "    ax.set_yscale('log')\n",
    "    ax.set_xlim(xmin=-1, xmax=y_dyn.shape[0])\n",
    "    plt.grid()\n",
    "    return fig"
   ]
  },
  {
   "cell_type": "code",
   "execution_count": 64,
   "id": "1a505bac-c695-493d-8e59-7ee2a9015938",
   "metadata": {},
   "outputs": [
    {
     "data": {
      "image/png": "[encoded data removed]",
      "text/plain": [
       "<Figure size 1080x216 with 1 Axes>"
      ]
     },
     "metadata": {
      "needs_background": "light"
     },
     "output_type": "display_data"
    }
   ],
   "source": [
    "fig = plot_bucket_occupancy(struct_dyn, struct_naive_dyn, struct_bulk)"
   ]
  },
  {
   "cell_type": "code",
   "execution_count": 65,
   "id": "44d142c1-1828-46bc-9623-5f0527566e6a",
   "metadata": {},
   "outputs": [],
   "source": [
    "fig.savefig('../figures/leaf-node-occupancy-sift-log-hline.pdf', format='pdf', bbox_inches='tight')"
   ]
  },
  {
   "cell_type": "markdown",
   "id": "bfdefead-a2b2-4204-b469-a2df68736b33",
   "metadata": {},
   "source": [
    "# Graph 2 -- glove -- 100k"
   ]
  },
  {
   "cell_type": "code",
   "execution_count": 66,
   "id": "ba762815-9a6c-4a68-8429-c2f84cf103f0",
   "metadata": {},
   "outputs": [],
   "source": [
    "glove_dyn_base = '../experiments/2022-12-06--13-02-36-13588496-GLOVE-1183514-adan4.grid.cesnet.cz'\n",
    "glove_bulk_base = '../experiments/2022-12-30--21-13-10-13825627-GLOVE-bulk-MLP-100000-adan4.grid.cesnet.cz'\n",
    "glove_naive_dyn_base = '../experiments/2022-12-31--22-57-06-13827751-GLOVE-bulk-MLP-100000-adan4.grid.cesnet.cz'\n",
    "lmi = load_pickle(f'{glove_naive_dyn_base}/index/index.pkl')"
   ]
  },
  {
   "cell_type": "code",
   "execution_count": 67,
   "id": "4d253174-841c-4b8a-9965-c07420fc6507",
   "metadata": {},
   "outputs": [],
   "source": [
    "struct_dyn = pd.read_csv(f'{glove_dyn_base}/struct/str-27.csv')\n",
    "struct_bulk = pd.read_csv(f'{glove_bulk_base}/struct/str-99.csv')\n",
    "struct_naive_dyn = lmi.dump_structure()"
   ]
  },
  {
   "cell_type": "code",
   "execution_count": 68,
   "id": "e70bcbd0-6b3f-4a2c-89d7-540b7d946b8c",
   "metadata": {},
   "outputs": [
    {
     "data": {
      "image/png": "[encoded data removed]",
      "text/plain": [
       "<Figure size 1080x216 with 1 Axes>"
      ]
     },
     "metadata": {
      "needs_background": "light"
     },
     "output_type": "display_data"
    }
   ],
   "source": [
    "fig = plot_bucket_occupancy(struct_dyn, struct_naive_dyn, struct_bulk, 'GloVe', '100k')"
   ]
  },
  {
   "cell_type": "code",
   "execution_count": 69,
   "id": "9cc16fa3-0baa-4bd6-bb22-93f859687e54",
   "metadata": {},
   "outputs": [],
   "source": [
    "fig.savefig('../figures/leaf-node-occupancy-glove-log-hline.pdf', format='pdf', bbox_inches='tight')"
   ]
  },
  {
   "cell_type": "markdown",
   "id": "6c943c8e-a42b-4230-9421-cbe5713273c0",
   "metadata": {
    "tags": []
   },
   "source": [
    "# Graph 3 -- Deep -- 100k"
   ]
  },
  {
   "cell_type": "code",
   "execution_count": 70,
   "id": "34c87120-4c56-44fb-a7d5-b8ed22a80163",
   "metadata": {},
   "outputs": [],
   "source": [
    "deep1b_dyn_base = '../experiments/2022-12-06--13-17-32-13588502-DEEP1B-9990000-adan8.grid.cesnet.cz'\n",
    "deep1b_bulk_100k = '../experiments/2022-12-31--19-48-10-13828512-DEEP1B-bulk-MLP-100000-adan34.grid.cesnet.cz'##\n",
    "#deep1b_bulk_100k = '../experiments/2022-12-31--17-29-56-13828450-DEEP1B-bulk-MLP-100000-adan50.grid.cesnet.cz'\n",
    "deep1b_naive_dyn_base = '../experiments/2022-12-31--09-42-11-13827750-DEEP1B-bulk-MLP-100000-adan8.grid.cesnet.cz'\n",
    "lmi = load_pickle(f'{deep1b_naive_dyn_base}/index/index.pkl')"
   ]
  },
  {
   "cell_type": "code",
   "execution_count": 71,
   "id": "63e0ded1-4acf-48d5-9638-f61f8fda00c3",
   "metadata": {},
   "outputs": [],
   "source": [
    "struct_naive_dyn = lmi.dump_structure()"
   ]
  },
  {
   "cell_type": "code",
   "execution_count": 72,
   "id": "add9d5a9-7ae7-4ced-9377-254bc8161f68",
   "metadata": {},
   "outputs": [],
   "source": [
    "struct_dyn = pd.read_csv(f'{deep1b_dyn_base}/struct/str-27.csv')\n",
    "struct_bulk = pd.read_csv(f'{deep1b_bulk_100k}/struct/str-99.csv')"
   ]
  },
  {
   "cell_type": "code",
   "execution_count": 73,
   "id": "eb676044-63a0-4b86-bb0e-b41b5ab29b8a",
   "metadata": {},
   "outputs": [
    {
     "data": {
      "text/html": [
       "<div>\n",
       "<style scoped>\n",
       "    .dataframe tbody tr th:only-of-type {\n",
       "        vertical-align: middle;\n",
       "    }\n",
       "\n",
       "    .dataframe tbody tr th {\n",
       "        vertical-align: top;\n",
       "    }\n",
       "\n",
       "    .dataframe thead th {\n",
       "        text-align: right;\n",
       "    }\n",
       "</style>\n",
       "<table border=\"1\" class=\"dataframe\">\n",
       "  <thead>\n",
       "    <tr style=\"text-align: right;\">\n",
       "      <th></th>\n",
       "      <th>key</th>\n",
       "      <th>type</th>\n",
       "      <th>children</th>\n",
       "    </tr>\n",
       "  </thead>\n",
       "  <tbody>\n",
       "    <tr>\n",
       "      <th>0</th>\n",
       "      <td>(0,)</td>\n",
       "      <td>InnerNode</td>\n",
       "      <td>100</td>\n",
       "    </tr>\n",
       "    <tr>\n",
       "      <th>1</th>\n",
       "      <td>(0, 0)</td>\n",
       "      <td>InnerNode</td>\n",
       "      <td>16</td>\n",
       "    </tr>\n",
       "    <tr>\n",
       "      <th>2</th>\n",
       "      <td>(0, 0, 0)</td>\n",
       "      <td>LeafNode</td>\n",
       "      <td>20</td>\n",
       "    </tr>\n",
       "    <tr>\n",
       "      <th>3</th>\n",
       "      <td>(0, 0, 1)</td>\n",
       "      <td>LeafNode</td>\n",
       "      <td>71</td>\n",
       "    </tr>\n",
       "    <tr>\n",
       "      <th>4</th>\n",
       "      <td>(0, 0, 2)</td>\n",
       "      <td>LeafNode</td>\n",
       "      <td>49</td>\n",
       "    </tr>\n",
       "  </tbody>\n",
       "</table>\n",
       "</div>"
      ],
      "text/plain": [
       "         key       type  children\n",
       "0       (0,)  InnerNode       100\n",
       "1     (0, 0)  InnerNode        16\n",
       "2  (0, 0, 0)   LeafNode        20\n",
       "3  (0, 0, 1)   LeafNode        71\n",
       "4  (0, 0, 2)   LeafNode        49"
      ]
     },
     "execution_count": 73,
     "metadata": {},
     "output_type": "execute_result"
    }
   ],
   "source": [
    "struct_bulk.head()"
   ]
  },
  {
   "cell_type": "code",
   "execution_count": 74,
   "id": "61e61688-dbab-44b7-8477-3e72d6edf96a",
   "metadata": {},
   "outputs": [
    {
     "data": {
      "image/png": "[encoded data removed]",
      "text/plain": [
       "<Figure size 1080x216 with 1 Axes>"
      ]
     },
     "metadata": {
      "needs_background": "light"
     },
     "output_type": "display_data"
    }
   ],
   "source": [
    "fig = plot_bucket_occupancy(struct_dyn, struct_naive_dyn, struct_bulk, 'DEEP1B', '100k')"
   ]
  },
  {
   "cell_type": "code",
   "execution_count": 75,
   "id": "d6c6154c-5e80-42d3-8a8a-1004a9560963",
   "metadata": {},
   "outputs": [],
   "source": [
    "fig.savefig('../figures/leaf-node-occupancy-deep1b-log-hline.pdf', format='pdf', bbox_inches='tight')"
   ]
  },
  {
   "cell_type": "code",
   "execution_count": null,
   "id": "c681d625-7bbc-4202-89b1-b4d6cf43bc5b",
   "metadata": {},
   "outputs": [],
   "source": []
  }
 ],
 "metadata": {
  "kernelspec": {
   "display_name": "Python 3",
   "language": "python",
   "name": "python3"
  },
  "language_info": {
   "codemirror_mode": {
    "name": "ipython",
    "version": 3
   },
   "file_extension": ".py",
   "mimetype": "text/x-python",
   "name": "python",
   "nbconvert_exporter": "python",
   "pygments_lexer": "ipython3",
   "version": "3.6.2"
  }
 },
 "nbformat": 4,
 "nbformat_minor": 5
}
