{
 "cells": [
  {
   "cell_type": "code",
   "execution_count": 1,
   "id": "b289f509-0d9b-4238-b293-ad3b207c7cda",
   "metadata": {},
   "outputs": [],
   "source": [
    "%reload_ext autoreload\n",
    "%autoreload 2"
   ]
  },
  {
   "cell_type": "markdown",
   "id": "c9e59308-f76f-4f04-959f-4c943622f6eb",
   "metadata": {},
   "source": [
    "# Using LMI with a custom dataset\n",
    "\n",
    "## Use case 3 -- running the search & evaluating with M-tree / M-index from [Learned metric index - proposition of learned indexing for unstructured data](https://www.sciencedirect.com/science/article/pii/S0306437921000326).\n",
    "\n",
    "### Necessary components:\n",
    "1. the `descriptors` file -- vector representation \n",
    "2. the `labels` file -- file associating every object form `descriptors` to a node in the template index\n",
    "3. the `pivots` file -- representing each node in the template index with an object being its pivot\n",
    "\n",
    "This use case assumes that you have a template indexing or clustering method that can provide the labels necessary for training for you.\n",
    "\n",
    "To learn how to **Create the ground-truth and queries files**, visit the `use-case-1.ipynb` notebook."
   ]
  },
  {
   "cell_type": "markdown",
   "id": "df9804ba-4a4b-44ce-bd97-e43a12d4f309",
   "metadata": {
    "tags": []
   },
   "source": [
    "# Example with a custom dataset\n",
    "\n",
    "Within the data folder, we have stored a `test/simple-data.csv` file, which contains a tiny example descriptor dataset on which we'll demonstrate the use with any custom dataset.\n",
    "\n",
    "## Steps:\n",
    "1. Load the configuration file\n",
    "2. Load the dataset using `SimpleDataLoader`\n",
    "3. Load the labels using `SimpleDataLoader`\n",
    "    - Create k-nn labels\n",
    "4. Train and search in the LMI\n",
    "5. Evaluate the results\n",
    "6. Train and search in the LMI using a Multilabel NN"
   ]
  },
  {
   "cell_type": "code",
   "execution_count": 2,
   "id": "e8a4096d-7e20-41e7-8c28-de2787cbe02a",
   "metadata": {},
   "outputs": [],
   "source": [
    "import os\n",
    "from lmi.utils import load_yaml, load_model_config\n",
    "from lmi.data.SimpleDataLoader import SimpleDataLoader\n",
    "from lmi.indexes.LearnedMetricIndex import LMI"
   ]
  },
  {
   "cell_type": "markdown",
   "id": "680b1c5f-5689-42bb-89f3-155aed6868a2",
   "metadata": {},
   "source": [
    "#### 1. Load the configuration file"
   ]
  },
  {
   "cell_type": "code",
   "execution_count": 3,
   "id": "dc95c1b8-cc00-430b-9dd1-76fd5592a8ab",
   "metadata": {},
   "outputs": [
    {
     "data": {
      "text/plain": [
       "{'setup': 'lmi-test',\n",
       " 'data': {'data-dir': '/storage/brno12-cerit/home/tslaninakova/data/test',\n",
       "  'dataset-file': 'simple-data.csv',\n",
       "  'queries': 'simple-queries.txt',\n",
       "  'knn-gt': 'simple-knn.json',\n",
       "  'labels-dir': 'labels/',\n",
       "  'pivots-filename': 'pivots/M-tree.struct',\n",
       "  'normalize': False,\n",
       "  'shuffle': True},\n",
       " 'LMI': {'model-config': './supplementary-experiment-setups/data-driven/models/model-kmeans.yml',\n",
       "  'n_levels': 2,\n",
       "  'training-dataset-percentage': 1},\n",
       " 'experiment': {'output-dir': 'outputs',\n",
       "  'search-stop-conditions': [0.0005,\n",
       "   0.001,\n",
       "   0.003,\n",
       "   0.005,\n",
       "   0.01,\n",
       "   0.05,\n",
       "   0.1,\n",
       "   0.2,\n",
       "   0.3,\n",
       "   0.5],\n",
       "  'knns': 30}}"
      ]
     },
     "execution_count": 3,
     "metadata": {},
     "output_type": "execute_result"
    }
   ],
   "source": [
    "config = load_yaml('./supplementary-experiment-setups/dummy-data-config.yml')\n",
    "config"
   ]
  },
  {
   "cell_type": "markdown",
   "id": "d456cc94-9a16-421f-80c1-be895ab733b5",
   "metadata": {},
   "source": [
    "#### 2. Load the dataset using `SimpleDataLoader`\n",
    "\n",
    "Note that if the loading method of `SimpleDataLoader` does not work with your dataset, you can easily modify it -- we use the Pandas API."
   ]
  },
  {
   "cell_type": "code",
   "execution_count": 4,
   "id": "496dbfc5-74db-4c4f-b48f-d5420e376a67",
   "metadata": {},
   "outputs": [
    {
     "name": "stderr",
     "output_type": "stream",
     "text": [
      "INFO:lmi.data.SimpleDataLoader:Loading dataset from /storage/brno12-cerit/home/tslaninakova/data/test/simple-data.csv.\n"
     ]
    },
    {
     "data": {
      "text/html": [
       "<div>\n",
       "<style scoped>\n",
       "    .dataframe tbody tr th:only-of-type {\n",
       "        vertical-align: middle;\n",
       "    }\n",
       "\n",
       "    .dataframe tbody tr th {\n",
       "        vertical-align: top;\n",
       "    }\n",
       "\n",
       "    .dataframe thead th {\n",
       "        text-align: right;\n",
       "    }\n",
       "</style>\n",
       "<table border=\"1\" class=\"dataframe\">\n",
       "  <thead>\n",
       "    <tr style=\"text-align: right;\">\n",
       "      <th></th>\n",
       "      <th>Sample</th>\n",
       "      <th>ecc</th>\n",
       "      <th>N</th>\n",
       "      <th>gammaG</th>\n",
       "      <th>Esoil</th>\n",
       "      <th>Econc</th>\n",
       "      <th>Dbot</th>\n",
       "      <th>H1</th>\n",
       "      <th>H2</th>\n",
       "      <th>H3</th>\n",
       "      <th>Mr_t</th>\n",
       "      <th>Mt_t</th>\n",
       "      <th>Mr_c</th>\n",
       "      <th>Mt_c</th>\n",
       "    </tr>\n",
       "  </thead>\n",
       "  <tbody>\n",
       "    <tr>\n",
       "      <th>559</th>\n",
       "      <td>560.0</td>\n",
       "      <td>21.13903</td>\n",
       "      <td>3896.865479</td>\n",
       "      <td>0.92019</td>\n",
       "      <td>117.104591</td>\n",
       "      <td>31646.613281</td>\n",
       "      <td>19.75651</td>\n",
       "      <td>1.34821</td>\n",
       "      <td>1.69134</td>\n",
       "      <td>1.25041</td>\n",
       "      <td>-3.211984</td>\n",
       "      <td>-1.569884</td>\n",
       "      <td>3.649100</td>\n",
       "      <td>2.729958</td>\n",
       "    </tr>\n",
       "    <tr>\n",
       "      <th>130</th>\n",
       "      <td>131.0</td>\n",
       "      <td>17.52186</td>\n",
       "      <td>4584.502930</td>\n",
       "      <td>0.93011</td>\n",
       "      <td>90.690208</td>\n",
       "      <td>31934.832031</td>\n",
       "      <td>20.71199</td>\n",
       "      <td>1.26115</td>\n",
       "      <td>1.39311</td>\n",
       "      <td>1.36789</td>\n",
       "      <td>-3.273929</td>\n",
       "      <td>-1.460630</td>\n",
       "      <td>3.893511</td>\n",
       "      <td>2.658508</td>\n",
       "    </tr>\n",
       "  </tbody>\n",
       "</table>\n",
       "</div>"
      ],
      "text/plain": [
       "     Sample       ecc            N   gammaG       Esoil         Econc  \\\n",
       "559   560.0  21.13903  3896.865479  0.92019  117.104591  31646.613281   \n",
       "130   131.0  17.52186  4584.502930  0.93011   90.690208  31934.832031   \n",
       "\n",
       "         Dbot       H1       H2       H3      Mr_t      Mt_t      Mr_c  \\\n",
       "559  19.75651  1.34821  1.69134  1.25041 -3.211984 -1.569884  3.649100   \n",
       "130  20.71199  1.26115  1.39311  1.36789 -3.273929 -1.460630  3.893511   \n",
       "\n",
       "         Mt_c  \n",
       "559  2.729958  \n",
       "130  2.658508  "
      ]
     },
     "execution_count": 4,
     "metadata": {},
     "output_type": "execute_result"
    }
   ],
   "source": [
    "loader = SimpleDataLoader(config['data'])\n",
    "dataset = loader.load_descriptors()\n",
    "dataset.head(2)"
   ]
  },
  {
   "cell_type": "markdown",
   "id": "8e046b41-1481-48bc-ac6c-b511f3c9fcf2",
   "metadata": {},
   "source": [
    "#### 3. Load the labels using `SimpleDataLoader`\n",
    "\n",
    "The labels file, as specified in `config['data']` are located in the `labels/` subfolder with the number of files representing the depth of the template index:"
   ]
  },
  {
   "cell_type": "code",
   "execution_count": 5,
   "id": "3997b65b-0483-4a21-9404-79468bf5a867",
   "metadata": {},
   "outputs": [
    {
     "name": "stdout",
     "output_type": "stream",
     "text": [
      "level-1.txt  level-2.txt\n"
     ]
    }
   ],
   "source": [
    "DIR=f\"{config['data']['data-dir']}/{config['data']['labels-dir']}\"\n",
    "%ls $DIR"
   ]
  },
  {
   "cell_type": "code",
   "execution_count": 6,
   "id": "199e3b53-1efd-4c56-9b0d-947d98676bdc",
   "metadata": {},
   "outputs": [
    {
     "name": "stdout",
     "output_type": "stream",
     "text": [
      "9\t735\n",
      "3\t700\n",
      "4\t412\n",
      "9\t615\n",
      "8\t806\n"
     ]
    }
   ],
   "source": [
    "FILE=DIR+'/level-1.txt'\n",
    "!head -n 5 $FILE"
   ]
  },
  {
   "cell_type": "code",
   "execution_count": 7,
   "id": "6842e1e5-b235-44af-a19e-faf67190dfd0",
   "metadata": {},
   "outputs": [
    {
     "name": "stdout",
     "output_type": "stream",
     "text": [
      "9.7\t735\n",
      "3.1\t700\n",
      "4.5\t412\n",
      "9.5\t615\n",
      "8.8\t806\n"
     ]
    }
   ],
   "source": [
    "FILE=DIR+'/level-2.txt'\n",
    "!head -n 5 $FILE"
   ]
  },
  {
   "cell_type": "markdown",
   "id": "aa9b7bcd-c77a-4ae3-a52a-ce65895b6856",
   "metadata": {},
   "source": [
    "This template index has 2 levels, the first captured in `level-1.txt` where every object (second column) has associated a node label (first column). In the second file, the location is specified as `\"first-node\".\"second-node\"`. Note that these labels represent a balanced tree, i.e., every object is present in every `level-*.txt` file. However, the tree can be unbalanced as well.\n",
    "\n",
    "The `load_labels` function expects the labels files in these forms and with these filenames."
   ]
  },
  {
   "cell_type": "code",
   "execution_count": 38,
   "id": "09aa628f-51e6-4013-ba6a-25a8e904698b",
   "metadata": {},
   "outputs": [],
   "source": [
    "labels = loader.load_labels()"
   ]
  },
  {
   "cell_type": "code",
   "execution_count": 31,
   "id": "6c968833-bed8-4af3-b818-9e6902d40436",
   "metadata": {},
   "outputs": [
    {
     "data": {
      "text/plain": [
       "4    127\n",
       "5    120\n",
       "7    118\n",
       "2    114\n",
       "1    113\n",
       "6    107\n",
       "9    105\n",
       "3     99\n",
       "8     97\n",
       "Name: L1, dtype: int64"
      ]
     },
     "execution_count": 31,
     "metadata": {},
     "output_type": "execute_result"
    }
   ],
   "source": [
    "labels['L1'].value_counts()"
   ]
  },
  {
   "cell_type": "code",
   "execution_count": 9,
   "id": "393b5cc6-a486-484e-b10e-39972977d4fa",
   "metadata": {},
   "outputs": [
    {
     "data": {
      "text/html": [
       "<div>\n",
       "<style scoped>\n",
       "    .dataframe tbody tr th:only-of-type {\n",
       "        vertical-align: middle;\n",
       "    }\n",
       "\n",
       "    .dataframe tbody tr th {\n",
       "        vertical-align: top;\n",
       "    }\n",
       "\n",
       "    .dataframe thead th {\n",
       "        text-align: right;\n",
       "    }\n",
       "</style>\n",
       "<table border=\"1\" class=\"dataframe\">\n",
       "  <thead>\n",
       "    <tr style=\"text-align: right;\">\n",
       "      <th></th>\n",
       "      <th>L1</th>\n",
       "      <th>L2</th>\n",
       "    </tr>\n",
       "    <tr>\n",
       "      <th>object_id</th>\n",
       "      <th></th>\n",
       "      <th></th>\n",
       "    </tr>\n",
       "  </thead>\n",
       "  <tbody>\n",
       "    <tr>\n",
       "      <th>735</th>\n",
       "      <td>9</td>\n",
       "      <td>7</td>\n",
       "    </tr>\n",
       "    <tr>\n",
       "      <th>736</th>\n",
       "      <td>1</td>\n",
       "      <td>9</td>\n",
       "    </tr>\n",
       "    <tr>\n",
       "      <th>737</th>\n",
       "      <td>2</td>\n",
       "      <td>3</td>\n",
       "    </tr>\n",
       "    <tr>\n",
       "      <th>738</th>\n",
       "      <td>9</td>\n",
       "      <td>5</td>\n",
       "    </tr>\n",
       "    <tr>\n",
       "      <th>739</th>\n",
       "      <td>1</td>\n",
       "      <td>8</td>\n",
       "    </tr>\n",
       "  </tbody>\n",
       "</table>\n",
       "</div>"
      ],
      "text/plain": [
       "           L1  L2\n",
       "object_id        \n",
       "735         9   7\n",
       "736         1   9\n",
       "737         2   3\n",
       "738         9   5\n",
       "739         1   8"
      ]
     },
     "execution_count": 9,
     "metadata": {},
     "output_type": "execute_result"
    }
   ],
   "source": [
    "labels[735:].head()"
   ]
  },
  {
   "cell_type": "code",
   "execution_count": null,
   "id": "0811218d-bba1-4b09-b7cd-29d5d0d87454",
   "metadata": {},
   "outputs": [],
   "source": []
  },
  {
   "cell_type": "markdown",
   "id": "c749e502-9a09-4fde-9855-2727c3764482",
   "metadata": {
    "tags": []
   },
   "source": [
    "#### 4. Load the pivots file(s)\n",
    "\n",
    "##### Format of the M-Tree pivots file:\n",
    "```txt\n",
    "125 1 7.326086\n",
    "422 2 4.645504\n",
    "642 3 2.3140666\n",
    "933 4 2.2281752\n",
    "...\n",
    "```\n",
    "first column is the pivot object id, second column the node identifier (similar to the notation in level-* files) and the last column is the radius of the ball region a given pivot/node covers. \n",
    "\n",
    "##### Format of the M-index pivots file:\n",
    "is in the form of the original data descriptors with only a subset of the data objects included. This subset is the collection of the pivots (here the information of which node is represented by which pivot is not important)."
   ]
  },
  {
   "cell_type": "code",
   "execution_count": 20,
   "id": "477ba12e-7f74-49b3-bf98-691e5a1be51a",
   "metadata": {},
   "outputs": [],
   "source": [
    "config['data']['pivots-filename'] = 'pivots/M-tree.struct'\n",
    "config['data']['normalize'] = False"
   ]
  },
  {
   "cell_type": "code",
   "execution_count": 39,
   "id": "a32e7cd5-b7b5-4166-9dbf-162ae794f844",
   "metadata": {},
   "outputs": [
    {
     "name": "stderr",
     "output_type": "stream",
     "text": [
      "/mnt/storage-brno2/home/tslaninakova/exp/learned-indexes/lmi/data/SimpleDataLoader.py:207: ParserWarning: Falling back to the 'python' engine because the 'c' engine does not support regex separators (separators > 1 char and different from '\\s+' are interpreted as regex); you can avoid this warning by specifying engine='python'.\n",
      "  dtype={'node': str, 'radius': np.float64}\n"
     ]
    },
    {
     "data": {
      "text/html": [
       "<div>\n",
       "<style scoped>\n",
       "    .dataframe tbody tr th:only-of-type {\n",
       "        vertical-align: middle;\n",
       "    }\n",
       "\n",
       "    .dataframe tbody tr th {\n",
       "        vertical-align: top;\n",
       "    }\n",
       "\n",
       "    .dataframe thead th {\n",
       "        text-align: right;\n",
       "    }\n",
       "</style>\n",
       "<table border=\"1\" class=\"dataframe\">\n",
       "  <thead>\n",
       "    <tr style=\"text-align: right;\">\n",
       "      <th></th>\n",
       "      <th>node</th>\n",
       "      <th>radius</th>\n",
       "      <th>level</th>\n",
       "    </tr>\n",
       "  </thead>\n",
       "  <tbody>\n",
       "    <tr>\n",
       "      <th>189</th>\n",
       "      <td>(8, 9)</td>\n",
       "      <td>1.228175</td>\n",
       "      <td>2</td>\n",
       "    </tr>\n",
       "    <tr>\n",
       "      <th>179</th>\n",
       "      <td>(9, 9)</td>\n",
       "      <td>1.314067</td>\n",
       "      <td>2</td>\n",
       "    </tr>\n",
       "  </tbody>\n",
       "</table>\n",
       "</div>"
      ],
      "text/plain": [
       "       node    radius  level\n",
       "189  (8, 9)  1.228175      2\n",
       "179  (9, 9)  1.314067      2"
      ]
     },
     "execution_count": 39,
     "metadata": {},
     "output_type": "execute_result"
    }
   ],
   "source": [
    "loader = SimpleDataLoader(config['data'])\n",
    "pivots = loader.load_mtree_pivots()\n",
    "pivots.tail(2)"
   ]
  },
  {
   "cell_type": "code",
   "execution_count": 10,
   "id": "a1ebd6d6-249f-46fa-91e9-f00fb99325be",
   "metadata": {},
   "outputs": [],
   "source": [
    "config['data']['pivots-filename'] = 'pivots/M-index.struct'\n",
    "config['data']['normalize'] = False"
   ]
  },
  {
   "cell_type": "code",
   "execution_count": 11,
   "id": "fd8f9374-b727-4806-b104-554aae40159f",
   "metadata": {},
   "outputs": [
    {
     "name": "stderr",
     "output_type": "stream",
     "text": [
      "INFO:lmi.data.SimpleDataLoader:Loading dataset from /storage/brno12-cerit/home/tslaninakova/data/test/pivots/M-index.struct.\n"
     ]
    },
    {
     "data": {
      "text/html": [
       "<div>\n",
       "<style scoped>\n",
       "    .dataframe tbody tr th:only-of-type {\n",
       "        vertical-align: middle;\n",
       "    }\n",
       "\n",
       "    .dataframe tbody tr th {\n",
       "        vertical-align: top;\n",
       "    }\n",
       "\n",
       "    .dataframe thead th {\n",
       "        text-align: right;\n",
       "    }\n",
       "</style>\n",
       "<table border=\"1\" class=\"dataframe\">\n",
       "  <thead>\n",
       "    <tr style=\"text-align: right;\">\n",
       "      <th></th>\n",
       "      <th>Sample</th>\n",
       "      <th>ecc</th>\n",
       "      <th>N</th>\n",
       "      <th>gammaG</th>\n",
       "      <th>Esoil</th>\n",
       "      <th>Econc</th>\n",
       "      <th>Dbot</th>\n",
       "      <th>H1</th>\n",
       "      <th>H2</th>\n",
       "      <th>H3</th>\n",
       "      <th>Mr_t</th>\n",
       "      <th>Mt_t</th>\n",
       "      <th>Mr_c</th>\n",
       "      <th>Mt_c</th>\n",
       "    </tr>\n",
       "  </thead>\n",
       "  <tbody>\n",
       "    <tr>\n",
       "      <th>7</th>\n",
       "      <td>8.0</td>\n",
       "      <td>22.674749</td>\n",
       "      <td>2464.371582</td>\n",
       "      <td>1.03556</td>\n",
       "      <td>93.100151</td>\n",
       "      <td>35409.90625</td>\n",
       "      <td>22.27972</td>\n",
       "      <td>1.13818</td>\n",
       "      <td>1.01188</td>\n",
       "      <td>0.85739</td>\n",
       "      <td>-2.295430</td>\n",
       "      <td>-0.990970</td>\n",
       "      <td>2.915441</td>\n",
       "      <td>1.614969</td>\n",
       "    </tr>\n",
       "    <tr>\n",
       "      <th>5</th>\n",
       "      <td>6.0</td>\n",
       "      <td>10.513680</td>\n",
       "      <td>2464.371582</td>\n",
       "      <td>1.03556</td>\n",
       "      <td>93.100151</td>\n",
       "      <td>35409.90625</td>\n",
       "      <td>22.27972</td>\n",
       "      <td>1.13818</td>\n",
       "      <td>1.01188</td>\n",
       "      <td>0.85739</td>\n",
       "      <td>-0.764885</td>\n",
       "      <td>-0.271209</td>\n",
       "      <td>1.674093</td>\n",
       "      <td>0.919407</td>\n",
       "    </tr>\n",
       "  </tbody>\n",
       "</table>\n",
       "</div>"
      ],
      "text/plain": [
       "   Sample        ecc            N   gammaG      Esoil        Econc      Dbot  \\\n",
       "7     8.0  22.674749  2464.371582  1.03556  93.100151  35409.90625  22.27972   \n",
       "5     6.0  10.513680  2464.371582  1.03556  93.100151  35409.90625  22.27972   \n",
       "\n",
       "        H1       H2       H3      Mr_t      Mt_t      Mr_c      Mt_c  \n",
       "7  1.13818  1.01188  0.85739 -2.295430 -0.990970  2.915441  1.614969  \n",
       "5  1.13818  1.01188  0.85739 -0.764885 -0.271209  1.674093  0.919407  "
      ]
     },
     "execution_count": 11,
     "metadata": {},
     "output_type": "execute_result"
    }
   ],
   "source": [
    "loader = SimpleDataLoader(config['data'])\n",
    "mindex_pivots = loader.load_mindex_pivots()\n",
    "mindex_pivots.head(2)"
   ]
  },
  {
   "cell_type": "markdown",
   "id": "9a931c1f-b497-43a8-8cb9-cc4b891d936e",
   "metadata": {},
   "source": [
    "#### 4. Search in M-tree / M-index"
   ]
  },
  {
   "cell_type": "code",
   "execution_count": 40,
   "id": "d2d676ce-8079-478c-b715-61a248b18128",
   "metadata": {},
   "outputs": [],
   "source": [
    "from lmi.indexes.Mindex import Mindex\n",
    "from lmi.indexes.Mtree import Mtree\n",
    "\n",
    "mindex = Mindex(dataset, labels, mindex_pivots, config['data']['dataset-file'])\n",
    "mtree = Mtree(dataset, labels, pivots, config['data']['dataset-file'])"
   ]
  },
  {
   "cell_type": "code",
   "execution_count": 14,
   "id": "89eda064-82a5-4296-b93f-433589bb42f5",
   "metadata": {},
   "outputs": [],
   "source": [
    "ground_truths = loader.load_knn_ground_truth()\n",
    "queries = loader.load_queries()"
   ]
  },
  {
   "cell_type": "markdown",
   "id": "4bae94d6-99c0-42eb-bc35-ca23bcccbd61",
   "metadata": {},
   "source": [
    "The default distance metric for searching in M-index and M-tree is Euclidean distance. You can add your metric and incorporate it in `Mindex.get_distances()` function or `Mtree.search_node()` function."
   ]
  },
  {
   "cell_type": "code",
   "execution_count": 15,
   "id": "516b98eb-41b6-47bb-8f85-9a479a3e9402",
   "metadata": {},
   "outputs": [
    {
     "data": {
      "text/plain": [
       "([[(7, 4), (4, 7)]], [0.006585359573364258], [27])"
      ]
     },
     "execution_count": 15,
     "metadata": {},
     "output_type": "execute_result"
    }
   ],
   "source": [
    "mindex.search(queries[0], [20])"
   ]
  },
  {
   "cell_type": "code",
   "execution_count": 43,
   "id": "71feb5be-35ff-4c48-93c7-ee57acd96874",
   "metadata": {},
   "outputs": [
    {
     "data": {
      "text/plain": [
       "([[(8, 7), (8, 6), (8, 5)]], [0.043366432189941406], [26])"
      ]
     },
     "execution_count": 43,
     "metadata": {},
     "output_type": "execute_result"
    }
   ],
   "source": [
    "mtree.search(queries[0], [20])"
   ]
  },
  {
   "cell_type": "markdown",
   "id": "eb16a596-5572-46bb-98a4-8f1b1dd526d6",
   "metadata": {},
   "source": [
    "#### 5. Evaluate the performance"
   ]
  },
  {
   "cell_type": "code",
   "execution_count": 16,
   "id": "11884b8d-fbb3-4804-9a21-e227c000db52",
   "metadata": {},
   "outputs": [
    {
     "name": "stderr",
     "output_type": "stream",
     "text": [
      "INFO:lmi.Experiment:Starting the search for 500 queries.\n",
      "INFO:lmi.Experiment:Evaluated 100/500 queries.\n",
      "INFO:lmi.Experiment:Evaluated 200/500 queries.\n",
      "INFO:lmi.Experiment:Evaluated 300/500 queries.\n",
      "INFO:lmi.Experiment:Evaluated 400/500 queries.\n",
      "INFO:lmi.Experiment:Search is finished, results are stored in: 'outputs/2022-03-24--10-26-34/search.csv'\n",
      "INFO:lmi.Experiment:Consumed memory by evaluating (MB): None\n"
     ]
    }
   ],
   "source": [
    "from lmi.Experiment import Evaluator\n",
    "import pandas as pd\n",
    "\n",
    "queries_df = pd.DataFrame(queries)\n",
    "queries_df = queries_df.set_index([0])\n",
    "\n",
    "e = Evaluator(mindex, ground_truths, queries_df, config)\n",
    "e.run_evaluate()\n",
    "e.generate_summary()"
   ]
  },
  {
   "cell_type": "code",
   "execution_count": 17,
   "id": "0c4cb563-b56c-4fbd-8179-84c8619d9b45",
   "metadata": {},
   "outputs": [
    {
     "name": "stdout",
     "output_type": "stream",
     "text": [
      "{\n",
      "    \"model\": \"Mindex\",\n",
      "    \"experiment\": \"outputs/2022-03-24--10-26-34\",\n",
      "    \"stop_conditions_perc\": [\n",
      "        0.0005,\n",
      "        0.001,\n",
      "        0.003,\n",
      "        0.005,\n",
      "        0.01,\n",
      "        0.05,\n",
      "        0.1,\n",
      "        0.2,\n",
      "        0.3,\n",
      "        0.5\n",
      "    ],\n",
      "    \"results\": {\n",
      "        \"0\": {\n",
      "            \"time\": 0.0017857809066772461,\n",
      "            \"score\": 0.007,\n",
      "            \"visited_objects\": 13\n",
      "        },\n",
      "        \"1\": {\n",
      "            \"time\": 0.0018117780685424805,\n",
      "            \"score\": 0.007,\n",
      "            \"visited_objects\": 13\n",
      "        },\n",
      "        \"3\": {\n",
      "            \"time\": 0.0018189749717712402,\n",
      "            \"score\": 0.007,\n",
      "            \"visited_objects\": 13\n",
      "        },\n",
      "        \"5\": {\n",
      "            \"time\": 0.0018249588012695312,\n",
      "            \"score\": 0.007,\n",
      "            \"visited_objects\": 13\n",
      "        },\n",
      "        \"10\": {\n",
      "            \"time\": 0.0018406529426574707,\n",
      "            \"score\": 0.007,\n",
      "            \"visited_objects\": 13\n",
      "        },\n",
      "        \"50\": {\n",
      "            \"time\": 0.0027525205612182616,\n",
      "            \"score\": 0.055,\n",
      "            \"visited_objects\": 52\n",
      "        },\n",
      "        \"100\": {\n",
      "            \"time\": 0.00342386531829834,\n",
      "            \"score\": 0.099,\n",
      "            \"visited_objects\": 105\n",
      "        },\n",
      "        \"200\": {\n",
      "            \"time\": 0.0037326312065124514,\n",
      "            \"score\": 0.194,\n",
      "            \"visited_objects\": 212\n",
      "        },\n",
      "        \"300\": {\n",
      "            \"time\": 0.00396223783493042,\n",
      "            \"score\": 0.301,\n",
      "            \"visited_objects\": 307\n",
      "        },\n",
      "        \"500\": {\n",
      "            \"time\": 0.006136871337890625,\n",
      "            \"score\": 0.494,\n",
      "            \"visited_objects\": 510\n",
      "        }\n",
      "    },\n",
      "    \"hw_info\": {\n",
      "        \"mem_data_load\": null,\n",
      "        \"mem_train\": null,\n",
      "        \"mem_exp\": null,\n",
      "        \"cpu_brand\": \"AMD EPYC Processor (with IBPB)\",\n",
      "        \"cpu_hz\": \"2.4000 GHz\",\n",
      "        \"cpu_arch\": \"X86_64\"\n",
      "    }\n",
      "}"
     ]
    }
   ],
   "source": [
    "!cat outputs/2022-03-24--10-26-34/summary.json"
   ]
  },
  {
   "cell_type": "code",
   "execution_count": 45,
   "id": "43d9fdbe-8af6-4651-8556-2cafdc9571bf",
   "metadata": {},
   "outputs": [
    {
     "name": "stderr",
     "output_type": "stream",
     "text": [
      "INFO:lmi.Experiment:Starting the search for 500 queries.\n",
      "INFO:lmi.Experiment:Evaluated 100/500 queries.\n",
      "INFO:lmi.Experiment:Evaluated 200/500 queries.\n",
      "INFO:lmi.Experiment:Evaluated 300/500 queries.\n",
      "INFO:lmi.Experiment:Evaluated 400/500 queries.\n",
      "INFO:lmi.Experiment:Search is finished, results are stored in: 'outputs/2022-03-24--12-16-47/search.csv'\n",
      "INFO:lmi.Experiment:Consumed memory by evaluating (MB): None\n"
     ]
    }
   ],
   "source": [
    "e = Evaluator(mtree, ground_truths, queries_df, config)\n",
    "e.run_evaluate()\n",
    "e.generate_summary()"
   ]
  },
  {
   "cell_type": "code",
   "execution_count": 46,
   "id": "a447bec0-e60f-478e-99a5-d41a96a3644f",
   "metadata": {},
   "outputs": [
    {
     "name": "stdout",
     "output_type": "stream",
     "text": [
      "{\n",
      "    \"model\": \"Mtree\",\n",
      "    \"experiment\": \"outputs/2022-03-24--12-16-47\",\n",
      "    \"stop_conditions_perc\": [\n",
      "        0.0005,\n",
      "        0.001,\n",
      "        0.003,\n",
      "        0.005,\n",
      "        0.01,\n",
      "        0.05,\n",
      "        0.1,\n",
      "        0.2,\n",
      "        0.3,\n",
      "        0.5\n",
      "    ],\n",
      "    \"results\": {\n",
      "        \"0\": {\n",
      "            \"time\": 0.02144307565689087,\n",
      "            \"score\": 0.009,\n",
      "            \"visited_objects\": 10\n",
      "        },\n",
      "        \"1\": {\n",
      "            \"time\": 0.02147545289993286,\n",
      "            \"score\": 0.009,\n",
      "            \"visited_objects\": 10\n",
      "        },\n",
      "        \"3\": {\n",
      "            \"time\": 0.021483206272125244,\n",
      "            \"score\": 0.009,\n",
      "            \"visited_objects\": 10\n",
      "        },\n",
      "        \"5\": {\n",
      "            \"time\": 0.021489752292633058,\n",
      "            \"score\": 0.009,\n",
      "            \"visited_objects\": 10\n",
      "        },\n",
      "        \"10\": {\n",
      "            \"time\": 0.023204325675964355,\n",
      "            \"score\": 0.015,\n",
      "            \"visited_objects\": 17\n",
      "        },\n",
      "        \"50\": {\n",
      "            \"time\": 0.03876618576049805,\n",
      "            \"score\": 0.047,\n",
      "            \"visited_objects\": 56\n",
      "        },\n",
      "        \"100\": {\n",
      "            \"time\": 0.05671970796585083,\n",
      "            \"score\": 0.109,\n",
      "            \"visited_objects\": 106\n",
      "        },\n",
      "        \"200\": {\n",
      "            \"time\": 0.09013924980163575,\n",
      "            \"score\": 0.2,\n",
      "            \"visited_objects\": 204\n",
      "        },\n",
      "        \"300\": {\n",
      "            \"time\": 0.12143216037750244,\n",
      "            \"score\": 0.283,\n",
      "            \"visited_objects\": 307\n",
      "        },\n",
      "        \"500\": {\n",
      "            \"time\": 0.18268318319320678,\n",
      "            \"score\": 0.453,\n",
      "            \"visited_objects\": 506\n",
      "        }\n",
      "    },\n",
      "    \"hw_info\": {\n",
      "        \"mem_data_load\": null,\n",
      "        \"mem_train\": null,\n",
      "        \"mem_exp\": null,\n",
      "        \"cpu_brand\": \"AMD EPYC Processor (with IBPB)\",\n",
      "        \"cpu_hz\": \"2.4000 GHz\",\n",
      "        \"cpu_arch\": \"X86_64\"\n",
      "    }\n",
      "}"
     ]
    }
   ],
   "source": [
    "!cat outputs/2022-03-24--12-16-47/summary.json"
   ]
  }
 ],
 "metadata": {
  "kernelspec": {
   "display_name": "Python 3",
   "language": "python",
   "name": "python3"
  },
  "language_info": {
   "codemirror_mode": {
    "name": "ipython",
    "version": 3
   },
   "file_extension": ".py",
   "mimetype": "text/x-python",
   "name": "python",
   "nbconvert_exporter": "python",
   "pygments_lexer": "ipython3",
   "version": "3.6.15"
  }
 },
 "nbformat": 4,
 "nbformat_minor": 5
}
